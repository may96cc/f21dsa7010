{
 "cells": [
  {
   "cell_type": "markdown",
   "metadata": {},
   "source": [
    "# Welcome to DSA 7010\n",
    "## Introduction to Data Science and Analytics\n",
    "\n",
    "The first course in Data Science and Analytics MS degree and graduate certificate programs.\n",
    "The objective of the course is to give students a broad overview of the various aspects of data \n",
    "analytics such as accessing, cleansing, modeling, visualizing, and interpreting data. \n",
    "Students will have hands on training in Python, R and other open-source analytic tools. \n",
    "\n",
    "-----\n"
   ]
  },
  {
   "cell_type": "markdown",
   "metadata": {},
   "source": [
    "\n",
    "### Course Module Schedule\n",
    "\n",
    "1. [Introduction to Data Science with Python](./modules/module1/Schedule.ipynb)\n",
    "2. [Data Science with R and more Data Exploration](./modules/module2/Schedule.ipynb)\n",
    "3. [Data Cleaning and Reshaping](./modules/module3/Schedule.ipynb)\n",
    "4. [Database Technologies](./modules/module4/Schedule.ipynb)\n",
    "5. [Inroduction to Visualizations](./modules/module5/Schedule.ipynb)\n",
    "6. [Basic Modeling 1](./modules/module6/Schedule.ipynb)\n",
    "7. [Basic Modeling 2](./modules/module7/Schedule.ipynb)\n",
    "8. [Story Development](./modules/module8/Schedule.ipynb)\n",
    "\n",
    "-----"
   ]
  },
  {
   "cell_type": "markdown",
   "metadata": {},
   "source": [
    "### Weekly Module Download\n",
    "Each Saturday morning, the new module will become available. You will use Git Pull to acquire the module's learning activities.\n",
    "Clicking on the modules above before the content is pulled is expected to give you a 404 Error\n",
    "\n",
    " * **Note:** Module 1 is included with the initial course deployments.\n",
    "\n",
    "#### Steps:\n",
    "1. Open Terminal in JupyterHub\n",
    "2. Change into the course folder\n",
    "```bash\n",
    "cd f21dsa7010*\n",
    "```\n",
    "3. Execute command:\n",
    "```bash\n",
    "git pull --no-edit upstream master\n",
    "```\n",
    "\n",
    "### Technologies\n",
    "- Python Programming\n",
    "    - `numpy` - programming with arrays\n",
    "    - `pandas` - data frame functionality\n",
    "- R Statistical Programming\n",
    "    - `tidyverse` packages - data science toolkit \n",
    "- Introduction to SQL\n",
    "\n",
    "-----"
   ]
  },
  {
   "cell_type": "markdown",
   "metadata": {},
   "source": [
    "### Weekly Module Schedule\n",
    "Every module can be worked through at your own pace within the timeframe of the module. Modules are 1 week long from Saturday 6:00am to the following Saturday at 11:59pm CT. Saturday is always the start day of a new module so there is a few hours of overlap between modules. **Individual discussion posts need to be made by Wednesday and then responses to other students will need to happen between Thursday and Saturday, or earlier if enough people have posted to have discussion.** Discussions will be marked by an asterisk  (\\*) below under the day by which a post is required. **Practices and Exercises are due on the Saturday at 11:59pm (CT) each week.**\n",
    "\n",
    "**Saturday - Tuesday** \n",
    " - Readings \n",
    " - Labs\n",
    " - Practices\n",
    " \n",
    "**Wednesday**\n",
    " - \\* Post Discussion \n",
    " \n",
    "**Thursday**\n",
    " -  Respond to Discussions\n",
    " \n",
    "**Wednesday - Saturday**\n",
    " - Exercises\n",
    " \n",
    "All material will be released at the beginning of each module to allow you to work through the week and manage your time as needed.\n",
    "\n",
    "Module practices and exercises need to be committed and pushed by **11:59 PM central time on Saturday** the week after the material was released.\n",
    "\n",
    "-----\n",
    "\n",
    "### The Ethic of Mutual Aid\n",
    "\n",
    "In each module it is important to ask and answer questions. \n",
    "All students should ask. Everyone should try to answer at least once. \n",
    "We learn by solving our own problems and helping others solve theirs.\n",
    "Social learning theory helps to explain the mechanics of how communicating with others aids learning.\n",
    "It suggests that people learn from one another, via observation, imitation, and modeling. \n",
    "The theory has often been called a bridge between behaviorist and cognitive learning theories because it encompasses attention, memory, and motivation. \n",
    "If you think about the most rewarding learning experiences in your life, \n",
    "its likely you will recall a time when you struggled, sought help, provided help and ultimately achieved your aims. \n",
    "And probably helped others achieve theirs.\n",
    "\n",
    "The instructors and TAs will help the discussions and mutual aid stay on track.\n",
    "We look forward to working with all of you!\n",
    "\n",
    "Mutual aid is a place to discuss the topic and issue you are having. It is not a place to post code, working or not for feedback or solutions. Posting code is counterproductive  in this type of Mutual Aid environment. \n",
    "\n",
    "-----\n",
    "\n",
    "### Resources\n",
    "\n",
    "Each module will have reading links and resources. Please consult the weekly Schedule notebook for details and modular particulars. "
   ]
  }
 ],
 "metadata": {
  "kernelspec": {
   "display_name": "Python 3",
   "language": "python",
   "name": "python3"
  },
  "language_info": {
   "codemirror_mode": {
    "name": "ipython",
    "version": 3
   },
   "file_extension": ".py",
   "mimetype": "text/x-python",
   "name": "python",
   "nbconvert_exporter": "python",
   "pygments_lexer": "ipython3",
   "version": "3.7.3"
  }
 },
 "nbformat": 4,
 "nbformat_minor": 2
}
