{
 "cells": [
  {
   "cell_type": "markdown",
   "metadata": {},
   "source": [
    "# Module 4 : Introduction to SQL and Database Technologies\n"
   ]
  },
  {
   "cell_type": "markdown",
   "metadata": {},
   "source": [
    "----\n",
    "\n",
    "## Topics covered\n",
    "- Introduction to `SQL`\n",
    "- Querying Data \n",
    "- Loading Data\n",
    "- `SQL` with `Python`\n"
   ]
  },
  {
   "cell_type": "markdown",
   "metadata": {},
   "source": [
    "## Objective\n",
    "- Students will become familiar the basic SQL environment and learn to perform data loading and simple querying\n"
   ]
  },
  {
   "cell_type": "markdown",
   "metadata": {},
   "source": [
    "## Reading\n",
    "The readings in this module are intended to expose you to the complex and sometimes overwhelming array of technologies used for Big Data and cloud computing.  The 3 academic articles are systematic analyses that give us a good lay of the land. Our two separate discussion questions this week will focus on these articles. The industry article is a modern review of the landscape that will give some perspective on the evolution in just the last few years.\n",
    "\n",
    "- [Sustaining the Big Data Ecosystem](resources/SustainingtheBigDataEcosystem.pdf)\n",
    "- [The Rise of Big Data on Cloud Computing](resources/BigDataCloud.pdf)\n",
    "- [Trends in Big Data Cloud Computing](resources/BigDataOnClouds.pdf)\n",
    "- [Big Data 2018: Cloud storage becomes the de facto data lake](https://www.zdnet.com/article/big-data-2018-cloud-storage-becomes-the-de-facto-data-lake/)"
   ]
  },
  {
   "cell_type": "markdown",
   "metadata": {},
   "source": [
    "## Videos\n",
    "- [SQL and Big Data Ecosystems](https://youtu.be/-K34RVJA8as)   \n",
    "    - [Slide Deck](resources/SQL_and_BigDataEcosystems.pdf)"
   ]
  },
  {
   "cell_type": "markdown",
   "metadata": {},
   "source": [
    "## Discussion \n",
    "**Initial post due by Wednesday at 11:59pm**\n",
    "\n",
    "- [Big Data on the Cloud](https://umsystem.instructure.com/courses/8147/discussion_topics/675592)\n",
    "- [Scalability and Data Sharing Challenges](https://umsystem.instructure.com/courses/8147/discussion_topics/675593)"
   ]
  },
  {
   "cell_type": "markdown",
   "metadata": {},
   "source": [
    "## Labs, Practices and Exercises\n",
    "\n",
    "### Labs\n",
    " 1. [Introduction to SQL](labs/sql_intro.ipynb)\n",
    " 1. [Database Loading](labs/database_loading.ipynb)   \n",
    "\n",
    "\n",
    "### Practices\n",
    " 1. [Practicing SQL](practices/practice_sql.ipynb)\n",
    "     * [Answers](answers/practice_sql.ipynb)\n",
    "\n",
    "\n",
    " 2. [World Bank mini-analysis SQL Practice](practices/WBSQL_practice.ipynb)\n",
    "     * [Answers](answers/WBSQL_practice.ipynb)\n",
    "### Exercises\n",
    " 1. [SQL Exercises](exercises/sql_exercise.ipynb)\n",
    " \n"
   ]
  },
  {
   "cell_type": "markdown",
   "metadata": {},
   "source": [
    "# Submit Your Work\n",
    "\n",
    "Be sure you have submitted your practices and exercises for this Module!\n",
    " * [See Module 1, Submission of Work](../module1/labs/CommittingWork.ipynb)\n",
    "\n",
    "It is best practice to create a save point (commit) after each interval of work, e.g., when you are done for the day or you have completed a notebook."
   ]
  },
  {
   "cell_type": "markdown",
   "metadata": {},
   "source": [
    "\n",
    "## Data Sets\n",
    "Path: `/dsa/data/all_datasets/`\n",
    "\n",
    "Dataset Name    | File\n",
    "----------------|------------\n",
    "MLB Players     | `baseball-databank/data/Master.csv`\n",
    "MLB Teams       | `baseball-databank/data/Teams.csv`\n",
    "MLB Batting     | `baseball-databank/data/Batting.csv`\n"
   ]
  }
 ],
 "metadata": {
  "kernelspec": {
   "display_name": "Python 3",
   "language": "python",
   "name": "python3"
  },
  "language_info": {
   "codemirror_mode": {
    "name": "ipython",
    "version": 3
   },
   "file_extension": ".py",
   "mimetype": "text/x-python",
   "name": "python",
   "nbconvert_exporter": "python",
   "pygments_lexer": "ipython3",
   "version": "3.7.3"
  }
 },
 "nbformat": 4,
 "nbformat_minor": 1
}
