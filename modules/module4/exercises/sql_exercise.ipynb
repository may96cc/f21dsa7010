{
 "cells": [
  {
   "cell_type": "markdown",
   "metadata": {},
   "source": [
    "# `SQL` Exercises\n",
    "\n",
    "We are going to continue down the path of querying our twitter database. \n",
    "For this exercise, much of our activities will revolve around querying the `tweet` table (in the practice we spent most of our time in the `hashtag` table). \n",
    "This time around, all of the queries will be written by you. \n",
    "\n",
    "**Please keep in mind** that if your query is taking a very long time, \n",
    "it is probably because you are scanning the entire database. \n",
    "You will want to put a `LIMIT` on the lowest level of your query in order for results to render quickly. \n",
    "Take for example a query configured like so\n",
    "\n",
    "```sql\n",
    "SELECT <cols>\n",
    "FROM (\n",
    "    SELECT <cols>\n",
    "    FROM <tables>\n",
    "    LIMIT <int>) AS lowest_level_table\n",
    "```\n",
    "\n",
    "The query in the parentheses will be executed first and then the query outside of it will be executed on the results of the query inside of the parentheses. \n",
    "\n",
    "---\n",
    "\n",
    "Before we begin, we will establish a connection..."
   ]
  },
  {
   "cell_type": "code",
   "execution_count": null,
   "metadata": {},
   "outputs": [],
   "source": [
    "import psycopg2\n",
    "import pandas as pd\n",
    "\n",
    "try:\n",
    "    connect_str = \"dbname='twitter' user='dsa_ro_user' host='pgsql.dsa.lan' password='readonly'\"\n",
    "    # use our connection values to establish a connection\n",
    "    conn = psycopg2.connect(connect_str)\n",
    "except:\n",
    "    print(\"Something went wrong...probably the wrong permissions\")"
   ]
  },
  {
   "cell_type": "markdown",
   "metadata": {},
   "source": [
    "We will start off with a simple query...\n",
    "\n",
    "**Exercise 1**: Write a query that returns all of the attributes and **200** rows from the tweet table. Then execute the query by running `pd.read_sql_query()`."
   ]
  },
  {
   "cell_type": "code",
   "execution_count": null,
   "metadata": {},
   "outputs": [],
   "source": [
    "# Code for Exercise 1 goes here\n",
    "# --------------\n",
    "\n",
    "\n",
    "\n",
    "\n",
    "\n"
   ]
  },
  {
   "cell_type": "markdown",
   "metadata": {},
   "source": [
    "The `job_id` for this table refers to which city the tweet was collected from. Since we all now have some tie to Columbia, MO, we can query for those tweets that are specifically tied to Columbia. Columbia's `job_id` is 261.\n",
    "\n",
    "**Exercise 2**: Write and execute a query that pulls all attributes and 200 rows where the job id is 261."
   ]
  },
  {
   "cell_type": "code",
   "execution_count": null,
   "metadata": {},
   "outputs": [],
   "source": [
    "# Code for Exercise 2 goes here\n",
    "# --------------\n",
    "\n",
    "\n",
    "\n",
    "\n",
    "\n",
    "\n",
    "\n"
   ]
  },
  {
   "cell_type": "markdown",
   "metadata": {},
   "source": [
    "The database also collects the language that the tweet was written in as long as it is identifiable. This is stored in the `iso_language` column as an attribute of the `tweet`. \n",
    "\n",
    "**Exercise 3**: Write and execute a query that returns the distinct languages and the count of each language for 2000 rows in Columbia, MO. Keep in mind this will be a nested query and that at the lowest level you have a limit of 2000."
   ]
  },
  {
   "cell_type": "code",
   "execution_count": null,
   "metadata": {},
   "outputs": [],
   "source": [
    "# Code for Exercise 3 goes here\n",
    "# ------------\n",
    "\n",
    "\n",
    "\n",
    "\n",
    "\n"
   ]
  },
  {
   "cell_type": "markdown",
   "metadata": {},
   "source": [
    "**Exercise 4**: Now find out who tweets the most in Columbia, MO for 2000 rows of data. Arrange the data in descending order by count. User ids are stored in the `from_user` attribute."
   ]
  },
  {
   "cell_type": "code",
   "execution_count": null,
   "metadata": {},
   "outputs": [],
   "source": [
    "# Code for Exercise 4 goes here\n",
    "# ------------\n",
    "\n",
    "\n",
    "\n",
    "\n",
    "\n"
   ]
  },
  {
   "cell_type": "markdown",
   "metadata": {},
   "source": [
    "the column `from_user_followers` stores the number of followers the user who wrote the tweet had when that tweet was created.\n",
    "\n",
    "**Challenge Question 1**: Write and execute a query that finds the average number of `from_user_followers` for each distinct `iso_language` from only 2000 rows of Columbia, MO tweets."
   ]
  },
  {
   "cell_type": "code",
   "execution_count": null,
   "metadata": {},
   "outputs": [],
   "source": [
    "# Code for Challenge Question 1 goes here\n",
    "# ------------\n",
    "\n",
    "\n",
    "\n",
    "\n",
    "\n"
   ]
  },
  {
   "cell_type": "markdown",
   "metadata": {},
   "source": [
    "# Save your notebook, then `File > Close and Halt`"
   ]
  }
 ],
 "metadata": {
  "kernelspec": {
   "display_name": "Python 3",
   "language": "python",
   "name": "python3"
  },
  "language_info": {
   "codemirror_mode": {
    "name": "ipython",
    "version": 3
   },
   "file_extension": ".py",
   "mimetype": "text/x-python",
   "name": "python",
   "nbconvert_exporter": "python",
   "pygments_lexer": "ipython3",
   "version": "3.7.3"
  }
 },
 "nbformat": 4,
 "nbformat_minor": 2
}
