{
 "cells": [
  {
   "cell_type": "markdown",
   "metadata": {},
   "source": [
    "# Module 7: Basic Modeling Part 2\n",
    "----\n"
   ]
  },
  {
   "cell_type": "markdown",
   "metadata": {},
   "source": [
    "## Topics covered\n",
    "   - Introduction Linear Regression\n",
    "   - Packages for Performing Linear Regression"
   ]
  },
  {
   "cell_type": "markdown",
   "metadata": {},
   "source": [
    "## Objective\n",
    "- Students will become familiar with and perform Linear Regression."
   ]
  },
  {
   "cell_type": "markdown",
   "metadata": {},
   "source": [
    "## Readings\n",
    "- [Regression Chapter: Online Stats Book](http://onlinestatbook.com/2/regression/regression.pdf)"
   ]
  },
  {
   "cell_type": "markdown",
   "metadata": {},
   "source": [
    "## Discussion \n",
    "**Initial post due by Wednesday at 11:59pm**\n",
    "\n",
    "- [Data Challenges](https://umsystem.instructure.com/courses/8147/discussion_topics/675587)"
   ]
  },
  {
   "cell_type": "markdown",
   "metadata": {},
   "source": [
    "## Labs, Practices and Exercises\n",
    "\n",
    "### Labs\n",
    "- [Intro to Linear Regression with `R`](labs/linear_regression_r.ipynb)\n",
    "\n",
    "### Practices \n",
    "- [Linear Regression Practice with `Python`](practices/regression_practice_python.ipynb)\n",
    "    - [Answers](answers/regression_practice_python.ipynb)\n",
    "\n",
    "\n",
    "### Exercises (Complete one of the following)\n",
    "- [`Python` Linear Regression Exercise](exercises/linear_regression_exercise_python.ipynb)\n",
    "- [`R` Linear Regression Exercise](exercises/linear_regression_exercise_r.ipynb)"
   ]
  },
  {
   "cell_type": "markdown",
   "metadata": {},
   "source": [
    "# Submit Your Work\n",
    "\n",
    "Be sure you have submitted your practices and exercises for this Module!\n",
    " * [See Module 1, Submission of Work](../module1/labs/CommittingWork.ipynb)\n",
    "\n",
    "It is best practice to create a save point (commit) after each interval of work, e.g., when you are done for the day or you have completed a notebook."
   ]
  },
  {
   "cell_type": "markdown",
   "metadata": {},
   "source": [
    "## Data Sets\n",
    "\n",
    "*built-in*\n",
    "\n",
    "Dataset Name | Library\n",
    "-------------|--------\n",
    "`mpg`        | `ggplot2`\n",
    "\n",
    "path: `/dsa/data/all_datasets/`\n",
    "\n",
    "Dataset Name | File\n",
    "-------------|--------\n",
    "Miles per gallon |  `mpg.csv`\n",
    "Stature Hand and Foot | `stature-hand-foot/stature-hand-foot.csv`"
   ]
  }
 ],
 "metadata": {
  "kernelspec": {
   "display_name": "Python 3",
   "language": "python",
   "name": "python3"
  },
  "language_info": {
   "codemirror_mode": {
    "name": "ipython",
    "version": 3
   },
   "file_extension": ".py",
   "mimetype": "text/x-python",
   "name": "python",
   "nbconvert_exporter": "python",
   "pygments_lexer": "ipython3",
   "version": "3.7.3"
  }
 },
 "nbformat": 4,
 "nbformat_minor": 1
}
