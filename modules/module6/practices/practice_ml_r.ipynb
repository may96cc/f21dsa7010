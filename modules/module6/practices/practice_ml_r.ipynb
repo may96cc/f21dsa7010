{
 "cells": [
  {
   "cell_type": "markdown",
   "metadata": {},
   "source": [
    "# Practicing Machine Learning with Naïve Bayes\n",
    "\n",
    "So we should be familiar with the major components involved in classification. But we still need to cover how to do Naïve Bayes in `R`. Much like the `Python` exercise, we are going to learn how to create a training and testing set, as well as using feature selection to prune to reduce the number of features that go into our model.\n",
    "\n",
    "It begins by loading in the appropriate library. Again, there are several libraries that have a Naïve Bayesian classifier built in, but today we are going to be using `e1071`."
   ]
  },
  {
   "cell_type": "code",
   "execution_count": null,
   "metadata": {},
   "outputs": [],
   "source": [
    "library(e1071)"
   ]
  },
  {
   "cell_type": "markdown",
   "metadata": {},
   "source": [
    "Then we will begin this notebook like many of the notebooks before it, by looking at the data."
   ]
  },
  {
   "cell_type": "code",
   "execution_count": null,
   "metadata": {},
   "outputs": [],
   "source": [
    "head(iris)"
   ]
  },
  {
   "cell_type": "markdown",
   "metadata": {},
   "source": [
    "In the `Python` practice notebook, we discussed the importance of splitting our data into training and testing sets. We are going to do the same thing with `R` before we train our model. The method is very similar..."
   ]
  },
  {
   "cell_type": "code",
   "execution_count": null,
   "metadata": {},
   "outputs": [],
   "source": [
    "set.seed(1)\n",
    "train_ind <- sample(seq_len(nrow(iris)), size = 100)\n",
    "iris[train_ind,]"
   ]
  },
  {
   "cell_type": "markdown",
   "metadata": {},
   "source": [
    "This looks complicated, but it's not. We can take this piece by piece starting with the inner most part `seq_len(nrow(iris))`. All this is doing is creating a sequence of numbers from 1 to the number of rows in the iris data frame, 150. Then we call the `sample()` function and specify that we only want 100 numbers returned that are sampled randomly from the sequence we just created. We call this sequence of randomly sampled numbers `train_ind`, as we will use these to reference these indexes on the iris data frame, which we can then use as a training set of data. The `set_seed(1)` just makes the sample replicable.\n",
    "\n",
    "**Activity 1**: *Create a training data frame by using the `train_ind` sequence on the iris data frame. Call this frame `train`.*"
   ]
  },
  {
   "cell_type": "code",
   "execution_count": null,
   "metadata": {},
   "outputs": [],
   "source": [
    "# Code for Activity 1 goes here\n",
    "# *****************************\n",
    "\n",
    "\n",
    "\n",
    "\n",
    "\n",
    "\n"
   ]
  },
  {
   "cell_type": "markdown",
   "metadata": {},
   "source": [
    "And now we need to make a testing frame from those indexes that are not in the `train_ind` sequence. In `R` we can do this with the following notation `dataframe[-sequence,]` where the `dataframe` is our data frame object we are working with, and `sequence` is the sequence of indexes. The \"`-`\" sign specifies that we don't want those indexes. \n",
    "\n",
    "**Activity 2**: *Create a testing data frame from the rest of the data not included in `train`. Call this data frame `test`.*"
   ]
  },
  {
   "cell_type": "code",
   "execution_count": null,
   "metadata": {},
   "outputs": [],
   "source": [
    "# Code for Activity 2 goes here\n",
    "# *****************************\n",
    "\n",
    "\n",
    "\n",
    "\n",
    "\n",
    "\n"
   ]
  },
  {
   "cell_type": "markdown",
   "metadata": {},
   "source": [
    "Now that we have both the training and testing sets defined, we can specify our formula. We will begin predicting Species by all of the features. Let's do that now."
   ]
  },
  {
   "cell_type": "code",
   "execution_count": null,
   "metadata": {},
   "outputs": [],
   "source": [
    "# just in case defining these two data frames was giving you trouble...\n",
    "train <- iris[train_ind,]\n",
    "test <- iris[-train_ind,]"
   ]
  },
  {
   "cell_type": "code",
   "execution_count": null,
   "metadata": {},
   "outputs": [],
   "source": [
    "frmla <- Species ~ Sepal.Length + Sepal.Width + Petal.Length + Petal.Width "
   ]
  },
  {
   "cell_type": "markdown",
   "metadata": {},
   "source": [
    "And now we can train our model on our training set using our formula to specify our target and inputs. We will call this model `m`. "
   ]
  },
  {
   "cell_type": "code",
   "execution_count": null,
   "metadata": {},
   "outputs": [],
   "source": [
    "m <- naiveBayes(frmla, data = train)\n",
    "m\n"
   ]
  },
  {
   "cell_type": "markdown",
   "metadata": {},
   "source": [
    "Now we can use the predict function on our testing data to assess the performance of the model. But this time we are going to create a table that shows the number of points properly classified and misclassified.\n",
    "\n",
    "To do this, we can call the `predict()` function and specify the dataset we want it to predict. But be careful, the dataset that you test on must have the same variables as the input of the formula. It is that reason that the `test[,-5]` below removes the 5th column, the `Species` column. "
   ]
  },
  {
   "cell_type": "code",
   "execution_count": null,
   "metadata": {},
   "outputs": [],
   "source": [
    "table(predict(m, test[,-5]), test[,5])"
   ]
  },
  {
   "cell_type": "markdown",
   "metadata": {},
   "source": [
    "And there we have it only 2 points were misclassified! Not bad. \n",
    "\n",
    "But remember back to the Decision Tree lab notebook in `R` where it said it only used petal length, petal width, and sepal length in its model? This was the same thing that we found in the Decision Trees practice notebook. \n",
    "\n",
    "How would performance change if we took the variable Sepal.Width out?\n",
    "\n",
    "**Activity 3**: *Prune the formula and take out the `Sepal.Width` variable. Call this new formula `prune_frmla`."
   ]
  },
  {
   "cell_type": "code",
   "execution_count": null,
   "metadata": {},
   "outputs": [],
   "source": [
    "# Code for Activity 3 goes here\n",
    "# *****************************\n",
    "\n",
    "\n",
    "\n",
    "\n"
   ]
  },
  {
   "cell_type": "markdown",
   "metadata": {},
   "source": [
    "**Activity 4**: *Now create a new model using `prune_frmla` with the training data set. Call this new model m2.*"
   ]
  },
  {
   "cell_type": "code",
   "execution_count": null,
   "metadata": {},
   "outputs": [],
   "source": [
    "# Code for Activity 4 goes here\n",
    "# *****************************\n",
    "\n",
    "\n",
    "\n",
    "\n",
    "\n"
   ]
  },
  {
   "cell_type": "markdown",
   "metadata": {},
   "source": [
    "Is `m2` a better, worse, or about the same given our testing data set?\n",
    "\n",
    "**Activity 5**: *Find the number of misclassified points using the `m2` model and the testing data set. Remember, when predicting on the testing data, remember that you will have to remove both the target variable and the `Sepal.Width` variable.*"
   ]
  },
  {
   "cell_type": "code",
   "execution_count": null,
   "metadata": {},
   "outputs": [],
   "source": [
    "# Code for Activity 5 goes here\n",
    "# *****************************\n",
    "\n",
    "\n",
    "\n",
    "\n",
    "\n"
   ]
  },
  {
   "cell_type": "markdown",
   "metadata": {},
   "source": [
    "# Save your noteboot, then `File > Close and Halt`"
   ]
  }
 ],
 "metadata": {
  "kernelspec": {
   "display_name": "R",
   "language": "R",
   "name": "ir"
  },
  "language_info": {
   "codemirror_mode": "r",
   "file_extension": ".r",
   "mimetype": "text/x-r-source",
   "name": "R",
   "pygments_lexer": "r",
   "version": "3.5.1"
  }
 },
 "nbformat": 4,
 "nbformat_minor": 1
}
