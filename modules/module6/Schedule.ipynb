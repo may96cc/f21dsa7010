{
 "cells": [
  {
   "cell_type": "markdown",
   "metadata": {},
   "source": [
    "# Module 6: Basic Modeling Part 1"
   ]
  },
  {
   "cell_type": "markdown",
   "metadata": {},
   "source": [
    "----\n",
    "\n",
    "## Topics covered\n",
    "  - What is Machine Learning?\n",
    "  - Choosing a Machine Learning Algorithm that Fits your Data\n",
    "  - Introduction to Decision Trees and Naive Bayes Classification\n",
    "  - Packages for Performing Decision Trees and Naive Bayes Classification"
   ]
  },
  {
   "cell_type": "markdown",
   "metadata": {},
   "source": [
    "## Objective\n",
    "- Students will become familiar with and perform Naive Bayes and Decision Tree algorthims.\n",
    "\n"
   ]
  },
  {
   "cell_type": "markdown",
   "metadata": {},
   "source": [
    "## Readings\n",
    "Naive Bayes (Choose 1 or more)\n",
    "- [Naive Bayes for Dummies; A simple Explanation](https://www.datasciencecentral.com/profiles/blogs/naive-bayes-for-dummies-a-simple-explanation)\n",
    "- [Naive Bayes Classification With Sklearn](https://blog.sicara.com/naive-bayes-classifier-sklearn-python-example-tips-42d100429e44)\n",
    "- [How the Naive Bayes Classifier Works in Machine Learning](http://dataaspirant.com/2017/02/06/naive-bayes-classifier-machine-learning/) \n",
    "- [Naive Bayes Classifier](https://en.wikipedia.org/wiki/Naive_Bayes_classifier#Probabilistic_model) \n",
    "\n",
    "\n",
    "Decision Trees\n",
    "- [A Visual Introduction to Machine Learning](http://www.r2d3.us/visual-intro-to-machine-learning-part-1/)\n",
    "- [Decision Tree Learning](https://en.wikipedia.org/wiki/Decision_tree_learning)"
   ]
  },
  {
   "cell_type": "markdown",
   "metadata": {},
   "source": [
    "## Videos\n",
    "- [Naive Bayes](https://youtu.be/WDZ832eFGlQ)\n",
    "- [Decision Tree](https://youtu.be/R5AsCRAhOd0)"
   ]
  },
  {
   "cell_type": "markdown",
   "metadata": {},
   "source": [
    "## Labs, Practices and Exercises\n",
    "\n",
    "### Labs\n",
    "- [Intro to Naive Bayes Classification with `Python`](labs/intro_naive_bayes_python.ipynb)\n",
    "- [Intro to Decision Tree Classification with `R`](labs/intro_decision_tree_r.ipynb)\n",
    "\n",
    "### Practices \n",
    "- [Practice Decision Tree with `Python`](practices/practice_ml_python.ipynb)\n",
    "    - [Answers](answers/practice_ml_python.ipynb)\n",
    "- [Practice Naive Bayes with `R`](practices/practice_ml_r.ipynb)\n",
    "    - [Answers](answers/practice_ml_r.ipynb)\n",
    "\n",
    "\n",
    "### Exercises (Complete one of the following)\n",
    "- [`Python` Machine Learning Exercises](exercises/ml_exercises_python.ipynb)\n",
    "- [`R` Machine Learning Exercises](exercises/ml_exercises_r.ipynb)\n",
    "\n",
    "\n",
    "\n"
   ]
  },
  {
   "cell_type": "markdown",
   "metadata": {},
   "source": [
    "# Submit Your Work\n",
    "\n",
    "Be sure you have submitted your practices and exercises for this Module!\n",
    " * [See Module 1, Submission of Work](../module1/labs/CommittingWork.ipynb)\n",
    "\n",
    "It is best practice to create a save point (commit) after each interval of work, e.g., when you are done for the day or you have completed a notebook."
   ]
  },
  {
   "cell_type": "markdown",
   "metadata": {},
   "source": [
    "## Data Sets\n",
    "\n",
    "*built-in*\n",
    "\n",
    "Dataset Name | Library\n",
    "-------------|--------\n",
    "`iris`       | `sklearn`\n",
    "\n",
    "path: `/dsa/data/all_datasets/`\n",
    "\n",
    "Dataset Name | File\n",
    "-------------|--------\n",
    "Red Wine Quality | `wine-quality/winequality-red.csv`\n",
    "\n"
   ]
  }
 ],
 "metadata": {
  "kernelspec": {
   "display_name": "Python 3",
   "language": "python",
   "name": "python3"
  },
  "language_info": {
   "codemirror_mode": {
    "name": "ipython",
    "version": 3
   },
   "file_extension": ".py",
   "mimetype": "text/x-python",
   "name": "python",
   "nbconvert_exporter": "python",
   "pygments_lexer": "ipython3",
   "version": "3.7.3"
  }
 },
 "nbformat": 4,
 "nbformat_minor": 1
}
