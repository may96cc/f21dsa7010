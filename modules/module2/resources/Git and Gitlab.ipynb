{
 "cells": [
  {
   "cell_type": "markdown",
   "metadata": {},
   "source": [
    "## GitLab\n",
    "Gitlab is a centralized deployment of [Git](https://git-scm.com/) [Version Control System](https://en.wikipedia.org/wiki/Version_control) repositories.\n",
    "\n",
    "Our Gitlab server is [git.dsa.missouri.edu](https://git.dsa.missouri.edu)"
   ]
  },
  {
   "cell_type": "markdown",
   "metadata": {},
   "source": [
    "## Git\n",
    "Version control systems (VCS) are utilized as change management systems for a variety of electronic items, such as source code, configuration files, data files, documentation, etc. Git is a very powerful VCS that is rapidly expanding in use through the technology realms. Read more about Git [here](https://git-scm.com/about/). Instead of lessons on Git and version control, you will learn it by continual use throughout the program."
   ]
  },
  {
   "cell_type": "markdown",
   "metadata": {},
   "source": [
    "## Gitlab and course modules\n",
    "All courses are organized in a modular format within Gitlab host repositories, which students then clone to have their dedicated and persistent learning resources."
   ]
  },
  {
   "cell_type": "markdown",
   "metadata": {},
   "source": [
    "## Git Terminology\n",
    "\n",
    "### Repository\n",
    "A body of work, including its complete history of edits and revisions. Typically, you will have one repository dedicated to you for each course. This repository is your private work (available to only yourself and instructors).\n",
    "\n",
    "### Clone\n",
    "Clone a repository into a new directory.\n",
    "Each time you start a DSA course, a seed repository from the instructors will be used to populate your learning activities into a private repository. This private repository is then cloned into your JupyterHub space.\n",
    "\n",
    "More information about clone: (https://git-scm.com/docs/git-clone)\n",
    "\n",
    "### Pull\n",
    "Incorporates changes from a remote repository into the current branch.\n",
    "This is needed at the start of each module, as new modules will be made available on a weekly basis in your private repository. This command will then incorporate those modules into your JupyterHub environment.\n",
    "\n",
    "More information about pull: (https://git-scm.com/docs/git-pull)\n",
    "\n",
    "### Commit\n",
    "Record changes to the repository as a point-in-time snapshot. You will typically add files into the snapshot, then commit all the changes. Committed changes can then be pushed (Push) from JupyterHub up to the central Gitlab server.\n",
    "\n",
    "More information about commit: (https://git-scm.com/docs/git-commit)\n",
    "\n",
    "### Merge\n",
    "Join two or more development histories together. Merges are done automatically when the weekly modules are Pull into your local copy. However, as your Git skills advance, you will able to test-run various different approaches on problems using Branches, then your selected best solution can be merged into the master branch for submission (Push).\n",
    "\n",
    "More information about clone: (https://git-scm.com/docs/git-merge)\n",
    "\n",
    "### Push\n",
    "Updates remote repository objects (files, folders, etc.) using local (files, folders, etc.).\n",
    "You will use this command to send work from JupyterHub back to the Gitlab server for collection by instructors. The data sent will be changes you have made the initialy delivered learning activity notebooks.\n",
    "\n",
    "More information about push: (https://git-scm.com/docs/git-push)\n",
    "\n",
    "### Branches\n",
    "Branches is one of the most powerful aspects of Git. When branching you create an alternate version of files and continue to do work without corrupting the original versions of those files. Think of this as taking practice unlimited passes at an exercise files and then being able to return the original exercise files as if you never touched them. The default branch name in Git is master. Every time you commit, you create a point-in-time snapshot of the files.\n",
    "\n",
    "More information about Branches: (https://git-scm.com/book/en/v2/Git-Branching-Branches-in-a-Nutshell)"
   ]
  }
 ],
 "metadata": {
  "kernelspec": {
   "display_name": "R",
   "language": "R",
   "name": "ir"
  },
  "language_info": {
   "codemirror_mode": "r",
   "file_extension": ".r",
   "mimetype": "text/x-r-source",
   "name": "R",
   "pygments_lexer": "r",
   "version": "3.5.1"
  }
 },
 "nbformat": 4,
 "nbformat_minor": 2
}
