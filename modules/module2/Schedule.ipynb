{
 "cells": [
  {
   "cell_type": "markdown",
   "metadata": {},
   "source": [
    "# Module 2 : R for Data Science and Descriptive Statistics\n",
    "----"
   ]
  },
  {
   "cell_type": "markdown",
   "metadata": {},
   "source": [
    "## Topics covered\n",
    "- Intro to R for data science\n",
    "- Continuous and Categorical variables\n",
    "- Intro to Descriptive Statistics\n",
    "\n",
    "## Note\n",
    "\n",
    "The first module allowed you to focus on and build up your Python programming skills.\n",
    "This second module will follow closely to the first module, this time focusing on R programming.\n",
    "Subsequent modules will be a mix of R and Python for this course.\n",
    "Our pedagogical goal is to instill technology flexibility in your data science skill set;\n",
    "thereby preventing you from relying on rote memorization of steps, instead choosing technology after you have planned the process."
   ]
  },
  {
   "cell_type": "markdown",
   "metadata": {},
   "source": [
    "## Objectives\n",
    "- Students will become familiar and conduct descriptive analysis using R \n",
    "- Students will continue become familiar with  software tools and algorithms appropriate for analyzing large data sets\n",
    "- Students will continue to identify the strengths and weaknesses of data set in terms of data quality and suitability for answering a particular set of questions."
   ]
  },
  {
   "cell_type": "markdown",
   "metadata": {},
   "source": [
    "## Readings\n",
    "\n",
    "- [Git and Gitlab](resources/Git%20and%20Gitlab.ipynb)\n",
    "- [Summarizing Data](https://docs.wixstatic.com/ugd/35d632_1adb076c2ae84bdc908a41b02bffbd87.pdf) (Optional)\n",
    "- [Data Levels of Measurement](https://www.statisticssolutions.com/data-levels-of-measurement/)\n",
    "- [How to Tell Someone's Age When All You Know is Her Name](https://fivethirtyeight.com/features/how-to-tell-someones-age-when-all-you-know-is-her-name/?ex_cid=538twitter) \n"
   ]
  },
  {
   "cell_type": "markdown",
   "metadata": {},
   "source": [
    "## Videos\n",
    "- [Levels of Measure](https://youtu.be/pDUq9CGuBrM)   \n",
    "    * [Slide Deck](resources/LevelsOfMeasurement.pdf)\n",
    "- [Exploratory Data Analysis with Descriptive Statistics](https://youtu.be/2TiDXEEDEhY)   \n",
    "    * [Slide Deck](resources/ExploratoryDataAnalysis.pdf)\n",
    "\n",
    "For those of you that would like some additional explanation on the descriptive statistical concepts, these videos dive into a couple key concepts a little deeper. (Created by a former DSA TA James Bain)\n",
    "- [Variable Types](https://youtu.be/BQicbGz-buQ)\n",
    "- [Central Tendancy](https://youtu.be/JJrpzxIoCho)\n",
    "- [Dispersion](https://youtu.be/dMW70VoYnms)"
   ]
  },
  {
   "cell_type": "markdown",
   "metadata": {},
   "source": [
    "## Discussion \n",
    "**Initial post due by Wednesday at 11:59pm CT**\n",
    "\n",
    "- [How to tell someone's age](https://umsystem.instructure.com/courses/8147/discussion_topics/675589)"
   ]
  },
  {
   "cell_type": "markdown",
   "metadata": {},
   "source": [
    "## Labs, Practices and Exercises\n",
    "\n",
    "\n",
    "### Labs\n",
    "\n",
    "1. [Introduction to Data Science with R](labs/intro_data_science_r.ipynb)\n",
    "1. [An Introduction to Descriptive Statistics with `R`](labs/intro_descriptive_stats_r.ipynb)\n",
    "\n",
    "\n",
    "### Practices   \n",
    "1. [Practice Introduction to Data Science with R](practices/data_science_practice_r.ipynb)\n",
    "    * [Answers](answers/data_science_practice_r_answers.ipynb)\n",
    "1. [Practice Descriptive Statistics and Data Manipulation with `R`](practices/practice_descriptive_stats_r.ipynb)\n",
    "    * [Answers](answers/practice_descriptive_stats_r.ipynb)\n",
    "\n",
    "\n",
    "### Exercises\n",
    "1. [Introduction to Data Science with R Exercises](exercises/intro_data_science_exercise_r.ipynb)\n",
    "1. [Descriptive Statistics with `R` Exercises](exercises/exercises_descriptive_stats_r.ipynb)"
   ]
  },
  {
   "cell_type": "markdown",
   "metadata": {},
   "source": [
    "# Submit Your Work\n",
    "\n",
    "Be sure you have submitted your practices and exercises for this Module!\n",
    " * [See module 1, Submission of Work](../module1/labs/CommittingWork.ipynb)\n",
    "\n",
    "It is best practice to create a save point (commit) after each interval of work, e.g., when you are done for the day or you have completed a notebook."
   ]
  },
  {
   "cell_type": "markdown",
   "metadata": {},
   "source": [
    "## Data Sets\n",
    "Path: `/dsa/data/all_datasets/`\n",
    "\n",
    "Dataset Name    | File\n",
    "----------------|------------\n",
    "Baby Names 1    | `baby-names/NationalNames1.csv`\n",
    "Baby Names 2    | `baby-names/NationalNames2.csv`\n",
    "Baby Names 3    | `baby-names/NationalNames3.csv`\n",
    "Congress Terms  | `congress-terms.csv`\n",
    "Game of Thrones | `game-of-thrones/GoT_age_at_death.csv`\n",
    "Stature Hand and Foot | `stature-hand-foot/stature-hand-foot.csv`\n",
    "\n",
    "\n",
    "---"
   ]
  }
 ],
 "metadata": {
  "kernelspec": {
   "display_name": "Python 3",
   "language": "python",
   "name": "python3"
  },
  "language_info": {
   "codemirror_mode": {
    "name": "ipython",
    "version": 3
   },
   "file_extension": ".py",
   "mimetype": "text/x-python",
   "name": "python",
   "nbconvert_exporter": "python",
   "pygments_lexer": "ipython3",
   "version": "3.7.3"
  }
 },
 "nbformat": 4,
 "nbformat_minor": 2
}
