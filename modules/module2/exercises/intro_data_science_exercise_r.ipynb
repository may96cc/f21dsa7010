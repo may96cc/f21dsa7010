{
 "cells": [
  {
   "cell_type": "markdown",
   "metadata": {},
   "source": [
    "# Manipulating Data with `R` Exercises\n",
    "\n",
    "In this Exercise notebook, you will be manipulating the Congress Terms data set with `R`. These data record some general information about every member in Congress dating back to the 1940s. We encourage you play get your hands dirty, and play around with this new data set to familiarize yourself with it. Be sure to follow the directions carefully and write as well as execute code in the designated cells."
   ]
  },
  {
   "cell_type": "markdown",
   "metadata": {},
   "source": [
    "**Question 1**: Read in the file `congress-terms.csv` under the `/dsa/data/all_datasets/` directory. Name this data frame \"`df`\"."
   ]
  },
  {
   "cell_type": "code",
   "execution_count": null,
   "metadata": {},
   "outputs": [],
   "source": [
    "# Execute your code for question 1 here\n",
    "# -------------------------------------\n",
    "\n"
   ]
  },
  {
   "cell_type": "markdown",
   "metadata": {},
   "source": [
    "**Question 2**: Now split the data frame, `df`, into 2 data frames based on the Republican and Democratic party. Save them in a variables named \"`republican`\" and \"`democrat`\" respectively. Which data set has more rows?"
   ]
  },
  {
   "cell_type": "code",
   "execution_count": null,
   "metadata": {},
   "outputs": [],
   "source": [
    "# Execute your code for question 2 here\n",
    "# -------------------------------------\n",
    "\n"
   ]
  },
  {
   "cell_type": "markdown",
   "metadata": {},
   "source": [
    "**Question 3**:  Are there any other codes for political parties other than Democrat and Republican? If so, what are these other codes? What function did you use to find this?"
   ]
  },
  {
   "cell_type": "code",
   "execution_count": null,
   "metadata": {},
   "outputs": [],
   "source": [
    "# Write your code for question 3 here\n",
    "# -------------------------------------\n",
    "\n"
   ]
  },
  {
   "cell_type": "raw",
   "metadata": {},
   "source": [
    "Answer the question above here.\n",
    "3.\n"
   ]
  },
  {
   "cell_type": "markdown",
   "metadata": {},
   "source": [
    "**Question 4**: Sort the `republicans` and `democrats` data frames by age and return the 5 oldest and youngest from each party. "
   ]
  },
  {
   "cell_type": "code",
   "execution_count": null,
   "metadata": {},
   "outputs": [],
   "source": [
    "# Execute your code for question 4 here\n",
    "# -------------------------------------\n",
    "\n"
   ]
  },
  {
   "cell_type": "markdown",
   "metadata": {},
   "source": [
    "**Question 5**: Now, let's start using the package `dplyr` to perform some basic data manipulations. If you noticed, the `df$chamber` column contains whether or not the individual belonged to the `house` or the `senate`. Using `dplyr` create a frame of data that returns the youngest member from each chamber per party (including those other than Republican or Democrat)."
   ]
  },
  {
   "cell_type": "code",
   "execution_count": null,
   "metadata": {},
   "outputs": [],
   "source": [
    "# Execute your code for question 5 here\n",
    "# -------------------------------------\n",
    "\n"
   ]
  },
  {
   "cell_type": "markdown",
   "metadata": {},
   "source": [
    "**Question 6**: Now, using `dplyr`, create the same frame as above except for the oldest member per chamber, per party."
   ]
  },
  {
   "cell_type": "code",
   "execution_count": null,
   "metadata": {},
   "outputs": [],
   "source": [
    "# Execute your code for question 6 here\n",
    "# -------------------------------------\n",
    "\n"
   ]
  },
  {
   "cell_type": "markdown",
   "metadata": {},
   "source": [
    "# Save your notebook, then `File > Close and Halt`"
   ]
  }
 ],
 "metadata": {
  "kernelspec": {
   "display_name": "R",
   "language": "R",
   "name": "ir"
  },
  "language_info": {
   "codemirror_mode": "r",
   "file_extension": ".r",
   "mimetype": "text/x-r-source",
   "name": "R",
   "pygments_lexer": "r",
   "version": "3.5.1"
  }
 },
 "nbformat": 4,
 "nbformat_minor": 2
}
