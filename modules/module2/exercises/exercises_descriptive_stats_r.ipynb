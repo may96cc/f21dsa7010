{
 "cells": [
  {
   "cell_type": "markdown",
   "metadata": {},
   "source": [
    "# Descriptive Statistics with `R` Exercises"
   ]
  },
  {
   "cell_type": "markdown",
   "metadata": {},
   "source": [
    "Like last week, all of the concepts in the exercise will be familiar in the sense that it will mirror the concepts that we learned throughout the labs and practices. This includes the concepts that we worked through in module 1.\n",
    "\n",
    "There could be multiple ways to solve a single answer, some more elegant than others. Revisit older notebooks for guidance, ask questions along the way, and don't be afraid to search the internet. Chances are that someone has had the same/similar issue.\n",
    "\n",
    "For this exercise, we will be working with the `congress-terms.csv`. \n",
    "Again, this is in the `/dsa/data/all_datasets/` directory."
   ]
  },
  {
   "cell_type": "markdown",
   "metadata": {},
   "source": [
    "**Exercise 1**: *Read in the `congress-terms.csv` file and name it `df`.*"
   ]
  },
  {
   "cell_type": "code",
   "execution_count": 1,
   "metadata": {},
   "outputs": [
    {
     "data": {
      "text/html": [
       "<table>\n",
       "<caption>A data.frame: 6 × 13</caption>\n",
       "<thead>\n",
       "\t<tr><th scope=col>congress</th><th scope=col>chamber</th><th scope=col>bioguide</th><th scope=col>firstname</th><th scope=col>middlename</th><th scope=col>lastname</th><th scope=col>suffix</th><th scope=col>birthday</th><th scope=col>state</th><th scope=col>party</th><th scope=col>incumbent</th><th scope=col>termstart</th><th scope=col>age</th></tr>\n",
       "\t<tr><th scope=col>&lt;int&gt;</th><th scope=col>&lt;fct&gt;</th><th scope=col>&lt;fct&gt;</th><th scope=col>&lt;fct&gt;</th><th scope=col>&lt;fct&gt;</th><th scope=col>&lt;fct&gt;</th><th scope=col>&lt;fct&gt;</th><th scope=col>&lt;fct&gt;</th><th scope=col>&lt;fct&gt;</th><th scope=col>&lt;fct&gt;</th><th scope=col>&lt;fct&gt;</th><th scope=col>&lt;fct&gt;</th><th scope=col>&lt;dbl&gt;</th></tr>\n",
       "</thead>\n",
       "<tbody>\n",
       "\t<tr><td>80</td><td>house</td><td>M000112</td><td>Joseph </td><td>Jefferson</td><td>Mansfield</td><td></td><td>1861-02-09</td><td>TX</td><td>D</td><td>Yes</td><td>1/3/47</td><td>85.9</td></tr>\n",
       "\t<tr><td>80</td><td>house</td><td>D000448</td><td>Robert </td><td>Lee      </td><td>Doughton </td><td></td><td>1863-11-07</td><td>NC</td><td>D</td><td>Yes</td><td>1/3/47</td><td>83.2</td></tr>\n",
       "\t<tr><td>80</td><td>house</td><td>S000001</td><td>Adolph </td><td>Joachim  </td><td>Sabath   </td><td></td><td>1866-04-04</td><td>IL</td><td>D</td><td>Yes</td><td>1/3/47</td><td>80.7</td></tr>\n",
       "\t<tr><td>80</td><td>house</td><td>E000023</td><td>Charles</td><td>Aubrey   </td><td>Eaton    </td><td></td><td>1868-03-29</td><td>NJ</td><td>R</td><td>Yes</td><td>1/3/47</td><td>78.8</td></tr>\n",
       "\t<tr><td>80</td><td>house</td><td>L000296</td><td>William</td><td>         </td><td>Lewis    </td><td></td><td>1868-09-22</td><td>KY</td><td>R</td><td>No </td><td>1/3/47</td><td>78.3</td></tr>\n",
       "\t<tr><td>80</td><td>house</td><td>G000017</td><td>James  </td><td>A.       </td><td>Gallagher</td><td></td><td>1869-01-16</td><td>PA</td><td>R</td><td>No </td><td>1/3/47</td><td>78.0</td></tr>\n",
       "</tbody>\n",
       "</table>\n"
      ],
      "text/latex": [
       "A data.frame: 6 × 13\n",
       "\\begin{tabular}{r|lllllllllllll}\n",
       " congress & chamber & bioguide & firstname & middlename & lastname & suffix & birthday & state & party & incumbent & termstart & age\\\\\n",
       " <int> & <fct> & <fct> & <fct> & <fct> & <fct> & <fct> & <fct> & <fct> & <fct> & <fct> & <fct> & <dbl>\\\\\n",
       "\\hline\n",
       "\t 80 & house & M000112 & Joseph  & Jefferson & Mansfield &  & 1861-02-09 & TX & D & Yes & 1/3/47 & 85.9\\\\\n",
       "\t 80 & house & D000448 & Robert  & Lee       & Doughton  &  & 1863-11-07 & NC & D & Yes & 1/3/47 & 83.2\\\\\n",
       "\t 80 & house & S000001 & Adolph  & Joachim   & Sabath    &  & 1866-04-04 & IL & D & Yes & 1/3/47 & 80.7\\\\\n",
       "\t 80 & house & E000023 & Charles & Aubrey    & Eaton     &  & 1868-03-29 & NJ & R & Yes & 1/3/47 & 78.8\\\\\n",
       "\t 80 & house & L000296 & William &           & Lewis     &  & 1868-09-22 & KY & R & No  & 1/3/47 & 78.3\\\\\n",
       "\t 80 & house & G000017 & James   & A.        & Gallagher &  & 1869-01-16 & PA & R & No  & 1/3/47 & 78.0\\\\\n",
       "\\end{tabular}\n"
      ],
      "text/markdown": [
       "\n",
       "A data.frame: 6 × 13\n",
       "\n",
       "| congress &lt;int&gt; | chamber &lt;fct&gt; | bioguide &lt;fct&gt; | firstname &lt;fct&gt; | middlename &lt;fct&gt; | lastname &lt;fct&gt; | suffix &lt;fct&gt; | birthday &lt;fct&gt; | state &lt;fct&gt; | party &lt;fct&gt; | incumbent &lt;fct&gt; | termstart &lt;fct&gt; | age &lt;dbl&gt; |\n",
       "|---|---|---|---|---|---|---|---|---|---|---|---|---|\n",
       "| 80 | house | M000112 | Joseph  | Jefferson | Mansfield | <!----> | 1861-02-09 | TX | D | Yes | 1/3/47 | 85.9 |\n",
       "| 80 | house | D000448 | Robert  | Lee       | Doughton  | <!----> | 1863-11-07 | NC | D | Yes | 1/3/47 | 83.2 |\n",
       "| 80 | house | S000001 | Adolph  | Joachim   | Sabath    | <!----> | 1866-04-04 | IL | D | Yes | 1/3/47 | 80.7 |\n",
       "| 80 | house | E000023 | Charles | Aubrey    | Eaton     | <!----> | 1868-03-29 | NJ | R | Yes | 1/3/47 | 78.8 |\n",
       "| 80 | house | L000296 | William | <!----> | Lewis     | <!----> | 1868-09-22 | KY | R | No  | 1/3/47 | 78.3 |\n",
       "| 80 | house | G000017 | James   | A.        | Gallagher | <!----> | 1869-01-16 | PA | R | No  | 1/3/47 | 78.0 |\n",
       "\n"
      ],
      "text/plain": [
       "  congress chamber bioguide firstname middlename lastname  suffix birthday  \n",
       "1 80       house   M000112  Joseph    Jefferson  Mansfield        1861-02-09\n",
       "2 80       house   D000448  Robert    Lee        Doughton         1863-11-07\n",
       "3 80       house   S000001  Adolph    Joachim    Sabath           1866-04-04\n",
       "4 80       house   E000023  Charles   Aubrey     Eaton            1868-03-29\n",
       "5 80       house   L000296  William              Lewis            1868-09-22\n",
       "6 80       house   G000017  James     A.         Gallagher        1869-01-16\n",
       "  state party incumbent termstart age \n",
       "1 TX    D     Yes       1/3/47    85.9\n",
       "2 NC    D     Yes       1/3/47    83.2\n",
       "3 IL    D     Yes       1/3/47    80.7\n",
       "4 NJ    R     Yes       1/3/47    78.8\n",
       "5 KY    R     No        1/3/47    78.3\n",
       "6 PA    R     No        1/3/47    78.0"
      ]
     },
     "metadata": {},
     "output_type": "display_data"
    },
    {
     "name": "stderr",
     "output_type": "stream",
     "text": [
      "\n",
      "Attaching package: ‘dplyr’\n",
      "\n",
      "The following objects are masked from ‘package:stats’:\n",
      "\n",
      "    filter, lag\n",
      "\n",
      "The following objects are masked from ‘package:base’:\n",
      "\n",
      "    intersect, setdiff, setequal, union\n",
      "\n"
     ]
    }
   ],
   "source": [
    "# Exercise 1 code goes here\n",
    "# -------------------------\n",
    "df <- read.csv('/dsa/data/all_datasets/congress-terms.csv')\n",
    "head(df)\n",
    "library(dplyr)\n"
   ]
  },
  {
   "cell_type": "markdown",
   "metadata": {},
   "source": [
    "**Exercise 2**: On average, does the house or the senate have older members? What statistics could you use to find this?"
   ]
  },
  {
   "cell_type": "code",
   "execution_count": 2,
   "metadata": {},
   "outputs": [
    {
     "data": {
      "text/html": [
       "<table>\n",
       "<caption>A tibble: 2 × 2</caption>\n",
       "<thead>\n",
       "\t<tr><th scope=col>chamber</th><th scope=col>mean_age</th></tr>\n",
       "\t<tr><th scope=col>&lt;fct&gt;</th><th scope=col>&lt;dbl&gt;</th></tr>\n",
       "</thead>\n",
       "<tbody>\n",
       "\t<tr><td>house </td><td>52.36661</td></tr>\n",
       "\t<tr><td>senate</td><td>57.33553</td></tr>\n",
       "</tbody>\n",
       "</table>\n"
      ],
      "text/latex": [
       "A tibble: 2 × 2\n",
       "\\begin{tabular}{r|ll}\n",
       " chamber & mean\\_age\\\\\n",
       " <fct> & <dbl>\\\\\n",
       "\\hline\n",
       "\t house  & 52.36661\\\\\n",
       "\t senate & 57.33553\\\\\n",
       "\\end{tabular}\n"
      ],
      "text/markdown": [
       "\n",
       "A tibble: 2 × 2\n",
       "\n",
       "| chamber &lt;fct&gt; | mean_age &lt;dbl&gt; |\n",
       "|---|---|\n",
       "| house  | 52.36661 |\n",
       "| senate | 57.33553 |\n",
       "\n"
      ],
      "text/plain": [
       "  chamber mean_age\n",
       "1 house   52.36661\n",
       "2 senate  57.33553"
      ]
     },
     "metadata": {},
     "output_type": "display_data"
    }
   ],
   "source": [
    "# Exercise 2 code goes here\n",
    "# -------------------------\n",
    "df %>% group_by(chamber) %>% summarize(mean_age = mean(age))\n",
    "\n"
   ]
  },
  {
   "cell_type": "raw",
   "metadata": {},
   "source": [
    "Answer the question above here.\n",
    "2. senate has older members, I used mean to find this "
   ]
  },
  {
   "cell_type": "markdown",
   "metadata": {},
   "source": [
    "**Exercise 3**: Who is the oldest person in this dataset? The youngest?"
   ]
  },
  {
   "cell_type": "code",
   "execution_count": 3,
   "metadata": {},
   "outputs": [
    {
     "data": {
      "text/html": [
       "<table>\n",
       "<caption>A data.frame: 1 × 13</caption>\n",
       "<thead>\n",
       "\t<tr><th scope=col>congress</th><th scope=col>chamber</th><th scope=col>bioguide</th><th scope=col>firstname</th><th scope=col>middlename</th><th scope=col>lastname</th><th scope=col>suffix</th><th scope=col>birthday</th><th scope=col>state</th><th scope=col>party</th><th scope=col>incumbent</th><th scope=col>termstart</th><th scope=col>age</th></tr>\n",
       "\t<tr><th scope=col>&lt;int&gt;</th><th scope=col>&lt;fct&gt;</th><th scope=col>&lt;fct&gt;</th><th scope=col>&lt;fct&gt;</th><th scope=col>&lt;fct&gt;</th><th scope=col>&lt;fct&gt;</th><th scope=col>&lt;fct&gt;</th><th scope=col>&lt;fct&gt;</th><th scope=col>&lt;fct&gt;</th><th scope=col>&lt;fct&gt;</th><th scope=col>&lt;fct&gt;</th><th scope=col>&lt;fct&gt;</th><th scope=col>&lt;dbl&gt;</th></tr>\n",
       "</thead>\n",
       "<tbody>\n",
       "\t<tr><td>107</td><td>senate</td><td>T000254</td><td>J.</td><td>Strom</td><td>Thurmond</td><td></td><td>1902-12-05</td><td>SC</td><td>R</td><td>Yes</td><td>1/3/01</td><td>98.1</td></tr>\n",
       "</tbody>\n",
       "</table>\n"
      ],
      "text/latex": [
       "A data.frame: 1 × 13\n",
       "\\begin{tabular}{r|lllllllllllll}\n",
       " congress & chamber & bioguide & firstname & middlename & lastname & suffix & birthday & state & party & incumbent & termstart & age\\\\\n",
       " <int> & <fct> & <fct> & <fct> & <fct> & <fct> & <fct> & <fct> & <fct> & <fct> & <fct> & <fct> & <dbl>\\\\\n",
       "\\hline\n",
       "\t 107 & senate & T000254 & J. & Strom & Thurmond &  & 1902-12-05 & SC & R & Yes & 1/3/01 & 98.1\\\\\n",
       "\\end{tabular}\n"
      ],
      "text/markdown": [
       "\n",
       "A data.frame: 1 × 13\n",
       "\n",
       "| congress &lt;int&gt; | chamber &lt;fct&gt; | bioguide &lt;fct&gt; | firstname &lt;fct&gt; | middlename &lt;fct&gt; | lastname &lt;fct&gt; | suffix &lt;fct&gt; | birthday &lt;fct&gt; | state &lt;fct&gt; | party &lt;fct&gt; | incumbent &lt;fct&gt; | termstart &lt;fct&gt; | age &lt;dbl&gt; |\n",
       "|---|---|---|---|---|---|---|---|---|---|---|---|---|\n",
       "| 107 | senate | T000254 | J. | Strom | Thurmond | <!----> | 1902-12-05 | SC | R | Yes | 1/3/01 | 98.1 |\n",
       "\n"
      ],
      "text/plain": [
       "  congress chamber bioguide firstname middlename lastname suffix birthday  \n",
       "1 107      senate  T000254  J.        Strom      Thurmond        1902-12-05\n",
       "  state party incumbent termstart age \n",
       "1 SC    R     Yes       1/3/01    98.1"
      ]
     },
     "metadata": {},
     "output_type": "display_data"
    },
    {
     "data": {
      "text/html": [
       "<table>\n",
       "<caption>A data.frame: 1 × 13</caption>\n",
       "<thead>\n",
       "\t<tr><th></th><th scope=col>congress</th><th scope=col>chamber</th><th scope=col>bioguide</th><th scope=col>firstname</th><th scope=col>middlename</th><th scope=col>lastname</th><th scope=col>suffix</th><th scope=col>birthday</th><th scope=col>state</th><th scope=col>party</th><th scope=col>incumbent</th><th scope=col>termstart</th><th scope=col>age</th></tr>\n",
       "\t<tr><th></th><th scope=col>&lt;int&gt;</th><th scope=col>&lt;fct&gt;</th><th scope=col>&lt;fct&gt;</th><th scope=col>&lt;fct&gt;</th><th scope=col>&lt;fct&gt;</th><th scope=col>&lt;fct&gt;</th><th scope=col>&lt;fct&gt;</th><th scope=col>&lt;fct&gt;</th><th scope=col>&lt;fct&gt;</th><th scope=col>&lt;fct&gt;</th><th scope=col>&lt;fct&gt;</th><th scope=col>&lt;fct&gt;</th><th scope=col>&lt;dbl&gt;</th></tr>\n",
       "</thead>\n",
       "<tbody>\n",
       "\t<tr><th scope=row>18635</th><td>89</td><td>house</td><td>J000151</td><td>Jed</td><td>Joseph</td><td>Johnson</td><td>Jr.</td><td>12/27/39</td><td>OK</td><td>D</td><td>No</td><td>1/4/65</td><td>25</td></tr>\n",
       "</tbody>\n",
       "</table>\n"
      ],
      "text/latex": [
       "A data.frame: 1 × 13\n",
       "\\begin{tabular}{r|lllllllllllll}\n",
       "  & congress & chamber & bioguide & firstname & middlename & lastname & suffix & birthday & state & party & incumbent & termstart & age\\\\\n",
       "  & <int> & <fct> & <fct> & <fct> & <fct> & <fct> & <fct> & <fct> & <fct> & <fct> & <fct> & <fct> & <dbl>\\\\\n",
       "\\hline\n",
       "\t18635 & 89 & house & J000151 & Jed & Joseph & Johnson & Jr. & 12/27/39 & OK & D & No & 1/4/65 & 25\\\\\n",
       "\\end{tabular}\n"
      ],
      "text/markdown": [
       "\n",
       "A data.frame: 1 × 13\n",
       "\n",
       "| <!--/--> | congress &lt;int&gt; | chamber &lt;fct&gt; | bioguide &lt;fct&gt; | firstname &lt;fct&gt; | middlename &lt;fct&gt; | lastname &lt;fct&gt; | suffix &lt;fct&gt; | birthday &lt;fct&gt; | state &lt;fct&gt; | party &lt;fct&gt; | incumbent &lt;fct&gt; | termstart &lt;fct&gt; | age &lt;dbl&gt; |\n",
       "|---|---|---|---|---|---|---|---|---|---|---|---|---|---|\n",
       "| 18635 | 89 | house | J000151 | Jed | Joseph | Johnson | Jr. | 12/27/39 | OK | D | No | 1/4/65 | 25 |\n",
       "\n"
      ],
      "text/plain": [
       "      congress chamber bioguide firstname middlename lastname suffix birthday\n",
       "18635 89       house   J000151  Jed       Joseph     Johnson  Jr.    12/27/39\n",
       "      state party incumbent termstart age\n",
       "18635 OK    D     No        1/4/65    25 "
      ]
     },
     "metadata": {},
     "output_type": "display_data"
    }
   ],
   "source": [
    "# Exercise 3 code goes here\n",
    "# -------------------------\n",
    "both <- arrange(df, -age)\n",
    "head(both,1)\n",
    "tail(both,1)\n"
   ]
  },
  {
   "cell_type": "raw",
   "metadata": {},
   "source": [
    "Answer the question above here.\n",
    "3. oldest is J strom thurmond, youngest is Jed joseph johnson"
   ]
  },
  {
   "cell_type": "markdown",
   "metadata": {},
   "source": [
    "**Exercise 4**: Who is the oldest and youngest person per political party?"
   ]
  },
  {
   "cell_type": "code",
   "execution_count": 4,
   "metadata": {},
   "outputs": [
    {
     "data": {
      "text/html": [
       "<table>\n",
       "<caption>A grouped_df: 6 × 13</caption>\n",
       "<thead>\n",
       "\t<tr><th scope=col>congress</th><th scope=col>chamber</th><th scope=col>bioguide</th><th scope=col>firstname</th><th scope=col>middlename</th><th scope=col>lastname</th><th scope=col>suffix</th><th scope=col>birthday</th><th scope=col>state</th><th scope=col>party</th><th scope=col>incumbent</th><th scope=col>termstart</th><th scope=col>age</th></tr>\n",
       "\t<tr><th scope=col>&lt;int&gt;</th><th scope=col>&lt;fct&gt;</th><th scope=col>&lt;fct&gt;</th><th scope=col>&lt;fct&gt;</th><th scope=col>&lt;fct&gt;</th><th scope=col>&lt;fct&gt;</th><th scope=col>&lt;fct&gt;</th><th scope=col>&lt;fct&gt;</th><th scope=col>&lt;fct&gt;</th><th scope=col>&lt;fct&gt;</th><th scope=col>&lt;fct&gt;</th><th scope=col>&lt;fct&gt;</th><th scope=col>&lt;dbl&gt;</th></tr>\n",
       "</thead>\n",
       "<tbody>\n",
       "\t<tr><td> 81</td><td>house </td><td>M000122</td><td>Vito    </td><td>Anthony</td><td>Marcantonio</td><td>   </td><td>1902-12-10</td><td>NY</td><td>AL</td><td>Yes</td><td>1/3/49</td><td>46.1</td></tr>\n",
       "\t<tr><td> 81</td><td>house </td><td>R000425</td><td>Franklin</td><td>Delano </td><td>Roosevelt  </td><td>Jr.</td><td>8/17/14   </td><td>NY</td><td>L </td><td>No </td><td>1/3/49</td><td>34.4</td></tr>\n",
       "\t<tr><td>107</td><td>senate</td><td>T000254</td><td>J.      </td><td>Strom  </td><td>Thurmond   </td><td>   </td><td>1902-12-05</td><td>SC</td><td>R </td><td>Yes</td><td>1/3/01</td><td>98.1</td></tr>\n",
       "\t<tr><td>111</td><td>senate</td><td>L000304</td><td>Joseph  </td><td>I.     </td><td>Lieberman  </td><td>   </td><td>2/24/42   </td><td>CT</td><td>ID</td><td>Yes</td><td>1/6/09</td><td>66.9</td></tr>\n",
       "\t<tr><td>111</td><td>senate</td><td>B001210</td><td>Robert  </td><td>C.     </td><td>Byrd       </td><td>   </td><td>11/19/13  </td><td>WV</td><td>D </td><td>Yes</td><td>1/6/09</td><td>95.1</td></tr>\n",
       "\t<tr><td>113</td><td>senate</td><td>S000033</td><td>Bernard </td><td>       </td><td>Sanders    </td><td>   </td><td>9/8/41    </td><td>VT</td><td>I </td><td>Yes</td><td>1/3/13</td><td>71.3</td></tr>\n",
       "</tbody>\n",
       "</table>\n"
      ],
      "text/latex": [
       "A grouped_df: 6 × 13\n",
       "\\begin{tabular}{r|lllllllllllll}\n",
       " congress & chamber & bioguide & firstname & middlename & lastname & suffix & birthday & state & party & incumbent & termstart & age\\\\\n",
       " <int> & <fct> & <fct> & <fct> & <fct> & <fct> & <fct> & <fct> & <fct> & <fct> & <fct> & <fct> & <dbl>\\\\\n",
       "\\hline\n",
       "\t  81 & house  & M000122 & Vito     & Anthony & Marcantonio &     & 1902-12-10 & NY & AL & Yes & 1/3/49 & 46.1\\\\\n",
       "\t  81 & house  & R000425 & Franklin & Delano  & Roosevelt   & Jr. & 8/17/14    & NY & L  & No  & 1/3/49 & 34.4\\\\\n",
       "\t 107 & senate & T000254 & J.       & Strom   & Thurmond    &     & 1902-12-05 & SC & R  & Yes & 1/3/01 & 98.1\\\\\n",
       "\t 111 & senate & L000304 & Joseph   & I.      & Lieberman   &     & 2/24/42    & CT & ID & Yes & 1/6/09 & 66.9\\\\\n",
       "\t 111 & senate & B001210 & Robert   & C.      & Byrd        &     & 11/19/13   & WV & D  & Yes & 1/6/09 & 95.1\\\\\n",
       "\t 113 & senate & S000033 & Bernard  &         & Sanders     &     & 9/8/41     & VT & I  & Yes & 1/3/13 & 71.3\\\\\n",
       "\\end{tabular}\n"
      ],
      "text/markdown": [
       "\n",
       "A grouped_df: 6 × 13\n",
       "\n",
       "| congress &lt;int&gt; | chamber &lt;fct&gt; | bioguide &lt;fct&gt; | firstname &lt;fct&gt; | middlename &lt;fct&gt; | lastname &lt;fct&gt; | suffix &lt;fct&gt; | birthday &lt;fct&gt; | state &lt;fct&gt; | party &lt;fct&gt; | incumbent &lt;fct&gt; | termstart &lt;fct&gt; | age &lt;dbl&gt; |\n",
       "|---|---|---|---|---|---|---|---|---|---|---|---|---|\n",
       "|  81 | house  | M000122 | Vito     | Anthony | Marcantonio | <!----> | 1902-12-10 | NY | AL | Yes | 1/3/49 | 46.1 |\n",
       "|  81 | house  | R000425 | Franklin | Delano  | Roosevelt   | Jr. | 8/17/14    | NY | L  | No  | 1/3/49 | 34.4 |\n",
       "| 107 | senate | T000254 | J.       | Strom   | Thurmond    | <!----> | 1902-12-05 | SC | R  | Yes | 1/3/01 | 98.1 |\n",
       "| 111 | senate | L000304 | Joseph   | I.      | Lieberman   | <!----> | 2/24/42    | CT | ID | Yes | 1/6/09 | 66.9 |\n",
       "| 111 | senate | B001210 | Robert   | C.      | Byrd        | <!----> | 11/19/13   | WV | D  | Yes | 1/6/09 | 95.1 |\n",
       "| 113 | senate | S000033 | Bernard  | <!----> | Sanders     | <!----> | 9/8/41     | VT | I  | Yes | 1/3/13 | 71.3 |\n",
       "\n"
      ],
      "text/plain": [
       "  congress chamber bioguide firstname middlename lastname    suffix birthday  \n",
       "1  81      house   M000122  Vito      Anthony    Marcantonio        1902-12-10\n",
       "2  81      house   R000425  Franklin  Delano     Roosevelt   Jr.    8/17/14   \n",
       "3 107      senate  T000254  J.        Strom      Thurmond           1902-12-05\n",
       "4 111      senate  L000304  Joseph    I.         Lieberman          2/24/42   \n",
       "5 111      senate  B001210  Robert    C.         Byrd               11/19/13  \n",
       "6 113      senate  S000033  Bernard              Sanders            9/8/41    \n",
       "  state party incumbent termstart age \n",
       "1 NY    AL    Yes       1/3/49    46.1\n",
       "2 NY    L     No        1/3/49    34.4\n",
       "3 SC    R     Yes       1/3/01    98.1\n",
       "4 CT    ID    Yes       1/6/09    66.9\n",
       "5 WV    D     Yes       1/6/09    95.1\n",
       "6 VT    I     Yes       1/3/13    71.3"
      ]
     },
     "metadata": {},
     "output_type": "display_data"
    },
    {
     "data": {
      "text/html": [
       "<table>\n",
       "<caption>A grouped_df: 7 × 13</caption>\n",
       "<thead>\n",
       "\t<tr><th scope=col>congress</th><th scope=col>chamber</th><th scope=col>bioguide</th><th scope=col>firstname</th><th scope=col>middlename</th><th scope=col>lastname</th><th scope=col>suffix</th><th scope=col>birthday</th><th scope=col>state</th><th scope=col>party</th><th scope=col>incumbent</th><th scope=col>termstart</th><th scope=col>age</th></tr>\n",
       "\t<tr><th scope=col>&lt;int&gt;</th><th scope=col>&lt;fct&gt;</th><th scope=col>&lt;fct&gt;</th><th scope=col>&lt;fct&gt;</th><th scope=col>&lt;fct&gt;</th><th scope=col>&lt;fct&gt;</th><th scope=col>&lt;fct&gt;</th><th scope=col>&lt;fct&gt;</th><th scope=col>&lt;fct&gt;</th><th scope=col>&lt;fct&gt;</th><th scope=col>&lt;fct&gt;</th><th scope=col>&lt;fct&gt;</th><th scope=col>&lt;dbl&gt;</th></tr>\n",
       "</thead>\n",
       "<tbody>\n",
       "\t<tr><td> 80</td><td>house </td><td>I000046</td><td>Leo     </td><td>         </td><td>Isacson  </td><td>   </td><td>4/20/10 </td><td>NY</td><td>AL</td><td>No</td><td>1/3/47 </td><td>36.7</td></tr>\n",
       "\t<tr><td> 81</td><td>house </td><td>R000425</td><td>Franklin</td><td>Delano   </td><td>Roosevelt</td><td>Jr.</td><td>8/17/14 </td><td>NY</td><td>L </td><td>No</td><td>1/3/49 </td><td>34.4</td></tr>\n",
       "\t<tr><td> 86</td><td>house </td><td>A000105</td><td>Thomas  </td><td>Dale     </td><td>Alford   </td><td>   </td><td>1/28/16 </td><td>AR</td><td>ID</td><td>No</td><td>1/7/59 </td><td>42.9</td></tr>\n",
       "\t<tr><td> 88</td><td>senate</td><td>M000851</td><td>Walter  </td><td>Frederick</td><td>Mondale  </td><td>   </td><td>1/5/28  </td><td>MN</td><td>I </td><td>No</td><td>1/9/63 </td><td>35.0</td></tr>\n",
       "\t<tr><td> 89</td><td>house </td><td>J000151</td><td>Jed     </td><td>Joseph   </td><td>Johnson  </td><td>Jr.</td><td>12/27/39</td><td>OK</td><td>D </td><td>No</td><td>1/4/65 </td><td>25.0</td></tr>\n",
       "\t<tr><td> 94</td><td>house </td><td>E000175</td><td>David   </td><td>Farnham  </td><td>Emery    </td><td>   </td><td>9/1/48  </td><td>ME</td><td>R </td><td>No</td><td>1/14/75</td><td>26.4</td></tr>\n",
       "\t<tr><td>107</td><td>house </td><td>P000586</td><td>Adam    </td><td>H.       </td><td>Putnam   </td><td>   </td><td>7/31/74 </td><td>FL</td><td>R </td><td>No</td><td>1/3/01 </td><td>26.4</td></tr>\n",
       "</tbody>\n",
       "</table>\n"
      ],
      "text/latex": [
       "A grouped_df: 7 × 13\n",
       "\\begin{tabular}{r|lllllllllllll}\n",
       " congress & chamber & bioguide & firstname & middlename & lastname & suffix & birthday & state & party & incumbent & termstart & age\\\\\n",
       " <int> & <fct> & <fct> & <fct> & <fct> & <fct> & <fct> & <fct> & <fct> & <fct> & <fct> & <fct> & <dbl>\\\\\n",
       "\\hline\n",
       "\t  80 & house  & I000046 & Leo      &           & Isacson   &     & 4/20/10  & NY & AL & No & 1/3/47  & 36.7\\\\\n",
       "\t  81 & house  & R000425 & Franklin & Delano    & Roosevelt & Jr. & 8/17/14  & NY & L  & No & 1/3/49  & 34.4\\\\\n",
       "\t  86 & house  & A000105 & Thomas   & Dale      & Alford    &     & 1/28/16  & AR & ID & No & 1/7/59  & 42.9\\\\\n",
       "\t  88 & senate & M000851 & Walter   & Frederick & Mondale   &     & 1/5/28   & MN & I  & No & 1/9/63  & 35.0\\\\\n",
       "\t  89 & house  & J000151 & Jed      & Joseph    & Johnson   & Jr. & 12/27/39 & OK & D  & No & 1/4/65  & 25.0\\\\\n",
       "\t  94 & house  & E000175 & David    & Farnham   & Emery     &     & 9/1/48   & ME & R  & No & 1/14/75 & 26.4\\\\\n",
       "\t 107 & house  & P000586 & Adam     & H.        & Putnam    &     & 7/31/74  & FL & R  & No & 1/3/01  & 26.4\\\\\n",
       "\\end{tabular}\n"
      ],
      "text/markdown": [
       "\n",
       "A grouped_df: 7 × 13\n",
       "\n",
       "| congress &lt;int&gt; | chamber &lt;fct&gt; | bioguide &lt;fct&gt; | firstname &lt;fct&gt; | middlename &lt;fct&gt; | lastname &lt;fct&gt; | suffix &lt;fct&gt; | birthday &lt;fct&gt; | state &lt;fct&gt; | party &lt;fct&gt; | incumbent &lt;fct&gt; | termstart &lt;fct&gt; | age &lt;dbl&gt; |\n",
       "|---|---|---|---|---|---|---|---|---|---|---|---|---|\n",
       "|  80 | house  | I000046 | Leo      | <!----> | Isacson   | <!----> | 4/20/10  | NY | AL | No | 1/3/47  | 36.7 |\n",
       "|  81 | house  | R000425 | Franklin | Delano    | Roosevelt | Jr. | 8/17/14  | NY | L  | No | 1/3/49  | 34.4 |\n",
       "|  86 | house  | A000105 | Thomas   | Dale      | Alford    | <!----> | 1/28/16  | AR | ID | No | 1/7/59  | 42.9 |\n",
       "|  88 | senate | M000851 | Walter   | Frederick | Mondale   | <!----> | 1/5/28   | MN | I  | No | 1/9/63  | 35.0 |\n",
       "|  89 | house  | J000151 | Jed      | Joseph    | Johnson   | Jr. | 12/27/39 | OK | D  | No | 1/4/65  | 25.0 |\n",
       "|  94 | house  | E000175 | David    | Farnham   | Emery     | <!----> | 9/1/48   | ME | R  | No | 1/14/75 | 26.4 |\n",
       "| 107 | house  | P000586 | Adam     | H.        | Putnam    | <!----> | 7/31/74  | FL | R  | No | 1/3/01  | 26.4 |\n",
       "\n"
      ],
      "text/plain": [
       "  congress chamber bioguide firstname middlename lastname  suffix birthday\n",
       "1  80      house   I000046  Leo                  Isacson          4/20/10 \n",
       "2  81      house   R000425  Franklin  Delano     Roosevelt Jr.    8/17/14 \n",
       "3  86      house   A000105  Thomas    Dale       Alford           1/28/16 \n",
       "4  88      senate  M000851  Walter    Frederick  Mondale          1/5/28  \n",
       "5  89      house   J000151  Jed       Joseph     Johnson   Jr.    12/27/39\n",
       "6  94      house   E000175  David     Farnham    Emery            9/1/48  \n",
       "7 107      house   P000586  Adam      H.         Putnam           7/31/74 \n",
       "  state party incumbent termstart age \n",
       "1 NY    AL    No        1/3/47    36.7\n",
       "2 NY    L     No        1/3/49    34.4\n",
       "3 AR    ID    No        1/7/59    42.9\n",
       "4 MN    I     No        1/9/63    35.0\n",
       "5 OK    D     No        1/4/65    25.0\n",
       "6 ME    R     No        1/14/75   26.4\n",
       "7 FL    R     No        1/3/01    26.4"
      ]
     },
     "metadata": {},
     "output_type": "display_data"
    }
   ],
   "source": [
    "# Exercise 4 code goes here\n",
    "# -------------------------\n",
    "df %>% group_by(party) %>% filter(age == max(age))\n",
    "df %>% group_by(party) %>% filter(age == min(age))\n"
   ]
  },
  {
   "cell_type": "raw",
   "metadata": {},
   "source": [
    "Answer the question above here.\n",
    "4. AL, youngest= leo isacson oldest = anthony marcantonio \n",
    "L, youngest= franklin delano Roosevelt oldest  = Franklin\tDelano\tRoosevelt\n",
    "R youngest = David\tFarnham\tEmery &Adam\tH.\tPutnam oldest = J.\tStrom\tThurmond\n",
    "D, youngest = Jed\tJoseph\tJohnson oldest = Robert\tC.\tByrd\t\n",
    "I, youngest = Walter\tFrederick\tMondale oldest = Bernard\t\tSanders\n",
    "ID youngest = Thomas\tDale\tAlford\toldest oldest = Joseph\tI.\tLieberman"
   ]
  },
  {
   "cell_type": "markdown",
   "metadata": {},
   "source": [
    "There is a column in this data frame called `bioguide`. This is a unique id for each individual in the data set. As you are probably aware, many politicians have multiple terms.\n",
    "\n",
    "**Exercise 5**: Who is the politician with the most terms?"
   ]
  },
  {
   "cell_type": "code",
   "execution_count": 5,
   "metadata": {},
   "outputs": [
    {
     "data": {
      "text/html": [
       "<table>\n",
       "<caption>A tibble: 1 × 2</caption>\n",
       "<thead>\n",
       "\t<tr><th scope=col>bioguide</th><th scope=col>terms</th></tr>\n",
       "\t<tr><th scope=col>&lt;fct&gt;</th><th scope=col>&lt;int&gt;</th></tr>\n",
       "</thead>\n",
       "<tbody>\n",
       "\t<tr><td>D000355</td><td>30</td></tr>\n",
       "</tbody>\n",
       "</table>\n"
      ],
      "text/latex": [
       "A tibble: 1 × 2\n",
       "\\begin{tabular}{r|ll}\n",
       " bioguide & terms\\\\\n",
       " <fct> & <int>\\\\\n",
       "\\hline\n",
       "\t D000355 & 30\\\\\n",
       "\\end{tabular}\n"
      ],
      "text/markdown": [
       "\n",
       "A tibble: 1 × 2\n",
       "\n",
       "| bioguide &lt;fct&gt; | terms &lt;int&gt; |\n",
       "|---|---|\n",
       "| D000355 | 30 |\n",
       "\n"
      ],
      "text/plain": [
       "  bioguide terms\n",
       "1 D000355  30   "
      ]
     },
     "metadata": {},
     "output_type": "display_data"
    },
    {
     "data": {
      "text/html": [
       "<table>\n",
       "<caption>A data.frame: 30 × 13</caption>\n",
       "<thead>\n",
       "\t<tr><th scope=col>congress</th><th scope=col>chamber</th><th scope=col>bioguide</th><th scope=col>firstname</th><th scope=col>middlename</th><th scope=col>lastname</th><th scope=col>suffix</th><th scope=col>birthday</th><th scope=col>state</th><th scope=col>party</th><th scope=col>incumbent</th><th scope=col>termstart</th><th scope=col>age</th></tr>\n",
       "\t<tr><th scope=col>&lt;int&gt;</th><th scope=col>&lt;fct&gt;</th><th scope=col>&lt;fct&gt;</th><th scope=col>&lt;fct&gt;</th><th scope=col>&lt;fct&gt;</th><th scope=col>&lt;fct&gt;</th><th scope=col>&lt;fct&gt;</th><th scope=col>&lt;fct&gt;</th><th scope=col>&lt;fct&gt;</th><th scope=col>&lt;fct&gt;</th><th scope=col>&lt;fct&gt;</th><th scope=col>&lt;fct&gt;</th><th scope=col>&lt;dbl&gt;</th></tr>\n",
       "</thead>\n",
       "<tbody>\n",
       "\t<tr><td> 84</td><td>house</td><td>D000355</td><td>John</td><td>D.</td><td>Dingell</td><td></td><td>7/8/26</td><td>MI</td><td>D</td><td>No </td><td>1/5/55 </td><td>28.5</td></tr>\n",
       "\t<tr><td> 85</td><td>house</td><td>D000355</td><td>John</td><td>D.</td><td>Dingell</td><td></td><td>7/8/26</td><td>MI</td><td>D</td><td>Yes</td><td>1/3/57 </td><td>30.5</td></tr>\n",
       "\t<tr><td> 86</td><td>house</td><td>D000355</td><td>John</td><td>D.</td><td>Dingell</td><td></td><td>7/8/26</td><td>MI</td><td>D</td><td>Yes</td><td>1/7/59 </td><td>32.5</td></tr>\n",
       "\t<tr><td> 87</td><td>house</td><td>D000355</td><td>John</td><td>D.</td><td>Dingell</td><td></td><td>7/8/26</td><td>MI</td><td>D</td><td>Yes</td><td>1/3/61 </td><td>34.5</td></tr>\n",
       "\t<tr><td> 88</td><td>house</td><td>D000355</td><td>John</td><td>D.</td><td>Dingell</td><td></td><td>7/8/26</td><td>MI</td><td>D</td><td>Yes</td><td>1/9/63 </td><td>36.5</td></tr>\n",
       "\t<tr><td> 89</td><td>house</td><td>D000355</td><td>John</td><td>D.</td><td>Dingell</td><td></td><td>7/8/26</td><td>MI</td><td>D</td><td>Yes</td><td>1/4/65 </td><td>38.5</td></tr>\n",
       "\t<tr><td> 90</td><td>house</td><td>D000355</td><td>John</td><td>D.</td><td>Dingell</td><td></td><td>7/8/26</td><td>MI</td><td>D</td><td>Yes</td><td>1/10/67</td><td>40.5</td></tr>\n",
       "\t<tr><td> 91</td><td>house</td><td>D000355</td><td>John</td><td>D.</td><td>Dingell</td><td></td><td>7/8/26</td><td>MI</td><td>D</td><td>Yes</td><td>1/3/69 </td><td>42.5</td></tr>\n",
       "\t<tr><td> 92</td><td>house</td><td>D000355</td><td>John</td><td>D.</td><td>Dingell</td><td></td><td>7/8/26</td><td>MI</td><td>D</td><td>Yes</td><td>1/21/71</td><td>44.5</td></tr>\n",
       "\t<tr><td> 93</td><td>house</td><td>D000355</td><td>John</td><td>D.</td><td>Dingell</td><td></td><td>7/8/26</td><td>MI</td><td>D</td><td>Yes</td><td>1/3/73 </td><td>46.5</td></tr>\n",
       "\t<tr><td> 94</td><td>house</td><td>D000355</td><td>John</td><td>D.</td><td>Dingell</td><td></td><td>7/8/26</td><td>MI</td><td>D</td><td>Yes</td><td>1/14/75</td><td>48.5</td></tr>\n",
       "\t<tr><td> 95</td><td>house</td><td>D000355</td><td>John</td><td>D.</td><td>Dingell</td><td></td><td>7/8/26</td><td>MI</td><td>D</td><td>Yes</td><td>1/4/77 </td><td>50.5</td></tr>\n",
       "\t<tr><td> 96</td><td>house</td><td>D000355</td><td>John</td><td>D.</td><td>Dingell</td><td></td><td>7/8/26</td><td>MI</td><td>D</td><td>Yes</td><td>1/15/79</td><td>52.5</td></tr>\n",
       "\t<tr><td> 97</td><td>house</td><td>D000355</td><td>John</td><td>D.</td><td>Dingell</td><td></td><td>7/8/26</td><td>MI</td><td>D</td><td>Yes</td><td>1/5/81 </td><td>54.5</td></tr>\n",
       "\t<tr><td> 98</td><td>house</td><td>D000355</td><td>John</td><td>D.</td><td>Dingell</td><td></td><td>7/8/26</td><td>MI</td><td>D</td><td>Yes</td><td>1/3/83 </td><td>56.5</td></tr>\n",
       "\t<tr><td> 99</td><td>house</td><td>D000355</td><td>John</td><td>D.</td><td>Dingell</td><td></td><td>7/8/26</td><td>MI</td><td>D</td><td>Yes</td><td>1/3/85 </td><td>58.5</td></tr>\n",
       "\t<tr><td>100</td><td>house</td><td>D000355</td><td>John</td><td>D.</td><td>Dingell</td><td></td><td>7/8/26</td><td>MI</td><td>D</td><td>Yes</td><td>1/6/87 </td><td>60.5</td></tr>\n",
       "\t<tr><td>101</td><td>house</td><td>D000355</td><td>John</td><td>D.</td><td>Dingell</td><td></td><td>7/8/26</td><td>MI</td><td>D</td><td>Yes</td><td>1/3/89 </td><td>62.5</td></tr>\n",
       "\t<tr><td>102</td><td>house</td><td>D000355</td><td>John</td><td>D.</td><td>Dingell</td><td></td><td>7/8/26</td><td>MI</td><td>D</td><td>Yes</td><td>1/3/91 </td><td>64.5</td></tr>\n",
       "\t<tr><td>103</td><td>house</td><td>D000355</td><td>John</td><td>D.</td><td>Dingell</td><td></td><td>7/8/26</td><td>MI</td><td>D</td><td>Yes</td><td>1/5/93 </td><td>66.5</td></tr>\n",
       "\t<tr><td>104</td><td>house</td><td>D000355</td><td>John</td><td>D.</td><td>Dingell</td><td></td><td>7/8/26</td><td>MI</td><td>D</td><td>Yes</td><td>1/4/95 </td><td>68.5</td></tr>\n",
       "\t<tr><td>105</td><td>house</td><td>D000355</td><td>John</td><td>D.</td><td>Dingell</td><td></td><td>7/8/26</td><td>MI</td><td>D</td><td>Yes</td><td>1/7/97 </td><td>70.5</td></tr>\n",
       "\t<tr><td>106</td><td>house</td><td>D000355</td><td>John</td><td>D.</td><td>Dingell</td><td></td><td>7/8/26</td><td>MI</td><td>D</td><td>Yes</td><td>1/6/99 </td><td>72.5</td></tr>\n",
       "\t<tr><td>107</td><td>house</td><td>D000355</td><td>John</td><td>D.</td><td>Dingell</td><td></td><td>7/8/26</td><td>MI</td><td>D</td><td>Yes</td><td>1/3/01 </td><td>74.5</td></tr>\n",
       "\t<tr><td>108</td><td>house</td><td>D000355</td><td>John</td><td>D.</td><td>Dingell</td><td></td><td>7/8/26</td><td>MI</td><td>D</td><td>Yes</td><td>1/7/03 </td><td>76.5</td></tr>\n",
       "\t<tr><td>109</td><td>house</td><td>D000355</td><td>John</td><td>D.</td><td>Dingell</td><td></td><td>7/8/26</td><td>MI</td><td>D</td><td>Yes</td><td>1/4/05 </td><td>78.5</td></tr>\n",
       "\t<tr><td>110</td><td>house</td><td>D000355</td><td>John</td><td>D.</td><td>Dingell</td><td></td><td>7/8/26</td><td>MI</td><td>D</td><td>Yes</td><td>1/4/07 </td><td>80.5</td></tr>\n",
       "\t<tr><td>111</td><td>house</td><td>D000355</td><td>John</td><td>D.</td><td>Dingell</td><td></td><td>7/8/26</td><td>MI</td><td>D</td><td>Yes</td><td>1/6/09 </td><td>82.5</td></tr>\n",
       "\t<tr><td>112</td><td>house</td><td>D000355</td><td>John</td><td>D.</td><td>Dingell</td><td></td><td>7/8/26</td><td>MI</td><td>D</td><td>Yes</td><td>1/5/11 </td><td>84.5</td></tr>\n",
       "\t<tr><td>113</td><td>house</td><td>D000355</td><td>John</td><td>D.</td><td>Dingell</td><td></td><td>7/8/26</td><td>MI</td><td>D</td><td>Yes</td><td>1/3/13 </td><td>86.5</td></tr>\n",
       "</tbody>\n",
       "</table>\n"
      ],
      "text/latex": [
       "A data.frame: 30 × 13\n",
       "\\begin{tabular}{r|lllllllllllll}\n",
       " congress & chamber & bioguide & firstname & middlename & lastname & suffix & birthday & state & party & incumbent & termstart & age\\\\\n",
       " <int> & <fct> & <fct> & <fct> & <fct> & <fct> & <fct> & <fct> & <fct> & <fct> & <fct> & <fct> & <dbl>\\\\\n",
       "\\hline\n",
       "\t  84 & house & D000355 & John & D. & Dingell &  & 7/8/26 & MI & D & No  & 1/5/55  & 28.5\\\\\n",
       "\t  85 & house & D000355 & John & D. & Dingell &  & 7/8/26 & MI & D & Yes & 1/3/57  & 30.5\\\\\n",
       "\t  86 & house & D000355 & John & D. & Dingell &  & 7/8/26 & MI & D & Yes & 1/7/59  & 32.5\\\\\n",
       "\t  87 & house & D000355 & John & D. & Dingell &  & 7/8/26 & MI & D & Yes & 1/3/61  & 34.5\\\\\n",
       "\t  88 & house & D000355 & John & D. & Dingell &  & 7/8/26 & MI & D & Yes & 1/9/63  & 36.5\\\\\n",
       "\t  89 & house & D000355 & John & D. & Dingell &  & 7/8/26 & MI & D & Yes & 1/4/65  & 38.5\\\\\n",
       "\t  90 & house & D000355 & John & D. & Dingell &  & 7/8/26 & MI & D & Yes & 1/10/67 & 40.5\\\\\n",
       "\t  91 & house & D000355 & John & D. & Dingell &  & 7/8/26 & MI & D & Yes & 1/3/69  & 42.5\\\\\n",
       "\t  92 & house & D000355 & John & D. & Dingell &  & 7/8/26 & MI & D & Yes & 1/21/71 & 44.5\\\\\n",
       "\t  93 & house & D000355 & John & D. & Dingell &  & 7/8/26 & MI & D & Yes & 1/3/73  & 46.5\\\\\n",
       "\t  94 & house & D000355 & John & D. & Dingell &  & 7/8/26 & MI & D & Yes & 1/14/75 & 48.5\\\\\n",
       "\t  95 & house & D000355 & John & D. & Dingell &  & 7/8/26 & MI & D & Yes & 1/4/77  & 50.5\\\\\n",
       "\t  96 & house & D000355 & John & D. & Dingell &  & 7/8/26 & MI & D & Yes & 1/15/79 & 52.5\\\\\n",
       "\t  97 & house & D000355 & John & D. & Dingell &  & 7/8/26 & MI & D & Yes & 1/5/81  & 54.5\\\\\n",
       "\t  98 & house & D000355 & John & D. & Dingell &  & 7/8/26 & MI & D & Yes & 1/3/83  & 56.5\\\\\n",
       "\t  99 & house & D000355 & John & D. & Dingell &  & 7/8/26 & MI & D & Yes & 1/3/85  & 58.5\\\\\n",
       "\t 100 & house & D000355 & John & D. & Dingell &  & 7/8/26 & MI & D & Yes & 1/6/87  & 60.5\\\\\n",
       "\t 101 & house & D000355 & John & D. & Dingell &  & 7/8/26 & MI & D & Yes & 1/3/89  & 62.5\\\\\n",
       "\t 102 & house & D000355 & John & D. & Dingell &  & 7/8/26 & MI & D & Yes & 1/3/91  & 64.5\\\\\n",
       "\t 103 & house & D000355 & John & D. & Dingell &  & 7/8/26 & MI & D & Yes & 1/5/93  & 66.5\\\\\n",
       "\t 104 & house & D000355 & John & D. & Dingell &  & 7/8/26 & MI & D & Yes & 1/4/95  & 68.5\\\\\n",
       "\t 105 & house & D000355 & John & D. & Dingell &  & 7/8/26 & MI & D & Yes & 1/7/97  & 70.5\\\\\n",
       "\t 106 & house & D000355 & John & D. & Dingell &  & 7/8/26 & MI & D & Yes & 1/6/99  & 72.5\\\\\n",
       "\t 107 & house & D000355 & John & D. & Dingell &  & 7/8/26 & MI & D & Yes & 1/3/01  & 74.5\\\\\n",
       "\t 108 & house & D000355 & John & D. & Dingell &  & 7/8/26 & MI & D & Yes & 1/7/03  & 76.5\\\\\n",
       "\t 109 & house & D000355 & John & D. & Dingell &  & 7/8/26 & MI & D & Yes & 1/4/05  & 78.5\\\\\n",
       "\t 110 & house & D000355 & John & D. & Dingell &  & 7/8/26 & MI & D & Yes & 1/4/07  & 80.5\\\\\n",
       "\t 111 & house & D000355 & John & D. & Dingell &  & 7/8/26 & MI & D & Yes & 1/6/09  & 82.5\\\\\n",
       "\t 112 & house & D000355 & John & D. & Dingell &  & 7/8/26 & MI & D & Yes & 1/5/11  & 84.5\\\\\n",
       "\t 113 & house & D000355 & John & D. & Dingell &  & 7/8/26 & MI & D & Yes & 1/3/13  & 86.5\\\\\n",
       "\\end{tabular}\n"
      ],
      "text/markdown": [
       "\n",
       "A data.frame: 30 × 13\n",
       "\n",
       "| congress &lt;int&gt; | chamber &lt;fct&gt; | bioguide &lt;fct&gt; | firstname &lt;fct&gt; | middlename &lt;fct&gt; | lastname &lt;fct&gt; | suffix &lt;fct&gt; | birthday &lt;fct&gt; | state &lt;fct&gt; | party &lt;fct&gt; | incumbent &lt;fct&gt; | termstart &lt;fct&gt; | age &lt;dbl&gt; |\n",
       "|---|---|---|---|---|---|---|---|---|---|---|---|---|\n",
       "|  84 | house | D000355 | John | D. | Dingell | <!----> | 7/8/26 | MI | D | No  | 1/5/55  | 28.5 |\n",
       "|  85 | house | D000355 | John | D. | Dingell | <!----> | 7/8/26 | MI | D | Yes | 1/3/57  | 30.5 |\n",
       "|  86 | house | D000355 | John | D. | Dingell | <!----> | 7/8/26 | MI | D | Yes | 1/7/59  | 32.5 |\n",
       "|  87 | house | D000355 | John | D. | Dingell | <!----> | 7/8/26 | MI | D | Yes | 1/3/61  | 34.5 |\n",
       "|  88 | house | D000355 | John | D. | Dingell | <!----> | 7/8/26 | MI | D | Yes | 1/9/63  | 36.5 |\n",
       "|  89 | house | D000355 | John | D. | Dingell | <!----> | 7/8/26 | MI | D | Yes | 1/4/65  | 38.5 |\n",
       "|  90 | house | D000355 | John | D. | Dingell | <!----> | 7/8/26 | MI | D | Yes | 1/10/67 | 40.5 |\n",
       "|  91 | house | D000355 | John | D. | Dingell | <!----> | 7/8/26 | MI | D | Yes | 1/3/69  | 42.5 |\n",
       "|  92 | house | D000355 | John | D. | Dingell | <!----> | 7/8/26 | MI | D | Yes | 1/21/71 | 44.5 |\n",
       "|  93 | house | D000355 | John | D. | Dingell | <!----> | 7/8/26 | MI | D | Yes | 1/3/73  | 46.5 |\n",
       "|  94 | house | D000355 | John | D. | Dingell | <!----> | 7/8/26 | MI | D | Yes | 1/14/75 | 48.5 |\n",
       "|  95 | house | D000355 | John | D. | Dingell | <!----> | 7/8/26 | MI | D | Yes | 1/4/77  | 50.5 |\n",
       "|  96 | house | D000355 | John | D. | Dingell | <!----> | 7/8/26 | MI | D | Yes | 1/15/79 | 52.5 |\n",
       "|  97 | house | D000355 | John | D. | Dingell | <!----> | 7/8/26 | MI | D | Yes | 1/5/81  | 54.5 |\n",
       "|  98 | house | D000355 | John | D. | Dingell | <!----> | 7/8/26 | MI | D | Yes | 1/3/83  | 56.5 |\n",
       "|  99 | house | D000355 | John | D. | Dingell | <!----> | 7/8/26 | MI | D | Yes | 1/3/85  | 58.5 |\n",
       "| 100 | house | D000355 | John | D. | Dingell | <!----> | 7/8/26 | MI | D | Yes | 1/6/87  | 60.5 |\n",
       "| 101 | house | D000355 | John | D. | Dingell | <!----> | 7/8/26 | MI | D | Yes | 1/3/89  | 62.5 |\n",
       "| 102 | house | D000355 | John | D. | Dingell | <!----> | 7/8/26 | MI | D | Yes | 1/3/91  | 64.5 |\n",
       "| 103 | house | D000355 | John | D. | Dingell | <!----> | 7/8/26 | MI | D | Yes | 1/5/93  | 66.5 |\n",
       "| 104 | house | D000355 | John | D. | Dingell | <!----> | 7/8/26 | MI | D | Yes | 1/4/95  | 68.5 |\n",
       "| 105 | house | D000355 | John | D. | Dingell | <!----> | 7/8/26 | MI | D | Yes | 1/7/97  | 70.5 |\n",
       "| 106 | house | D000355 | John | D. | Dingell | <!----> | 7/8/26 | MI | D | Yes | 1/6/99  | 72.5 |\n",
       "| 107 | house | D000355 | John | D. | Dingell | <!----> | 7/8/26 | MI | D | Yes | 1/3/01  | 74.5 |\n",
       "| 108 | house | D000355 | John | D. | Dingell | <!----> | 7/8/26 | MI | D | Yes | 1/7/03  | 76.5 |\n",
       "| 109 | house | D000355 | John | D. | Dingell | <!----> | 7/8/26 | MI | D | Yes | 1/4/05  | 78.5 |\n",
       "| 110 | house | D000355 | John | D. | Dingell | <!----> | 7/8/26 | MI | D | Yes | 1/4/07  | 80.5 |\n",
       "| 111 | house | D000355 | John | D. | Dingell | <!----> | 7/8/26 | MI | D | Yes | 1/6/09  | 82.5 |\n",
       "| 112 | house | D000355 | John | D. | Dingell | <!----> | 7/8/26 | MI | D | Yes | 1/5/11  | 84.5 |\n",
       "| 113 | house | D000355 | John | D. | Dingell | <!----> | 7/8/26 | MI | D | Yes | 1/3/13  | 86.5 |\n",
       "\n"
      ],
      "text/plain": [
       "   congress chamber bioguide firstname middlename lastname suffix birthday\n",
       "1   84      house   D000355  John      D.         Dingell         7/8/26  \n",
       "2   85      house   D000355  John      D.         Dingell         7/8/26  \n",
       "3   86      house   D000355  John      D.         Dingell         7/8/26  \n",
       "4   87      house   D000355  John      D.         Dingell         7/8/26  \n",
       "5   88      house   D000355  John      D.         Dingell         7/8/26  \n",
       "6   89      house   D000355  John      D.         Dingell         7/8/26  \n",
       "7   90      house   D000355  John      D.         Dingell         7/8/26  \n",
       "8   91      house   D000355  John      D.         Dingell         7/8/26  \n",
       "9   92      house   D000355  John      D.         Dingell         7/8/26  \n",
       "10  93      house   D000355  John      D.         Dingell         7/8/26  \n",
       "11  94      house   D000355  John      D.         Dingell         7/8/26  \n",
       "12  95      house   D000355  John      D.         Dingell         7/8/26  \n",
       "13  96      house   D000355  John      D.         Dingell         7/8/26  \n",
       "14  97      house   D000355  John      D.         Dingell         7/8/26  \n",
       "15  98      house   D000355  John      D.         Dingell         7/8/26  \n",
       "16  99      house   D000355  John      D.         Dingell         7/8/26  \n",
       "17 100      house   D000355  John      D.         Dingell         7/8/26  \n",
       "18 101      house   D000355  John      D.         Dingell         7/8/26  \n",
       "19 102      house   D000355  John      D.         Dingell         7/8/26  \n",
       "20 103      house   D000355  John      D.         Dingell         7/8/26  \n",
       "21 104      house   D000355  John      D.         Dingell         7/8/26  \n",
       "22 105      house   D000355  John      D.         Dingell         7/8/26  \n",
       "23 106      house   D000355  John      D.         Dingell         7/8/26  \n",
       "24 107      house   D000355  John      D.         Dingell         7/8/26  \n",
       "25 108      house   D000355  John      D.         Dingell         7/8/26  \n",
       "26 109      house   D000355  John      D.         Dingell         7/8/26  \n",
       "27 110      house   D000355  John      D.         Dingell         7/8/26  \n",
       "28 111      house   D000355  John      D.         Dingell         7/8/26  \n",
       "29 112      house   D000355  John      D.         Dingell         7/8/26  \n",
       "30 113      house   D000355  John      D.         Dingell         7/8/26  \n",
       "   state party incumbent termstart age \n",
       "1  MI    D     No        1/5/55    28.5\n",
       "2  MI    D     Yes       1/3/57    30.5\n",
       "3  MI    D     Yes       1/7/59    32.5\n",
       "4  MI    D     Yes       1/3/61    34.5\n",
       "5  MI    D     Yes       1/9/63    36.5\n",
       "6  MI    D     Yes       1/4/65    38.5\n",
       "7  MI    D     Yes       1/10/67   40.5\n",
       "8  MI    D     Yes       1/3/69    42.5\n",
       "9  MI    D     Yes       1/21/71   44.5\n",
       "10 MI    D     Yes       1/3/73    46.5\n",
       "11 MI    D     Yes       1/14/75   48.5\n",
       "12 MI    D     Yes       1/4/77    50.5\n",
       "13 MI    D     Yes       1/15/79   52.5\n",
       "14 MI    D     Yes       1/5/81    54.5\n",
       "15 MI    D     Yes       1/3/83    56.5\n",
       "16 MI    D     Yes       1/3/85    58.5\n",
       "17 MI    D     Yes       1/6/87    60.5\n",
       "18 MI    D     Yes       1/3/89    62.5\n",
       "19 MI    D     Yes       1/3/91    64.5\n",
       "20 MI    D     Yes       1/5/93    66.5\n",
       "21 MI    D     Yes       1/4/95    68.5\n",
       "22 MI    D     Yes       1/7/97    70.5\n",
       "23 MI    D     Yes       1/6/99    72.5\n",
       "24 MI    D     Yes       1/3/01    74.5\n",
       "25 MI    D     Yes       1/7/03    76.5\n",
       "26 MI    D     Yes       1/4/05    78.5\n",
       "27 MI    D     Yes       1/4/07    80.5\n",
       "28 MI    D     Yes       1/6/09    82.5\n",
       "29 MI    D     Yes       1/5/11    84.5\n",
       "30 MI    D     Yes       1/3/13    86.5"
      ]
     },
     "metadata": {},
     "output_type": "display_data"
    }
   ],
   "source": [
    "# Exercise 5 code goes here\n",
    "# -------------------------\n",
    "df %>% group_by(bioguide) %>% summarize(terms = n_distinct(congress)) %>% arrange(terms) %>% tail(1)\n",
    "filter(df, bioguide == 'D000355')\n"
   ]
  },
  {
   "cell_type": "raw",
   "metadata": {},
   "source": [
    "Answer the question above here.\n",
    "5.John\tD.\tDingell"
   ]
  },
  {
   "cell_type": "markdown",
   "metadata": {},
   "source": [
    "**Exercise 6**: Who has had the most Senate terms? House terms?"
   ]
  },
  {
   "cell_type": "code",
   "execution_count": 56,
   "metadata": {},
   "outputs": [
    {
     "data": {
      "text/html": [
       "<table>\n",
       "<caption>A grouped_df: 1 × 3</caption>\n",
       "<thead>\n",
       "\t<tr><th scope=col>bioguide</th><th scope=col>chamber</th><th scope=col>terms</th></tr>\n",
       "\t<tr><th scope=col>&lt;fct&gt;</th><th scope=col>&lt;fct&gt;</th><th scope=col>&lt;int&gt;</th></tr>\n",
       "</thead>\n",
       "<tbody>\n",
       "\t<tr><td>D000355</td><td>house</td><td>30</td></tr>\n",
       "</tbody>\n",
       "</table>\n"
      ],
      "text/latex": [
       "A grouped_df: 1 × 3\n",
       "\\begin{tabular}{r|lll}\n",
       " bioguide & chamber & terms\\\\\n",
       " <fct> & <fct> & <int>\\\\\n",
       "\\hline\n",
       "\t D000355 & house & 30\\\\\n",
       "\\end{tabular}\n"
      ],
      "text/markdown": [
       "\n",
       "A grouped_df: 1 × 3\n",
       "\n",
       "| bioguide &lt;fct&gt; | chamber &lt;fct&gt; | terms &lt;int&gt; |\n",
       "|---|---|---|\n",
       "| D000355 | house | 30 |\n",
       "\n"
      ],
      "text/plain": [
       "  bioguide chamber terms\n",
       "1 D000355  house   30   "
      ]
     },
     "metadata": {},
     "output_type": "display_data"
    },
    {
     "data": {
      "text/html": [
       "<table>\n",
       "<caption>A grouped_df: 1 × 3</caption>\n",
       "<thead>\n",
       "\t<tr><th scope=col>bioguide</th><th scope=col>chamber</th><th scope=col>terms</th></tr>\n",
       "\t<tr><th scope=col>&lt;fct&gt;</th><th scope=col>&lt;fct&gt;</th><th scope=col>&lt;int&gt;</th></tr>\n",
       "</thead>\n",
       "<tbody>\n",
       "\t<tr><td>B001210</td><td>senate</td><td>26</td></tr>\n",
       "</tbody>\n",
       "</table>\n"
      ],
      "text/latex": [
       "A grouped_df: 1 × 3\n",
       "\\begin{tabular}{r|lll}\n",
       " bioguide & chamber & terms\\\\\n",
       " <fct> & <fct> & <int>\\\\\n",
       "\\hline\n",
       "\t B001210 & senate & 26\\\\\n",
       "\\end{tabular}\n"
      ],
      "text/markdown": [
       "\n",
       "A grouped_df: 1 × 3\n",
       "\n",
       "| bioguide &lt;fct&gt; | chamber &lt;fct&gt; | terms &lt;int&gt; |\n",
       "|---|---|---|\n",
       "| B001210 | senate | 26 |\n",
       "\n"
      ],
      "text/plain": [
       "  bioguide chamber terms\n",
       "1 B001210  senate  26   "
      ]
     },
     "metadata": {},
     "output_type": "display_data"
    },
    {
     "data": {
      "text/html": [
       "<table>\n",
       "<caption>A data.frame: 29 × 13</caption>\n",
       "<thead>\n",
       "\t<tr><th scope=col>congress</th><th scope=col>chamber</th><th scope=col>bioguide</th><th scope=col>firstname</th><th scope=col>middlename</th><th scope=col>lastname</th><th scope=col>suffix</th><th scope=col>birthday</th><th scope=col>state</th><th scope=col>party</th><th scope=col>incumbent</th><th scope=col>termstart</th><th scope=col>age</th></tr>\n",
       "\t<tr><th scope=col>&lt;int&gt;</th><th scope=col>&lt;fct&gt;</th><th scope=col>&lt;fct&gt;</th><th scope=col>&lt;fct&gt;</th><th scope=col>&lt;fct&gt;</th><th scope=col>&lt;fct&gt;</th><th scope=col>&lt;fct&gt;</th><th scope=col>&lt;fct&gt;</th><th scope=col>&lt;fct&gt;</th><th scope=col>&lt;fct&gt;</th><th scope=col>&lt;fct&gt;</th><th scope=col>&lt;fct&gt;</th><th scope=col>&lt;dbl&gt;</th></tr>\n",
       "</thead>\n",
       "<tbody>\n",
       "\t<tr><td> 83</td><td>house </td><td>B001210</td><td>Robert</td><td>C.</td><td>Byrd</td><td></td><td>11/20/17</td><td>WV</td><td>D</td><td>No </td><td>1/3/53 </td><td>35.1</td></tr>\n",
       "\t<tr><td> 84</td><td>house </td><td>B001210</td><td>Robert</td><td>C.</td><td>Byrd</td><td></td><td>11/20/17</td><td>WV</td><td>D</td><td>Yes</td><td>1/5/55 </td><td>37.1</td></tr>\n",
       "\t<tr><td> 85</td><td>house </td><td>B001210</td><td>Robert</td><td>C.</td><td>Byrd</td><td></td><td>11/20/17</td><td>WV</td><td>D</td><td>Yes</td><td>1/3/57 </td><td>39.1</td></tr>\n",
       "\t<tr><td> 86</td><td>senate</td><td>B001210</td><td>Robert</td><td>C.</td><td>Byrd</td><td></td><td>11/20/17</td><td>WV</td><td>D</td><td>Yes</td><td>1/7/59 </td><td>41.1</td></tr>\n",
       "\t<tr><td> 87</td><td>senate</td><td>B001210</td><td>Robert</td><td>C.</td><td>Byrd</td><td></td><td>11/20/17</td><td>WV</td><td>D</td><td>Yes</td><td>1/3/61 </td><td>43.1</td></tr>\n",
       "\t<tr><td> 88</td><td>senate</td><td>B001210</td><td>Robert</td><td>C.</td><td>Byrd</td><td></td><td>11/20/17</td><td>WV</td><td>D</td><td>Yes</td><td>1/9/63 </td><td>45.1</td></tr>\n",
       "\t<tr><td> 89</td><td>senate</td><td>B001210</td><td>Robert</td><td>C.</td><td>Byrd</td><td></td><td>11/20/17</td><td>WV</td><td>D</td><td>Yes</td><td>1/4/65 </td><td>47.1</td></tr>\n",
       "\t<tr><td> 90</td><td>senate</td><td>B001210</td><td>Robert</td><td>C.</td><td>Byrd</td><td></td><td>11/20/17</td><td>WV</td><td>D</td><td>Yes</td><td>1/10/67</td><td>49.1</td></tr>\n",
       "\t<tr><td> 91</td><td>senate</td><td>B001210</td><td>Robert</td><td>C.</td><td>Byrd</td><td></td><td>11/20/17</td><td>WV</td><td>D</td><td>Yes</td><td>1/3/69 </td><td>51.1</td></tr>\n",
       "\t<tr><td> 92</td><td>senate</td><td>B001210</td><td>Robert</td><td>C.</td><td>Byrd</td><td></td><td>11/20/17</td><td>WV</td><td>D</td><td>Yes</td><td>1/21/71</td><td>53.2</td></tr>\n",
       "\t<tr><td> 93</td><td>senate</td><td>B001210</td><td>Robert</td><td>C.</td><td>Byrd</td><td></td><td>11/20/17</td><td>WV</td><td>D</td><td>Yes</td><td>1/3/73 </td><td>55.1</td></tr>\n",
       "\t<tr><td> 94</td><td>senate</td><td>B001210</td><td>Robert</td><td>C.</td><td>Byrd</td><td></td><td>11/20/17</td><td>WV</td><td>D</td><td>Yes</td><td>1/14/75</td><td>57.1</td></tr>\n",
       "\t<tr><td> 95</td><td>senate</td><td>B001210</td><td>Robert</td><td>C.</td><td>Byrd</td><td></td><td>11/20/17</td><td>WV</td><td>D</td><td>Yes</td><td>1/4/77 </td><td>59.1</td></tr>\n",
       "\t<tr><td> 96</td><td>senate</td><td>B001210</td><td>Robert</td><td>C.</td><td>Byrd</td><td></td><td>11/20/17</td><td>WV</td><td>D</td><td>Yes</td><td>1/15/79</td><td>61.2</td></tr>\n",
       "\t<tr><td> 97</td><td>senate</td><td>B001210</td><td>Robert</td><td>C.</td><td>Byrd</td><td></td><td>11/20/17</td><td>WV</td><td>D</td><td>Yes</td><td>1/5/81 </td><td>63.1</td></tr>\n",
       "\t<tr><td> 98</td><td>senate</td><td>B001210</td><td>Robert</td><td>C.</td><td>Byrd</td><td></td><td>11/20/17</td><td>WV</td><td>D</td><td>Yes</td><td>1/3/83 </td><td>65.1</td></tr>\n",
       "\t<tr><td> 99</td><td>senate</td><td>B001210</td><td>Robert</td><td>C.</td><td>Byrd</td><td></td><td>11/20/17</td><td>WV</td><td>D</td><td>Yes</td><td>1/3/85 </td><td>67.1</td></tr>\n",
       "\t<tr><td>100</td><td>senate</td><td>B001210</td><td>Robert</td><td>C.</td><td>Byrd</td><td></td><td>11/20/17</td><td>WV</td><td>D</td><td>Yes</td><td>1/6/87 </td><td>69.1</td></tr>\n",
       "\t<tr><td>101</td><td>senate</td><td>B001210</td><td>Robert</td><td>C.</td><td>Byrd</td><td></td><td>11/20/17</td><td>WV</td><td>D</td><td>Yes</td><td>1/3/89 </td><td>71.1</td></tr>\n",
       "\t<tr><td>102</td><td>senate</td><td>B001210</td><td>Robert</td><td>C.</td><td>Byrd</td><td></td><td>11/20/17</td><td>WV</td><td>D</td><td>Yes</td><td>1/3/91 </td><td>73.1</td></tr>\n",
       "\t<tr><td>103</td><td>senate</td><td>B001210</td><td>Robert</td><td>C.</td><td>Byrd</td><td></td><td>11/20/17</td><td>WV</td><td>D</td><td>Yes</td><td>1/5/93 </td><td>75.1</td></tr>\n",
       "\t<tr><td>104</td><td>senate</td><td>B001210</td><td>Robert</td><td>C.</td><td>Byrd</td><td></td><td>11/20/17</td><td>WV</td><td>D</td><td>Yes</td><td>1/4/95 </td><td>77.1</td></tr>\n",
       "\t<tr><td>105</td><td>senate</td><td>B001210</td><td>Robert</td><td>C.</td><td>Byrd</td><td></td><td>11/20/17</td><td>WV</td><td>D</td><td>Yes</td><td>1/7/97 </td><td>79.1</td></tr>\n",
       "\t<tr><td>106</td><td>senate</td><td>B001210</td><td>Robert</td><td>C.</td><td>Byrd</td><td></td><td>11/20/17</td><td>WV</td><td>D</td><td>Yes</td><td>1/6/99 </td><td>81.1</td></tr>\n",
       "\t<tr><td>107</td><td>senate</td><td>B001210</td><td>Robert</td><td>C.</td><td>Byrd</td><td></td><td>11/20/17</td><td>WV</td><td>D</td><td>Yes</td><td>1/3/01 </td><td>83.1</td></tr>\n",
       "\t<tr><td>108</td><td>senate</td><td>B001210</td><td>Robert</td><td>C.</td><td>Byrd</td><td></td><td>11/20/17</td><td>WV</td><td>D</td><td>Yes</td><td>1/7/03 </td><td>85.1</td></tr>\n",
       "\t<tr><td>109</td><td>senate</td><td>B001210</td><td>Robert</td><td>C.</td><td>Byrd</td><td></td><td>11/20/17</td><td>WV</td><td>D</td><td>Yes</td><td>1/4/05 </td><td>87.1</td></tr>\n",
       "\t<tr><td>110</td><td>senate</td><td>B001210</td><td>Robert</td><td>C.</td><td>Byrd</td><td></td><td>11/20/17</td><td>WV</td><td>D</td><td>Yes</td><td>1/4/07 </td><td>89.1</td></tr>\n",
       "\t<tr><td>111</td><td>senate</td><td>B001210</td><td>Robert</td><td>C.</td><td>Byrd</td><td></td><td>11/19/13</td><td>WV</td><td>D</td><td>Yes</td><td>1/6/09 </td><td>95.1</td></tr>\n",
       "</tbody>\n",
       "</table>\n"
      ],
      "text/latex": [
       "A data.frame: 29 × 13\n",
       "\\begin{tabular}{r|lllllllllllll}\n",
       " congress & chamber & bioguide & firstname & middlename & lastname & suffix & birthday & state & party & incumbent & termstart & age\\\\\n",
       " <int> & <fct> & <fct> & <fct> & <fct> & <fct> & <fct> & <fct> & <fct> & <fct> & <fct> & <fct> & <dbl>\\\\\n",
       "\\hline\n",
       "\t  83 & house  & B001210 & Robert & C. & Byrd &  & 11/20/17 & WV & D & No  & 1/3/53  & 35.1\\\\\n",
       "\t  84 & house  & B001210 & Robert & C. & Byrd &  & 11/20/17 & WV & D & Yes & 1/5/55  & 37.1\\\\\n",
       "\t  85 & house  & B001210 & Robert & C. & Byrd &  & 11/20/17 & WV & D & Yes & 1/3/57  & 39.1\\\\\n",
       "\t  86 & senate & B001210 & Robert & C. & Byrd &  & 11/20/17 & WV & D & Yes & 1/7/59  & 41.1\\\\\n",
       "\t  87 & senate & B001210 & Robert & C. & Byrd &  & 11/20/17 & WV & D & Yes & 1/3/61  & 43.1\\\\\n",
       "\t  88 & senate & B001210 & Robert & C. & Byrd &  & 11/20/17 & WV & D & Yes & 1/9/63  & 45.1\\\\\n",
       "\t  89 & senate & B001210 & Robert & C. & Byrd &  & 11/20/17 & WV & D & Yes & 1/4/65  & 47.1\\\\\n",
       "\t  90 & senate & B001210 & Robert & C. & Byrd &  & 11/20/17 & WV & D & Yes & 1/10/67 & 49.1\\\\\n",
       "\t  91 & senate & B001210 & Robert & C. & Byrd &  & 11/20/17 & WV & D & Yes & 1/3/69  & 51.1\\\\\n",
       "\t  92 & senate & B001210 & Robert & C. & Byrd &  & 11/20/17 & WV & D & Yes & 1/21/71 & 53.2\\\\\n",
       "\t  93 & senate & B001210 & Robert & C. & Byrd &  & 11/20/17 & WV & D & Yes & 1/3/73  & 55.1\\\\\n",
       "\t  94 & senate & B001210 & Robert & C. & Byrd &  & 11/20/17 & WV & D & Yes & 1/14/75 & 57.1\\\\\n",
       "\t  95 & senate & B001210 & Robert & C. & Byrd &  & 11/20/17 & WV & D & Yes & 1/4/77  & 59.1\\\\\n",
       "\t  96 & senate & B001210 & Robert & C. & Byrd &  & 11/20/17 & WV & D & Yes & 1/15/79 & 61.2\\\\\n",
       "\t  97 & senate & B001210 & Robert & C. & Byrd &  & 11/20/17 & WV & D & Yes & 1/5/81  & 63.1\\\\\n",
       "\t  98 & senate & B001210 & Robert & C. & Byrd &  & 11/20/17 & WV & D & Yes & 1/3/83  & 65.1\\\\\n",
       "\t  99 & senate & B001210 & Robert & C. & Byrd &  & 11/20/17 & WV & D & Yes & 1/3/85  & 67.1\\\\\n",
       "\t 100 & senate & B001210 & Robert & C. & Byrd &  & 11/20/17 & WV & D & Yes & 1/6/87  & 69.1\\\\\n",
       "\t 101 & senate & B001210 & Robert & C. & Byrd &  & 11/20/17 & WV & D & Yes & 1/3/89  & 71.1\\\\\n",
       "\t 102 & senate & B001210 & Robert & C. & Byrd &  & 11/20/17 & WV & D & Yes & 1/3/91  & 73.1\\\\\n",
       "\t 103 & senate & B001210 & Robert & C. & Byrd &  & 11/20/17 & WV & D & Yes & 1/5/93  & 75.1\\\\\n",
       "\t 104 & senate & B001210 & Robert & C. & Byrd &  & 11/20/17 & WV & D & Yes & 1/4/95  & 77.1\\\\\n",
       "\t 105 & senate & B001210 & Robert & C. & Byrd &  & 11/20/17 & WV & D & Yes & 1/7/97  & 79.1\\\\\n",
       "\t 106 & senate & B001210 & Robert & C. & Byrd &  & 11/20/17 & WV & D & Yes & 1/6/99  & 81.1\\\\\n",
       "\t 107 & senate & B001210 & Robert & C. & Byrd &  & 11/20/17 & WV & D & Yes & 1/3/01  & 83.1\\\\\n",
       "\t 108 & senate & B001210 & Robert & C. & Byrd &  & 11/20/17 & WV & D & Yes & 1/7/03  & 85.1\\\\\n",
       "\t 109 & senate & B001210 & Robert & C. & Byrd &  & 11/20/17 & WV & D & Yes & 1/4/05  & 87.1\\\\\n",
       "\t 110 & senate & B001210 & Robert & C. & Byrd &  & 11/20/17 & WV & D & Yes & 1/4/07  & 89.1\\\\\n",
       "\t 111 & senate & B001210 & Robert & C. & Byrd &  & 11/19/13 & WV & D & Yes & 1/6/09  & 95.1\\\\\n",
       "\\end{tabular}\n"
      ],
      "text/markdown": [
       "\n",
       "A data.frame: 29 × 13\n",
       "\n",
       "| congress &lt;int&gt; | chamber &lt;fct&gt; | bioguide &lt;fct&gt; | firstname &lt;fct&gt; | middlename &lt;fct&gt; | lastname &lt;fct&gt; | suffix &lt;fct&gt; | birthday &lt;fct&gt; | state &lt;fct&gt; | party &lt;fct&gt; | incumbent &lt;fct&gt; | termstart &lt;fct&gt; | age &lt;dbl&gt; |\n",
       "|---|---|---|---|---|---|---|---|---|---|---|---|---|\n",
       "|  83 | house  | B001210 | Robert | C. | Byrd | <!----> | 11/20/17 | WV | D | No  | 1/3/53  | 35.1 |\n",
       "|  84 | house  | B001210 | Robert | C. | Byrd | <!----> | 11/20/17 | WV | D | Yes | 1/5/55  | 37.1 |\n",
       "|  85 | house  | B001210 | Robert | C. | Byrd | <!----> | 11/20/17 | WV | D | Yes | 1/3/57  | 39.1 |\n",
       "|  86 | senate | B001210 | Robert | C. | Byrd | <!----> | 11/20/17 | WV | D | Yes | 1/7/59  | 41.1 |\n",
       "|  87 | senate | B001210 | Robert | C. | Byrd | <!----> | 11/20/17 | WV | D | Yes | 1/3/61  | 43.1 |\n",
       "|  88 | senate | B001210 | Robert | C. | Byrd | <!----> | 11/20/17 | WV | D | Yes | 1/9/63  | 45.1 |\n",
       "|  89 | senate | B001210 | Robert | C. | Byrd | <!----> | 11/20/17 | WV | D | Yes | 1/4/65  | 47.1 |\n",
       "|  90 | senate | B001210 | Robert | C. | Byrd | <!----> | 11/20/17 | WV | D | Yes | 1/10/67 | 49.1 |\n",
       "|  91 | senate | B001210 | Robert | C. | Byrd | <!----> | 11/20/17 | WV | D | Yes | 1/3/69  | 51.1 |\n",
       "|  92 | senate | B001210 | Robert | C. | Byrd | <!----> | 11/20/17 | WV | D | Yes | 1/21/71 | 53.2 |\n",
       "|  93 | senate | B001210 | Robert | C. | Byrd | <!----> | 11/20/17 | WV | D | Yes | 1/3/73  | 55.1 |\n",
       "|  94 | senate | B001210 | Robert | C. | Byrd | <!----> | 11/20/17 | WV | D | Yes | 1/14/75 | 57.1 |\n",
       "|  95 | senate | B001210 | Robert | C. | Byrd | <!----> | 11/20/17 | WV | D | Yes | 1/4/77  | 59.1 |\n",
       "|  96 | senate | B001210 | Robert | C. | Byrd | <!----> | 11/20/17 | WV | D | Yes | 1/15/79 | 61.2 |\n",
       "|  97 | senate | B001210 | Robert | C. | Byrd | <!----> | 11/20/17 | WV | D | Yes | 1/5/81  | 63.1 |\n",
       "|  98 | senate | B001210 | Robert | C. | Byrd | <!----> | 11/20/17 | WV | D | Yes | 1/3/83  | 65.1 |\n",
       "|  99 | senate | B001210 | Robert | C. | Byrd | <!----> | 11/20/17 | WV | D | Yes | 1/3/85  | 67.1 |\n",
       "| 100 | senate | B001210 | Robert | C. | Byrd | <!----> | 11/20/17 | WV | D | Yes | 1/6/87  | 69.1 |\n",
       "| 101 | senate | B001210 | Robert | C. | Byrd | <!----> | 11/20/17 | WV | D | Yes | 1/3/89  | 71.1 |\n",
       "| 102 | senate | B001210 | Robert | C. | Byrd | <!----> | 11/20/17 | WV | D | Yes | 1/3/91  | 73.1 |\n",
       "| 103 | senate | B001210 | Robert | C. | Byrd | <!----> | 11/20/17 | WV | D | Yes | 1/5/93  | 75.1 |\n",
       "| 104 | senate | B001210 | Robert | C. | Byrd | <!----> | 11/20/17 | WV | D | Yes | 1/4/95  | 77.1 |\n",
       "| 105 | senate | B001210 | Robert | C. | Byrd | <!----> | 11/20/17 | WV | D | Yes | 1/7/97  | 79.1 |\n",
       "| 106 | senate | B001210 | Robert | C. | Byrd | <!----> | 11/20/17 | WV | D | Yes | 1/6/99  | 81.1 |\n",
       "| 107 | senate | B001210 | Robert | C. | Byrd | <!----> | 11/20/17 | WV | D | Yes | 1/3/01  | 83.1 |\n",
       "| 108 | senate | B001210 | Robert | C. | Byrd | <!----> | 11/20/17 | WV | D | Yes | 1/7/03  | 85.1 |\n",
       "| 109 | senate | B001210 | Robert | C. | Byrd | <!----> | 11/20/17 | WV | D | Yes | 1/4/05  | 87.1 |\n",
       "| 110 | senate | B001210 | Robert | C. | Byrd | <!----> | 11/20/17 | WV | D | Yes | 1/4/07  | 89.1 |\n",
       "| 111 | senate | B001210 | Robert | C. | Byrd | <!----> | 11/19/13 | WV | D | Yes | 1/6/09  | 95.1 |\n",
       "\n"
      ],
      "text/plain": [
       "   congress chamber bioguide firstname middlename lastname suffix birthday\n",
       "1   83      house   B001210  Robert    C.         Byrd            11/20/17\n",
       "2   84      house   B001210  Robert    C.         Byrd            11/20/17\n",
       "3   85      house   B001210  Robert    C.         Byrd            11/20/17\n",
       "4   86      senate  B001210  Robert    C.         Byrd            11/20/17\n",
       "5   87      senate  B001210  Robert    C.         Byrd            11/20/17\n",
       "6   88      senate  B001210  Robert    C.         Byrd            11/20/17\n",
       "7   89      senate  B001210  Robert    C.         Byrd            11/20/17\n",
       "8   90      senate  B001210  Robert    C.         Byrd            11/20/17\n",
       "9   91      senate  B001210  Robert    C.         Byrd            11/20/17\n",
       "10  92      senate  B001210  Robert    C.         Byrd            11/20/17\n",
       "11  93      senate  B001210  Robert    C.         Byrd            11/20/17\n",
       "12  94      senate  B001210  Robert    C.         Byrd            11/20/17\n",
       "13  95      senate  B001210  Robert    C.         Byrd            11/20/17\n",
       "14  96      senate  B001210  Robert    C.         Byrd            11/20/17\n",
       "15  97      senate  B001210  Robert    C.         Byrd            11/20/17\n",
       "16  98      senate  B001210  Robert    C.         Byrd            11/20/17\n",
       "17  99      senate  B001210  Robert    C.         Byrd            11/20/17\n",
       "18 100      senate  B001210  Robert    C.         Byrd            11/20/17\n",
       "19 101      senate  B001210  Robert    C.         Byrd            11/20/17\n",
       "20 102      senate  B001210  Robert    C.         Byrd            11/20/17\n",
       "21 103      senate  B001210  Robert    C.         Byrd            11/20/17\n",
       "22 104      senate  B001210  Robert    C.         Byrd            11/20/17\n",
       "23 105      senate  B001210  Robert    C.         Byrd            11/20/17\n",
       "24 106      senate  B001210  Robert    C.         Byrd            11/20/17\n",
       "25 107      senate  B001210  Robert    C.         Byrd            11/20/17\n",
       "26 108      senate  B001210  Robert    C.         Byrd            11/20/17\n",
       "27 109      senate  B001210  Robert    C.         Byrd            11/20/17\n",
       "28 110      senate  B001210  Robert    C.         Byrd            11/20/17\n",
       "29 111      senate  B001210  Robert    C.         Byrd            11/19/13\n",
       "   state party incumbent termstart age \n",
       "1  WV    D     No        1/3/53    35.1\n",
       "2  WV    D     Yes       1/5/55    37.1\n",
       "3  WV    D     Yes       1/3/57    39.1\n",
       "4  WV    D     Yes       1/7/59    41.1\n",
       "5  WV    D     Yes       1/3/61    43.1\n",
       "6  WV    D     Yes       1/9/63    45.1\n",
       "7  WV    D     Yes       1/4/65    47.1\n",
       "8  WV    D     Yes       1/10/67   49.1\n",
       "9  WV    D     Yes       1/3/69    51.1\n",
       "10 WV    D     Yes       1/21/71   53.2\n",
       "11 WV    D     Yes       1/3/73    55.1\n",
       "12 WV    D     Yes       1/14/75   57.1\n",
       "13 WV    D     Yes       1/4/77    59.1\n",
       "14 WV    D     Yes       1/15/79   61.2\n",
       "15 WV    D     Yes       1/5/81    63.1\n",
       "16 WV    D     Yes       1/3/83    65.1\n",
       "17 WV    D     Yes       1/3/85    67.1\n",
       "18 WV    D     Yes       1/6/87    69.1\n",
       "19 WV    D     Yes       1/3/89    71.1\n",
       "20 WV    D     Yes       1/3/91    73.1\n",
       "21 WV    D     Yes       1/5/93    75.1\n",
       "22 WV    D     Yes       1/4/95    77.1\n",
       "23 WV    D     Yes       1/7/97    79.1\n",
       "24 WV    D     Yes       1/6/99    81.1\n",
       "25 WV    D     Yes       1/3/01    83.1\n",
       "26 WV    D     Yes       1/7/03    85.1\n",
       "27 WV    D     Yes       1/4/05    87.1\n",
       "28 WV    D     Yes       1/4/07    89.1\n",
       "29 WV    D     Yes       1/6/09    95.1"
      ]
     },
     "metadata": {},
     "output_type": "display_data"
    },
    {
     "data": {
      "text/html": [
       "<table>\n",
       "<caption>A data.frame: 30 × 13</caption>\n",
       "<thead>\n",
       "\t<tr><th scope=col>congress</th><th scope=col>chamber</th><th scope=col>bioguide</th><th scope=col>firstname</th><th scope=col>middlename</th><th scope=col>lastname</th><th scope=col>suffix</th><th scope=col>birthday</th><th scope=col>state</th><th scope=col>party</th><th scope=col>incumbent</th><th scope=col>termstart</th><th scope=col>age</th></tr>\n",
       "\t<tr><th scope=col>&lt;int&gt;</th><th scope=col>&lt;fct&gt;</th><th scope=col>&lt;fct&gt;</th><th scope=col>&lt;fct&gt;</th><th scope=col>&lt;fct&gt;</th><th scope=col>&lt;fct&gt;</th><th scope=col>&lt;fct&gt;</th><th scope=col>&lt;fct&gt;</th><th scope=col>&lt;fct&gt;</th><th scope=col>&lt;fct&gt;</th><th scope=col>&lt;fct&gt;</th><th scope=col>&lt;fct&gt;</th><th scope=col>&lt;dbl&gt;</th></tr>\n",
       "</thead>\n",
       "<tbody>\n",
       "\t<tr><td> 84</td><td>house</td><td>D000355</td><td>John</td><td>D.</td><td>Dingell</td><td></td><td>7/8/26</td><td>MI</td><td>D</td><td>No </td><td>1/5/55 </td><td>28.5</td></tr>\n",
       "\t<tr><td> 85</td><td>house</td><td>D000355</td><td>John</td><td>D.</td><td>Dingell</td><td></td><td>7/8/26</td><td>MI</td><td>D</td><td>Yes</td><td>1/3/57 </td><td>30.5</td></tr>\n",
       "\t<tr><td> 86</td><td>house</td><td>D000355</td><td>John</td><td>D.</td><td>Dingell</td><td></td><td>7/8/26</td><td>MI</td><td>D</td><td>Yes</td><td>1/7/59 </td><td>32.5</td></tr>\n",
       "\t<tr><td> 87</td><td>house</td><td>D000355</td><td>John</td><td>D.</td><td>Dingell</td><td></td><td>7/8/26</td><td>MI</td><td>D</td><td>Yes</td><td>1/3/61 </td><td>34.5</td></tr>\n",
       "\t<tr><td> 88</td><td>house</td><td>D000355</td><td>John</td><td>D.</td><td>Dingell</td><td></td><td>7/8/26</td><td>MI</td><td>D</td><td>Yes</td><td>1/9/63 </td><td>36.5</td></tr>\n",
       "\t<tr><td> 89</td><td>house</td><td>D000355</td><td>John</td><td>D.</td><td>Dingell</td><td></td><td>7/8/26</td><td>MI</td><td>D</td><td>Yes</td><td>1/4/65 </td><td>38.5</td></tr>\n",
       "\t<tr><td> 90</td><td>house</td><td>D000355</td><td>John</td><td>D.</td><td>Dingell</td><td></td><td>7/8/26</td><td>MI</td><td>D</td><td>Yes</td><td>1/10/67</td><td>40.5</td></tr>\n",
       "\t<tr><td> 91</td><td>house</td><td>D000355</td><td>John</td><td>D.</td><td>Dingell</td><td></td><td>7/8/26</td><td>MI</td><td>D</td><td>Yes</td><td>1/3/69 </td><td>42.5</td></tr>\n",
       "\t<tr><td> 92</td><td>house</td><td>D000355</td><td>John</td><td>D.</td><td>Dingell</td><td></td><td>7/8/26</td><td>MI</td><td>D</td><td>Yes</td><td>1/21/71</td><td>44.5</td></tr>\n",
       "\t<tr><td> 93</td><td>house</td><td>D000355</td><td>John</td><td>D.</td><td>Dingell</td><td></td><td>7/8/26</td><td>MI</td><td>D</td><td>Yes</td><td>1/3/73 </td><td>46.5</td></tr>\n",
       "\t<tr><td> 94</td><td>house</td><td>D000355</td><td>John</td><td>D.</td><td>Dingell</td><td></td><td>7/8/26</td><td>MI</td><td>D</td><td>Yes</td><td>1/14/75</td><td>48.5</td></tr>\n",
       "\t<tr><td> 95</td><td>house</td><td>D000355</td><td>John</td><td>D.</td><td>Dingell</td><td></td><td>7/8/26</td><td>MI</td><td>D</td><td>Yes</td><td>1/4/77 </td><td>50.5</td></tr>\n",
       "\t<tr><td> 96</td><td>house</td><td>D000355</td><td>John</td><td>D.</td><td>Dingell</td><td></td><td>7/8/26</td><td>MI</td><td>D</td><td>Yes</td><td>1/15/79</td><td>52.5</td></tr>\n",
       "\t<tr><td> 97</td><td>house</td><td>D000355</td><td>John</td><td>D.</td><td>Dingell</td><td></td><td>7/8/26</td><td>MI</td><td>D</td><td>Yes</td><td>1/5/81 </td><td>54.5</td></tr>\n",
       "\t<tr><td> 98</td><td>house</td><td>D000355</td><td>John</td><td>D.</td><td>Dingell</td><td></td><td>7/8/26</td><td>MI</td><td>D</td><td>Yes</td><td>1/3/83 </td><td>56.5</td></tr>\n",
       "\t<tr><td> 99</td><td>house</td><td>D000355</td><td>John</td><td>D.</td><td>Dingell</td><td></td><td>7/8/26</td><td>MI</td><td>D</td><td>Yes</td><td>1/3/85 </td><td>58.5</td></tr>\n",
       "\t<tr><td>100</td><td>house</td><td>D000355</td><td>John</td><td>D.</td><td>Dingell</td><td></td><td>7/8/26</td><td>MI</td><td>D</td><td>Yes</td><td>1/6/87 </td><td>60.5</td></tr>\n",
       "\t<tr><td>101</td><td>house</td><td>D000355</td><td>John</td><td>D.</td><td>Dingell</td><td></td><td>7/8/26</td><td>MI</td><td>D</td><td>Yes</td><td>1/3/89 </td><td>62.5</td></tr>\n",
       "\t<tr><td>102</td><td>house</td><td>D000355</td><td>John</td><td>D.</td><td>Dingell</td><td></td><td>7/8/26</td><td>MI</td><td>D</td><td>Yes</td><td>1/3/91 </td><td>64.5</td></tr>\n",
       "\t<tr><td>103</td><td>house</td><td>D000355</td><td>John</td><td>D.</td><td>Dingell</td><td></td><td>7/8/26</td><td>MI</td><td>D</td><td>Yes</td><td>1/5/93 </td><td>66.5</td></tr>\n",
       "\t<tr><td>104</td><td>house</td><td>D000355</td><td>John</td><td>D.</td><td>Dingell</td><td></td><td>7/8/26</td><td>MI</td><td>D</td><td>Yes</td><td>1/4/95 </td><td>68.5</td></tr>\n",
       "\t<tr><td>105</td><td>house</td><td>D000355</td><td>John</td><td>D.</td><td>Dingell</td><td></td><td>7/8/26</td><td>MI</td><td>D</td><td>Yes</td><td>1/7/97 </td><td>70.5</td></tr>\n",
       "\t<tr><td>106</td><td>house</td><td>D000355</td><td>John</td><td>D.</td><td>Dingell</td><td></td><td>7/8/26</td><td>MI</td><td>D</td><td>Yes</td><td>1/6/99 </td><td>72.5</td></tr>\n",
       "\t<tr><td>107</td><td>house</td><td>D000355</td><td>John</td><td>D.</td><td>Dingell</td><td></td><td>7/8/26</td><td>MI</td><td>D</td><td>Yes</td><td>1/3/01 </td><td>74.5</td></tr>\n",
       "\t<tr><td>108</td><td>house</td><td>D000355</td><td>John</td><td>D.</td><td>Dingell</td><td></td><td>7/8/26</td><td>MI</td><td>D</td><td>Yes</td><td>1/7/03 </td><td>76.5</td></tr>\n",
       "\t<tr><td>109</td><td>house</td><td>D000355</td><td>John</td><td>D.</td><td>Dingell</td><td></td><td>7/8/26</td><td>MI</td><td>D</td><td>Yes</td><td>1/4/05 </td><td>78.5</td></tr>\n",
       "\t<tr><td>110</td><td>house</td><td>D000355</td><td>John</td><td>D.</td><td>Dingell</td><td></td><td>7/8/26</td><td>MI</td><td>D</td><td>Yes</td><td>1/4/07 </td><td>80.5</td></tr>\n",
       "\t<tr><td>111</td><td>house</td><td>D000355</td><td>John</td><td>D.</td><td>Dingell</td><td></td><td>7/8/26</td><td>MI</td><td>D</td><td>Yes</td><td>1/6/09 </td><td>82.5</td></tr>\n",
       "\t<tr><td>112</td><td>house</td><td>D000355</td><td>John</td><td>D.</td><td>Dingell</td><td></td><td>7/8/26</td><td>MI</td><td>D</td><td>Yes</td><td>1/5/11 </td><td>84.5</td></tr>\n",
       "\t<tr><td>113</td><td>house</td><td>D000355</td><td>John</td><td>D.</td><td>Dingell</td><td></td><td>7/8/26</td><td>MI</td><td>D</td><td>Yes</td><td>1/3/13 </td><td>86.5</td></tr>\n",
       "</tbody>\n",
       "</table>\n"
      ],
      "text/latex": [
       "A data.frame: 30 × 13\n",
       "\\begin{tabular}{r|lllllllllllll}\n",
       " congress & chamber & bioguide & firstname & middlename & lastname & suffix & birthday & state & party & incumbent & termstart & age\\\\\n",
       " <int> & <fct> & <fct> & <fct> & <fct> & <fct> & <fct> & <fct> & <fct> & <fct> & <fct> & <fct> & <dbl>\\\\\n",
       "\\hline\n",
       "\t  84 & house & D000355 & John & D. & Dingell &  & 7/8/26 & MI & D & No  & 1/5/55  & 28.5\\\\\n",
       "\t  85 & house & D000355 & John & D. & Dingell &  & 7/8/26 & MI & D & Yes & 1/3/57  & 30.5\\\\\n",
       "\t  86 & house & D000355 & John & D. & Dingell &  & 7/8/26 & MI & D & Yes & 1/7/59  & 32.5\\\\\n",
       "\t  87 & house & D000355 & John & D. & Dingell &  & 7/8/26 & MI & D & Yes & 1/3/61  & 34.5\\\\\n",
       "\t  88 & house & D000355 & John & D. & Dingell &  & 7/8/26 & MI & D & Yes & 1/9/63  & 36.5\\\\\n",
       "\t  89 & house & D000355 & John & D. & Dingell &  & 7/8/26 & MI & D & Yes & 1/4/65  & 38.5\\\\\n",
       "\t  90 & house & D000355 & John & D. & Dingell &  & 7/8/26 & MI & D & Yes & 1/10/67 & 40.5\\\\\n",
       "\t  91 & house & D000355 & John & D. & Dingell &  & 7/8/26 & MI & D & Yes & 1/3/69  & 42.5\\\\\n",
       "\t  92 & house & D000355 & John & D. & Dingell &  & 7/8/26 & MI & D & Yes & 1/21/71 & 44.5\\\\\n",
       "\t  93 & house & D000355 & John & D. & Dingell &  & 7/8/26 & MI & D & Yes & 1/3/73  & 46.5\\\\\n",
       "\t  94 & house & D000355 & John & D. & Dingell &  & 7/8/26 & MI & D & Yes & 1/14/75 & 48.5\\\\\n",
       "\t  95 & house & D000355 & John & D. & Dingell &  & 7/8/26 & MI & D & Yes & 1/4/77  & 50.5\\\\\n",
       "\t  96 & house & D000355 & John & D. & Dingell &  & 7/8/26 & MI & D & Yes & 1/15/79 & 52.5\\\\\n",
       "\t  97 & house & D000355 & John & D. & Dingell &  & 7/8/26 & MI & D & Yes & 1/5/81  & 54.5\\\\\n",
       "\t  98 & house & D000355 & John & D. & Dingell &  & 7/8/26 & MI & D & Yes & 1/3/83  & 56.5\\\\\n",
       "\t  99 & house & D000355 & John & D. & Dingell &  & 7/8/26 & MI & D & Yes & 1/3/85  & 58.5\\\\\n",
       "\t 100 & house & D000355 & John & D. & Dingell &  & 7/8/26 & MI & D & Yes & 1/6/87  & 60.5\\\\\n",
       "\t 101 & house & D000355 & John & D. & Dingell &  & 7/8/26 & MI & D & Yes & 1/3/89  & 62.5\\\\\n",
       "\t 102 & house & D000355 & John & D. & Dingell &  & 7/8/26 & MI & D & Yes & 1/3/91  & 64.5\\\\\n",
       "\t 103 & house & D000355 & John & D. & Dingell &  & 7/8/26 & MI & D & Yes & 1/5/93  & 66.5\\\\\n",
       "\t 104 & house & D000355 & John & D. & Dingell &  & 7/8/26 & MI & D & Yes & 1/4/95  & 68.5\\\\\n",
       "\t 105 & house & D000355 & John & D. & Dingell &  & 7/8/26 & MI & D & Yes & 1/7/97  & 70.5\\\\\n",
       "\t 106 & house & D000355 & John & D. & Dingell &  & 7/8/26 & MI & D & Yes & 1/6/99  & 72.5\\\\\n",
       "\t 107 & house & D000355 & John & D. & Dingell &  & 7/8/26 & MI & D & Yes & 1/3/01  & 74.5\\\\\n",
       "\t 108 & house & D000355 & John & D. & Dingell &  & 7/8/26 & MI & D & Yes & 1/7/03  & 76.5\\\\\n",
       "\t 109 & house & D000355 & John & D. & Dingell &  & 7/8/26 & MI & D & Yes & 1/4/05  & 78.5\\\\\n",
       "\t 110 & house & D000355 & John & D. & Dingell &  & 7/8/26 & MI & D & Yes & 1/4/07  & 80.5\\\\\n",
       "\t 111 & house & D000355 & John & D. & Dingell &  & 7/8/26 & MI & D & Yes & 1/6/09  & 82.5\\\\\n",
       "\t 112 & house & D000355 & John & D. & Dingell &  & 7/8/26 & MI & D & Yes & 1/5/11  & 84.5\\\\\n",
       "\t 113 & house & D000355 & John & D. & Dingell &  & 7/8/26 & MI & D & Yes & 1/3/13  & 86.5\\\\\n",
       "\\end{tabular}\n"
      ],
      "text/markdown": [
       "\n",
       "A data.frame: 30 × 13\n",
       "\n",
       "| congress &lt;int&gt; | chamber &lt;fct&gt; | bioguide &lt;fct&gt; | firstname &lt;fct&gt; | middlename &lt;fct&gt; | lastname &lt;fct&gt; | suffix &lt;fct&gt; | birthday &lt;fct&gt; | state &lt;fct&gt; | party &lt;fct&gt; | incumbent &lt;fct&gt; | termstart &lt;fct&gt; | age &lt;dbl&gt; |\n",
       "|---|---|---|---|---|---|---|---|---|---|---|---|---|\n",
       "|  84 | house | D000355 | John | D. | Dingell | <!----> | 7/8/26 | MI | D | No  | 1/5/55  | 28.5 |\n",
       "|  85 | house | D000355 | John | D. | Dingell | <!----> | 7/8/26 | MI | D | Yes | 1/3/57  | 30.5 |\n",
       "|  86 | house | D000355 | John | D. | Dingell | <!----> | 7/8/26 | MI | D | Yes | 1/7/59  | 32.5 |\n",
       "|  87 | house | D000355 | John | D. | Dingell | <!----> | 7/8/26 | MI | D | Yes | 1/3/61  | 34.5 |\n",
       "|  88 | house | D000355 | John | D. | Dingell | <!----> | 7/8/26 | MI | D | Yes | 1/9/63  | 36.5 |\n",
       "|  89 | house | D000355 | John | D. | Dingell | <!----> | 7/8/26 | MI | D | Yes | 1/4/65  | 38.5 |\n",
       "|  90 | house | D000355 | John | D. | Dingell | <!----> | 7/8/26 | MI | D | Yes | 1/10/67 | 40.5 |\n",
       "|  91 | house | D000355 | John | D. | Dingell | <!----> | 7/8/26 | MI | D | Yes | 1/3/69  | 42.5 |\n",
       "|  92 | house | D000355 | John | D. | Dingell | <!----> | 7/8/26 | MI | D | Yes | 1/21/71 | 44.5 |\n",
       "|  93 | house | D000355 | John | D. | Dingell | <!----> | 7/8/26 | MI | D | Yes | 1/3/73  | 46.5 |\n",
       "|  94 | house | D000355 | John | D. | Dingell | <!----> | 7/8/26 | MI | D | Yes | 1/14/75 | 48.5 |\n",
       "|  95 | house | D000355 | John | D. | Dingell | <!----> | 7/8/26 | MI | D | Yes | 1/4/77  | 50.5 |\n",
       "|  96 | house | D000355 | John | D. | Dingell | <!----> | 7/8/26 | MI | D | Yes | 1/15/79 | 52.5 |\n",
       "|  97 | house | D000355 | John | D. | Dingell | <!----> | 7/8/26 | MI | D | Yes | 1/5/81  | 54.5 |\n",
       "|  98 | house | D000355 | John | D. | Dingell | <!----> | 7/8/26 | MI | D | Yes | 1/3/83  | 56.5 |\n",
       "|  99 | house | D000355 | John | D. | Dingell | <!----> | 7/8/26 | MI | D | Yes | 1/3/85  | 58.5 |\n",
       "| 100 | house | D000355 | John | D. | Dingell | <!----> | 7/8/26 | MI | D | Yes | 1/6/87  | 60.5 |\n",
       "| 101 | house | D000355 | John | D. | Dingell | <!----> | 7/8/26 | MI | D | Yes | 1/3/89  | 62.5 |\n",
       "| 102 | house | D000355 | John | D. | Dingell | <!----> | 7/8/26 | MI | D | Yes | 1/3/91  | 64.5 |\n",
       "| 103 | house | D000355 | John | D. | Dingell | <!----> | 7/8/26 | MI | D | Yes | 1/5/93  | 66.5 |\n",
       "| 104 | house | D000355 | John | D. | Dingell | <!----> | 7/8/26 | MI | D | Yes | 1/4/95  | 68.5 |\n",
       "| 105 | house | D000355 | John | D. | Dingell | <!----> | 7/8/26 | MI | D | Yes | 1/7/97  | 70.5 |\n",
       "| 106 | house | D000355 | John | D. | Dingell | <!----> | 7/8/26 | MI | D | Yes | 1/6/99  | 72.5 |\n",
       "| 107 | house | D000355 | John | D. | Dingell | <!----> | 7/8/26 | MI | D | Yes | 1/3/01  | 74.5 |\n",
       "| 108 | house | D000355 | John | D. | Dingell | <!----> | 7/8/26 | MI | D | Yes | 1/7/03  | 76.5 |\n",
       "| 109 | house | D000355 | John | D. | Dingell | <!----> | 7/8/26 | MI | D | Yes | 1/4/05  | 78.5 |\n",
       "| 110 | house | D000355 | John | D. | Dingell | <!----> | 7/8/26 | MI | D | Yes | 1/4/07  | 80.5 |\n",
       "| 111 | house | D000355 | John | D. | Dingell | <!----> | 7/8/26 | MI | D | Yes | 1/6/09  | 82.5 |\n",
       "| 112 | house | D000355 | John | D. | Dingell | <!----> | 7/8/26 | MI | D | Yes | 1/5/11  | 84.5 |\n",
       "| 113 | house | D000355 | John | D. | Dingell | <!----> | 7/8/26 | MI | D | Yes | 1/3/13  | 86.5 |\n",
       "\n"
      ],
      "text/plain": [
       "   congress chamber bioguide firstname middlename lastname suffix birthday\n",
       "1   84      house   D000355  John      D.         Dingell         7/8/26  \n",
       "2   85      house   D000355  John      D.         Dingell         7/8/26  \n",
       "3   86      house   D000355  John      D.         Dingell         7/8/26  \n",
       "4   87      house   D000355  John      D.         Dingell         7/8/26  \n",
       "5   88      house   D000355  John      D.         Dingell         7/8/26  \n",
       "6   89      house   D000355  John      D.         Dingell         7/8/26  \n",
       "7   90      house   D000355  John      D.         Dingell         7/8/26  \n",
       "8   91      house   D000355  John      D.         Dingell         7/8/26  \n",
       "9   92      house   D000355  John      D.         Dingell         7/8/26  \n",
       "10  93      house   D000355  John      D.         Dingell         7/8/26  \n",
       "11  94      house   D000355  John      D.         Dingell         7/8/26  \n",
       "12  95      house   D000355  John      D.         Dingell         7/8/26  \n",
       "13  96      house   D000355  John      D.         Dingell         7/8/26  \n",
       "14  97      house   D000355  John      D.         Dingell         7/8/26  \n",
       "15  98      house   D000355  John      D.         Dingell         7/8/26  \n",
       "16  99      house   D000355  John      D.         Dingell         7/8/26  \n",
       "17 100      house   D000355  John      D.         Dingell         7/8/26  \n",
       "18 101      house   D000355  John      D.         Dingell         7/8/26  \n",
       "19 102      house   D000355  John      D.         Dingell         7/8/26  \n",
       "20 103      house   D000355  John      D.         Dingell         7/8/26  \n",
       "21 104      house   D000355  John      D.         Dingell         7/8/26  \n",
       "22 105      house   D000355  John      D.         Dingell         7/8/26  \n",
       "23 106      house   D000355  John      D.         Dingell         7/8/26  \n",
       "24 107      house   D000355  John      D.         Dingell         7/8/26  \n",
       "25 108      house   D000355  John      D.         Dingell         7/8/26  \n",
       "26 109      house   D000355  John      D.         Dingell         7/8/26  \n",
       "27 110      house   D000355  John      D.         Dingell         7/8/26  \n",
       "28 111      house   D000355  John      D.         Dingell         7/8/26  \n",
       "29 112      house   D000355  John      D.         Dingell         7/8/26  \n",
       "30 113      house   D000355  John      D.         Dingell         7/8/26  \n",
       "   state party incumbent termstart age \n",
       "1  MI    D     No        1/5/55    28.5\n",
       "2  MI    D     Yes       1/3/57    30.5\n",
       "3  MI    D     Yes       1/7/59    32.5\n",
       "4  MI    D     Yes       1/3/61    34.5\n",
       "5  MI    D     Yes       1/9/63    36.5\n",
       "6  MI    D     Yes       1/4/65    38.5\n",
       "7  MI    D     Yes       1/10/67   40.5\n",
       "8  MI    D     Yes       1/3/69    42.5\n",
       "9  MI    D     Yes       1/21/71   44.5\n",
       "10 MI    D     Yes       1/3/73    46.5\n",
       "11 MI    D     Yes       1/14/75   48.5\n",
       "12 MI    D     Yes       1/4/77    50.5\n",
       "13 MI    D     Yes       1/15/79   52.5\n",
       "14 MI    D     Yes       1/5/81    54.5\n",
       "15 MI    D     Yes       1/3/83    56.5\n",
       "16 MI    D     Yes       1/3/85    58.5\n",
       "17 MI    D     Yes       1/6/87    60.5\n",
       "18 MI    D     Yes       1/3/89    62.5\n",
       "19 MI    D     Yes       1/3/91    64.5\n",
       "20 MI    D     Yes       1/5/93    66.5\n",
       "21 MI    D     Yes       1/4/95    68.5\n",
       "22 MI    D     Yes       1/7/97    70.5\n",
       "23 MI    D     Yes       1/6/99    72.5\n",
       "24 MI    D     Yes       1/3/01    74.5\n",
       "25 MI    D     Yes       1/7/03    76.5\n",
       "26 MI    D     Yes       1/4/05    78.5\n",
       "27 MI    D     Yes       1/4/07    80.5\n",
       "28 MI    D     Yes       1/6/09    82.5\n",
       "29 MI    D     Yes       1/5/11    84.5\n",
       "30 MI    D     Yes       1/3/13    86.5"
      ]
     },
     "metadata": {},
     "output_type": "display_data"
    }
   ],
   "source": [
    "# Exercise 6 code goes here\n",
    "# -------------------------\n",
    "\n",
    "df %>% group_by(bioguide,chamber) %>% summarize(terms = n_distinct(congress)) %>% arrange(terms) %>% filter(chamber == 'house') %>% tail(1)\n",
    "df %>% group_by(bioguide,chamber) %>% summarize(terms = n_distinct(congress)) %>% arrange(terms) %>% filter(chamber == 'senate') %>% tail(1)\n",
    "filter(df, bioguide == 'B001210')\n",
    "filter(df, bioguide == 'D000355')"
   ]
  },
  {
   "cell_type": "raw",
   "metadata": {},
   "source": [
    "Answer the question above here.\n",
    "6.house =John\tD.\tDingell\n",
    "senate= Robert C byrd"
   ]
  },
  {
   "cell_type": "markdown",
   "metadata": {},
   "source": [
    "**Challenge Exercise 1**: Using the mean, which party on average holds a higher number of terms per politician? "
   ]
  },
  {
   "cell_type": "code",
   "execution_count": 8,
   "metadata": {},
   "outputs": [
    {
     "data": {
      "text/html": [
       "<table>\n",
       "<caption>A tibble: 6 × 2</caption>\n",
       "<thead>\n",
       "\t<tr><th scope=col>party</th><th scope=col>mean_terms</th></tr>\n",
       "\t<tr><th scope=col>&lt;fct&gt;</th><th scope=col>&lt;dbl&gt;</th></tr>\n",
       "</thead>\n",
       "<tbody>\n",
       "\t<tr><td>AL</td><td>1.500000</td></tr>\n",
       "\t<tr><td>D </td><td>6.206522</td></tr>\n",
       "\t<tr><td>I </td><td>3.500000</td></tr>\n",
       "\t<tr><td>ID</td><td>1.333333</td></tr>\n",
       "\t<tr><td>L </td><td>1.000000</td></tr>\n",
       "\t<tr><td>R </td><td>5.331827</td></tr>\n",
       "</tbody>\n",
       "</table>\n"
      ],
      "text/latex": [
       "A tibble: 6 × 2\n",
       "\\begin{tabular}{r|ll}\n",
       " party & mean\\_terms\\\\\n",
       " <fct> & <dbl>\\\\\n",
       "\\hline\n",
       "\t AL & 1.500000\\\\\n",
       "\t D  & 6.206522\\\\\n",
       "\t I  & 3.500000\\\\\n",
       "\t ID & 1.333333\\\\\n",
       "\t L  & 1.000000\\\\\n",
       "\t R  & 5.331827\\\\\n",
       "\\end{tabular}\n"
      ],
      "text/markdown": [
       "\n",
       "A tibble: 6 × 2\n",
       "\n",
       "| party &lt;fct&gt; | mean_terms &lt;dbl&gt; |\n",
       "|---|---|\n",
       "| AL | 1.500000 |\n",
       "| D  | 6.206522 |\n",
       "| I  | 3.500000 |\n",
       "| ID | 1.333333 |\n",
       "| L  | 1.000000 |\n",
       "| R  | 5.331827 |\n",
       "\n"
      ],
      "text/plain": [
       "  party mean_terms\n",
       "1 AL    1.500000  \n",
       "2 D     6.206522  \n",
       "3 I     3.500000  \n",
       "4 ID    1.333333  \n",
       "5 L     1.000000  \n",
       "6 R     5.331827  "
      ]
     },
     "metadata": {},
     "output_type": "display_data"
    }
   ],
   "source": [
    "# Challenge Exercise 1 code goes here\n",
    "# -----------------------------------\n",
    "df %>% group_by(party,bioguide) %>% summarize(terms = n_distinct(congress)) %>% summarize(mean_terms = mean(terms))\n",
    "\n"
   ]
  },
  {
   "cell_type": "raw",
   "metadata": {},
   "source": [
    "Answer the question above here.\n",
    "1.Democratic "
   ]
  },
  {
   "cell_type": "markdown",
   "metadata": {},
   "source": [
    "**Challenge Exercise 2**: Using the median age, what condition has the strongest linear relationship: Congress Number and Republican House age, Congress Number and Republican Senate age, Congress Number and Democratic House age, or Congress Number and Democratic Senate age."
   ]
  },
  {
   "cell_type": "code",
   "execution_count": 52,
   "metadata": {},
   "outputs": [
    {
     "data": {
      "text/html": [
       "0.124415709064864"
      ],
      "text/latex": [
       "0.124415709064864"
      ],
      "text/markdown": [
       "0.124415709064864"
      ],
      "text/plain": [
       "[1] 0.1244157"
      ]
     },
     "metadata": {},
     "output_type": "display_data"
    },
    {
     "data": {
      "text/html": [
       "0.215815120403685"
      ],
      "text/latex": [
       "0.215815120403685"
      ],
      "text/markdown": [
       "0.215815120403685"
      ],
      "text/plain": [
       "[1] 0.2158151"
      ]
     },
     "metadata": {},
     "output_type": "display_data"
    },
    {
     "data": {
      "text/html": [
       "0.682596432479392"
      ],
      "text/latex": [
       "0.682596432479392"
      ],
      "text/markdown": [
       "0.682596432479392"
      ],
      "text/plain": [
       "[1] 0.6825964"
      ]
     },
     "metadata": {},
     "output_type": "display_data"
    },
    {
     "data": {
      "text/html": [
       "0.594217779503962"
      ],
      "text/latex": [
       "0.594217779503962"
      ],
      "text/markdown": [
       "0.594217779503962"
      ],
      "text/plain": [
       "[1] 0.5942178"
      ]
     },
     "metadata": {},
     "output_type": "display_data"
    }
   ],
   "source": [
    "# Challenge Exercise 2 code goes here\n",
    "# -----------------------------------\n",
    "ages <- df %>% group_by(party,chamber,congress) %>% summarize(median_age = as.integer(median(age)))\n",
    "ages1 <- subset(ages, party == 'R' & chamber == 'house')\n",
    "ages2 <- subset(ages, party =='R' & chamber == 'senate')\n",
    "ages3 <- subset(ages, party == 'D' & chamber == 'house')\n",
    "ages4 <- subset(ages, party == 'D' & chamber == 'senate')\n",
    "cor(ages1$congress, ages1$median_age)\n",
    "cor(ages2$congress, ages2$median_age)\n",
    "cor(ages3$congress, ages3$median_age)\n",
    "cor(ages4$congress, ages4$median_age)"
   ]
  },
  {
   "cell_type": "raw",
   "metadata": {},
   "source": [
    "Answer the question above here.\n",
    "2..68 is the strongest linear relationship of these and is found in congress number and the median democratic house age"
   ]
  },
  {
   "cell_type": "markdown",
   "metadata": {},
   "source": [
    "**Exercise 7**: Plot the relationship with the strongest linear relationship to visualize the results."
   ]
  },
  {
   "cell_type": "code",
   "execution_count": 53,
   "metadata": {},
   "outputs": [
    {
     "data": {
      "image/png": "[encoded data removed]",
      "text/plain": [
       "plot without title"
      ]
     },
     "metadata": {},
     "output_type": "display_data"
    }
   ],
   "source": [
    "# Exercise 7 code goes here\n",
    "# -------------------------\n",
    "plot(ages3$congress, ages3$median_age)\n"
   ]
  },
  {
   "cell_type": "markdown",
   "metadata": {},
   "source": [
    "# Save your notebook, then `File > Close and Halt`"
   ]
  }
 ],
 "metadata": {
  "kernelspec": {
   "display_name": "R",
   "language": "R",
   "name": "ir"
  },
  "language_info": {
   "codemirror_mode": "r",
   "file_extension": ".r",
   "mimetype": "text/x-r-source",
   "name": "R",
   "pygments_lexer": "r",
   "version": "3.5.1"
  }
 },
 "nbformat": 4,
 "nbformat_minor": 2
}
