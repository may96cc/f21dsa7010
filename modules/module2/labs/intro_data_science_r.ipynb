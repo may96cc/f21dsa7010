{
 "cells": [
  {
   "cell_type": "markdown",
   "metadata": {},
   "source": [
    "# Intro to Data Science with `R`\n",
    "\n",
    "<img src=\"../images/r_logo.png\" alt=\"r_logo\" style=\"width: 100px;\"/>"
   ]
  },
  {
   "cell_type": "markdown",
   "metadata": {},
   "source": [
    "In this lab, you are going to be exposed to the basics of data science with `R`. This will include reading in data, data manipulation in base `R`, and we will finish up with an introduction to the grammar of `dplyr`, a package that makes manipulating data a lot simpler and more intuitive.\n",
    "\n",
    "**R Reference Links:**\n",
    "\n",
    "  * [The R Manuals](https://cran.r-project.org/manuals.html)\n",
    "  * [R Documentation](https://www.r-project.org/other-docs.html)\n",
    "  \n",
    "\n",
    "----\n",
    "\n",
    " ## What we'll cover...\n",
    " \n",
    "- [Reading in Data](#reading)\n",
    "- [Subsetting](#subset)\n",
    "- [Sorting](#sort)\n",
    "- [The Grammar of `dplyr`](#dplyr)\n",
    "- [To Come...](#future)\n",
    "\n",
    "-----"
   ]
  },
  {
   "cell_type": "markdown",
   "metadata": {},
   "source": [
    "<a id='reading'></a>\n",
    "\n",
    "## Read in data\n",
    "\n",
    "We will once again begin by reading in a dataset of baby name populariy in the U.S.\n",
    "\n",
    "We will reference this dataset by its column indexes so here is a table of them below.\n",
    "\n",
    "Index | Description\n",
    "------|------------\n",
    "`0`| Id\n",
    "`1`| Name\n",
    "`2`| Year\n",
    "`3`| Gender\n",
    "`4`| Count\n"
   ]
  },
  {
   "cell_type": "code",
   "execution_count": null,
   "metadata": {},
   "outputs": [],
   "source": [
    "df <- read.csv('/dsa/data/all_datasets/baby-names/NationalNames1.csv')\n",
    "df <- subset(df, select = -Id)"
   ]
  },
  {
   "cell_type": "markdown",
   "metadata": {},
   "source": [
    "Remember the data frame? Well, it returns in R, as promised. The `read.csv` function creates a data frame from the file you just read in. In the above example, we read in the data set, `NationalNames1.csv` and then remove the `Id` column by running the `subset` function. Take a look at the first few rows below..."
   ]
  },
  {
   "cell_type": "code",
   "execution_count": null,
   "metadata": {},
   "outputs": [],
   "source": [
    "head(df)"
   ]
  },
  {
   "cell_type": "markdown",
   "metadata": {},
   "source": [
    "In both `R` and `Python`, the data frame tries to interpret the datatype of each field automatically. This is a really convenient feature as it means we don't have to spend a whole lot of time trying to convert our data into the appropriate types. "
   ]
  },
  {
   "cell_type": "markdown",
   "metadata": {},
   "source": [
    "`sapply` is a function that applies a function accross each column in a data frame and returns the generated output for each column. In this case, it applies the `class` function to find the data type for each column. "
   ]
  },
  {
   "cell_type": "code",
   "execution_count": null,
   "metadata": {},
   "outputs": [],
   "source": [
    "sapply(df, class)"
   ]
  },
  {
   "cell_type": "markdown",
   "metadata": {},
   "source": [
    "<a id='subset'></a>\n",
    "\n",
    "## Subsetting\n",
    "\n",
    "Subsetting allows us to narrow down the scope of our analysis. It removes any data that we deem unnecessary, which, in turn, permits our code to run faster.\n",
    "\n",
    "One thing that you will begin to notice about `R` is how flexible it is. There is often several ways to do the same thing. Subsetting is a prime example of this."
   ]
  },
  {
   "cell_type": "code",
   "execution_count": null,
   "metadata": {},
   "outputs": [],
   "source": [
    "female <- subset(df, Gender == 'F')\n",
    "male <- subset(df, Gender == 'M' )"
   ]
  },
  {
   "cell_type": "markdown",
   "metadata": {},
   "source": [
    "Above is an example of subsetting the entire data frame into two separate data frames based on `Gender`. Here we call the `subset` function which takes the data frame as its first parameter, then some conditional statements based on column header names. We could also call more conditions by adding the `&` or `|` operaters. For example, if we wanted all rows in the data frame that were in the year 1880 and had a count greater than or equal to 2000, it would look like this...\n",
    "\n",
    "```splus\n",
    "subset(df, Year == 1880 & Count >= 2000)\n",
    "```\n",
    "\n",
    "or you could do this..."
   ]
  },
  {
   "cell_type": "code",
   "execution_count": null,
   "metadata": {},
   "outputs": [],
   "source": [
    "year1880 <- df[df$Year == 1880 & df$Count >= 2000,]"
   ]
  },
  {
   "cell_type": "markdown",
   "metadata": {},
   "source": [
    "That is one thing about `R`, it is very flexible; we find ourselves often discovering multiple solutions to the same problem. Go ahead and run the next line to see what that data frame looks like.\n",
    "\n",
    "Oh! and if you were wondering, the comma in the statement above is `R`'s way of saying row-wise. In this case, we are subsetting on those rows that meet this condition. If the comma had preceded the subsetting section (like this -> `df[,something_here]`) it would be a column-wise operation."
   ]
  },
  {
   "cell_type": "code",
   "execution_count": null,
   "metadata": {},
   "outputs": [],
   "source": [
    "head(year1880)"
   ]
  },
  {
   "cell_type": "markdown",
   "metadata": {},
   "source": [
    "<a id='sort'></a>\n",
    "\n",
    "## Sorting\n",
    "\n",
    "We can also sort data frames based on the values in a column or multiple columns. In the following example, we sort the dataframe by Count in descending order and by Year in ascending order. We'll go ahead and call this sorted data frame `sorted`."
   ]
  },
  {
   "cell_type": "code",
   "execution_count": null,
   "metadata": {},
   "outputs": [],
   "source": [
    "sorted <- df[order(-df$Count & df$Year),]"
   ]
  },
  {
   "cell_type": "markdown",
   "metadata": {},
   "source": [
    "and let's see what that looks like..."
   ]
  },
  {
   "cell_type": "code",
   "execution_count": null,
   "metadata": {},
   "outputs": [],
   "source": [
    "head(sorted) # the top few rows\n",
    "tail(sorted) # the bottom few rows"
   ]
  },
  {
   "cell_type": "markdown",
   "metadata": {},
   "source": [
    "So keep in mind that we just sorted the data frame based on two columns. Notice that there is a minus sign in front of the `df$Count`. This is specifying that we want the column to be sorted in *descending* order, or largest value to smallest value. The opposite would be *ascending* order, which is the default."
   ]
  },
  {
   "cell_type": "markdown",
   "metadata": {},
   "source": [
    "<a id='dplyr'></a>\n",
    "\n",
    "## Manipulating Data Frames with `dplyr`\n",
    "\n",
    "<img src=\"../images/dplyr.png\">\n",
    "\n",
    "`dplyr` is a very convenient data manipulation package. As you will see,  much of the functionality provided by this package should be familiar to you already. However, `dplyr` makes managing data frames simpler through the use of its grammar and the ability to pipe functions together.  "
   ]
  },
  {
   "cell_type": "markdown",
   "metadata": {},
   "source": [
    "### `dplyr` grammar"
   ]
  },
  {
   "cell_type": "markdown",
   "metadata": {},
   "source": [
    "#### `rename`\n",
    "\n",
    "The `rename` function is simple but extremely useful. All it does is allow you to rename the columns of a data frame, and although possible in base `R`, it is surprisingly difficult to do. `rename` takes the data frame as the first argument, and then any column whose name you want to change subsequently. For example, if you hate capital letters and you would prefer the name of the `Name` column to be`name`, the following in `dplyr` would allow you to do so:\n",
    "\n",
    "```splus\n",
    "rename(df, name = Name)\n",
    "```\n",
    "\n",
    "Now, let's try for ourselves."
   ]
  },
  {
   "cell_type": "code",
   "execution_count": null,
   "metadata": {},
   "outputs": [],
   "source": [
    "library(dplyr)\n",
    "\n",
    "print(names(df))\n",
    "head(rename(df, name = Name, year = Year, gender = Gender, count = Count))"
   ]
  },
  {
   "cell_type": "markdown",
   "metadata": {},
   "source": [
    "As you can see the column names on were changed on the head display. Note the rename was only for the head statement and we did not save the name changes to our data frame. If you want the change to be permanent you would need to save the dataframe back to itself.\n",
    "\n",
    "```splus\n",
    "df=rename(df, name = Name, year = Year, gender = Gender, count = Count)\n",
    "```"
   ]
  },
  {
   "cell_type": "markdown",
   "metadata": {},
   "source": [
    "#### **`select`**\n",
    "\n",
    "`select()` will return a subset of specified columns of a dataframe. \n",
    "\n",
    "side note - To get more information about a funciton in r you can run the `help()` function which will display the documentation for the command"
   ]
  },
  {
   "cell_type": "code",
   "execution_count": null,
   "metadata": {},
   "outputs": [],
   "source": [
    "help(select)"
   ]
  },
  {
   "cell_type": "markdown",
   "metadata": {},
   "source": [
    "Now that we have read a bit about select() lets see what it can do."
   ]
  },
  {
   "cell_type": "code",
   "execution_count": null,
   "metadata": {},
   "outputs": [],
   "source": [
    "head(df)\n",
    "\n",
    "# just the Name colume\n",
    "print(\"Just the Name\")\n",
    "select(head(df), Name)\n",
    "\n",
    "# select the name and count columns\n",
    "print(\"Name and Count\")\n",
    "select(head(df), c(Name,Count))\n",
    "\n",
    "# the Name column through Gender column\n",
    "print(\"Name through Gender\")\n",
    "select(head(df), c(Name:Gender))\n",
    "\n",
    "# remove the Year column \n",
    "print(\"Remove the Year column\")\n",
    "select(head(df), -Year)"
   ]
  },
  {
   "cell_type": "markdown",
   "metadata": {},
   "source": [
    "The `select` function also includes some nice parameters to select certain columns based on partial string matches on the headers. For example, if we wanted to select all columns that ended with the letter 'r', we can just call the function `ends_with` within the `select` function itself. If we ran this on our `df` object, we should only expect to have the `Yea`**`r`** and `Gende`**`r`** columns returned. Let's see if that works..."
   ]
  },
  {
   "cell_type": "code",
   "execution_count": null,
   "metadata": {},
   "outputs": [],
   "source": [
    "library(dplyr)\n",
    "\n",
    "print(\"Only those columns whose headers end with an 'r'\")\n",
    "head(select(df, ends_with(\"r\")))"
   ]
  },
  {
   "cell_type": "markdown",
   "metadata": {},
   "source": [
    "As you can probably imagine, this isn't the only way to select based on a partial string, or all of the functionality of the `select` function for that matter. But for now, we are going to move on to other parts of `dplyr` that are handy."
   ]
  },
  {
   "cell_type": "markdown",
   "metadata": {},
   "source": [
    "#### `filter`\n",
    "\n",
    "`filter()` allows you to subset rows of data frame based on logical conditions. Here is an example..."
   ]
  },
  {
   "cell_type": "code",
   "execution_count": null,
   "metadata": {},
   "outputs": [],
   "source": [
    "library(dplyr)\n",
    "head(filter(df, Count < 6))"
   ]
  },
  {
   "cell_type": "markdown",
   "metadata": {},
   "source": [
    "This should be familiar. This is the same thing as running `subset(df, Count < 6)` or `df[df$Count < 6,]`. In plain English, we are simply asking for all the rows that have a `Count` less than 6 to be returned."
   ]
  },
  {
   "cell_type": "markdown",
   "metadata": {},
   "source": [
    "#### `arrange`\n",
    "\n",
    "`arrange` is simply a way to sort your columns. The default is to sort in an ascending manner, but if you prefer a descending order, you can either specify the function, `desc(`*`col_name`*`)`, or the minus sign, `-`*`col_name`*. "
   ]
  },
  {
   "cell_type": "code",
   "execution_count": null,
   "metadata": {},
   "outputs": [],
   "source": [
    "print(\"Ascending\")\n",
    "head(arrange(df, Count))\n",
    "\n",
    "print(\"Descending\")\n",
    "head(arrange(df, desc(Count)))"
   ]
  },
  {
   "cell_type": "markdown",
   "metadata": {},
   "source": [
    "**`mutate`**\n",
    "\n",
    "The `mutate` function is good for manipulating data of a data frame and then returning it as a new column. For example, if I wanted to subtract the mean `Count` from every value of `Count` to see if that row is above or below the mean, `mutate` would be the function to do so. Here is an example of that scenario."
   ]
  },
  {
   "cell_type": "code",
   "execution_count": null,
   "metadata": {},
   "outputs": [],
   "source": [
    "head(mutate(df, CountDetrend = Count - mean(Count)))"
   ]
  },
  {
   "cell_type": "markdown",
   "metadata": {},
   "source": [
    "#### The Pipe Character `%>%` and more Verbiage\n",
    "\n",
    "Up until this point, you may be asking the question as to what `dplyr` has to offer that `R`'s base functionality doesn't? The thing is, `dplyr` doesn't add any new functionality, per se, but it **does** simplify the existing functionality. \n",
    "\n",
    "Much of the power of `dplyr` comes in the `%>%` character, which allows you to take a function and feed its output to another function. You can string several of the statements along to manipulate data step by step. For some, this concept is better seen than explained. Take the following, albeit trivial, example."
   ]
  },
  {
   "cell_type": "code",
   "execution_count": null,
   "metadata": {},
   "outputs": [],
   "source": [
    "df %>% \n",
    "    filter(Name == 'Linda') %>% \n",
    "    head(10)"
   ]
  },
  {
   "cell_type": "markdown",
   "metadata": {},
   "source": [
    "Okay, so in this example we are doing nothing more than selecting rows based on a specific value, nothing that we haven't done before. But let's tease this apart line by line. **`df %>%`** is just specifying that we are working with our data frame `df` while the pipe operator **`%>%`** strings this into the next fuction, which is **`filter(Name == 'Linda') %>%`**. So, since we are operating on the output of the first line, we are telling `R` to *`filter`* on *`df`*, and select those rows that have the value *`Linda`* in the *`Name`* column. But notice again the `%>%` operator at the end of this line. Again, we are taking the output from this line, or a data frame with only rows whose `Name` column is `Linda`, and feeding it into the next function, **`head(10)`**. This is the end of our pipeline, and will return the first 10 rows of this data frame of `Linda`s.\n",
    "\n",
    "Like, I said, this is a rather trivial example, and one in which we could certainly have found a simpler solution to, but there are more complexities to data manipulation that make this `%>%` operator a very useful tool in data science. "
   ]
  },
  {
   "cell_type": "markdown",
   "metadata": {},
   "source": [
    "#### `group_by`\n",
    "\n",
    "`group_by` is great for beginning to explore data. Imagine we were interested in the most popular name for each year, and for each gender. To do this, we would have to group the dataframe based on categorical variables (aka factor levels) for both the columns, `Year` and `Gender`, and then filter on every max `Count`. What should return is a data frame that has the most popular name for each gender per year."
   ]
  },
  {
   "cell_type": "code",
   "execution_count": null,
   "metadata": {},
   "outputs": [],
   "source": [
    "df %>%\n",
    "    group_by(Year,Gender) %>%\n",
    "    filter(Count == max(Count)) %>%\n",
    "    head()"
   ]
  },
  {
   "cell_type": "markdown",
   "metadata": {},
   "source": [
    " "
   ]
  },
  {
   "cell_type": "markdown",
   "metadata": {},
   "source": [
    "***Something to Think About:*** How would you find the most popular (by absolute count) male and female name of the entire dataset? How about just the most popular name of either gender per year?"
   ]
  },
  {
   "cell_type": "code",
   "execution_count": null,
   "metadata": {},
   "outputs": [],
   "source": [
    "#try some solutions here\n",
    "\n"
   ]
  },
  {
   "cell_type": "markdown",
   "metadata": {},
   "source": [
    "#### `summarize`\n",
    "\n",
    "This is the final verb in `dplyr`'s grammar that we will be discussing for this lesson. `summarize` (also `summarise`) is a function for providing some summary stats about the dataset. We won't dig into what summary statistics are too much in this lesson, as it will be one of the central concepts in the coming weeks. \n",
    "\n",
    "Imagine we were interested in the mean name Count per year in this data frame; `summarize` is the function we would use for such a task...in conjuction with the `group_by` function, of course."
   ]
  },
  {
   "cell_type": "code",
   "execution_count": null,
   "metadata": {},
   "outputs": [],
   "source": [
    "df %>%\n",
    "    group_by(Year) %>%\n",
    "    summarize(Mean_Count = mean(Count)) %>%\n",
    "    mutate(Year = as.factor(Year)) %>%\n",
    "    tail()"
   ]
  },
  {
   "cell_type": "markdown",
   "metadata": {},
   "source": [
    "<a id='future'></a>\n",
    "\n",
    "## And To Come...\n",
    "In the lessons to come, we will begin to explore further methods of data manipulation, such as normalization, which will allow us to make more meaningful interpretations and predictions. Below is a graph that normalized the Count variable so that we can see the relative popularity of a name for that year. In module 5, we will learn how to make graphs that will communicate the patterns in your data effectively."
   ]
  },
  {
   "cell_type": "markdown",
   "metadata": {},
   "source": [
    "<img src=\"../images/popularity_sandy.jpg\"/>"
   ]
  },
  {
   "cell_type": "markdown",
   "metadata": {},
   "source": [
    "# Save your notebook, then `File > Close and Halt`"
   ]
  }
 ],
 "metadata": {
  "kernelspec": {
   "display_name": "R",
   "language": "R",
   "name": "ir"
  },
  "language_info": {
   "codemirror_mode": "r",
   "file_extension": ".r",
   "mimetype": "text/x-r-source",
   "name": "R",
   "pygments_lexer": "r",
   "version": "3.5.1"
  }
 },
 "nbformat": 4,
 "nbformat_minor": 2
}
