{
 "cells": [
  {
   "cell_type": "markdown",
   "metadata": {},
   "source": [
    "# Data Science with `R` Practice\n",
    "\n",
    "This practice will be going over the fundamentals of data science with `R`. Much of the content will be similar to your lab, [Introduction to Data Science with R](../labs/intro_data_science_r.ipynb), and thus it will serve as a good guide post to answering some of the questions. We'll begin today with reading in the data..."
   ]
  },
  {
   "cell_type": "markdown",
   "metadata": {},
   "source": [
    "## Read in the Data"
   ]
  },
  {
   "cell_type": "code",
   "execution_count": null,
   "metadata": {},
   "outputs": [],
   "source": [
    "df <- read.csv('/dsa/data/all_datasets/baby-names/NationalNames2.csv')\n",
    "\n",
    "head(df)"
   ]
  },
  {
   "cell_type": "markdown",
   "metadata": {},
   "source": [
    "Now that the data is read in, how would you remove the `Id` column from the dataframe in `R`. Remember, `R` is very flexible so there are several ways to remove columns. Do the following:\n",
    "\n",
    "**Activity 1**: Remove the column `Id` from the dataframe and rename this data frame, `df`.\n",
    "\n",
    "**Activity 2**: Find the dimensions (the number of rows and columns) of this updated data frame. *Hint: You will have to look up the function to do this as it was not mentioned in the lab*. \n",
    "\n",
    "**Activity 3**: Display the ***last*** 10 columns of the updated data frame."
   ]
  },
  {
   "cell_type": "code",
   "execution_count": null,
   "metadata": {},
   "outputs": [],
   "source": [
    "#' Code for Activity 1 goes here -----------------------\n",
    "\n"
   ]
  },
  {
   "cell_type": "code",
   "execution_count": null,
   "metadata": {},
   "outputs": [],
   "source": [
    "#' Code for Activity 2 goes here -----------------------\n",
    "\n"
   ]
  },
  {
   "cell_type": "code",
   "execution_count": null,
   "metadata": {},
   "outputs": [],
   "source": [
    "#' Code for Activity 3 goes here -----------------------\n",
    "\n"
   ]
  },
  {
   "cell_type": "markdown",
   "metadata": {},
   "source": [
    "Below is one of the ways that you can subset a data frame. Run the code below to see what it returns."
   ]
  },
  {
   "cell_type": "code",
   "execution_count": null,
   "metadata": {},
   "outputs": [],
   "source": [
    "head(df[df$Count > 2000,])"
   ]
  },
  {
   "cell_type": "markdown",
   "metadata": {},
   "source": [
    "The bit of code only returns the first few rows of data but, in reality, there are lot more rows.\n",
    "\n",
    "**Activity 4**: *Find out how many rows where the `Count` is greater than 2000.*"
   ]
  },
  {
   "cell_type": "code",
   "execution_count": null,
   "metadata": {},
   "outputs": [],
   "source": [
    "#' Code for Activity 4 goes here -----------------------"
   ]
  },
  {
   "cell_type": "markdown",
   "metadata": {},
   "source": [
    "Now let's say that we were interested in only male names, particularly those names that are popular and not so popular.\n",
    "\n",
    "**Activity 5**: subset the data set for rows where the gender is male and the count is above 2000 and below 100."
   ]
  },
  {
   "cell_type": "code",
   "execution_count": null,
   "metadata": {},
   "outputs": [],
   "source": [
    "#' Code for Activity 5 goes here -----------------------\n",
    "\n"
   ]
  },
  {
   "cell_type": "markdown",
   "metadata": {},
   "source": [
    "Imagine we were interested in names during a certain time period and we didn't need any of the data for the years were were not interested in. Let's say we were interested in names from the year 1950 through 1965. Below is one way to subset based on a specific year."
   ]
  },
  {
   "cell_type": "code",
   "execution_count": null,
   "metadata": {},
   "outputs": [],
   "source": [
    "df1950 <- head(df[df$Year == 1950,])\n",
    "df1965 <- head(df[df$Year == 1965,])\n",
    "\n",
    "comb <- rbind(df1950,df1965)\n",
    "\n",
    "head(comb);tail(comb)"
   ]
  },
  {
   "cell_type": "markdown",
   "metadata": {},
   "source": [
    "**Questions**\n",
    "1. What does the `rbind` function do?\n",
    "2. Describe what the code above is doing."
   ]
  },
  {
   "cell_type": "raw",
   "metadata": {},
   "source": [
    "Answer the questions above here.\n",
    "1.\n",
    "\n",
    "\n",
    "\n",
    "2.\n",
    "\n",
    "\n"
   ]
  },
  {
   "cell_type": "markdown",
   "metadata": {},
   "source": [
    "Well, the above code would be extremely inefficient when trying to find all of the names between the years 1950 and 1965. How might you subset the data frame based off names between the year 1950 through 1965 without subsetting each year seperately. \n",
    "\n",
    "**Activity 6**: *Subset the data frame based off names between the year 1950 through 1965 without subsetting each year seperately.*"
   ]
  },
  {
   "cell_type": "code",
   "execution_count": null,
   "metadata": {},
   "outputs": [],
   "source": [
    "#' Code for Activity 6 goes here -----------------------\n",
    "\n"
   ]
  },
  {
   "cell_type": "markdown",
   "metadata": {},
   "source": [
    "## A Bit of Sorting\n",
    "\n",
    "The code below sorts the data frame based of `Count`, but we can also sort the data alphabetically off of a column of strings.\n"
   ]
  },
  {
   "cell_type": "code",
   "execution_count": null,
   "metadata": {},
   "outputs": [],
   "source": [
    "head(df[order(df$Count),])"
   ]
  },
  {
   "cell_type": "markdown",
   "metadata": {},
   "source": [
    "**Activity 7**: Sort the data frame based on `Name` where the names starting with \"Z\" are on the top of the frame."
   ]
  },
  {
   "cell_type": "code",
   "execution_count": null,
   "metadata": {},
   "outputs": [],
   "source": [
    "#' Code for Activity 7 goes here -----------------------\n"
   ]
  },
  {
   "cell_type": "markdown",
   "metadata": {},
   "source": [
    "## Manipulating data with dplyr\n",
    "\n",
    "`dplyr` makes manipulating data a bit simpler. Take a look at the code below."
   ]
  },
  {
   "cell_type": "code",
   "execution_count": null,
   "metadata": {},
   "outputs": [],
   "source": [
    "library(dplyr)\n",
    "df %>%\n",
    "    filter(Name == \"Linda\") %>%\n",
    "    arrange(-Count) %>%\n",
    "    head()"
   ]
  },
  {
   "cell_type": "markdown",
   "metadata": {},
   "source": [
    "**Questions**\n",
    "1. Describe what the code above is doing."
   ]
  },
  {
   "cell_type": "raw",
   "metadata": {},
   "source": [
    "Answer the question above here.\n",
    "1.\n",
    "\n",
    "\n"
   ]
  },
  {
   "cell_type": "markdown",
   "metadata": {},
   "source": [
    "There is a lot more that you can do with `dplyr` such as renaming column names, lets try some.\n",
    "\n",
    "**Activity 8**: *Copy the code above, but rename each of the columns so that the headers begin with lowercase letters. Name this data frame 'df_lower`.*\n",
    "\n",
    "**Activity 9**: *Now, on the `df_lower` frame, remove the `gender` column.*"
   ]
  },
  {
   "cell_type": "code",
   "execution_count": null,
   "metadata": {},
   "outputs": [],
   "source": [
    "#' Code for Activity 8 goes here -----------------------\n"
   ]
  },
  {
   "cell_type": "code",
   "execution_count": null,
   "metadata": {},
   "outputs": [],
   "source": [
    "#' Code for Activity 9 goes here -----------------------\n",
    "\n"
   ]
  },
  {
   "cell_type": "markdown",
   "metadata": {},
   "source": [
    "**Activity 10**: *Using `dplyr`, select rows based on both the names \"Linda\" and \"John\".*"
   ]
  },
  {
   "cell_type": "code",
   "execution_count": null,
   "metadata": {},
   "outputs": [],
   "source": [
    "#' Code for Activity 10 goes here -----------------------\n"
   ]
  },
  {
   "cell_type": "markdown",
   "metadata": {},
   "source": [
    "**Challenge Activity 1**: *Use `dplyr` to find the max Count per year per name (both Linda and John).*"
   ]
  },
  {
   "cell_type": "code",
   "execution_count": null,
   "metadata": {},
   "outputs": [],
   "source": [
    "#' Code for Challenge Activity 1 goes here -----------------------\n",
    "\n"
   ]
  },
  {
   "cell_type": "markdown",
   "metadata": {},
   "source": [
    "# Save your notebook, then `File > Close and Halt`"
   ]
  }
 ],
 "metadata": {
  "kernelspec": {
   "display_name": "R",
   "language": "R",
   "name": "ir"
  },
  "language_info": {
   "codemirror_mode": "r",
   "file_extension": ".r",
   "mimetype": "text/x-r-source",
   "name": "R",
   "pygments_lexer": "r",
   "version": "3.5.1"
  }
 },
 "nbformat": 4,
 "nbformat_minor": 2
}
