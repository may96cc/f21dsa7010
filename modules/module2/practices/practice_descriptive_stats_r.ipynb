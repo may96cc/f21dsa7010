{
 "cells": [
  {
   "cell_type": "markdown",
   "metadata": {},
   "source": [
    "# Practice Descriptive Statistics and Data Manipulation with `R` \n",
    "\n",
    "In the `R` lab notebook for this module, we focused mainly on what descriptive statistics tell us and how to find them using `R`. In this practice notebook, we will go a step further and integrate the data manipulation techniques that you learned, as it is very important aspect of exploring your data.\n",
    "\n",
    "We again are going to be using the *Game of Thrones* dataset that we used throughout the labs. We will begin by reading in the data."
   ]
  },
  {
   "cell_type": "code",
   "execution_count": 1,
   "metadata": {},
   "outputs": [
    {
     "name": "stderr",
     "output_type": "stream",
     "text": [
      "\n",
      "Attaching package: ‘dplyr’\n",
      "\n",
      "The following objects are masked from ‘package:stats’:\n",
      "\n",
      "    filter, lag\n",
      "\n",
      "The following objects are masked from ‘package:base’:\n",
      "\n",
      "    intersect, setdiff, setequal, union\n",
      "\n"
     ]
    },
    {
     "data": {
      "text/html": [
       "<table>\n",
       "<caption>A data.frame: 6 × 5</caption>\n",
       "<thead>\n",
       "\t<tr><th scope=col>Character</th><th scope=col>Age</th><th scope=col>Dead</th><th scope=col>Gender</th><th scope=col>Affiliation</th></tr>\n",
       "\t<tr><th scope=col>&lt;fct&gt;</th><th scope=col>&lt;int&gt;</th><th scope=col>&lt;fct&gt;</th><th scope=col>&lt;fct&gt;</th><th scope=col>&lt;fct&gt;</th></tr>\n",
       "</thead>\n",
       "<tbody>\n",
       "\t<tr><td>Sandor Clegan</td><td>29</td><td>1</td><td>1</td><td>4 </td></tr>\n",
       "\t<tr><td>Benjen Stark </td><td>35</td><td>1</td><td>1</td><td>10</td></tr>\n",
       "\t<tr><td>Syrio Forel  </td><td>41</td><td>1</td><td>1</td><td>1 </td></tr>\n",
       "\t<tr><td>Tysha        </td><td>29</td><td>0</td><td>0</td><td>4 </td></tr>\n",
       "\t<tr><td>Jeyne Pool   </td><td>12</td><td>1</td><td>0</td><td>1 </td></tr>\n",
       "\t<tr><td>Imry Florent </td><td>35</td><td>1</td><td>1</td><td>2 </td></tr>\n",
       "</tbody>\n",
       "</table>\n"
      ],
      "text/latex": [
       "A data.frame: 6 × 5\n",
       "\\begin{tabular}{r|lllll}\n",
       " Character & Age & Dead & Gender & Affiliation\\\\\n",
       " <fct> & <int> & <fct> & <fct> & <fct>\\\\\n",
       "\\hline\n",
       "\t Sandor Clegan & 29 & 1 & 1 & 4 \\\\\n",
       "\t Benjen Stark  & 35 & 1 & 1 & 10\\\\\n",
       "\t Syrio Forel   & 41 & 1 & 1 & 1 \\\\\n",
       "\t Tysha         & 29 & 0 & 0 & 4 \\\\\n",
       "\t Jeyne Pool    & 12 & 1 & 0 & 1 \\\\\n",
       "\t Imry Florent  & 35 & 1 & 1 & 2 \\\\\n",
       "\\end{tabular}\n"
      ],
      "text/markdown": [
       "\n",
       "A data.frame: 6 × 5\n",
       "\n",
       "| Character &lt;fct&gt; | Age &lt;int&gt; | Dead &lt;fct&gt; | Gender &lt;fct&gt; | Affiliation &lt;fct&gt; |\n",
       "|---|---|---|---|---|\n",
       "| Sandor Clegan | 29 | 1 | 1 | 4  |\n",
       "| Benjen Stark  | 35 | 1 | 1 | 10 |\n",
       "| Syrio Forel   | 41 | 1 | 1 | 1  |\n",
       "| Tysha         | 29 | 0 | 0 | 4  |\n",
       "| Jeyne Pool    | 12 | 1 | 0 | 1  |\n",
       "| Imry Florent  | 35 | 1 | 1 | 2  |\n",
       "\n"
      ],
      "text/plain": [
       "  Character     Age Dead Gender Affiliation\n",
       "1 Sandor Clegan 29  1    1      4          \n",
       "2 Benjen Stark  35  1    1      10         \n",
       "3 Syrio Forel   41  1    1      1          \n",
       "4 Tysha         29  0    0      4          \n",
       "5 Jeyne Pool    12  1    0      1          \n",
       "6 Imry Florent  35  1    1      2          "
      ]
     },
     "metadata": {},
     "output_type": "display_data"
    }
   ],
   "source": [
    "library(dplyr)\n",
    "\n",
    "# read in Game of Thrones data\n",
    "file <- read.csv('/dsa/data/all_datasets/game-of-thrones/GoT_age_at_death.csv')\n",
    "\n",
    "\n",
    "# a bit of column clean up\n",
    "df <-file %>%\n",
    "    rename(Dead = `Dead..1...dead.`, Gender = `Gender..1.male.`) %>%\n",
    "    mutate(Dead = as.factor(Dead), Gender = as.factor(Gender), Affiliation = as.factor(Affiliation))\n",
    "\n",
    "# show first few rows\n",
    "head(df)"
   ]
  },
  {
   "cell_type": "markdown",
   "metadata": {},
   "source": [
    "In the lab, we didn't introduce the `summary` function until later on in the notebook, however, it is often the best place to start."
   ]
  },
  {
   "cell_type": "code",
   "execution_count": 2,
   "metadata": {},
   "outputs": [
    {
     "data": {
      "text/plain": [
       "   Min. 1st Qu.  Median    Mean 3rd Qu.    Max. \n",
       "    0.0    20.0    35.0    35.6    47.0   102.0 "
      ]
     },
     "metadata": {},
     "output_type": "display_data"
    }
   ],
   "source": [
    "summary(df$Age)"
   ]
  },
  {
   "cell_type": "markdown",
   "metadata": {},
   "source": [
    "The line of code above just runs the summary statitistics on the only numeric column in the entire dataset, but it isn't the only interesting variable. \n",
    "\n",
    "**Activity 1**: *Run a `summary` on the entire *Game of Thrones* data.*"
   ]
  },
  {
   "cell_type": "code",
   "execution_count": 3,
   "metadata": {},
   "outputs": [
    {
     "data": {
      "text/plain": [
       "               Character        Age        Dead    Gender   Affiliation \n",
       " High Septon        :  2   Min.   :  0.0   0:176   0: 92   3      : 59  \n",
       " Lannister Guardsmen:  2   1st Qu.: 20.0   1:193   1:277   1      : 47  \n",
       " Rhaenys Targaryen  :  2   Median : 35.0                   2      : 42  \n",
       " Addam Marband      :  1   Mean   : 35.6                   4      : 38  \n",
       " Adrack Humble      :  1   3rd Qu.: 47.0                   10     : 33  \n",
       " Aegon Blackfyre    :  1   Max.   :102.0                   6      : 25  \n",
       " (Other)            :360                                   (Other):125  "
      ]
     },
     "metadata": {},
     "output_type": "display_data"
    }
   ],
   "source": [
    "# Activity 1 code goes here \n",
    "# -------------------------\n",
    "summary(df)\n",
    "\n"
   ]
  },
  {
   "cell_type": "markdown",
   "metadata": {},
   "source": [
    "We know the mean age of the entire dataset to be around 35.6 years old. But what if we were interested in a different subset of data? *Game of Thrones* kills off a lot of characters. What if our question became, what is the average age of the dead characters?\n",
    "\n",
    "**Activity 2**: *Create a subset from the entire data frame to only include those individuals who are deceased. (Remember, \"1\" codes for dead in this dataset). Call this data frame, `dead_chars`.* "
   ]
  },
  {
   "cell_type": "code",
   "execution_count": 14,
   "metadata": {},
   "outputs": [
    {
     "data": {
      "text/html": [
       "<table>\n",
       "<caption>A data.frame: 6 × 5</caption>\n",
       "<thead>\n",
       "\t<tr><th></th><th scope=col>Character</th><th scope=col>Age</th><th scope=col>Dead</th><th scope=col>Gender</th><th scope=col>Affiliation</th></tr>\n",
       "\t<tr><th></th><th scope=col>&lt;fct&gt;</th><th scope=col>&lt;int&gt;</th><th scope=col>&lt;fct&gt;</th><th scope=col>&lt;fct&gt;</th><th scope=col>&lt;fct&gt;</th></tr>\n",
       "</thead>\n",
       "<tbody>\n",
       "\t<tr><th scope=row>1</th><td>Sandor Clegan      </td><td>29</td><td>1</td><td>1</td><td>4 </td></tr>\n",
       "\t<tr><th scope=row>2</th><td>Benjen Stark       </td><td>35</td><td>1</td><td>1</td><td>10</td></tr>\n",
       "\t<tr><th scope=row>3</th><td>Syrio Forel        </td><td>41</td><td>1</td><td>1</td><td>1 </td></tr>\n",
       "\t<tr><th scope=row>5</th><td>Jeyne Pool         </td><td>12</td><td>1</td><td>0</td><td>1 </td></tr>\n",
       "\t<tr><th scope=row>6</th><td>Imry Florent       </td><td>35</td><td>1</td><td>1</td><td>2 </td></tr>\n",
       "\t<tr><th scope=row>7</th><td>Sorcerer in the Box</td><td>60</td><td>1</td><td>1</td><td>0 </td></tr>\n",
       "</tbody>\n",
       "</table>\n"
      ],
      "text/latex": [
       "A data.frame: 6 × 5\n",
       "\\begin{tabular}{r|lllll}\n",
       "  & Character & Age & Dead & Gender & Affiliation\\\\\n",
       "  & <fct> & <int> & <fct> & <fct> & <fct>\\\\\n",
       "\\hline\n",
       "\t1 & Sandor Clegan       & 29 & 1 & 1 & 4 \\\\\n",
       "\t2 & Benjen Stark        & 35 & 1 & 1 & 10\\\\\n",
       "\t3 & Syrio Forel         & 41 & 1 & 1 & 1 \\\\\n",
       "\t5 & Jeyne Pool          & 12 & 1 & 0 & 1 \\\\\n",
       "\t6 & Imry Florent        & 35 & 1 & 1 & 2 \\\\\n",
       "\t7 & Sorcerer in the Box & 60 & 1 & 1 & 0 \\\\\n",
       "\\end{tabular}\n"
      ],
      "text/markdown": [
       "\n",
       "A data.frame: 6 × 5\n",
       "\n",
       "| <!--/--> | Character &lt;fct&gt; | Age &lt;int&gt; | Dead &lt;fct&gt; | Gender &lt;fct&gt; | Affiliation &lt;fct&gt; |\n",
       "|---|---|---|---|---|---|\n",
       "| 1 | Sandor Clegan       | 29 | 1 | 1 | 4  |\n",
       "| 2 | Benjen Stark        | 35 | 1 | 1 | 10 |\n",
       "| 3 | Syrio Forel         | 41 | 1 | 1 | 1  |\n",
       "| 5 | Jeyne Pool          | 12 | 1 | 0 | 1  |\n",
       "| 6 | Imry Florent        | 35 | 1 | 1 | 2  |\n",
       "| 7 | Sorcerer in the Box | 60 | 1 | 1 | 0  |\n",
       "\n"
      ],
      "text/plain": [
       "  Character           Age Dead Gender Affiliation\n",
       "1 Sandor Clegan       29  1    1      4          \n",
       "2 Benjen Stark        35  1    1      10         \n",
       "3 Syrio Forel         41  1    1      1          \n",
       "5 Jeyne Pool          12  1    0      1          \n",
       "6 Imry Florent        35  1    1      2          \n",
       "7 Sorcerer in the Box 60  1    1      0          "
      ]
     },
     "metadata": {},
     "output_type": "display_data"
    }
   ],
   "source": [
    "# Activity 2 code goes here \n",
    "# -------------------------\n",
    "dead_chars <- subset(df, Dead == 1)\n",
    "head(dead_chars)\n"
   ]
  },
  {
   "cell_type": "markdown",
   "metadata": {},
   "source": [
    "**Activity 3**: Now, find the mean age and standard deviation of those characters who have died."
   ]
  },
  {
   "cell_type": "code",
   "execution_count": 15,
   "metadata": {},
   "outputs": [
    {
     "name": "stdout",
     "output_type": "stream",
     "text": [
      "[1] 37.96373\n",
      "[1] 19.79041\n"
     ]
    }
   ],
   "source": [
    "# Activity 3 code goes here \n",
    "# -------------------------\n",
    "print(mean(dead_chars$Age))\n",
    "print(sd(dead_chars$Age))\n"
   ]
  },
  {
   "cell_type": "markdown",
   "metadata": {},
   "source": [
    "This is nice, but we are only trying to explore our data a bit. It isn't necessary to create a whole new data frame for every little slice of data that we want to investigate.\n",
    "\n",
    "**Activity 4**: *Could you use `dplyr` to find the mean age and standard deviation for those individuals in the data frame who are still alive?*"
   ]
  },
  {
   "cell_type": "code",
   "execution_count": 16,
   "metadata": {},
   "outputs": [
    {
     "data": {
      "text/html": [
       "<table>\n",
       "<caption>A data.frame: 1 × 2</caption>\n",
       "<thead>\n",
       "\t<tr><th scope=col>meanage</th><th scope=col>sdage</th></tr>\n",
       "\t<tr><th scope=col>&lt;dbl&gt;</th><th scope=col>&lt;dbl&gt;</th></tr>\n",
       "</thead>\n",
       "<tbody>\n",
       "\t<tr><td>33.00568</td><td>17.82983</td></tr>\n",
       "</tbody>\n",
       "</table>\n"
      ],
      "text/latex": [
       "A data.frame: 1 × 2\n",
       "\\begin{tabular}{r|ll}\n",
       " meanage & sdage\\\\\n",
       " <dbl> & <dbl>\\\\\n",
       "\\hline\n",
       "\t 33.00568 & 17.82983\\\\\n",
       "\\end{tabular}\n"
      ],
      "text/markdown": [
       "\n",
       "A data.frame: 1 × 2\n",
       "\n",
       "| meanage &lt;dbl&gt; | sdage &lt;dbl&gt; |\n",
       "|---|---|\n",
       "| 33.00568 | 17.82983 |\n",
       "\n"
      ],
      "text/plain": [
       "  meanage  sdage   \n",
       "1 33.00568 17.82983"
      ]
     },
     "metadata": {},
     "output_type": "display_data"
    }
   ],
   "source": [
    "# Activity 4 code goes here \n",
    "# -------------------------\n",
    "df %>% filter(Dead == 0) %>% summarize(meanage = mean(Age), sdage = sd(Age))\n",
    "\n"
   ]
  },
  {
   "cell_type": "markdown",
   "metadata": {},
   "source": [
    "One thing that wasn't mentioned in the lab notebook was that comparing the mean and the median to one another gives you an idea about the symmetry of the dataset. **this was mentioned in module 1 practice but lets review**  When the mean is greater than the median, it means that the data is skewed to the right, and when the median is greater than the mean, the data is skewed to the left. When the mean and median are the same, it means that the data are symmetrical. In other words, in a right skewed distribution, most of the data points are below the mean, but there are some high value points pulling the mean higher; the opposite is true for a left skew.\n",
    "\n",
    "<img src=\"../images/distr_sym.gif\">\n",
    "\n",
    "Let's return to the subset of those who are dead. \n",
    "\n",
    "**Activity 5**: *Does the age distribution for these deceased individuals have a right skew, left skew, or is it symmetrical?*\n",
    "\n"
   ]
  },
  {
   "cell_type": "code",
   "execution_count": 17,
   "metadata": {},
   "outputs": [
    {
     "data": {
      "text/html": [
       "36"
      ],
      "text/latex": [
       "36"
      ],
      "text/markdown": [
       "36"
      ],
      "text/plain": [
       "[1] 36"
      ]
     },
     "metadata": {},
     "output_type": "display_data"
    }
   ],
   "source": [
    "# Activity 5 code to determine answer goes here \n",
    "# ---------------------------------------------\n",
    "median(dead_chars$Age)\n",
    "\n"
   ]
  },
  {
   "cell_type": "raw",
   "metadata": {},
   "source": [
    "Answer the question above here.\n",
    "5.  The data is slightly skewed to the right (37.96 vs 36)"
   ]
  },
  {
   "cell_type": "markdown",
   "metadata": {},
   "source": [
    "### Univariate Visualizations\n",
    "\n",
    "This is an appropriate time to visualize the distribution. Remember, we introduced two different types of plots that are useful for univariate visualization, the histogram and the boxplot. But what if we wanted to plot a visualziation depicting the number of males and females in the data set?\n",
    "\n",
    "Below is an example of how to do that. Notice that we also call the `table()` fuction. What this does is count the number of rows per each unique value in a column and converts it to a table format."
   ]
  },
  {
   "cell_type": "code",
   "execution_count": 18,
   "metadata": {},
   "outputs": [
    {
     "data": {
      "text/plain": [
       "\n",
       "  0   1 \n",
       " 92 277 "
      ]
     },
     "metadata": {},
     "output_type": "display_data"
    },
    {
     "data": {
      "image/png": "[encoded data removed]",
      "text/plain": [
       "plot without title"
      ]
     },
     "metadata": {},
     "output_type": "display_data"
    }
   ],
   "source": [
    "table(df$Gender) # show what the table function does\n",
    "barplot(table(df$Gender)) # create a bar plot"
   ]
  },
  {
   "cell_type": "markdown",
   "metadata": {},
   "source": [
    "We haven't discussed the `Affiliation` variable much, but essentially the characters can be grouped in the books/show based off of their loyalty to a family. \n",
    "\n",
    "**Activity 6**: *In the `dead` subset, create a bar plot to visualize all of the losses per affiliation.*"
   ]
  },
  {
   "cell_type": "code",
   "execution_count": 20,
   "metadata": {},
   "outputs": [
    {
     "data": {
      "image/png": "[encoded data removed]",
      "text/plain": [
       "plot without title"
      ]
     },
     "metadata": {},
     "output_type": "display_data"
    }
   ],
   "source": [
    "# Activity 6 code goes here \n",
    "# -------------------------\n",
    "de <- table(dead_chars$Affiliation)\n",
    "barplot(de)\n"
   ]
  },
  {
   "cell_type": "markdown",
   "metadata": {},
   "source": [
    "**Challenge Activity 1**: *Using the mean as our average age, find the mean age of the deceased per affiliation. (You may want to use `dplyr`, but attempt it whatever way you see fit.)*"
   ]
  },
  {
   "cell_type": "code",
   "execution_count": 25,
   "metadata": {},
   "outputs": [
    {
     "data": {
      "text/html": [
       "<table>\n",
       "<caption>A tibble: 6 × 2</caption>\n",
       "<thead>\n",
       "\t<tr><th scope=col>Affiliation</th><th scope=col>Mean_Age</th></tr>\n",
       "\t<tr><th scope=col>&lt;fct&gt;</th><th scope=col>&lt;dbl&gt;</th></tr>\n",
       "</thead>\n",
       "<tbody>\n",
       "\t<tr><td>0</td><td>32.18182</td></tr>\n",
       "\t<tr><td>1</td><td>34.87234</td></tr>\n",
       "\t<tr><td>2</td><td>33.02381</td></tr>\n",
       "\t<tr><td>3</td><td>36.50847</td></tr>\n",
       "\t<tr><td>4</td><td>39.26316</td></tr>\n",
       "\t<tr><td>5</td><td>26.50000</td></tr>\n",
       "</tbody>\n",
       "</table>\n"
      ],
      "text/latex": [
       "A tibble: 6 × 2\n",
       "\\begin{tabular}{r|ll}\n",
       " Affiliation & Mean\\_Age\\\\\n",
       " <fct> & <dbl>\\\\\n",
       "\\hline\n",
       "\t 0 & 32.18182\\\\\n",
       "\t 1 & 34.87234\\\\\n",
       "\t 2 & 33.02381\\\\\n",
       "\t 3 & 36.50847\\\\\n",
       "\t 4 & 39.26316\\\\\n",
       "\t 5 & 26.50000\\\\\n",
       "\\end{tabular}\n"
      ],
      "text/markdown": [
       "\n",
       "A tibble: 6 × 2\n",
       "\n",
       "| Affiliation &lt;fct&gt; | Mean_Age &lt;dbl&gt; |\n",
       "|---|---|\n",
       "| 0 | 32.18182 |\n",
       "| 1 | 34.87234 |\n",
       "| 2 | 33.02381 |\n",
       "| 3 | 36.50847 |\n",
       "| 4 | 39.26316 |\n",
       "| 5 | 26.50000 |\n",
       "\n"
      ],
      "text/plain": [
       "  Affiliation Mean_Age\n",
       "1 0           32.18182\n",
       "2 1           34.87234\n",
       "3 2           33.02381\n",
       "4 3           36.50847\n",
       "5 4           39.26316\n",
       "6 5           26.50000"
      ]
     },
     "metadata": {},
     "output_type": "display_data"
    }
   ],
   "source": [
    "# Challenge Activity 1 code goes here \n",
    "# -----------------------------------\n",
    "\n",
    "special <- df %>% group_by(Affiliation) %>% summarize(Mean_Age = mean(Age))\n",
    "head(special)\n"
   ]
  },
  {
   "cell_type": "markdown",
   "metadata": {},
   "source": [
    "## Bivariate Analysis\n",
    "\n",
    "In the lab activity, we read in the *Stature Hand and Foot* dataset and found the covariance and correlation between the hand length and foot length. We are going to be using the same dataset this time around, but for different factor levels..."
   ]
  },
  {
   "cell_type": "code",
   "execution_count": 26,
   "metadata": {},
   "outputs": [
    {
     "data": {
      "text/html": [
       "<table>\n",
       "<caption>A data.frame: 6 × 4</caption>\n",
       "<thead>\n",
       "\t<tr><th scope=col>gender</th><th scope=col>height</th><th scope=col>hand.length</th><th scope=col>foot.length</th></tr>\n",
       "\t<tr><th scope=col>&lt;fct&gt;</th><th scope=col>&lt;dbl&gt;</th><th scope=col>&lt;dbl&gt;</th><th scope=col>&lt;dbl&gt;</th></tr>\n",
       "</thead>\n",
       "<tbody>\n",
       "\t<tr><td>1</td><td>1760.2</td><td>208.6</td><td>269.6</td></tr>\n",
       "\t<tr><td>1</td><td>1730.1</td><td>207.6</td><td>251.3</td></tr>\n",
       "\t<tr><td>1</td><td>1659.6</td><td>173.2</td><td>193.6</td></tr>\n",
       "\t<tr><td>1</td><td>1751.3</td><td>258.0</td><td>223.8</td></tr>\n",
       "\t<tr><td>1</td><td>1780.6</td><td>212.3</td><td>282.1</td></tr>\n",
       "\t<tr><td>1</td><td>1818.3</td><td>213.4</td><td>268.0</td></tr>\n",
       "</tbody>\n",
       "</table>\n"
      ],
      "text/latex": [
       "A data.frame: 6 × 4\n",
       "\\begin{tabular}{r|llll}\n",
       " gender & height & hand.length & foot.length\\\\\n",
       " <fct> & <dbl> & <dbl> & <dbl>\\\\\n",
       "\\hline\n",
       "\t 1 & 1760.2 & 208.6 & 269.6\\\\\n",
       "\t 1 & 1730.1 & 207.6 & 251.3\\\\\n",
       "\t 1 & 1659.6 & 173.2 & 193.6\\\\\n",
       "\t 1 & 1751.3 & 258.0 & 223.8\\\\\n",
       "\t 1 & 1780.6 & 212.3 & 282.1\\\\\n",
       "\t 1 & 1818.3 & 213.4 & 268.0\\\\\n",
       "\\end{tabular}\n"
      ],
      "text/markdown": [
       "\n",
       "A data.frame: 6 × 4\n",
       "\n",
       "| gender &lt;fct&gt; | height &lt;dbl&gt; | hand.length &lt;dbl&gt; | foot.length &lt;dbl&gt; |\n",
       "|---|---|---|---|\n",
       "| 1 | 1760.2 | 208.6 | 269.6 |\n",
       "| 1 | 1730.1 | 207.6 | 251.3 |\n",
       "| 1 | 1659.6 | 173.2 | 193.6 |\n",
       "| 1 | 1751.3 | 258.0 | 223.8 |\n",
       "| 1 | 1780.6 | 212.3 | 282.1 |\n",
       "| 1 | 1818.3 | 213.4 | 268.0 |\n",
       "\n"
      ],
      "text/plain": [
       "  gender height hand.length foot.length\n",
       "1 1      1760.2 208.6       269.6      \n",
       "2 1      1730.1 207.6       251.3      \n",
       "3 1      1659.6 173.2       193.6      \n",
       "4 1      1751.3 258.0       223.8      \n",
       "5 1      1780.6 212.3       282.1      \n",
       "6 1      1818.3 213.4       268.0      "
      ]
     },
     "metadata": {},
     "output_type": "display_data"
    }
   ],
   "source": [
    "file2 <- read.csv(\"/dsa/data/all_datasets/stature-hand-foot/stature-hand-foot.csv\")\n",
    "\n",
    "df2 <- file2 %>%\n",
    "    mutate(gender = as.factor(gender))\n",
    "\n",
    "head(df2)"
   ]
  },
  {
   "cell_type": "markdown",
   "metadata": {},
   "source": [
    "What we didn't mention in the lab is that you can actually create a covariance and correlation matrices so that you can quickly see how one variable influences the other. Below is an example of a covariance matrix. "
   ]
  },
  {
   "cell_type": "code",
   "execution_count": 27,
   "metadata": {},
   "outputs": [
    {
     "data": {
      "text/html": [
       "<table>\n",
       "<caption>A matrix: 3 × 3 of type dbl</caption>\n",
       "<thead>\n",
       "\t<tr><th></th><th scope=col>height</th><th scope=col>hand.length</th><th scope=col>foot.length</th></tr>\n",
       "</thead>\n",
       "<tbody>\n",
       "\t<tr><th scope=row>height</th><td>8819.668</td><td>1094.2472</td><td>1535.1564</td></tr>\n",
       "\t<tr><th scope=row>hand.length</th><td>1094.247</td><td> 178.0149</td><td> 195.0701</td></tr>\n",
       "\t<tr><th scope=row>foot.length</th><td>1535.156</td><td> 195.0701</td><td> 344.0532</td></tr>\n",
       "</tbody>\n",
       "</table>\n"
      ],
      "text/latex": [
       "A matrix: 3 × 3 of type dbl\n",
       "\\begin{tabular}{r|lll}\n",
       "  & height & hand.length & foot.length\\\\\n",
       "\\hline\n",
       "\theight & 8819.668 & 1094.2472 & 1535.1564\\\\\n",
       "\thand.length & 1094.247 &  178.0149 &  195.0701\\\\\n",
       "\tfoot.length & 1535.156 &  195.0701 &  344.0532\\\\\n",
       "\\end{tabular}\n"
      ],
      "text/markdown": [
       "\n",
       "A matrix: 3 × 3 of type dbl\n",
       "\n",
       "| <!--/--> | height | hand.length | foot.length |\n",
       "|---|---|---|---|\n",
       "| height | 8819.668 | 1094.2472 | 1535.1564 |\n",
       "| hand.length | 1094.247 |  178.0149 |  195.0701 |\n",
       "| foot.length | 1535.156 |  195.0701 |  344.0532 |\n",
       "\n"
      ],
      "text/plain": [
       "            height   hand.length foot.length\n",
       "height      8819.668 1094.2472   1535.1564  \n",
       "hand.length 1094.247  178.0149    195.0701  \n",
       "foot.length 1535.156  195.0701    344.0532  "
      ]
     },
     "metadata": {},
     "output_type": "display_data"
    }
   ],
   "source": [
    "cov(df2[2:4])"
   ]
  },
  {
   "cell_type": "markdown",
   "metadata": {},
   "source": [
    "Notice how we have to specify the columns. What would happen if we just put the data frame as the argument? You will notice that each variable is a row and a column. `height`'s covariance with `height` is the 1st row, 1st column. `height`'s covariance with `hand.length` is the 1st row, 2nd column, and `height`'s covariance with `foot.length` is the 1st row, 3rd column. This relationship can be applied to the other variables by going down the rows.\n",
    "\n",
    "**Activity 7**: *Attempt to create a correlation matrix of df2. Why are the values 1 across the diagonal?*"
   ]
  },
  {
   "cell_type": "code",
   "execution_count": 30,
   "metadata": {},
   "outputs": [
    {
     "data": {
      "text/html": [
       "<table>\n",
       "<caption>A matrix: 3 × 3 of type dbl</caption>\n",
       "<thead>\n",
       "\t<tr><th></th><th scope=col>height</th><th scope=col>hand.length</th><th scope=col>foot.length</th></tr>\n",
       "</thead>\n",
       "<tbody>\n",
       "\t<tr><th scope=row>height</th><td>1.0000000</td><td>0.8732954</td><td>0.8812795</td></tr>\n",
       "\t<tr><th scope=row>hand.length</th><td>0.8732954</td><td>1.0000000</td><td>0.7882243</td></tr>\n",
       "\t<tr><th scope=row>foot.length</th><td>0.8812795</td><td>0.7882243</td><td>1.0000000</td></tr>\n",
       "</tbody>\n",
       "</table>\n"
      ],
      "text/latex": [
       "A matrix: 3 × 3 of type dbl\n",
       "\\begin{tabular}{r|lll}\n",
       "  & height & hand.length & foot.length\\\\\n",
       "\\hline\n",
       "\theight & 1.0000000 & 0.8732954 & 0.8812795\\\\\n",
       "\thand.length & 0.8732954 & 1.0000000 & 0.7882243\\\\\n",
       "\tfoot.length & 0.8812795 & 0.7882243 & 1.0000000\\\\\n",
       "\\end{tabular}\n"
      ],
      "text/markdown": [
       "\n",
       "A matrix: 3 × 3 of type dbl\n",
       "\n",
       "| <!--/--> | height | hand.length | foot.length |\n",
       "|---|---|---|---|\n",
       "| height | 1.0000000 | 0.8732954 | 0.8812795 |\n",
       "| hand.length | 0.8732954 | 1.0000000 | 0.7882243 |\n",
       "| foot.length | 0.8812795 | 0.7882243 | 1.0000000 |\n",
       "\n"
      ],
      "text/plain": [
       "            height    hand.length foot.length\n",
       "height      1.0000000 0.8732954   0.8812795  \n",
       "hand.length 0.8732954 1.0000000   0.7882243  \n",
       "foot.length 0.8812795 0.7882243   1.0000000  "
      ]
     },
     "metadata": {},
     "output_type": "display_data"
    },
    {
     "name": "stdout",
     "output_type": "stream",
     "text": [
      "[1] \"the matrix is symmetrical, 1 is when you're trying to find correlation betweet height and height for example\"\n"
     ]
    }
   ],
   "source": [
    "# Activity 7 code goes here \n",
    "# -------------------------\n",
    "cor(df2[2:4])\n",
    "print(\"the matrix is symmetrical, 1 is when you're trying to find correlation betweet height and height for example\")"
   ]
  },
  {
   "cell_type": "markdown",
   "metadata": {},
   "source": [
    "**Activity 8**: *Now find the covariance and correlation between male hand length and foot length.*"
   ]
  },
  {
   "cell_type": "code",
   "execution_count": 31,
   "metadata": {},
   "outputs": [
    {
     "data": {
      "text/html": [
       "0.473000166084883"
      ],
      "text/latex": [
       "0.473000166084883"
      ],
      "text/markdown": [
       "0.473000166084883"
      ],
      "text/plain": [
       "[1] 0.4730002"
      ]
     },
     "metadata": {},
     "output_type": "display_data"
    },
    {
     "data": {
      "text/html": [
       "54.1061471518988"
      ],
      "text/latex": [
       "54.1061471518988"
      ],
      "text/markdown": [
       "54.1061471518988"
      ],
      "text/plain": [
       "[1] 54.10615"
      ]
     },
     "metadata": {},
     "output_type": "display_data"
    }
   ],
   "source": [
    "# Activity 8 code goes here \n",
    "# -------------------------\n",
    "\n",
    "males <- subset(df2, gender == 1)\n",
    "\n",
    "cor(males$hand.length, males$foot.length)\n",
    "cov(males$hand.length, males$foot.length)"
   ]
  },
  {
   "cell_type": "markdown",
   "metadata": {},
   "source": [
    "**Activity 9**: *Now find the covariance and correlation between female hand length and foot length.*"
   ]
  },
  {
   "cell_type": "code",
   "execution_count": 33,
   "metadata": {},
   "outputs": [
    {
     "data": {
      "text/html": [
       "0.609538043534986"
      ],
      "text/latex": [
       "0.609538043534986"
      ],
      "text/markdown": [
       "0.609538043534986"
      ],
      "text/plain": [
       "[1] 0.609538"
      ]
     },
     "metadata": {},
     "output_type": "display_data"
    },
    {
     "data": {
      "text/html": [
       "68.9316756756757"
      ],
      "text/latex": [
       "68.9316756756757"
      ],
      "text/markdown": [
       "68.9316756756757"
      ],
      "text/plain": [
       "[1] 68.93168"
      ]
     },
     "metadata": {},
     "output_type": "display_data"
    }
   ],
   "source": [
    "# Activity 9 code goes here \n",
    "# -------------------------\n",
    "fem <- subset(df2, gender == 2 )\n",
    "cor(fem$hand.length, fem$foot.length)\n",
    "cov(fem$hand.length, fem$foot.length)"
   ]
  },
  {
   "cell_type": "markdown",
   "metadata": {},
   "source": [
    "**Activity 10**: *Finally, create a scatter plot of these relationships. One for males and the other for females.*"
   ]
  },
  {
   "cell_type": "code",
   "execution_count": 35,
   "metadata": {},
   "outputs": [
    {
     "data": {
      "image/png": "[encoded data removed]",
      "text/plain": [
       "plot without title"
      ]
     },
     "metadata": {},
     "output_type": "display_data"
    },
    {
     "data": {
      "image/png": "[encoded data removed]",
      "text/plain": [
       "plot without title"
      ]
     },
     "metadata": {},
     "output_type": "display_data"
    }
   ],
   "source": [
    "# Activity 10 code goes here \n",
    "# --------------------------\n",
    "plot(males$hand.length, males$foot.length)\n",
    "plot(fem$hand.length, fem$foot.length)\n"
   ]
  },
  {
   "cell_type": "markdown",
   "metadata": {},
   "source": [
    "# Save your notebook, then `File > Close and Halt`"
   ]
  }
 ],
 "metadata": {
  "kernelspec": {
   "display_name": "R",
   "language": "R",
   "name": "ir"
  },
  "language_info": {
   "codemirror_mode": "r",
   "file_extension": ".r",
   "mimetype": "text/x-r-source",
   "name": "R",
   "pygments_lexer": "r",
   "version": "3.5.1"
  }
 },
 "nbformat": 4,
 "nbformat_minor": 2
}
