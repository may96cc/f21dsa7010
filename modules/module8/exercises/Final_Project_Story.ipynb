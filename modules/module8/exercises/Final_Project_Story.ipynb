{
 "cells": [
  {
   "cell_type": "markdown",
   "metadata": {},
   "source": [
    "# Final Project\n",
    "\n",
    "You have made it to the end of the course, and you have worked hard to develop your DSA perspectives and skills.  So far we have been internally focused on the operations of performing data science and analytics.  Now we will extend our work to the development of a data story that is externally focused.\n",
    "\n",
    "In the Module8 labs, you saw simplified examples of constructing data stories. In module4 (Database) there also was an abbreviated example data story.  Throughout the course, there are components and parts useful to consider as a basis for developing a short, unique, focused data story.\n",
    "\n",
    "\n",
    "For this final project, you will \n",
    "\n",
    "- Step 0: Choose your Language for this Adventure\n",
    "\n",
    "- Step 1: Find a Story\n",
    "\n",
    "- Step 2: Remember your Audience\n",
    "\n",
    "- Step 3: Find and Stage Your Data\n",
    "\n",
    "- Step 4: Vet Data Sources\n",
    "\n",
    "- Step 5: Filter Results and Build/Validate Models\n",
    "\n",
    "- Step 6: Visualize Results\n",
    "\n",
    "- Step 7: Communicate the Story to your intended audience using visualizations and narratives\n",
    "\n",
    "- Final Step: Connect your workflow/process to the DSA-Project Life Cycle\n",
    "\n",
    "---\n",
    "Here are some recommendations for managing the scope and quality of this project:\n",
    "\n",
    "- Narrow down the issue, problem, question, or hypothesis for you data story to a single, relatively simple perspective.\n",
    "\n",
    "- Identify already available data that affords addressing your problem.  If using completely new data, know it well.\n",
    "\n",
    "- Address the data relative to the statistical/machine learning model(s) chosen to minimize any issues.\n",
    "\n",
    "- Internally document your code using comments that explain the purpose of the operation(s).\n",
    "\n",
    "\n",
    "Make your project unique by\n",
    "\n",
    "- Comparing two or more different statistical/machine learning models using the same data.\n",
    "- Refrain from identically replicating any existing projects obtained from external sources.\n",
    "- Running a single model multiple times and changing a different single parameter each time for comparison.\n",
    "- Changing the sampling proportions for building the hold-out data and comparing the same model performance repeatedly.\n",
    "- Select something you find interesting or unique in the data and write a story around it.\n",
    "\n",
    "\n"
   ]
  },
  {
   "cell_type": "markdown",
   "metadata": {},
   "source": [
    "## Step 0: Choose your Language for this Adventure:\n",
    "\n",
    "You can do this project in either *R* or *Python*.\n",
    "\n",
    "To change the kernel of this notebook, do the following with the `Kernel` menu.\n",
    "\n",
    " * `Kernel > Change Kernel > Python 3`\n",
    " * `Kernel > Change Kernel > R`\n",
    "\n",
    "![FP_Change_Kernel.png MISSING](../images/FP_Change_Kernel.png)\n"
   ]
  },
  {
   "cell_type": "markdown",
   "metadata": {},
   "source": [
    "---\n",
    "## Step 1: Find a Story\n",
    "\n",
    "Think back to any of the data files we have used in this class. \n",
    "Alternatively, you can search online for potential data and story ideas.\n",
    "\n",
    "In the cell below, please detail the source of your data (with link).\n",
    "Additionally, preview your story you hope to uncover."
   ]
  },
  {
   "cell_type": "raw",
   "metadata": {
    "collapsed": true
   },
   "source": [
    "\n",
    "\n",
    "\n",
    "\n",
    "\n"
   ]
  },
  {
   "cell_type": "markdown",
   "metadata": {},
   "source": [
    "## Step 2: Remember your Audience\n",
    "\n",
    "In the cell below, describe your audience!\n",
    " * Who will the audience be?\n",
    " * What value will they derive from your story?"
   ]
  },
  {
   "cell_type": "raw",
   "metadata": {
    "collapsed": true
   },
   "source": [
    "\n",
    "\n",
    "\n",
    "\n",
    "\n"
   ]
  },
  {
   "cell_type": "markdown",
   "metadata": {},
   "source": [
    "## Step 3: Find and Stage Your Data\n",
    "\n",
    "If you data is from another source, such as Kaggle, you must download it to your local computer, then upload the data to JuptyerHub.\n",
    "\n",
    "#### If you are uploading files:\n",
    " * Use folder navigation of your first JupyterTab to get to course's `/modules/module8/exercises/` folder.\n",
    "![FP_Folder_Navigation.png MISSING](../images/FP_Folder_Navigation.png)\n",
    " * Click the Upload Button and Choose File(s)\n",
    "![FP_Upload_Button.png MISSING](../images/FP_Upload_Button.png)\n",
    " * Activate the upload\n",
    "![FP_UploadFile_2.png MISSING](../images/FP_UploadFile_2.png)\n",
    " \n",
    "\n",
    "### In the cell below, please list the name(s) of the file(s) that is now accessible on the JupyterHub environment.\n",
    "\n",
    "**Note**: \n",
    "If you uploaded a file to your `module8/exercises` folder, the file name is all you need to load it into the a data frame in the usual manner.\n",
    "If you are using a file from another module of the course, you should be able to copy the full pathname and use it as is in this notebook."
   ]
  },
  {
   "cell_type": "raw",
   "metadata": {
    "collapsed": true
   },
   "source": [
    "\n",
    "\n"
   ]
  },
  {
   "cell_type": "markdown",
   "metadata": {},
   "source": [
    "## Step 4: Vet Data Sources\n",
    "\n",
    "Use the cells below to load the data, inspect it, conduct data carpentry and shaping; perform exploratory data analysis.  \n",
    "\n",
    "Add more cells (`Insert > Insert Cell Below`) if you want additional cells."
   ]
  },
  {
   "cell_type": "code",
   "execution_count": null,
   "metadata": {
    "collapsed": true
   },
   "outputs": [],
   "source": [
    "\n",
    "\n",
    "\n",
    "\n",
    "\n"
   ]
  },
  {
   "cell_type": "code",
   "execution_count": null,
   "metadata": {
    "collapsed": true
   },
   "outputs": [],
   "source": []
  },
  {
   "cell_type": "code",
   "execution_count": null,
   "metadata": {
    "collapsed": true
   },
   "outputs": [],
   "source": []
  },
  {
   "cell_type": "code",
   "execution_count": null,
   "metadata": {
    "collapsed": true
   },
   "outputs": [],
   "source": []
  },
  {
   "cell_type": "code",
   "execution_count": null,
   "metadata": {
    "collapsed": true
   },
   "outputs": [],
   "source": []
  },
  {
   "cell_type": "markdown",
   "metadata": {},
   "source": [
    "## Step 5: Filter Results and Build/Validate Models\n",
    "\n",
    "\n",
    "Perform any additional data carpentry and begin filtering results/data and then build, validate, and describe your model(s). \n",
    "\n",
    "Add more cells (`Insert > Insert Cell Below`) if you want additional cells."
   ]
  },
  {
   "cell_type": "code",
   "execution_count": null,
   "metadata": {
    "collapsed": true
   },
   "outputs": [],
   "source": [
    "\n",
    "\n",
    "\n",
    "\n"
   ]
  },
  {
   "cell_type": "code",
   "execution_count": null,
   "metadata": {
    "collapsed": true
   },
   "outputs": [],
   "source": []
  },
  {
   "cell_type": "markdown",
   "metadata": {},
   "source": [
    "## Step 6: Visualize Results\n",
    "\n",
    "Build up your key visual story elements!\n",
    "\n",
    "Add more cells (`Insert > Insert Cell Below`) if you want additional cells."
   ]
  },
  {
   "cell_type": "code",
   "execution_count": null,
   "metadata": {
    "collapsed": true
   },
   "outputs": [],
   "source": [
    "\n",
    "\n",
    "\n"
   ]
  },
  {
   "cell_type": "code",
   "execution_count": null,
   "metadata": {
    "collapsed": true
   },
   "outputs": [],
   "source": []
  },
  {
   "cell_type": "markdown",
   "metadata": {},
   "source": [
    "## Step 7: Communicate the Story to your intended audience using visualizations and narrative\n",
    "\n",
    "\n",
    "In a few paragraphs, describe the story the data tells. \n",
    "\n",
    "Additionally, post your most compelling visual and provide a brief description of what it conveys on to our mutual aid channel (the slack course channel). \n",
    "\n",
    "Feel free to post more examples for people to look at and provide feedback. Your classmates will be vital providers of feedback in this process. Utilize them."
   ]
  },
  {
   "cell_type": "raw",
   "metadata": {
    "collapsed": true
   },
   "source": [
    "\n",
    "\n",
    "\n",
    "\n",
    "\n",
    "\n",
    "\n",
    "\n",
    "\n",
    "\n",
    "\n"
   ]
  },
  {
   "cell_type": "markdown",
   "metadata": {},
   "source": [
    "# Final Step: Connect your workflow/process to the DSA-Project Life Cycle\n",
    "- List and briefly discuss how important details from each stage of the [DSA-PLC](../../module1/resources/DSA-ProjectLifecycle-slidedeck.pdf) played a role in your story development.\n",
    "- Use markdown to provide this overview below:\n",
    "<hr/>\n",
    "\n",
    "<h1 align=\"center\"><u>DSA-Project Life Cycle Discussion</u></h1>\n",
    "\n"
   ]
  },
  {
   "cell_type": "markdown",
   "metadata": {},
   "source": [
    "# Save your notebook, then `File > Close and Halt`"
   ]
  }
 ],
 "metadata": {
  "kernelspec": {
   "display_name": "R",
   "language": "R",
   "name": "ir"
  },
  "language_info": {
   "codemirror_mode": "r",
   "file_extension": ".r",
   "mimetype": "text/x-r-source",
   "name": "R",
   "pygments_lexer": "r",
   "version": "3.5.1"
  }
 },
 "nbformat": 4,
 "nbformat_minor": 2
}
