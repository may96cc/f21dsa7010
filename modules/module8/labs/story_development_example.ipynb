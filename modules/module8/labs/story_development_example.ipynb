{
 "cells": [
  {
   "cell_type": "markdown",
   "metadata": {},
   "source": [
    "# How to Begin Telling a Story with Data\n",
    "## An Example\n",
    "\n",
    "This is your final module in the Introduction to Data Science course and by now we have covered enough material for you to begin creating your own analyses and to start telling your own stories. In this module, we are going to outline the steps involved in telling an effective story with data. \n",
    "\n",
    "This notebook will serve as an example of story creation by following the steps outlined in the [The 101 Guide to Telling a Compelling Story with Data](https://www.maptive.com/101-guide-telling-compelling-story-data/). This example is, by no means, perfect and there is plenty of room for improvement, which is a vital component to telling stories with data, being open to criticism. This week we will be asking you to do your own steps toward creating your own data driven story and, much like this story, we are not looking for perfection, just an understanding of the techniques that we have learned up until this point.\n",
    "\n",
    "For the coding aspects of this notebook, much of the logic and reasoning behind the code will be imbedded in the comments within the code blocks. All of the stuff that is done we have learned through this course, and the text within Markdown cells will be emphasizing the steps involved in story creation.  However, if you have any  questions on the code in the notebook, please don’t hesitate to ask.\n"
   ]
  },
  {
   "cell_type": "markdown",
   "metadata": {},
   "source": [
    "## Step 1: Find a Story\n",
    "\n",
    "Imagine the following scenario...\n",
    "\n",
    "You work for a Film Production company that's been in a rut lately, making mediocre films. You've been tasked with finding the talent for the next great film. Not good... but GREAT! How do you go about doing that?\n",
    "\n",
    "How about the people? Who makes a great film? You decide to go this direction. **What director and what actor combination do you need to get to in order to ensure that your film is great?** This becomes the central question to your story, but of course, there are several sub-questions that you must answer before getting to your answer.\n",
    "\n",
    "1. How do we quantify a GREAT film?\n",
    "2. What are the greatest films?\n",
    "3. Can we order directors based on their contribution to a film's greatness?\n",
    "4. Can we order actors/actresses according to their contribution to a film's greatness?\n",
    "\n",
    "Well, question 1 is easy to answer. \"Greatness\" is easy to quantify, MONEY! The production company only cares about profits."
   ]
  },
  {
   "cell_type": "markdown",
   "metadata": {},
   "source": [
    "## Step 2: Remember your Audience\n",
    "\n",
    "Catering to your audience is an important aspect of crafting any type of story: data driven stories are no different. But catering to your audience doesn’t mean misleading them. Instead, it is more about the type of information that you present to them, what visuals you provide them, and to what extent you need to describe the details of your analysis. The same story can be told several different ways for several different audiences.\n"
   ]
  },
  {
   "cell_type": "markdown",
   "metadata": {},
   "source": [
    "## Step 3: Find Data \n",
    "\n",
    "Take a look at the questions in step one. Finding the data that satisfy these questions is the next task. This may involve combining two or more datasets in order to make a better analysis.\n",
    "\n",
    "The first dataset we would need is one that provides some general features on movies, things such as *movie title*, *director*, *year of release*, *profits*, and *actors/actresses*. Fortunately, there was a compiled dataset from imdb.com hosted on [Kaggle](https://www.kaggle.com/carolzhangdc/imdb-5000-movie-dataset). \n",
    "\n",
    "Another thing that we will have to keep in mind is the rate of inflation over the years. The imdb dataset above doesn't adjust for inflation, so we need to find some data on the mean Consumer Price Index through the years, to derive the rate of change, and convert the profits of the films to today's dollars. Fortunately, you can simply find this at the Bureau of Labor Statistics that keeps a record of this type of data."
   ]
  },
  {
   "cell_type": "code",
   "execution_count": null,
   "metadata": {},
   "outputs": [],
   "source": [
    "# Load packages\n",
    "library(dplyr)\n",
    "library(ggplot2)\n",
    "library(ggrepel) # package to visualize text without overlaying them on the points they represent\n",
    "library(scales)\n",
    "\n",
    "\n",
    "#Load movie data\n",
    "Movie.Data <- read.csv(\"/dsa/data/all_datasets/movie_metadata.csv\", header = TRUE, stringsAsFactors = FALSE)\n",
    "\n",
    "# Load Consumer Price Index data \n",
    "cpi <- read.csv('/dsa/data/all_datasets/cpi_per_year.csv',header = TRUE)"
   ]
  },
  {
   "cell_type": "code",
   "execution_count": null,
   "metadata": {},
   "outputs": [],
   "source": [
    "# A little preview of the data sets\n",
    "head(Movie.Data,2)\n",
    "head(cpi,2)"
   ]
  },
  {
   "cell_type": "markdown",
   "metadata": {},
   "source": [
    "## Step 4: Vet Data Sources\n",
    "\n",
    "The first question we must ask is where did our data come from and is this source reputable? The movie data came from imbd.com, and much like Wikipedia, its users can edit the content. However, that content is checked before it makes it to its site so there is some verification. [Here](http://www.imdb.com/help/show_leaf?infosource&ref_=hlp_brws) is their page on data collection. \n",
    "\n",
    "Our data on Consumer Price Index comes from the U.S. Bureau of Labor Statistics, which is a very reputable source. Therefore, our derived inflation rates should be good estimates.  \n",
    "\n",
    "### A Bit of Data Cleaning\n",
    "\n",
    "Before we get into the analysis, we need to do some data cleaning and manipulation. \n",
    "\n",
    "*Comments in the code will describe what is happening.* "
   ]
  },
  {
   "cell_type": "code",
   "execution_count": null,
   "metadata": {},
   "outputs": [],
   "source": [
    "# Annual average cpi for 2016 is currently empty because the year is not over, so we are \n",
    "# going to average the months that we have so far \n",
    "\n",
    "cpi2016<-mean(as.numeric(cpi[nrow(cpi),2:13]), na.rm = TRUE) # find average cpi for 2016\n",
    "cpi[nrow(cpi),14] <- cpi2016  # apply that to the Annual column for 2016\n",
    "\n",
    "# Need to find the average rate of change with 2016 as the base year. Most years should see \n",
    "# a percentage decrease since inflation has increased over the years. The result will be applied\n",
    "# to monetary columns of the Movie.Data data frame based on year so that we can obtain the dollar \n",
    "# value in today's terms\n",
    "\n",
    "cpi_aves<-cpi[14] # create an object of the average cpis from the cpi data frame\n",
    "cpi$Inflation <- (cpi_aves - cpi2016)/ cpi2016 # find the rate of change with 2016 being the base year\n",
    "\n",
    "\n",
    "# Remove the other columns from the cpi frame and call the new frame inflat_year. We will use this to\n",
    "# merge with the Movie.Data data frame\n",
    "\n",
    "inflat_year<- cbind(cpi$Year,cpi$Inflation) # join year Column and Inflation column together \n",
    "                                            # for future join with Movie.Data\n",
    "\n",
    "# some renaming of columns of this new frame\n",
    "inflat_year<-\n",
    "inflat_year %>%\n",
    "rename(year = `cpi$Year`, inflat = Annual)\n",
    "\n",
    "# remame year column of Movie.Data to match the year column name of inflat_year\n",
    "Movie.Data <- rename(Movie.Data, year=`title_year`)"
   ]
  },
  {
   "cell_type": "code",
   "execution_count": null,
   "metadata": {},
   "outputs": [],
   "source": [
    "# merge Movie.Data and inflat_year by year so that every movie has a degree of inflation change assigned \n",
    "# in order to find adjusted budget and gross values per film.\n",
    "\n",
    "Movie.Data<-merge(x = Movie.Data, y = inflat_year, by = \"year\", type = \"left\")\n",
    "\n",
    "# monetary columns adjusted by inflation (represented as 2016 dollars) \n",
    "Movie.Data <-\n",
    "Movie.Data %>%\n",
    "mutate(budget_adj = budget - (budget * inflat),\n",
    "      gross_adj = gross - (gross * inflat))\n",
    "\n",
    "# profit and return on investment using inflation adjusted budget and gross columns\n",
    "Movie.Data <- Movie.Data %>% \n",
    "  mutate(profit = gross - budget,\n",
    "         profit_adj = gross_adj - budget_adj)\n",
    "         #return_on_investment_perc = (profit/budget_adj)*100)\n",
    "\n",
    "\n",
    "# and finally, remove a duplicate column\n",
    "\n",
    "Movie.Data <- Movie.Data[!duplicated(Movie.Data$movie_title),]"
   ]
  },
  {
   "cell_type": "code",
   "execution_count": null,
   "metadata": {},
   "outputs": [],
   "source": [
    "head(Movie.Data,2)"
   ]
  },
  {
   "cell_type": "markdown",
   "metadata": {},
   "source": [
    "#### Just out of curiosity...\n",
    "what are the best movies by profit (in today's dollars)?"
   ]
  },
  {
   "cell_type": "code",
   "execution_count": null,
   "metadata": {},
   "outputs": [],
   "source": [
    "# Top 20 movies form this dataset when profits are adjusted for inflation\n",
    "\n",
    "Movie.Data %>%\n",
    "arrange(desc(profit_adj)) %>% \n",
    "select(movie_title, year, profit_adj,imdb_score, actor_1_name) %>%\n",
    "head(20)\n",
    "\n",
    "# If you want to see the top 20 movies form this dataset without adjustment\n",
    "# then uncomment the following block of code\n",
    "\n",
    "#Movie.Data %>%\n",
    "#arrange(desc(profit)) %>% \n",
    "#select(movie_title, year, profit, imdb_score) %>%\n",
    "#head(20)"
   ]
  },
  {
   "cell_type": "markdown",
   "metadata": {},
   "source": [
    "### Question 1: How do we quantify a GREAT film?\n",
    "\n",
    "Remember back to module 2 where we discussed descriptive statistics. Today we are going to use the Inter Quartile Range to derive those movies that are absolutely great. For this, we want to find those films that are outliers in terms of profits. \n",
    "\n",
    "To do that, we are going to use the 3rd quartile + (3 X IQR) where IQR is the interquartile range (the difference between the 3rd quartile and the 1st quartile). Any movie that makes profit higher than this value will be considered GREAT! "
   ]
  },
  {
   "cell_type": "code",
   "execution_count": null,
   "metadata": {},
   "outputs": [],
   "source": [
    "# Find outliers using the IQR \n",
    "\n",
    "q1 <- summary(Movie.Data$profit_adj, na.rm = TRUE)[2] # first quartile value\n",
    "q3 <- summary(Movie.Data$profit_adj, na.rm = TRUE)[5] # third quartile value\n",
    "iqr <- q3 - q1 # interquartile range\n",
    "out <-q3 + (3 *iqr) # minimum great value"
   ]
  },
  {
   "cell_type": "code",
   "execution_count": null,
   "metadata": {},
   "outputs": [],
   "source": [
    "# Filter movies data based on the outliers found above\n",
    "\n",
    "the.greats<-\n",
    "Movie.Data %>%\n",
    "arrange(desc(profit_adj)) %>% # sort data by profits\n",
    "select(movie_title, year, profit_adj,imdb_score, actor_1_name) %>% # select these rows from the data\n",
    "filter(profit_adj > out) # find those movies with profits above the out value found above\n",
    "\n",
    "head(the.greats,3) # show the first few \n",
    "tail(the.greats,3) # show the last few"
   ]
  },
  {
   "cell_type": "markdown",
   "metadata": {},
   "source": [
    "### Question 3: Can we order directors based on their contribution to a film's greatness?\n",
    "#### & \n",
    "### Question 4: Can we order actors/actresses according to the contribution to a film's greatness?\n",
    "\n",
    "Now we have to find the average profit per film for each actor. For simplicity, we can just take the mean. We will consider this their measure of success, the average profits of the films that they play in. The same can be done with directors. We manipulate the data into two separate data frames for easy access to this information."
   ]
  },
  {
   "cell_type": "code",
   "execution_count": null,
   "metadata": {},
   "outputs": [],
   "source": [
    "# Average profits of a film per actor \n",
    "Movie.Data.Actors <-\n",
    "Movie.Data %>% \n",
    "  group_by(actor_1_name) %>% # group by actor\n",
    "  select(actor_1_name, budget_adj, gross_adj, profit_adj) %>% # select these columns\n",
    "  summarise(films = n(), budget_adj = sum(as.numeric(budget_adj)), # find the number of films per actor and store\n",
    "            gross_adj = sum(as.numeric(gross_adj)),                # this in a column called films\n",
    "            profit_adj = sum(as.numeric(profit_adj))) %>%\n",
    "  filter(films >2, # remove anybody who hasn't been in more than one film, just to clean things up a bit\n",
    "         actor_1_name != \"\") %>%  # there are some empty rows in the actor_1_name column. remove these\n",
    "  mutate(prof_per_film = profit_adj/films) %>% # find the average profit per film of each actor \n",
    "  arrange(desc(prof_per_film)) %>% # sort by the prof_per_film\n",
    "  na.omit()  #remove any na values\n",
    "\n",
    "# Average profits of a film per director \n",
    "Movie.Data.Directors <-\n",
    "Movie.Data %>% \n",
    "  group_by(director_name) %>% # same as above except for directors\n",
    "  select(director_name, budget_adj, gross_adj, profit_adj) %>%\n",
    "  summarise(films = n(), budget_adj = sum(as.numeric(budget_adj)), gross_adj = sum(as.numeric(gross_adj)), profit_adj = sum(as.numeric(profit_adj))) %>%\n",
    "  filter(films >2,\n",
    "         director_name != \"\") %>% \n",
    "  mutate(prof_per_film = profit_adj/films) %>%\n",
    "  arrange(desc(prof_per_film)) %>%\n",
    "  na.omit() "
   ]
  },
  {
   "cell_type": "code",
   "execution_count": null,
   "metadata": {},
   "outputs": [],
   "source": [
    "head(Movie.Data.Actors,2)\n",
    "head(Movie.Data.Directors,2)"
   ]
  },
  {
   "cell_type": "markdown",
   "metadata": {},
   "source": [
    "### What director and what actor combination do you need to get to in order to ensure that your film is great?\n",
    "\n",
    "Now you are back to assessing your original question. Well, to answer this, we want the average profit per film to be at least our minimum value of greatness found above (`out`) between our director and actor. This means that if our director on average brings in a profit of less than our minimum value, then our actor is going to have to make more in order to bring us up to the GREAT status! We won't accept anything below.\n",
    "\n",
    "We can create a matrix of the average profit per pair (*(mean profit per film for director + mean profit per film per actor) / 2*) and then remove any that are below that threshold. What will be returned is a matrix of those combinations of director and actor that would satisify our project of creating a great movie! "
   ]
  },
  {
   "cell_type": "code",
   "execution_count": null,
   "metadata": {},
   "outputs": [],
   "source": [
    "# create an empty matrix that has the same number of rows as the Movie.Data.Actors data frame\n",
    "# and the same number of columns as the Movie.Data.Directors data frame. We call this mymat\n",
    "\n",
    "mymat <- matrix(nrow = nrow(Movie.Data.Actors), ncol = nrow(Movie.Data.Directors) )\n",
    "\n",
    "# now we iterate over our profits per film columns in both the Actors and Directors data frame\n",
    "# and adding the each value from each column to one another\n",
    "for (i in 1:dim(mymat)[1]){\n",
    "    for (j in 1:dim(mymat)[2]){\n",
    "        mymat[i,j] = (Movie.Data.Actors$prof_per_film[i]+Movie.Data.Directors$prof_per_film[j])/2\n",
    "    }\n",
    "    \n",
    "}\n",
    "\n",
    "# name the rows in mymat after the actor names\n",
    "rownames(mymat)<- Movie.Data.Actors$actor_1_name\n",
    "\n",
    "# name the columns in the mymat after the director names\n",
    "colnames(mymat)<- Movie.Data.Directors$director_name\n",
    "\n",
    "\n"
   ]
  },
  {
   "cell_type": "code",
   "execution_count": null,
   "metadata": {},
   "outputs": [],
   "source": [
    "# visualize the matrix\n",
    "\n",
    "mymat\n"
   ]
  },
  {
   "cell_type": "markdown",
   "metadata": {},
   "source": [
    "## Step 5: Filter Results\n",
    "\n",
    "So, your result come back with 13 different directors and quite a few actors and actresses that could get you to your magic number profit number, but several of these directors are only compatible with only one actor or actress. The movie industry is tough and the more options the better, just in case something falls through.\n",
    "\n",
    "In order to do this, we are going rearrange our matrix (`mymat`) into long form. What that means is that each column now becomes a value and the values in the matrix become a single column, like so..."
   ]
  },
  {
   "cell_type": "code",
   "execution_count": null,
   "metadata": {},
   "outputs": [],
   "source": [
    "library(reshape2) # package to turn matrix in to long form data frame\n",
    "\n",
    "mat_l <- melt(mymat) # my[mat] [l]ong form\n",
    "\n",
    "head(mat_l) # take a look at what long form looks like \n",
    "\n",
    "# we now need to find those actor/director combos that satisfy our minimum profits\n",
    "best.comb<- #find the best combinations in long form\n",
    "mat_l %>%\n",
    "  rename(actor = Var1, director = Var2, comb_prof = value) %>%\n",
    "  filter(comb_prof > out) %>%\n",
    "  arrange(desc(comb_prof)) \n",
    "\n",
    "best.comb"
   ]
  },
  {
   "cell_type": "code",
   "execution_count": null,
   "metadata": {},
   "outputs": [],
   "source": [
    "# a data frame of directors and actors and their profits in order to combine\n",
    "# with our long form data frame\n",
    "directors <-\n",
    "Movie.Data.Directors %>%\n",
    "  select(director = director_name, dir_prof = prof_per_film)\n",
    "\n",
    "actors <-\n",
    "Movie.Data.Actors %>%\n",
    "  select(actor = actor_1_name, act_prof = prof_per_film)"
   ]
  },
  {
   "cell_type": "code",
   "execution_count": null,
   "metadata": {},
   "outputs": [],
   "source": [
    "# merge the director and actor frames with the long form\n",
    "m1 <- merge(x = best.comb, y = directors, by = \"director\", type = \"left\")\n",
    "best.combinations <- merge(x = m1, y = actors, by = \"actor\", type = \"left\")\n",
    "\n",
    "# plot to see how the rank compares with the profit of the actor\n",
    "# faceted by the director to see which directors give more cushion \n",
    "# on our actor choices\n",
    "\n",
    "best.combinations %>%\n",
    "    arrange(desc(comb_prof)) %>%\n",
    "    mutate(rank = row_number())%>% # rank best on combined profit of the actor director combo\n",
    "    ggplot(aes(x = rank, y = act_prof/1000000)) + geom_point() + \n",
    "    facet_wrap(~director) + labs(x=\"rank\", y=\"Profit per Film per Actor \\n in Millions of Dollars\")"
   ]
  },
  {
   "cell_type": "markdown",
   "metadata": {},
   "source": [
    "Looks like the first four plots give us the most leeway in our actor choice, so we will filter out the `best.combination` to include only them. "
   ]
  },
  {
   "cell_type": "code",
   "execution_count": null,
   "metadata": {},
   "outputs": [],
   "source": [
    "flex.directors <-\n",
    "best.combinations %>%\n",
    "arrange(desc(comb_prof)) %>% \n",
    "mutate(rank = row_number())%>%\n",
    "filter(director == \"George Lucas\" | \n",
    "       director == \"James Cameron\" |\n",
    "       director == \"Joss Whedon\" |\n",
    "       director == \"Pete Docter\")\n",
    "\n",
    "flex.directors"
   ]
  },
  {
   "cell_type": "markdown",
   "metadata": {},
   "source": [
    "## Step 6: Visuals\n",
    "\n",
    "Okay, so we have the major steps of the analysis out of the way. Now we can begin creating some visuals that we might use in our story."
   ]
  },
  {
   "cell_type": "code",
   "execution_count": null,
   "metadata": {},
   "outputs": [],
   "source": [
    "# we can go ahead and create a default theme for our plots\n",
    "# This is a good technique to do if you need to keep with \n",
    "# some type of color scheme, or need to publish in a certain \n",
    "# format\n",
    "\n",
    "library(grid); library(RColorBrewer)\n",
    "\n",
    "# same theme from module 5\n",
    "my_theme <- function() {\n",
    "      \n",
    "    # Generate the colors for the chart procedurally with RColorBrewer\n",
    "    palette <- brewer.pal(\"Greys\", n=9) # create a palette of shades of grey \n",
    "    color.background = palette[1] # background plot color\n",
    "    color.grid.major = palette[3] \n",
    "    color.grid.minor = palette[2]\n",
    "    color.axis.text = palette[6] # text color \n",
    "    color.axis.title = palette[7]\n",
    "    color.title = palette[9]\n",
    "\n",
    "    # Begin construction of chart\n",
    "    theme_bw(base_size=9) +\n",
    "\n",
    "    # Set the entire chart region to a light gray color\n",
    "    theme(panel.background=element_rect(fill=color.background, color=color.background)) +\n",
    "    theme(plot.background=element_rect(fill=color.background, color=color.background)) +\n",
    "    theme(panel.border=element_rect(color=color.background)) +\n",
    "\n",
    "    # Format the grid\n",
    "    theme(panel.grid.major=element_line(color=color.grid.major,size=.25)) +\n",
    "    theme(panel.grid.minor=element_blank()) +\n",
    "    theme(axis.ticks=element_blank()) +\n",
    "\n",
    "    # Format the legend, but hide by default\n",
    "    theme(legend.position=\"bottom\") +\n",
    "    theme(legend.background = element_rect(fill=color.background)) +\n",
    "    theme(legend.text = element_text(size=7,color=color.axis.title)) +\n",
    "\n",
    "    # Set title and axis labels, and format these and tick marks\n",
    "    theme(plot.title=element_text(color=color.title, size=10, vjust=1.25)) +\n",
    "    theme(axis.text.x=element_text(size=7,color=color.axis.text)) +\n",
    "    theme(axis.text.y=element_text(size=7,color=color.axis.text)) +\n",
    "    theme(axis.title.x=element_text(size=8,color=color.axis.title, vjust=0)) +\n",
    "    theme(axis.title.y=element_text(size=8,color=color.axis.title, vjust=1.25)) +\n",
    "    \n",
    "    # Set facet attributes\n",
    "    theme(strip.background = element_rect(fill=color.background, colour = color.background)) +\n",
    "    theme(strip.text = element_text(size = 15, colour = color.axis.text)) +\n",
    "\n",
    "    # Plot margins\n",
    "    theme(plot.margin = unit(c(0.35, 0.2, 0.3, 0.35), \"cm\"))\n",
    "}"
   ]
  },
  {
   "cell_type": "markdown",
   "metadata": {},
   "source": [
    "It would be good to first visualize the distribution of profits. We can do a boxplot and label those top movies (the movies we are aiming for)."
   ]
  },
  {
   "cell_type": "code",
   "execution_count": null,
   "metadata": {},
   "outputs": [],
   "source": [
    "best <-\n",
    "Movie.Data %>%\n",
    "filter(profit_adj > 500000000)\n",
    "\n",
    "\n",
    "ggplot(Movie.Data, aes(x = 1, y = profit_adj/1000000)) + geom_boxplot() + \n",
    "    geom_text(data = best,aes(label = movie_title),hjust=0, vjust=0, size = 3)+\n",
    "    scale_y_continuous(limits = c(-300, 800))+ labs( y=\"Profit per Film per Actor \\n in Millions of Dollars\") + \n",
    "    my_theme()"
   ]
  },
  {
   "cell_type": "markdown",
   "metadata": {},
   "source": [
    "The take a look at the directors who can work with multiple actor/actresses and still get us to our target goal of $154,640,000 of profit. "
   ]
  },
  {
   "cell_type": "code",
   "execution_count": null,
   "metadata": {},
   "outputs": [],
   "source": [
    "flex.directors %>%\n",
    "    arrange(desc(comb_prof)) %>%\n",
    "    mutate(rank = row_number())%>% # rank best on combined profit of the actor director combo\n",
    "    ggplot(aes(x = rank, y = act_prof/1000000))+ geom_hline(yintercept = 0, colour = \"red\") + geom_point() + \n",
    "    facet_wrap(~director) + labs(x=\"rank\", y=\"Profit per Film per Actor \\n in Millions of Dollars\") +\n",
    "    my_theme()"
   ]
  },
  {
   "cell_type": "markdown",
   "metadata": {},
   "source": [
    "We can tackle the beast that is George Lucas in a bit; but first, let’s see who the actors are that can work with the other three directors."
   ]
  },
  {
   "cell_type": "code",
   "execution_count": null,
   "metadata": {},
   "outputs": [],
   "source": [
    "flex.directors %>%\n",
    "    filter(director == \"James Cameron\" |\n",
    "       director == \"Joss Whedon\" |\n",
    "       director == \"Pete Docter\") %>%\n",
    "    ggplot(aes(x = rank, y = act_prof/1000000))+ geom_hline(yintercept = 0, colour = \"red\") + geom_point() + \n",
    "    scale_x_continuous(limits = c(0, 300))+\n",
    "    facet_wrap(~director) + labs(x=\"rank\", y=\"Profit per Film per Actor \\n in Millions of Dollars\") + \n",
    "    geom_text(aes(label = actor), size = 2,hjust=0, vjust=0) +\n",
    "    my_theme()\n"
   ]
  },
  {
   "cell_type": "markdown",
   "metadata": {},
   "source": [
    "Well, all three of these directors can work with Judge Reinhold, Robert Pattinson and C.C.H. Pounder, and could have worked with Michael Gough when he was alive.  Out of the three, James Cameron looks like he can work with more, simply because he tends to bring more money in himself. But let’s take a look at George Lucas…"
   ]
  },
  {
   "cell_type": "code",
   "execution_count": null,
   "metadata": {},
   "outputs": [],
   "source": [
    "flex.directors %>% \n",
    "    filter(director == \"George Lucas\" &\n",
    "           rank < 50) %>% # he can work with so many actors that we have to split his data\n",
    "            ggplot(aes(x = actor, y = act_prof/1000000)) + geom_bar(stat = \"identity\") + my_theme() +\n",
    "            theme(axis.text.x = element_text(angle = 90, hjust = 1), legend.position = \"None\") +\n",
    "            labs( y=\"Profit per Film per Actor \\n in Millions of Dollars\")"
   ]
  },
  {
   "cell_type": "code",
   "execution_count": null,
   "metadata": {},
   "outputs": [],
   "source": [
    "flex.directors %>% \n",
    "    filter(director == \"George Lucas\" &\n",
    "           rank >= 50 & rank < 100) %>%\n",
    "            ggplot(aes(x = actor, y = act_prof/1000000)) + geom_bar(stat = \"identity\") + my_theme() +\n",
    "            theme(axis.text.x = element_text(angle = 90, hjust = 1), legend.position = \"None\") +\n",
    "            labs( y=\"Profit per Film per Actor \\n in Millions of Dollars\")\n"
   ]
  },
  {
   "cell_type": "code",
   "execution_count": null,
   "metadata": {},
   "outputs": [],
   "source": [
    "flex.directors %>% \n",
    "    filter(director == \"George Lucas\" &\n",
    "           rank >=  100) %>%\n",
    "            ggplot(aes(x = actor, y = act_prof/1000000)) + geom_bar(stat = \"identity\") + my_theme() +\n",
    "            theme(axis.text.x = element_text(angle = 90, hjust = 1), legend.position = \"None\") +\n",
    "            labs( y=\"Profit per Film per Actor \\n in Millions of Dollars\")"
   ]
  },
  {
   "cell_type": "markdown",
   "metadata": {
    "collapsed": true
   },
   "source": [
    "He can work with all these people. He even brings in enough money that he can work with those actors and actresses whose films they have acted in have resulted in an average loss of profit. Anything below the red line indicates those actors and actresses. He's obviously the director we want to pursue for our new movie. But just how much profit are we looking to make?"
   ]
  },
  {
   "cell_type": "code",
   "execution_count": null,
   "metadata": {},
   "outputs": [],
   "source": [
    "flex.directors %>% \n",
    "    filter(rank <=  10) %>%\n",
    "    ggplot(aes(x = actor, y = act_prof/1000000)) + geom_bar(stat = \"identity\") + my_theme() +\n",
    "            theme(axis.text.x = element_text(angle = 90, hjust = 1), legend.position = \"None\") +\n",
    "            labs( y=\"Profit per Film per Actor \\n in Millions of Dollars\") + ggtitle(\"GEORGE LUCAS TOP 10\")"
   ]
  },
  {
   "cell_type": "markdown",
   "metadata": {},
   "source": [
    "Now these are the actors/actresses we want to pursue for our movie. In combination with George Lucas, they could bring our company some large profits!"
   ]
  },
  {
   "cell_type": "markdown",
   "metadata": {},
   "source": [
    "## Step 7 - Craft the Story\n",
    "\n",
    "This is left undone for this lab. What you would want to do is use all that is above and shape a data driven story to a selected audience. This is a critical step as what is above is notes and not something that is usually for consumption by others. "
   ]
  },
  {
   "cell_type": "markdown",
   "metadata": {},
   "source": [
    "## Concluding Remarks\n",
    "\n",
    "It is always good to be thinking about how you could improve your analysis. Obviously, a film isn’t just its director and first actor. Instead, there are a lot of factors that contribute to a successful film and accounting for these would make for a much more convincing story, things such as second and third actor, or writer.  This is where feature selection techniques come in handy and could make your analysis a lot more convincing, particularly when describing your results to more quantitatively savvy people.\n",
    "\n",
    "There are other ways we could better this model. We could have made it probabilistic instead of saying that these actors and directors would guarantee us these profits. The question could become, what is the probability that this pair, given the actor’s history of film profits and the director’s, will bring in X amount of dollars. This would be a lot more convincing. We would then pursue those with the highest probability in bringing in X amount of profit.\n",
    "\n",
    "Finally, visualizations could always be improved. Interactive visualizations, which we didn’t cover in this course, would be a particularly good way to visualize this type of information.\n"
   ]
  }
 ],
 "metadata": {
  "kernelspec": {
   "display_name": "R",
   "language": "R",
   "name": "ir"
  },
  "language_info": {
   "codemirror_mode": "r",
   "file_extension": ".r",
   "mimetype": "text/x-r-source",
   "name": "R",
   "pygments_lexer": "r",
   "version": "3.5.1"
  }
 },
 "nbformat": 4,
 "nbformat_minor": 1
}
