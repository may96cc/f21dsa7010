{
 "cells": [
  {
   "cell_type": "markdown",
   "metadata": {},
   "source": [
    "# 2015-2016 NFL Football Season - Making A Beautiful Scatter Plot with R\n",
    "This is a step-by-step breakdown of a thought process for building a nice looking scatter plot using ggplot2 in R. This analysis uses a dataset containing information on every play in the 2015-2016 NFL football season  [https://www.kaggle.com/maxhorowitz/nflplaybyplay2015](https://www.kaggle.com/maxhorowitz/nflplaybyplay2015) here on Kaggle. \n",
    "This season culminated in Super Bowl L in which the Denver Broncos defeated the Carolina Panthers 24-10. \n",
    "It was also the last professional football game for the legendary Peyton Manning. \n",
    "Not a bad way to go out.\n",
    "\n",
    "In this exploration we will take a look at some simple summary statistics of the various teams over the regular season and see if any interesting insights come out as to what made the Broncos/Panthers the final two standing for the year. \n",
    "We will build a scatter plot comparing the total offensive and defensive production of each team and use some simple web scraping to add the team colors to the visualization.\n",
    "\n",
    "#### Data Analysis\n",
    "First, load the relevant packages. \n",
    "We will use the usual `dplyr` and `tidyr` for data frame manipulation, `magrittr` for the two-way chaining operator, `lubridate` for working with dates, and `ggplot2` for visualizations."
   ]
  },
  {
   "cell_type": "code",
   "execution_count": null,
   "metadata": {},
   "outputs": [],
   "source": [
    "library(tidyr)\n",
    "library(dplyr)\n",
    "library(magrittr)\n",
    "library(lubridate)\n",
    "library(ggplot2)"
   ]
  },
  {
   "cell_type": "markdown",
   "metadata": {},
   "source": [
    "Read in the CSV file and let’s see what we have\n",
    "\n"
   ]
  },
  {
   "cell_type": "code",
   "execution_count": null,
   "metadata": {},
   "outputs": [],
   "source": [
    "df <- data.frame(read.csv('/dsa/data/all_datasets/NFLPlaybyPlay2015.csv', stringsAsFactors = FALSE))\n",
    "df$Date <- as.Date(df$Date)\n",
    "str(df)"
   ]
  },
  {
   "cell_type": "markdown",
   "metadata": {},
   "source": [
    "There’s a ton of information here. It seems every play of every game in the regular season is catalogued. Each game has a GameID and the Date on which it was played. The offense and defense teams are given by posteam and DefensiveTeam, respectively. There’s also the time on the clock, current down and distance, type of play, special teams information, information on the players involved, etc. It’s really tempting to explore this in great detail, but for the purposes of this demonstration, let’s keep it simple. We will organize things a bit and create some summary statistics.\n",
    "\n",
    "NFL games usually, but not always, are played on Sundays, so they are instead grouped by week. First, We will assign the week number to each game relative to the first game of the season."
   ]
  },
  {
   "cell_type": "code",
   "execution_count": null,
   "metadata": {},
   "outputs": [],
   "source": [
    "df %<>%\n",
    "  mutate(week = as.numeric(df$Date - df[1,'Date'])%/%7 + 1)"
   ]
  },
  {
   "cell_type": "markdown",
   "metadata": {},
   "source": [
    "Let’s breakdown the overall offensive/defensive performance for each team to see which was the driving factor behind the Bronco’s victory. \n",
    "To start we will compare the total yards of offense per game, the total yards given up defensively per game, and the average number of points scored per game. We can get to these values by grouping the data by posteam or DefensiveTeam and aggregating Yards.Gained to get the total number of yards in the season. Dividing by the number of unique GameID’s for each team gets the average (just in case some teams played more games than others).\n",
    "\n",
    "Defense first as it is a little simpler:"
   ]
  },
  {
   "cell_type": "code",
   "execution_count": null,
   "metadata": {},
   "outputs": [],
   "source": [
    "def <- df %>% \n",
    "  filter(!is.na(DefensiveTeam)& DefensiveTeam!='') %>%\n",
    "  group_by(DefensiveTeam) %>% \n",
    "  summarise(def_ypg = sum(Yards.Gained[Penalty.Yards==0]) / n_distinct(GameID)) %>%\n",
    "  arrange(def_ypg)\n",
    "def <- data.frame(def)\n",
    "def"
   ]
  },
  {
   "cell_type": "markdown",
   "metadata": {},
   "source": [
    "Spoiler alert – Denver had an amazing defense this year.\n",
    "\n",
    "Now for the offense. The total yards per game is calculated essentially the same as for defense, but the total number of points scored per game (ppg) requires a little manipulation, as teams can score in any of the following ways:\n",
    "\n",
    "Touchdown (6 points), Extra Point (1 point), Two-point Conversion (2 points), or Field-Goal (3 points). \n",
    "In R this can be done as:"
   ]
  },
  {
   "cell_type": "code",
   "execution_count": null,
   "metadata": {},
   "outputs": [],
   "source": [
    "off <- df %>% \n",
    "  filter(!is.na(posteam) & posteam!='') %>%\n",
    "  group_by(posteam) %>% \n",
    "  summarise(off_ypg = sum(Yards.Gained[Penalty.Yards==0]) / n_distinct(GameID),\n",
    "            ppg=(   sum(Touchdown*6, na.rm=TRUE) +\n",
    "                    sum(ifelse(ExPointResult==\"Success\",1,0),na.rm=TRUE) + \n",
    "                    sum(ifelse(TwoPointConv==\"Success\",2,0),na.rm=TRUE)  +  \n",
    "                    sum(ifelse(FieldGoalResult==\"Good\",3,0),na.rm=TRUE))/ n_distinct(GameID)) %>%\n",
    "  arrange(desc(ppg))                                                 \n",
    "off <- data.frame(off)\n",
    "off"
   ]
  },
  {
   "cell_type": "markdown",
   "metadata": {},
   "source": [
    "If you’re fact checking me you may wonder why these numbers are different than what was reported for the year [i.e., Cardinals were second in ppg, not third](http://www.pro-football-reference.com/teams/crd/2015.htm). However, note I’ve only calculated the points scored by the offense. The missing points are from kickoff returns for TD, pick-sixes, safeties, etc.\n",
    "\n",
    "Now let’s combine these two to get the stats for each team in one place."
   ]
  },
  {
   "cell_type": "code",
   "execution_count": null,
   "metadata": {},
   "outputs": [],
   "source": [
    "nfl <- def %>%\n",
    "  inner_join(off,by=c('DefensiveTeam'='posteam')) %>%\n",
    "  rename(Team=DefensiveTeam) %>%\n",
    "  arrange(Team)\n",
    "nfl"
   ]
  },
  {
   "cell_type": "markdown",
   "metadata": {},
   "source": [
    "Let’s make a scatter plot with defense on one axis and offense on the other. To add an extra dimension, we will make the size of the points indicate the average points per game"
   ]
  },
  {
   "cell_type": "code",
   "execution_count": null,
   "metadata": {},
   "outputs": [],
   "source": [
    "plt <- ggplot(data=nfl,aes(x=off_ypg,y=def_ypg)) + geom_point(aes(color=Team, size=ppg)) +\n",
    "   labs(title=\"2015-2016 NFL Offense/Defense Overview\",x=\"Offensive YPG\", y=\"Defensive YPG\")\n",
    "plt"
   ]
  },
  {
   "cell_type": "markdown",
   "metadata": {},
   "source": [
    "That’s an okay start, but the default colors, although pretty, are kind of confusing in this context. It would look a lot better if we colored each data point using the actual team colors. Time for some simple web searching.\n",
    "\n",
    "#### Coloring Data by Team Color\n",
    "Below we create a color scheme for the NFL teams based on thier team color. "
   ]
  },
  {
   "cell_type": "code",
   "execution_count": null,
   "metadata": {},
   "outputs": [],
   "source": [
    "color.scheme <- c(\"#97233F\", \"#C9233F\", \"#2A0365\", \"#0F4589\", \"#0088D4\", \"#DF6108\", \"#F03A16\", \"#322820\",\n",
    "  \"#0D254C\", \"#DF6108\", \"#006DB0\", \"#313F36\", \"#B20032\", \"#163F83\", \"#007198\", \"#B20032\",\n",
    " \"#005E6A\", \"#3B0160\", \"#0D254C\", \"#C9B074\", \"#192E6C\", \"#313F36\", \"#C4C8CB\", \"#003B48\",\n",
    " \"#F2C800\", \"#0B264D\", \"#54BA4C\", \"#840026\", \"#0D254C\", \"#B20032\", \"#4C96C4\", \"#7A2D39\")"
   ]
  },
  {
   "cell_type": "markdown",
   "metadata": {},
   "source": [
    "Finally, let’s apply this color scheme to our plot. The aesthetic color palette in ggplot2 can be controlled using scale_color_manual."
   ]
  },
  {
   "cell_type": "code",
   "execution_count": null,
   "metadata": {},
   "outputs": [],
   "source": [
    "plt <- ggplot(data=nfl,aes(x=off_ypg,y=def_ypg)) + geom_point(aes(color=Team, size=ppg)) +\n",
    "  labs(title=\"2015-2016 NFL Offense/Defense Overview\",x=\"Offensive YPG\", y=\"Defensive YPG\")  + scale_color_manual(values=color.scheme) \n",
    "plt"
   ]
  },
  {
   "cell_type": "markdown",
   "metadata": {},
   "source": [
    "Awesome, it worked. Now to touch up this plot to make it look nice.\n",
    "\n",
    "Let’s remove the color legend in favor of text labels. The labels can be added with a <code>geom_text</code>"
   ]
  },
  {
   "cell_type": "code",
   "execution_count": null,
   "metadata": {},
   "outputs": [],
   "source": [
    "plt <- ggplot(data=nfl,aes(x=off_ypg,y=def_ypg)) + geom_point(aes(color=Team, size=ppg)) +\n",
    "  labs(title=\"2015-2016 NFL Offense/Defense Overview\",x=\"Offensive YPG\", y=\"Defensive YPG\")  + scale_color_manual(values=color.scheme) +\n",
    "  geom_text(aes(label=Team),size=3.0) \n",
    "plt"
   ]
  },
  {
   "cell_type": "markdown",
   "metadata": {},
   "source": [
    "The bubbles are too small for some datapoints (poor 49ers….). \n",
    "We will make things a bit bigger."
   ]
  },
  {
   "cell_type": "code",
   "execution_count": null,
   "metadata": {},
   "outputs": [],
   "source": [
    "plt <- ggplot(data=nfl,aes(x=off_ypg,y=def_ypg)) + geom_point(aes(color=Team, size=ppg)) +\n",
    "  labs(title=\"2015-2016 NFL Offense/Defense Overview\",x=\"Offensive YPG\", y=\"Defensive YPG\")  + scale_color_manual(values=color.scheme) +\n",
    "  geom_text(aes(label=Team),size=3.0)  + \n",
    "  xlim(350, 460) + ylim(310,500) +  scale_size(range=c(5,17))\n",
    "plt"
   ]
  },
  {
   "cell_type": "markdown",
   "metadata": {},
   "source": [
    "I’d prefer the background to be clean, so let’s remove the grid lines and use theme_bw() to make the background white."
   ]
  },
  {
   "cell_type": "code",
   "execution_count": null,
   "metadata": {},
   "outputs": [],
   "source": [
    "plt <- ggplot(data=nfl,aes(x=off_ypg,y=def_ypg)) + geom_point(aes(color=Team, size=ppg)) +\n",
    "  labs(title=\"2015-2016 NFL Offense/Defense Overview\",x=\"Offensive YPG\", y=\"Defensive YPG\")  + scale_color_manual(values=color.scheme) +\n",
    "  geom_text(aes(label=Team),size=3.0)  +\n",
    "  theme_bw() + xlim(350, 460) + ylim(310,500) +\n",
    "  theme(panel.grid.major = element_blank(), panel.grid.minor = element_blank()) +\n",
    "  theme(axis.text=element_text(size=10), title=element_text(size=16)) +\n",
    "  scale_size(range=c(5,17)) \n",
    "plt"
   ]
  },
  {
   "cell_type": "markdown",
   "metadata": {},
   "source": [
    "Now let’s remove the color legend and move the size legend to the bottom."
   ]
  },
  {
   "cell_type": "code",
   "execution_count": null,
   "metadata": {},
   "outputs": [],
   "source": [
    "plt <- ggplot(data=nfl,aes(x=off_ypg,y=def_ypg)) + geom_point(aes(color=Team, size=ppg)) +\n",
    "  labs(title=\"2015-2016 NFL Offense/Defense Overview\",x=\"Offensive YPG\", y=\"Defensive YPG\")  + scale_color_manual(values=color.scheme) +\n",
    "  geom_text(aes(label=Team),size=3.0)  + \n",
    "  theme_bw() + xlim(350, 460) +\n",
    "  ylim(310,500) +\n",
    "  theme(panel.grid.major = element_blank(), panel.grid.minor = element_blank()) +\n",
    "  theme(axis.text=element_text(size=10), title=element_text(size=16)) +\n",
    "  scale_size(range=c(5,17)) +\n",
    "  guides(color=FALSE) +\n",
    "  theme(legend.position = \"bottom\")\n",
    "plt"
   ]
  },
  {
   "cell_type": "markdown",
   "metadata": {},
   "source": [
    "Moving the legend freed up some space, so we will slightly resize the labels. Lastly, let’s deal with the cluttered overlapping points by adding some transparency, which is called alpha in most software."
   ]
  },
  {
   "cell_type": "code",
   "execution_count": null,
   "metadata": {},
   "outputs": [],
   "source": [
    "plt <- ggplot(data=nfl,aes(x=off_ypg,y=def_ypg)) + geom_point(aes(color=Team, size=ppg),alpha=0.75) +\n",
    "labs(title=\"2015-2016 NFL Offense/Defense Overview\",x=\"Offensive YPG\", y=\"Defensive YPG\")  + scale_color_manual(values=color.scheme) +\n",
    "  geom_text(aes(label=Team),size=4.5)  + \n",
    "  theme_bw() + xlim(350, 460) + ylim(310,500) +\n",
    "  theme(panel.grid.major = element_blank(), panel.grid.minor = element_blank()) +\n",
    "  theme(axis.text=element_text(size=22), title=element_text(size=28)) +\n",
    "  scale_size(range=c(8,23)) + guides(color=FALSE) + theme(legend.position = \"bottom\")\n",
    "plt + coord_fixed(ratio = .5)"
   ]
  },
  {
   "cell_type": "markdown",
   "metadata": {},
   "source": [
    "It is getting there! \n",
    "\n",
    "Now that we did all that work, what can we learn from a plot like this? \n",
    "On such a plot, it’s better to be low and right, meaning your defense doesn’t give up many yards and your offense is producing well. \n",
    "Although many teams are sort of middle-of-the-road, the Broncos defense really stands out, \n",
    "and many would agree this was the driving force behind their Super Bowl win. \n",
    "Peyton Manning is one of the best to ever play the game, holding the all-time record for touchdown passes, passing yards, and overall wins. \n",
    "He is surely destined for the Hall-of-Fame; however, his performance in his final season was somewhat mediocre in comparison. \n",
    "Luckily, the Broncos had Super Bowl MVP Von Miller to contribute. \n",
    "Looks like defense made the difference this season.\n",
    "\n",
    "We could also invert the y-axis so that the the top-right quadrant is the ideal region. This can be done with scale_y_reverse()"
   ]
  },
  {
   "cell_type": "code",
   "execution_count": null,
   "metadata": {},
   "outputs": [],
   "source": [
    "plt <- ggplot(data=nfl,aes(x=off_ypg,y=def_ypg)) + geom_point(aes(color=Team, size=ppg),alpha=0.75) +\n",
    "labs(title=\"2015-2016 NFL Offense/Defense Overview\",x=\"Offensive YPG\", y=\"Defensive YPG\") + \n",
    "  scale_color_manual(values=color.scheme) +\n",
    "  geom_text(aes(label=Team),size=4.5)  + \n",
    "  theme_bw() + xlim(350, 460) + ylim(310,500) + scale_y_reverse() +\n",
    "  theme(panel.grid.major = element_blank(), panel.grid.minor = element_blank()) +\n",
    "  theme(axis.text=element_text(size=22), title=element_text(size=28)) +\n",
    "  scale_size(range=c(8,23)) + guides(color=FALSE) + theme(legend.position = \"bottom\")\n",
    "plt + coord_fixed(ratio = .5)"
   ]
  },
  {
   "cell_type": "markdown",
   "metadata": {
    "collapsed": true
   },
   "source": [
    "### Moving Toward A Story \n",
    "Now, if we want to use this graphic to tell a story focused on a particular team, we can modify the color scheme to focus attention on one team or another. For example, lets say we are interested in how the teams in the NFC North fared last season.  Those teams are \n",
    "    1. The Green Bay Packers\n",
    "    2. The Chicago Bears\n",
    "    3. The Minnesota Vikings \n",
    "    4. The Detroit Lions\n",
    "One thing we might do is shade out the other teams, but leave them in the grid for rough comparisons. And keep the colors for the NFC North teams, so they stand out. "
   ]
  },
  {
   "cell_type": "markdown",
   "metadata": {},
   "source": [
    "#### Color Assignment\n",
    "The colors are assigned by the order teams are listed in the Data Frame \"NFL\". So, we relist that frame."
   ]
  },
  {
   "cell_type": "code",
   "execution_count": null,
   "metadata": {},
   "outputs": [],
   "source": [
    "nfl"
   ]
  },
  {
   "cell_type": "markdown",
   "metadata": {},
   "source": [
    "Teams 6, 11, 12 & 18 are in the NFC North.  So, we assign \"white\" as the color for all the other teams, leaving the NFC North in place. Note that we changed the variable from \"color.scheme\" to \"color.scheme.nfcNorth\". This will be changed as the variable when we recreate the graph. \n",
    "\n",
    "We can find the hex code for white by a quick search of \"color for white\" on google : [This is one link I found](http://www.w3schools.com/colors/colors_names.asp). The Color for White is \"#FFFFFF\". "
   ]
  },
  {
   "cell_type": "code",
   "execution_count": null,
   "metadata": {},
   "outputs": [],
   "source": [
    "color.scheme.nfcNorth <- c(\"#FFFFFF\", \"#FFFFFF\", \"#FFFFFF\", \"#FFFFFF\", \"#FFFFFF\", \"#DF6108\", \"#FFFFFF\", \"#FFFFFF\",\n",
    "  \"#FFFFFF\", \"#FFFFFF\", \"#006DB0\", \"#313F36\", \"#FFFFFF\", \"#FFFFFF\", \"#FFFFFF\", \"#FFFFFF\",\n",
    " \"#FFFFFF\", \"#3B0160\", \"#FFFFFF\", \"#FFFFFF\", \"#FFFFFF\", \"#FFFFFF\", \"#FFFFFF\", \"#FFFFFF\",\n",
    " \"#FFFFFF\", \"#FFFFFF\", \"#FFFFFF\", \"#FFFFFF\", \"#FFFFFF\", \"#FFFFFF\", \"#FFFFFF\", \"#FFFFFF\")"
   ]
  },
  {
   "cell_type": "markdown",
   "metadata": {},
   "source": [
    "#### Keeping Work By Changing Variable Names:\n",
    "Note that we are keeping previous work by \n",
    "1. changing \"plt\" to \"plt.NFCN\"\n",
    "2. changing \"color.scheme\" to \"color.scheme.nfcNorth\"\n",
    "\n",
    "By doing this, we can still run the old \"plt\" pplot that we created earlier without reordering my code. This is a good way to experiment with storytelling without frustrating yourself. "
   ]
  },
  {
   "cell_type": "code",
   "execution_count": null,
   "metadata": {},
   "outputs": [],
   "source": [
    "color.scheme.nfcNorth"
   ]
  },
  {
   "cell_type": "code",
   "execution_count": null,
   "metadata": {},
   "outputs": [],
   "source": [
    "plt.NFCN <- ggplot(data=nfl,aes(x=off_ypg,y=def_ypg)) + geom_point(aes(color=Team, size=ppg),alpha=0.75) +\n",
    "labs(title=\"2015-2016 NFL Offense/Defense Overview\",x=\"Offensive YPG\", y=\"Defensive YPG\") + \n",
    "  scale_color_manual(values=color.scheme.nfcNorth) +\n",
    "  geom_text(aes(label=Team),size=4.5)  + \n",
    "  theme_bw() + xlim(350, 460) + ylim(310,500) + scale_y_reverse() +\n",
    "  theme(panel.grid.major = element_blank(), panel.grid.minor = element_blank()) +\n",
    "  theme(axis.text=element_text(size=22), title=element_text(size=28)) +\n",
    "  scale_size(range=c(8,23)) + guides(color=FALSE) + theme(legend.position = \"bottom\")\n",
    "plt.NFCN + coord_fixed(ratio = .5)\n"
   ]
  },
  {
   "cell_type": "code",
   "execution_count": null,
   "metadata": {},
   "outputs": [],
   "source": [
    "plt.NFCN <- ggplot(data=nfl,aes(x=off_ypg,y=def_ypg)) + geom_point(aes(color=Team, size=ppg),alpha=0.75) +\n",
    "labs(title=\"2015-2016 NFL Offense/Defense Overview\",x=\"Offensive YPG\", y=\"Defensive YPG\") + \n",
    "  scale_color_manual(values=color.scheme.nfcNorth) +\n",
    "  geom_text(aes(label=Team),size=4.5)  + \n",
    "  theme_bw() + xlim(350, 460) + ylim(310,500) + scale_y_reverse() +\n",
    "  theme(panel.grid.major = element_blank(), panel.grid.minor = element_blank()) +\n",
    "  theme(axis.text=element_text(size=22), title=element_text(size=28)) +\n",
    "  scale_size(range=c(8,23)) + guides(color=FALSE) + theme(legend.position = \"bottom\")\n",
    "\n",
    "plt.NFCN + coord_fixed(ratio = .5)"
   ]
  },
  {
   "cell_type": "markdown",
   "metadata": {},
   "source": [
    "#### Fixing Overplotted Names, Part 1\n",
    "Now when we see the plot, we have the names of the teams too close together. \n",
    "\n",
    "It's harder to read than I like.\n",
    "\n",
    "So, we want to have the titles move around to overplot each other less. The first thing we do is :\n",
    "\n",
    "1. Look up geom_text on the [GGPLOT2 Documents](http://docs.ggplot2.org/current/geom_text.html) \n",
    "2. I identify \"nudge_x\" and \"nudge_y\" as binary parameters that do exactly what I want\n",
    "3. I add these options into geom_text as follows : geom_text(aes(label=Team),size=4.5, nudge_x=TRUE, nudge_y=TRUE) \n",
    "\n",
    "You can see this in the code below on the fourth line. "
   ]
  },
  {
   "cell_type": "code",
   "execution_count": null,
   "metadata": {},
   "outputs": [],
   "source": [
    "plt.NFCN <- ggplot(data=nfl,aes(x=off_ypg,y=def_ypg)) + geom_point(aes(color=Team, size=ppg),alpha=0.75) +\n",
    "labs(title=\"2015-2016 NFL Offense/Defense Overview\",x=\"Offensive YPG\", y=\"Defensive YPG\") + \n",
    "  scale_color_manual(values=color.scheme.nfcNorth) +\n",
    "  geom_text(aes(label=Team),size=4.5, nudge_x=TRUE, nudge_y=TRUE)  + \n",
    "  theme_bw() + xlim(350, 460) + ylim(310,500) + scale_y_reverse() +\n",
    "  theme(panel.grid.major = element_blank(), panel.grid.minor = element_blank()) +\n",
    "  theme(axis.text=element_text(size=22), title=element_text(size=28)) +\n",
    "  scale_size(range=c(8,23)) + guides(color=FALSE) + theme(legend.position = \"bottom\")\n",
    "plt.NFCN + coord_fixed(ratio = .5)"
   ]
  },
  {
   "cell_type": "markdown",
   "metadata": {},
   "source": [
    "#### Fixing Overplotted Names, Part 2\n",
    "They still seem a little too close together for my comfort, so we will reduce the font size.\n",
    "    \n",
    "I also think the plotted title is too large, and we will fix that as well.\n",
    "    \n",
    "    1. We will reduce the size of the team abbreviations by changing \"size=4.5\" on line 4 to \"size=3\"\n",
    "    2. On line 7, we change the font sizes in the theme as follows:\n",
    "        - theme(axis.text=element_text(size=14, title=element_text(size=18) "
   ]
  },
  {
   "cell_type": "code",
   "execution_count": null,
   "metadata": {},
   "outputs": [],
   "source": [
    "plt.NFCN <- ggplot(data=nfl,aes(x=off_ypg,y=def_ypg)) + geom_point(aes(color=Team, size=ppg),alpha=0.75) +\n",
    "labs(title=\"2015-2016 NFL Offense/Defense Overview\",x=\"Offensive YPG\", y=\"Defensive YPG\") + \n",
    "  scale_color_manual(values=color.scheme.nfcNorth) +\n",
    "  geom_text(aes(label=Team),size=3, nudge_x=TRUE, nudge_y=TRUE)  + \n",
    "  theme_bw() + xlim(350, 460) + ylim(310,500) + scale_y_reverse() +\n",
    "  theme(panel.grid.major = element_blank(), panel.grid.minor = element_blank()) +\n",
    "  theme(axis.text=element_text(size=14), title=element_text(size=18)) +\n",
    "  scale_size(range=c(8,23)) + guides(color=FALSE) + theme(legend.position = \"bottom\")\n",
    "plt.NFCN + coord_fixed(ratio = .5)"
   ]
  },
  {
   "cell_type": "markdown",
   "metadata": {},
   "source": [
    "Finally, the fonts are too light for the darker colors that Minnesota and Green Bay have, and since they are by far the two best teams in the NFC North, they must be addressed. "
   ]
  },
  {
   "cell_type": "code",
   "execution_count": null,
   "metadata": {},
   "outputs": [],
   "source": [
    "plt.NFCN <- ggplot(data=nfl,aes(x=off_ypg,y=def_ypg)) + geom_point(aes(color=Team, size=ppg),alpha=0.75) +\n",
    "labs(title=\"2015-2016 NFL Offense/Defense Overview\",x=\"Offensive YPG\", y=\"Defensive YPG\") + \n",
    "  scale_color_manual(values=color.scheme.nfcNorth) +\n",
    "  geom_text(aes(label=Team),size=3, color=\"#C0C0C0\", nudge_x=TRUE, nudge_y=TRUE)  + \n",
    "  theme_bw() + xlim(350, 460) + ylim(310,500) + scale_y_reverse() +\n",
    "  theme(panel.grid.major = element_blank(), panel.grid.minor = element_blank()) +\n",
    "  theme(axis.text=element_text(size=14), title=element_text(size=18)) +\n",
    "  scale_size(range=c(8,23)) + guides(color=FALSE) + theme(legend.position = \"bottom\")\n",
    "plt.NFCN + coord_fixed(ratio = .5)"
   ]
  },
  {
   "cell_type": "markdown",
   "metadata": {},
   "source": [
    "#### Indianapolis and Houston and New England and Carolina: You're Plotting Bothers ME!\n",
    "\n",
    "You can see that we are starting to tell the story of the NFC North a bit more clearly, but the other teams remain too similar. Too close. \n",
    "\n",
    "I elect to fix this by changing the font color again, this time to white. Now all the teams except those in the NFC North and those that overlap those teams, do not have visible lables. And I can really begin to tell the story of the NFC North. I also make the sizes of the circles in a broader range, from 1, 23 instead of 8, 23.\n",
    "\n",
    " - geom_text(aes(label=Team),size=3, color=\"#FFFFFF\", nudge_x=TRUE, nudge_y=TRUE)  \n",
    " - scale_size(range=c(1,20))\n",
    "\n",
    "\n"
   ]
  },
  {
   "cell_type": "code",
   "execution_count": null,
   "metadata": {},
   "outputs": [],
   "source": [
    "plt.NFCN <- ggplot(data=nfl,aes(x=off_ypg,y=def_ypg)) + geom_point(aes(color=Team, size=ppg),alpha=0.75) +\n",
    "labs(title=\"2015-2016 NFL Offense/Defense Overview\",x=\"Offensive YPG\", y=\"Defensive YPG\") + \n",
    "  scale_color_manual(values=color.scheme.nfcNorth) +\n",
    "  geom_text(aes(label=Team),size=3, color=\"#FFFFFF\", nudge_x=TRUE, nudge_y=TRUE)  + \n",
    "  theme_bw() + xlim(350, 460) + ylim(310,500) + scale_y_reverse() +\n",
    "  theme(panel.grid.major = element_blank(), panel.grid.minor = element_blank()) +\n",
    "  theme(axis.text=element_text(size=14), title=element_text(size=18)) +\n",
    "  scale_size(range=c(1,23)) + guides(color=FALSE) + theme(legend.position = \"bottom\")\n",
    "plt.NFCN + coord_fixed(ratio = .5) "
   ]
  },
  {
   "cell_type": "markdown",
   "metadata": {},
   "source": [
    "### The Story of the NFC North in 2015\n",
    "\n",
    "In 2015, the Minnesota Vikings won the NFC North. The question is how and why. A deeper dive into all the statistics might tell a very nuanced story, but sometimes [Occam's Razor](https://en.wikipedia.org/wiki/Occam%27s_razor) is the best and most useful way to understand what happens. First, lets look at the final standings: \n",
    "\n",
    "![NFCNorthStandings Missing](../images/NFCNorthStandings.png)\n",
    "\n",
    "Now, lets take a look at the yardage gained by each team's offense, the yardage given up by each team's defense, and the relative total points per game (ppg). \n",
    "\n",
    "(note: we do this simply by calling the image developed above, \"plt.NFCN + coord_fixed(ratio = .5)\"\n"
   ]
  },
  {
   "cell_type": "code",
   "execution_count": null,
   "metadata": {},
   "outputs": [],
   "source": [
    "plt.NFCN + coord_fixed(ratio = .5) \n"
   ]
  },
  {
   "cell_type": "markdown",
   "metadata": {},
   "source": [
    "Here's what we see: \n",
    "\n",
    "1. The Minnesota Vikings and Detroit Lions each scored around the same points \n",
    "2. The Vikings had the highest defensive yards allowed.\n",
    "3. The Packers had the fewest offensive yards per game, and did not do as well as the Bears or Lions at preventing teams from gaining yards on them\n",
    "4. By the traditional adage, \"Defense wins championships\", the NFC North does not appear to make any sense at all in 2015. \n",
    "\n",
    "At least not statistically! \n",
    "\n",
    "Let's look at these teams in the context of all the other teams. \n",
    "\n",
    "(Here, we inverse our NFC North Focused Color Scheme from earlier, making them BLACK, and the other teams their original colors)\n"
   ]
  },
  {
   "cell_type": "code",
   "execution_count": null,
   "metadata": {},
   "outputs": [],
   "source": [
    "color.scheme.nfl <- c(\"#97233F\", \"#C9233F\", \"#2A0365\", \"#0F4589\", \"#0088D4\", \"#000000\", \"#F03A16\", \"#322820\",\n",
    "  \"#0D254C\", \"#DF6108\", \"#000000\", \"#000000\", \"#B20032\", \"#163F83\", \"#007198\", \"#B20032\",\n",
    " \"#005E6A\", \"#000000\", \"#0D254C\", \"#C9B074\", \"#192E6C\", \"#313F36\", \"#C4C8CB\", \"#003B48\",\n",
    " \"#F2C800\", \"#0B264D\", \"#54BA4C\", \"#840026\", \"#0D254C\", \"#B20032\", \"#4C96C4\", \"#7A2D39\")"
   ]
  },
  {
   "cell_type": "markdown",
   "metadata": {},
   "source": [
    "Note that I am changing the color of the font to something readable, other than white, for the NFC North Teams benefit. "
   ]
  },
  {
   "cell_type": "code",
   "execution_count": null,
   "metadata": {},
   "outputs": [],
   "source": [
    "plt.nfl <- ggplot(data=nfl,aes(x=off_ypg,y=def_ypg)) + geom_point(aes(color=Team, size=ppg),alpha=0.6) +\n",
    "labs(title=\"2015-2016 NFL Offense/Defense Overview\",x=\"Offensive YPG\", y=\"Defensive YPG\") + \n",
    "  scale_color_manual(values=color.scheme.nfl) +\n",
    "  geom_text(aes(label=Team),size=3, color=\"#F5F5DC\", nudge_x=TRUE, nudge_y=TRUE)  + \n",
    "  theme_bw() + xlim(350, 460) + ylim(310,500) + scale_y_reverse() +\n",
    "  theme(panel.grid.major = element_blank(), panel.grid.minor = element_blank()) +\n",
    "  theme(axis.text=element_text(size=14), title=element_text(size=18)) +\n",
    "  scale_size(range=c(1,23)) + guides(color=FALSE) + theme(legend.position = \"bottom\")\n",
    "plt.nfl + coord_fixed(ratio = .5) "
   ]
  },
  {
   "cell_type": "markdown",
   "metadata": {},
   "source": [
    "### The Story of the NFC North in 2015: Conclusion\n",
    "\n",
    "Following [Occam's Razor](https://en.wikipedia.org/wiki/Occam%27s_razor) we can have further clarity on why no NFC North Team advanced to the NFC Championship game: \n",
    "\n",
    "![Image Missing](../images/playoffs.png)\n",
    "\n",
    "You can see that, although the data within this mediocre (as it turns out) division does not help explain, easily and simply, the final divisional record, putting the division in the context of the rest of the league makes it fairly clear that defense wins championships. \n",
    "\n",
    "The high scoring Carolina Panthers did lose to the \"give up the fewest points by far\" Denver Broncos in the Superbowl that year.\n",
    "\n",
    "Putting the NFC North in the context of the larger league helps us understand their relative futility as a group. More analysis, likely on a game by game basis, will be required to make sense of what happened there within the division. \n",
    "\n",
    "**At the League Level**, it's also noteworthy that the team who gained the most yards faced off with the team who gave up the least yards in the Super Bowl. \n",
    "\n",
    "\n",
    "*** Note this story would be made much better if the visuals would have been brought down into the story and not left the reader to go hunt and find what the writer was referring to. \n",
    "\n"
   ]
  }
 ],
 "metadata": {
  "kernelspec": {
   "display_name": "R",
   "language": "R",
   "name": "ir"
  },
  "language_info": {
   "codemirror_mode": "r",
   "file_extension": ".r",
   "mimetype": "text/x-r-source",
   "name": "R",
   "pygments_lexer": "r",
   "version": "3.5.1"
  }
 },
 "nbformat": 4,
 "nbformat_minor": 1
}
