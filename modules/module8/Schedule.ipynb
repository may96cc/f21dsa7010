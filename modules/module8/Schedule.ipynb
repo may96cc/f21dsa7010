{
 "cells": [
  {
   "cell_type": "markdown",
   "metadata": {},
   "source": [
    "# Module 8: Storytelling With Data"
   ]
  },
  {
   "cell_type": "markdown",
   "metadata": {},
   "source": [
    "## Topics covered\n",
    " * Putting the data science & analytics project lifecycle into practice\n",
    " * Provenance of process\n",
    " * Discussion \n",
    "  * Knowing your audience \n",
    "  * Considerations Selecting media \n",
    "  * Visualizations based on your audience and type of information you are presenting\n",
    " * Selecting a delivery method"
   ]
  },
  {
   "cell_type": "markdown",
   "metadata": {},
   "source": [
    "## Objective\n",
    "- Students will demonstrate the ability to apply data, data preparation techniques, machine learning, visualization and computational modeling to tell compelling stories to consumers of their analysis."
   ]
  },
  {
   "cell_type": "markdown",
   "metadata": {},
   "source": [
    "## Reading & Resources\n",
    "- [The 101 Guide To Telling a Compelling Story with Data](https://www.maptive.com/101-guide-telling-compelling-story-data/)\n",
    "- [Narrative Visualization: Telling Stories with Data](resources/2010-Narrative-InfoVis.pdf)\n",
    "- [The American Dream Is Harder To Find In Some Neighborhoods](https://www.npr.org/2018/10/01/649701669/the-american-dream-is-harder-to-find-in-some-neighborhoods)\n",
    "- [The Opportunity Atlas](https://www.opportunityatlas.org/)\n",
    "- [Data Science & Analytics Project Lifecycle](../module1/resources/DSA-ProjectLifecycle-slidedeck.pdf)"
   ]
  },
  {
   "cell_type": "markdown",
   "metadata": {},
   "source": [
    "## Discussion \n",
    "**Initial post due by Wednesday at 11:59pm**\n",
    "\n",
    "- [Storytelling](https://umsystem.instructure.com/courses/8147/discussion_topics/675594)"
   ]
  },
  {
   "cell_type": "markdown",
   "metadata": {},
   "source": [
    "## Labs, Practices and Exercises\n",
    "\n",
    "### Labs\n",
    "- [Storytelling with Data Lab](labs/story_development_example.ipynb)\n",
    "- [NFL Story Example](labs/NFL_Story.ipynb)\n",
    "\n",
    "\n",
    "### Exercise\n",
    "- [Data Story Telling](exercises/Final_Project_Story.ipynb)\n"
   ]
  },
  {
   "cell_type": "markdown",
   "metadata": {},
   "source": [
    "# Submit Your Work\n",
    "\n",
    "Be sure you have submitted your practices and exercises for this Module!\n",
    " * [See Module 1, Submission of Work](../module1/labs/CommittingWork.ipynb)\n",
    "\n",
    "It is best practice to create a save point (commit) after each interval of work, e.g., when you are done for the day or you have completed a notebook."
   ]
  },
  {
   "cell_type": "markdown",
   "metadata": {},
   "source": [
    "## Data Sets\n",
    "\n",
    "\n",
    "path: `/dsa/data/all_datasets/`\n",
    "\n",
    "Dataset Name | File\n",
    "-------------|--------\n",
    "Movies Metadata |  `movie_metadata.csv`\n",
    "Consumer Price Index | `cpi_per_year.csv`\n",
    "NFL Play by Play 2015 | `NFLPlaybyPlay2015.csv`"
   ]
  },
  {
   "cell_type": "markdown",
   "metadata": {},
   "source": [
    "# Congrats on completing your first Data Science and Analytics course!"
   ]
  }
 ],
 "metadata": {
  "kernelspec": {
   "display_name": "Python 3",
   "language": "python",
   "name": "python3"
  },
  "language_info": {
   "codemirror_mode": {
    "name": "ipython",
    "version": 3
   },
   "file_extension": ".py",
   "mimetype": "text/x-python",
   "name": "python",
   "nbconvert_exporter": "python",
   "pygments_lexer": "ipython3",
   "version": "3.7.3"
  }
 },
 "nbformat": 4,
 "nbformat_minor": 1
}
