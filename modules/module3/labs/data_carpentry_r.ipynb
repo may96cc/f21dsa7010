{
 "cells": [
  {
   "cell_type": "markdown",
   "metadata": {},
   "source": [
    "# Data Carpentry with `R`\n",
    "\n",
    "\n",
    "Much of a data scientist's career is spent on data carpentry (also known as *data cleaning* or *tidying*. Pick your flavor) because datasets often come to us in a less than desirable format. Fortunately, there are several packages in `R` that make cleaning up our data a lot easier by providing functions to correct common messy dataset issues.\n",
    "\n",
    "Before we begin, there are a couple of things that we need to understand about our \"*tidy*\" dataset. Tidy datasets take on the following 3 properties drawn from Hadley Wickham's [*Tidy Data*](../resources/tidy-data.pdf) paper:\n",
    "\n",
    "1. *Variables are columns*\n",
    "2. *Observations are rows*\n",
    "3. *Values are cells*\n",
    "\n",
    "Keeping these in mind, we can derive potential characteristics of messy data, such as values as column headers, variables as values, or multiple values per cell. \n",
    "\n",
    "This notebook is going to cover the backbone of data carpentry with `R` using `R`'s `tidyr` and `dplyr` packages.\n",
    "\n",
    "---\n",
    "### What we'll cover...\n",
    "- [Spreading](#spread)\n",
    "- [Gathering](#gather)\n",
    "- [Separating](#separate)\n",
    "- [Uniting](#unite)\n",
    "---\n",
    "\n",
    "## The Data\n",
    "\n",
    "We are going to use some dummy data for demonstration purposes today and the examples of \"messy\" data are by no means exhaustive, but the following issues that we cover today are some very common problems when we get our hands on data.  \n",
    "\n",
    "We'll begin by importing the libraries that we need as well as the data."
   ]
  },
  {
   "cell_type": "code",
   "execution_count": null,
   "metadata": {},
   "outputs": [],
   "source": [
    "library(tidyr)\n",
    "library(dplyr)\n",
    "library(ggplot2)\n",
    "\n",
    "weight <- read.csv(\"/dsa/data/all_datasets/dummy/pet_wt.csv\")\n",
    "chars <-read.csv(\"/dsa/data/all_datasets/dummy/pet_descr.csv\")\n",
    "breed <- read.csv(\"/dsa/data/all_datasets/dummy/pet_attr.csv\")"
   ]
  },
  {
   "cell_type": "markdown",
   "metadata": {},
   "source": [
    "<a id='spread'></a>\n",
    "## Spreading\n",
    "\n",
    "Take a look at the data frame below. Occasionally, when working with data, you will have a single observation that is distributed among several rows. In the table below, each dog can be considered an observation, but if you take a look, you can see that each individual dog takes up multiple rows. That is because **`char`** column contains variables as values and the **`description`** column contains the respective values. But remember, we want those variables to be columns..."
   ]
  },
  {
   "cell_type": "code",
   "execution_count": null,
   "metadata": {},
   "outputs": [],
   "source": [
    "chars"
   ]
  },
  {
   "cell_type": "markdown",
   "metadata": {},
   "source": [
    "`tidyr` provides a function for such a scenario. The `spread()` function takes three arguments, the first being the name of the data frame. The second and third parameters are described below:\n",
    "- `key` : takes the name of the column that takes on the different variable types.\n",
    "- `value`: takes the name of the column that contains the variable values.\n",
    "\n",
    "For the `chars` data frame, the `char` column is the *`key`* and the `description` is the `value`."
   ]
  },
  {
   "cell_type": "code",
   "execution_count": null,
   "metadata": {},
   "outputs": [],
   "source": [
    "spread(chars, key = `char`, value = `description`)"
   ]
  },
  {
   "cell_type": "markdown",
   "metadata": {},
   "source": [
    "<a id='gather'></a>\n",
    "## Gathering\n",
    "\n",
    "If `spread()` solves issues in which variables are values in a table, `gather()` solves the issues in which values are columns. In the table below, the columns **`zero`** and **`one`** represent ages at which weights were collected for each dog. In this case, \"zero\" and \"one\" are both values of a variable that we could call `age`, and the values under these columns could be considered values of the variable `weight`."
   ]
  },
  {
   "cell_type": "code",
   "execution_count": null,
   "metadata": {},
   "outputs": [],
   "source": [
    "weight"
   ]
  },
  {
   "cell_type": "markdown",
   "metadata": {},
   "source": [
    "The first thing to note when using the `gather()` function is that it takes on the sytax of `dplyr`'s `select()`. We are going to use the pipe function (`%>%`) in order to \"gather\" our values under a column. Taking a look at the example below, `weight` is the data frame that needs the carpentry and the `gather()` function takes three \"types\" of arguments. \n",
    "- The first arguments are the columns that are actually values (in this case, both **`zero`** and **`one`**)\n",
    "- `key`: the name of the variable under which the new values need to be *gather*ed.\n",
    "- `value`: the name of the variable that needs to be spread"
   ]
  },
  {
   "cell_type": "code",
   "execution_count": null,
   "metadata": {},
   "outputs": [],
   "source": [
    "weight %>% \n",
    "  gather(zero, one, key = \"age\", value = \"weight\")"
   ]
  },
  {
   "cell_type": "markdown",
   "metadata": {},
   "source": [
    "<a id='separate'></a>\n",
    "## Separating\n",
    "\n",
    "In a clean dataset, cells should only contain **1** value. Cells with more than one value will make data manipulations particularly difficult. Therefore, when it comes up, it is a good idea to separate the values. In the example below, there are two values under the column `attr` in each row."
   ]
  },
  {
   "cell_type": "code",
   "execution_count": null,
   "metadata": {},
   "outputs": [],
   "source": [
    "breed"
   ]
  },
  {
   "cell_type": "markdown",
   "metadata": {},
   "source": [
    "To pull these values apart, we will use `tidyr`'s `separate()` function. `separate()` has three arguments that you will pass to it. The first is the column that you will be working with, in this case, the **`attr`** column. The other two parameters are as follows:\n",
    "- `into`: takes a list of the column names that the values will be sorted into\n",
    "- `sep`: is the seperator character\n",
    "\n",
    "**`attr`** can be separated into \"size\" and \"breed\" and the values are deliniated by the \"`/`\" character."
   ]
  },
  {
   "cell_type": "code",
   "execution_count": null,
   "metadata": {},
   "outputs": [],
   "source": [
    "breed %>%\n",
    "separate(attr, into = c(\"size\", \"breed\"), sep = \"/\")"
   ]
  },
  {
   "cell_type": "markdown",
   "metadata": {},
   "source": [
    "<a id='unite'></a>\n",
    "## Uniting\n",
    "\n",
    "And of course, the opposite of separating is uniting. Occasionally you have a value that is spread across multiple columns. One such example is a date that is broken up into separate components. In most cases, it would make more sense if these components were contained under a single variable.\n",
    "\n",
    "Take a look back at the `breed` data frame again..."
   ]
  },
  {
   "cell_type": "code",
   "execution_count": null,
   "metadata": {},
   "outputs": [],
   "source": [
    "breed"
   ]
  },
  {
   "cell_type": "markdown",
   "metadata": {},
   "source": [
    "...the **`month`**, **`day`** and **`year`** columns could all be under the umbrella variable of **`date`**. The `unite()` function does just that. It takes two types of arguments. The first are the columns that need to be *unite*d and the second is the `sep`erator that will go in between them. In the example below, we use the \"-\" to separate each date component."
   ]
  },
  {
   "cell_type": "code",
   "execution_count": null,
   "metadata": {},
   "outputs": [],
   "source": [
    "breed %>% \n",
    "unite(birthdate,year,month,day, sep=\"-\")"
   ]
  },
  {
   "cell_type": "code",
   "execution_count": null,
   "metadata": {},
   "outputs": [],
   "source": [
    "head(breed)"
   ]
  },
  {
   "cell_type": "markdown",
   "metadata": {},
   "source": [
    "# Save your notebook, then `File > Close and Halt`"
   ]
  }
 ],
 "metadata": {
  "kernelspec": {
   "display_name": "R",
   "language": "R",
   "name": "ir"
  },
  "language_info": {
   "codemirror_mode": "r",
   "file_extension": ".r",
   "mimetype": "text/x-r-source",
   "name": "R",
   "pygments_lexer": "r",
   "version": "3.5.1"
  }
 },
 "nbformat": 4,
 "nbformat_minor": 1
}
