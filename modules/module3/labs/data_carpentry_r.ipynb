{
 "cells": [
  {
   "cell_type": "markdown",
   "metadata": {},
   "source": [
    "# Data Carpentry with `R`\n",
    "\n",
    "\n",
    "Much of a data scientist's career is spent on data carpentry (also known as *data cleaning* or *tidying*. Pick your flavor) because datasets often come to us in a less than desirable format. Fortunately, there are several packages in `R` that make cleaning up our data a lot easier by providing functions to correct common messy dataset issues.\n",
    "\n",
    "Before we begin, there are a couple of things that we need to understand about our \"*tidy*\" dataset. Tidy datasets take on the following 3 properties drawn from Hadley Wickham's [*Tidy Data*](../resources/tidy-data.pdf) paper:\n",
    "\n",
    "1. *Variables are columns*\n",
    "2. *Observations are rows*\n",
    "3. *Values are cells*\n",
    "\n",
    "Keeping these in mind, we can derive potential characteristics of messy data, such as values as column headers, variables as values, or multiple values per cell. \n",
    "\n",
    "This notebook is going to cover the backbone of data carpentry with `R` using `R`'s `tidyr` and `dplyr` packages.\n",
    "\n",
    "---\n",
    "### What we'll cover...\n",
    "- [Spreading](#spread)\n",
    "- [Gathering](#gather)\n",
    "- [Separating](#separate)\n",
    "- [Uniting](#unite)\n",
    "---\n",
    "\n",
    "## The Data\n",
    "\n",
    "We are going to use some dummy data for demonstration purposes today and the examples of \"messy\" data are by no means exhaustive, but the following issues that we cover today are some very common problems when we get our hands on data.  \n",
    "\n",
    "We'll begin by importing the libraries that we need as well as the data."
   ]
  },
  {
   "cell_type": "code",
   "execution_count": 1,
   "metadata": {},
   "outputs": [
    {
     "name": "stderr",
     "output_type": "stream",
     "text": [
      "\n",
      "Attaching package: ‘dplyr’\n",
      "\n",
      "The following objects are masked from ‘package:stats’:\n",
      "\n",
      "    filter, lag\n",
      "\n",
      "The following objects are masked from ‘package:base’:\n",
      "\n",
      "    intersect, setdiff, setequal, union\n",
      "\n"
     ]
    }
   ],
   "source": [
    "library(tidyr)\n",
    "library(dplyr)\n",
    "library(ggplot2)\n",
    "\n",
    "weight <- read.csv(\"/dsa/data/all_datasets/dummy/pet_wt.csv\")\n",
    "chars <-read.csv(\"/dsa/data/all_datasets/dummy/pet_descr.csv\")\n",
    "breed <- read.csv(\"/dsa/data/all_datasets/dummy/pet_attr.csv\")"
   ]
  },
  {
   "cell_type": "markdown",
   "metadata": {},
   "source": [
    "<a id='spread'></a>\n",
    "## Spreading\n",
    "\n",
    "Take a look at the data frame below. Occasionally, when working with data, you will have a single observation that is distributed among several rows. In the table below, each dog can be considered an observation, but if you take a look, you can see that each individual dog takes up multiple rows. That is because **`char`** column contains variables as values and the **`description`** column contains the respective values. But remember, we want those variables to be columns..."
   ]
  },
  {
   "cell_type": "code",
   "execution_count": 3,
   "metadata": {},
   "outputs": [
    {
     "data": {
      "text/html": [
       "<table>\n",
       "<caption>A data.frame: 8 × 4</caption>\n",
       "<thead>\n",
       "\t<tr><th scope=col>names</th><th scope=col>sex</th><th scope=col>char</th><th scope=col>description</th></tr>\n",
       "\t<tr><th scope=col>&lt;fct&gt;</th><th scope=col>&lt;fct&gt;</th><th scope=col>&lt;fct&gt;</th><th scope=col>&lt;fct&gt;</th></tr>\n",
       "</thead>\n",
       "<tbody>\n",
       "\t<tr><td>Hermey </td><td>male  </td><td>fur color</td><td>multi</td></tr>\n",
       "\t<tr><td>Hermey </td><td>male  </td><td>eye color</td><td>brown</td></tr>\n",
       "\t<tr><td>Chewey </td><td>female</td><td>fur color</td><td>white</td></tr>\n",
       "\t<tr><td>Chewey </td><td>female</td><td>eye color</td><td>brown</td></tr>\n",
       "\t<tr><td>Pippa  </td><td>female</td><td>fur color</td><td>white</td></tr>\n",
       "\t<tr><td>Pippa  </td><td>female</td><td>eye color</td><td>brown</td></tr>\n",
       "\t<tr><td>Prairie</td><td>female</td><td>fur color</td><td>multi</td></tr>\n",
       "\t<tr><td>Prairie</td><td>female</td><td>eye color</td><td>brown</td></tr>\n",
       "</tbody>\n",
       "</table>\n"
      ],
      "text/latex": [
       "A data.frame: 8 × 4\n",
       "\\begin{tabular}{r|llll}\n",
       " names & sex & char & description\\\\\n",
       " <fct> & <fct> & <fct> & <fct>\\\\\n",
       "\\hline\n",
       "\t Hermey  & male   & fur color & multi\\\\\n",
       "\t Hermey  & male   & eye color & brown\\\\\n",
       "\t Chewey  & female & fur color & white\\\\\n",
       "\t Chewey  & female & eye color & brown\\\\\n",
       "\t Pippa   & female & fur color & white\\\\\n",
       "\t Pippa   & female & eye color & brown\\\\\n",
       "\t Prairie & female & fur color & multi\\\\\n",
       "\t Prairie & female & eye color & brown\\\\\n",
       "\\end{tabular}\n"
      ],
      "text/markdown": [
       "\n",
       "A data.frame: 8 × 4\n",
       "\n",
       "| names &lt;fct&gt; | sex &lt;fct&gt; | char &lt;fct&gt; | description &lt;fct&gt; |\n",
       "|---|---|---|---|\n",
       "| Hermey  | male   | fur color | multi |\n",
       "| Hermey  | male   | eye color | brown |\n",
       "| Chewey  | female | fur color | white |\n",
       "| Chewey  | female | eye color | brown |\n",
       "| Pippa   | female | fur color | white |\n",
       "| Pippa   | female | eye color | brown |\n",
       "| Prairie | female | fur color | multi |\n",
       "| Prairie | female | eye color | brown |\n",
       "\n"
      ],
      "text/plain": [
       "  names   sex    char      description\n",
       "1 Hermey  male   fur color multi      \n",
       "2 Hermey  male   eye color brown      \n",
       "3 Chewey  female fur color white      \n",
       "4 Chewey  female eye color brown      \n",
       "5 Pippa   female fur color white      \n",
       "6 Pippa   female eye color brown      \n",
       "7 Prairie female fur color multi      \n",
       "8 Prairie female eye color brown      "
      ]
     },
     "metadata": {},
     "output_type": "display_data"
    }
   ],
   "source": [
    "chars"
   ]
  },
  {
   "cell_type": "markdown",
   "metadata": {},
   "source": [
    "`tidyr` provides a function for such a scenario. The `spread()` function takes three arguments, the first being the name of the data frame. The second and third parameters are described below:\n",
    "- `key` : takes the name of the column that takes on the different variable types.\n",
    "- `value`: takes the name of the column that contains the variable values.\n",
    "\n",
    "For the `chars` data frame, the `char` column is the *`key`* and the `description` is the `value`."
   ]
  },
  {
   "cell_type": "code",
   "execution_count": 4,
   "metadata": {},
   "outputs": [
    {
     "data": {
      "text/html": [
       "<table>\n",
       "<caption>A data.frame: 4 × 4</caption>\n",
       "<thead>\n",
       "\t<tr><th scope=col>names</th><th scope=col>sex</th><th scope=col>eye color</th><th scope=col>fur color</th></tr>\n",
       "\t<tr><th scope=col>&lt;fct&gt;</th><th scope=col>&lt;fct&gt;</th><th scope=col>&lt;fct&gt;</th><th scope=col>&lt;fct&gt;</th></tr>\n",
       "</thead>\n",
       "<tbody>\n",
       "\t<tr><td>Chewey </td><td>female</td><td>brown</td><td>white</td></tr>\n",
       "\t<tr><td>Hermey </td><td>male  </td><td>brown</td><td>multi</td></tr>\n",
       "\t<tr><td>Pippa  </td><td>female</td><td>brown</td><td>white</td></tr>\n",
       "\t<tr><td>Prairie</td><td>female</td><td>brown</td><td>multi</td></tr>\n",
       "</tbody>\n",
       "</table>\n"
      ],
      "text/latex": [
       "A data.frame: 4 × 4\n",
       "\\begin{tabular}{r|llll}\n",
       " names & sex & eye color & fur color\\\\\n",
       " <fct> & <fct> & <fct> & <fct>\\\\\n",
       "\\hline\n",
       "\t Chewey  & female & brown & white\\\\\n",
       "\t Hermey  & male   & brown & multi\\\\\n",
       "\t Pippa   & female & brown & white\\\\\n",
       "\t Prairie & female & brown & multi\\\\\n",
       "\\end{tabular}\n"
      ],
      "text/markdown": [
       "\n",
       "A data.frame: 4 × 4\n",
       "\n",
       "| names &lt;fct&gt; | sex &lt;fct&gt; | eye color &lt;fct&gt; | fur color &lt;fct&gt; |\n",
       "|---|---|---|---|\n",
       "| Chewey  | female | brown | white |\n",
       "| Hermey  | male   | brown | multi |\n",
       "| Pippa   | female | brown | white |\n",
       "| Prairie | female | brown | multi |\n",
       "\n"
      ],
      "text/plain": [
       "  names   sex    eye color fur color\n",
       "1 Chewey  female brown     white    \n",
       "2 Hermey  male   brown     multi    \n",
       "3 Pippa   female brown     white    \n",
       "4 Prairie female brown     multi    "
      ]
     },
     "metadata": {},
     "output_type": "display_data"
    }
   ],
   "source": [
    "spread(chars, key = `char`, value = `description`)"
   ]
  },
  {
   "cell_type": "markdown",
   "metadata": {},
   "source": [
    "<a id='gather'></a>\n",
    "## Gathering\n",
    "\n",
    "If `spread()` solves issues in which variables are values in a table, `gather()` solves the issues in which values are columns. In the table below, the columns **`zero`** and **`one`** represent ages at which weights were collected for each dog. In this case, \"zero\" and \"one\" are both values of a variable that we could call `age`, and the values under these columns could be considered values of the variable `weight`."
   ]
  },
  {
   "cell_type": "code",
   "execution_count": 5,
   "metadata": {},
   "outputs": [
    {
     "data": {
      "text/html": [
       "<table>\n",
       "<caption>A data.frame: 4 × 3</caption>\n",
       "<thead>\n",
       "\t<tr><th scope=col>names</th><th scope=col>zero</th><th scope=col>one</th></tr>\n",
       "\t<tr><th scope=col>&lt;fct&gt;</th><th scope=col>&lt;dbl&gt;</th><th scope=col>&lt;int&gt;</th></tr>\n",
       "</thead>\n",
       "<tbody>\n",
       "\t<tr><td>Hermey </td><td>4.0</td><td>17</td></tr>\n",
       "\t<tr><td>Chewey </td><td>5.0</td><td>22</td></tr>\n",
       "\t<tr><td>Pippa  </td><td>4.5</td><td>28</td></tr>\n",
       "\t<tr><td>Prairie</td><td>3.0</td><td>19</td></tr>\n",
       "</tbody>\n",
       "</table>\n"
      ],
      "text/latex": [
       "A data.frame: 4 × 3\n",
       "\\begin{tabular}{r|lll}\n",
       " names & zero & one\\\\\n",
       " <fct> & <dbl> & <int>\\\\\n",
       "\\hline\n",
       "\t Hermey  & 4.0 & 17\\\\\n",
       "\t Chewey  & 5.0 & 22\\\\\n",
       "\t Pippa   & 4.5 & 28\\\\\n",
       "\t Prairie & 3.0 & 19\\\\\n",
       "\\end{tabular}\n"
      ],
      "text/markdown": [
       "\n",
       "A data.frame: 4 × 3\n",
       "\n",
       "| names &lt;fct&gt; | zero &lt;dbl&gt; | one &lt;int&gt; |\n",
       "|---|---|---|\n",
       "| Hermey  | 4.0 | 17 |\n",
       "| Chewey  | 5.0 | 22 |\n",
       "| Pippa   | 4.5 | 28 |\n",
       "| Prairie | 3.0 | 19 |\n",
       "\n"
      ],
      "text/plain": [
       "  names   zero one\n",
       "1 Hermey  4.0  17 \n",
       "2 Chewey  5.0  22 \n",
       "3 Pippa   4.5  28 \n",
       "4 Prairie 3.0  19 "
      ]
     },
     "metadata": {},
     "output_type": "display_data"
    }
   ],
   "source": [
    "weight"
   ]
  },
  {
   "cell_type": "markdown",
   "metadata": {},
   "source": [
    "The first thing to note when using the `gather()` function is that it takes on the sytax of `dplyr`'s `select()`. We are going to use the pipe function (`%>%`) in order to \"gather\" our values under a column. Taking a look at the example below, `weight` is the data frame that needs the carpentry and the `gather()` function takes three \"types\" of arguments. \n",
    "- The first arguments are the columns that are actually values (in this case, both **`zero`** and **`one`**)\n",
    "- `key`: the name of the variable under which the new values need to be *gather*ed.\n",
    "- `value`: the name of the variable that needs to be spread"
   ]
  },
  {
   "cell_type": "code",
   "execution_count": 6,
   "metadata": {},
   "outputs": [
    {
     "data": {
      "text/html": [
       "<table>\n",
       "<caption>A data.frame: 8 × 3</caption>\n",
       "<thead>\n",
       "\t<tr><th scope=col>names</th><th scope=col>age</th><th scope=col>weight</th></tr>\n",
       "\t<tr><th scope=col>&lt;fct&gt;</th><th scope=col>&lt;chr&gt;</th><th scope=col>&lt;dbl&gt;</th></tr>\n",
       "</thead>\n",
       "<tbody>\n",
       "\t<tr><td>Hermey </td><td>zero</td><td> 4.0</td></tr>\n",
       "\t<tr><td>Chewey </td><td>zero</td><td> 5.0</td></tr>\n",
       "\t<tr><td>Pippa  </td><td>zero</td><td> 4.5</td></tr>\n",
       "\t<tr><td>Prairie</td><td>zero</td><td> 3.0</td></tr>\n",
       "\t<tr><td>Hermey </td><td>one </td><td>17.0</td></tr>\n",
       "\t<tr><td>Chewey </td><td>one </td><td>22.0</td></tr>\n",
       "\t<tr><td>Pippa  </td><td>one </td><td>28.0</td></tr>\n",
       "\t<tr><td>Prairie</td><td>one </td><td>19.0</td></tr>\n",
       "</tbody>\n",
       "</table>\n"
      ],
      "text/latex": [
       "A data.frame: 8 × 3\n",
       "\\begin{tabular}{r|lll}\n",
       " names & age & weight\\\\\n",
       " <fct> & <chr> & <dbl>\\\\\n",
       "\\hline\n",
       "\t Hermey  & zero &  4.0\\\\\n",
       "\t Chewey  & zero &  5.0\\\\\n",
       "\t Pippa   & zero &  4.5\\\\\n",
       "\t Prairie & zero &  3.0\\\\\n",
       "\t Hermey  & one  & 17.0\\\\\n",
       "\t Chewey  & one  & 22.0\\\\\n",
       "\t Pippa   & one  & 28.0\\\\\n",
       "\t Prairie & one  & 19.0\\\\\n",
       "\\end{tabular}\n"
      ],
      "text/markdown": [
       "\n",
       "A data.frame: 8 × 3\n",
       "\n",
       "| names &lt;fct&gt; | age &lt;chr&gt; | weight &lt;dbl&gt; |\n",
       "|---|---|---|\n",
       "| Hermey  | zero |  4.0 |\n",
       "| Chewey  | zero |  5.0 |\n",
       "| Pippa   | zero |  4.5 |\n",
       "| Prairie | zero |  3.0 |\n",
       "| Hermey  | one  | 17.0 |\n",
       "| Chewey  | one  | 22.0 |\n",
       "| Pippa   | one  | 28.0 |\n",
       "| Prairie | one  | 19.0 |\n",
       "\n"
      ],
      "text/plain": [
       "  names   age  weight\n",
       "1 Hermey  zero  4.0  \n",
       "2 Chewey  zero  5.0  \n",
       "3 Pippa   zero  4.5  \n",
       "4 Prairie zero  3.0  \n",
       "5 Hermey  one  17.0  \n",
       "6 Chewey  one  22.0  \n",
       "7 Pippa   one  28.0  \n",
       "8 Prairie one  19.0  "
      ]
     },
     "metadata": {},
     "output_type": "display_data"
    }
   ],
   "source": [
    "weight %>% \n",
    "  gather(zero, one, key = \"age\", value = \"weight\")"
   ]
  },
  {
   "cell_type": "markdown",
   "metadata": {},
   "source": [
    "<a id='separate'></a>\n",
    "## Separating\n",
    "\n",
    "In a clean dataset, cells should only contain **1** value. Cells with more than one value will make data manipulations particularly difficult. Therefore, when it comes up, it is a good idea to separate the values. In the example below, there are two values under the column `attr` in each row."
   ]
  },
  {
   "cell_type": "code",
   "execution_count": 7,
   "metadata": {},
   "outputs": [
    {
     "data": {
      "text/html": [
       "<table>\n",
       "<caption>A data.frame: 4 × 5</caption>\n",
       "<thead>\n",
       "\t<tr><th scope=col>names</th><th scope=col>attr</th><th scope=col>month</th><th scope=col>day</th><th scope=col>year</th></tr>\n",
       "\t<tr><th scope=col>&lt;fct&gt;</th><th scope=col>&lt;fct&gt;</th><th scope=col>&lt;int&gt;</th><th scope=col>&lt;int&gt;</th><th scope=col>&lt;int&gt;</th></tr>\n",
       "</thead>\n",
       "<tbody>\n",
       "\t<tr><td>Hermey </td><td>small/dachshund           </td><td>12</td><td>24</td><td>1995</td></tr>\n",
       "\t<tr><td>Chewey </td><td>small/jack russell terrier</td><td>10</td><td>11</td><td>2003</td></tr>\n",
       "\t<tr><td>Pippa  </td><td>medium/mix                </td><td> 1</td><td>14</td><td>2012</td></tr>\n",
       "\t<tr><td>Prairie</td><td>small/mix                 </td><td> 6</td><td> 1</td><td>2013</td></tr>\n",
       "</tbody>\n",
       "</table>\n"
      ],
      "text/latex": [
       "A data.frame: 4 × 5\n",
       "\\begin{tabular}{r|lllll}\n",
       " names & attr & month & day & year\\\\\n",
       " <fct> & <fct> & <int> & <int> & <int>\\\\\n",
       "\\hline\n",
       "\t Hermey  & small/dachshund            & 12 & 24 & 1995\\\\\n",
       "\t Chewey  & small/jack russell terrier & 10 & 11 & 2003\\\\\n",
       "\t Pippa   & medium/mix                 &  1 & 14 & 2012\\\\\n",
       "\t Prairie & small/mix                  &  6 &  1 & 2013\\\\\n",
       "\\end{tabular}\n"
      ],
      "text/markdown": [
       "\n",
       "A data.frame: 4 × 5\n",
       "\n",
       "| names &lt;fct&gt; | attr &lt;fct&gt; | month &lt;int&gt; | day &lt;int&gt; | year &lt;int&gt; |\n",
       "|---|---|---|---|---|\n",
       "| Hermey  | small/dachshund            | 12 | 24 | 1995 |\n",
       "| Chewey  | small/jack russell terrier | 10 | 11 | 2003 |\n",
       "| Pippa   | medium/mix                 |  1 | 14 | 2012 |\n",
       "| Prairie | small/mix                  |  6 |  1 | 2013 |\n",
       "\n"
      ],
      "text/plain": [
       "  names   attr                       month day year\n",
       "1 Hermey  small/dachshund            12    24  1995\n",
       "2 Chewey  small/jack russell terrier 10    11  2003\n",
       "3 Pippa   medium/mix                  1    14  2012\n",
       "4 Prairie small/mix                   6     1  2013"
      ]
     },
     "metadata": {},
     "output_type": "display_data"
    }
   ],
   "source": [
    "breed"
   ]
  },
  {
   "cell_type": "markdown",
   "metadata": {},
   "source": [
    "To pull these values apart, we will use `tidyr`'s `separate()` function. `separate()` has three arguments that you will pass to it. The first is the column that you will be working with, in this case, the **`attr`** column. The other two parameters are as follows:\n",
    "- `into`: takes a list of the column names that the values will be sorted into\n",
    "- `sep`: is the seperator character\n",
    "\n",
    "**`attr`** can be separated into \"size\" and \"breed\" and the values are deliniated by the \"`/`\" character."
   ]
  },
  {
   "cell_type": "code",
   "execution_count": 8,
   "metadata": {},
   "outputs": [
    {
     "data": {
      "text/html": [
       "<table>\n",
       "<caption>A data.frame: 4 × 6</caption>\n",
       "<thead>\n",
       "\t<tr><th scope=col>names</th><th scope=col>size</th><th scope=col>breed</th><th scope=col>month</th><th scope=col>day</th><th scope=col>year</th></tr>\n",
       "\t<tr><th scope=col>&lt;fct&gt;</th><th scope=col>&lt;chr&gt;</th><th scope=col>&lt;chr&gt;</th><th scope=col>&lt;int&gt;</th><th scope=col>&lt;int&gt;</th><th scope=col>&lt;int&gt;</th></tr>\n",
       "</thead>\n",
       "<tbody>\n",
       "\t<tr><td>Hermey </td><td>small </td><td>dachshund           </td><td>12</td><td>24</td><td>1995</td></tr>\n",
       "\t<tr><td>Chewey </td><td>small </td><td>jack russell terrier</td><td>10</td><td>11</td><td>2003</td></tr>\n",
       "\t<tr><td>Pippa  </td><td>medium</td><td>mix                 </td><td> 1</td><td>14</td><td>2012</td></tr>\n",
       "\t<tr><td>Prairie</td><td>small </td><td>mix                 </td><td> 6</td><td> 1</td><td>2013</td></tr>\n",
       "</tbody>\n",
       "</table>\n"
      ],
      "text/latex": [
       "A data.frame: 4 × 6\n",
       "\\begin{tabular}{r|llllll}\n",
       " names & size & breed & month & day & year\\\\\n",
       " <fct> & <chr> & <chr> & <int> & <int> & <int>\\\\\n",
       "\\hline\n",
       "\t Hermey  & small  & dachshund            & 12 & 24 & 1995\\\\\n",
       "\t Chewey  & small  & jack russell terrier & 10 & 11 & 2003\\\\\n",
       "\t Pippa   & medium & mix                  &  1 & 14 & 2012\\\\\n",
       "\t Prairie & small  & mix                  &  6 &  1 & 2013\\\\\n",
       "\\end{tabular}\n"
      ],
      "text/markdown": [
       "\n",
       "A data.frame: 4 × 6\n",
       "\n",
       "| names &lt;fct&gt; | size &lt;chr&gt; | breed &lt;chr&gt; | month &lt;int&gt; | day &lt;int&gt; | year &lt;int&gt; |\n",
       "|---|---|---|---|---|---|\n",
       "| Hermey  | small  | dachshund            | 12 | 24 | 1995 |\n",
       "| Chewey  | small  | jack russell terrier | 10 | 11 | 2003 |\n",
       "| Pippa   | medium | mix                  |  1 | 14 | 2012 |\n",
       "| Prairie | small  | mix                  |  6 |  1 | 2013 |\n",
       "\n"
      ],
      "text/plain": [
       "  names   size   breed                month day year\n",
       "1 Hermey  small  dachshund            12    24  1995\n",
       "2 Chewey  small  jack russell terrier 10    11  2003\n",
       "3 Pippa   medium mix                   1    14  2012\n",
       "4 Prairie small  mix                   6     1  2013"
      ]
     },
     "metadata": {},
     "output_type": "display_data"
    }
   ],
   "source": [
    "breed %>%\n",
    "separate(attr, into = c(\"size\", \"breed\"), sep = \"/\")"
   ]
  },
  {
   "cell_type": "markdown",
   "metadata": {},
   "source": [
    "<a id='unite'></a>\n",
    "## Uniting\n",
    "\n",
    "And of course, the opposite of separating is uniting. Occasionally you have a value that is spread across multiple columns. One such example is a date that is broken up into separate components. In most cases, it would make more sense if these components were contained under a single variable.\n",
    "\n",
    "Take a look back at the `breed` data frame again..."
   ]
  },
  {
   "cell_type": "code",
   "execution_count": 9,
   "metadata": {},
   "outputs": [
    {
     "data": {
      "text/html": [
       "<table>\n",
       "<caption>A data.frame: 4 × 5</caption>\n",
       "<thead>\n",
       "\t<tr><th scope=col>names</th><th scope=col>attr</th><th scope=col>month</th><th scope=col>day</th><th scope=col>year</th></tr>\n",
       "\t<tr><th scope=col>&lt;fct&gt;</th><th scope=col>&lt;fct&gt;</th><th scope=col>&lt;int&gt;</th><th scope=col>&lt;int&gt;</th><th scope=col>&lt;int&gt;</th></tr>\n",
       "</thead>\n",
       "<tbody>\n",
       "\t<tr><td>Hermey </td><td>small/dachshund           </td><td>12</td><td>24</td><td>1995</td></tr>\n",
       "\t<tr><td>Chewey </td><td>small/jack russell terrier</td><td>10</td><td>11</td><td>2003</td></tr>\n",
       "\t<tr><td>Pippa  </td><td>medium/mix                </td><td> 1</td><td>14</td><td>2012</td></tr>\n",
       "\t<tr><td>Prairie</td><td>small/mix                 </td><td> 6</td><td> 1</td><td>2013</td></tr>\n",
       "</tbody>\n",
       "</table>\n"
      ],
      "text/latex": [
       "A data.frame: 4 × 5\n",
       "\\begin{tabular}{r|lllll}\n",
       " names & attr & month & day & year\\\\\n",
       " <fct> & <fct> & <int> & <int> & <int>\\\\\n",
       "\\hline\n",
       "\t Hermey  & small/dachshund            & 12 & 24 & 1995\\\\\n",
       "\t Chewey  & small/jack russell terrier & 10 & 11 & 2003\\\\\n",
       "\t Pippa   & medium/mix                 &  1 & 14 & 2012\\\\\n",
       "\t Prairie & small/mix                  &  6 &  1 & 2013\\\\\n",
       "\\end{tabular}\n"
      ],
      "text/markdown": [
       "\n",
       "A data.frame: 4 × 5\n",
       "\n",
       "| names &lt;fct&gt; | attr &lt;fct&gt; | month &lt;int&gt; | day &lt;int&gt; | year &lt;int&gt; |\n",
       "|---|---|---|---|---|\n",
       "| Hermey  | small/dachshund            | 12 | 24 | 1995 |\n",
       "| Chewey  | small/jack russell terrier | 10 | 11 | 2003 |\n",
       "| Pippa   | medium/mix                 |  1 | 14 | 2012 |\n",
       "| Prairie | small/mix                  |  6 |  1 | 2013 |\n",
       "\n"
      ],
      "text/plain": [
       "  names   attr                       month day year\n",
       "1 Hermey  small/dachshund            12    24  1995\n",
       "2 Chewey  small/jack russell terrier 10    11  2003\n",
       "3 Pippa   medium/mix                  1    14  2012\n",
       "4 Prairie small/mix                   6     1  2013"
      ]
     },
     "metadata": {},
     "output_type": "display_data"
    }
   ],
   "source": [
    "breed"
   ]
  },
  {
   "cell_type": "markdown",
   "metadata": {},
   "source": [
    "...the **`month`**, **`day`** and **`year`** columns could all be under the umbrella variable of **`date`**. The `unite()` function does just that. It takes two types of arguments. The first are the columns that need to be *unite*d and the second is the `sep`erator that will go in between them. In the example below, we use the \"-\" to separate each date component."
   ]
  },
  {
   "cell_type": "code",
   "execution_count": 11,
   "metadata": {},
   "outputs": [
    {
     "data": {
      "text/html": [
       "<table>\n",
       "<caption>A data.frame: 4 × 3</caption>\n",
       "<thead>\n",
       "\t<tr><th scope=col>names</th><th scope=col>attr</th><th scope=col>birthdate</th></tr>\n",
       "\t<tr><th scope=col>&lt;fct&gt;</th><th scope=col>&lt;fct&gt;</th><th scope=col>&lt;chr&gt;</th></tr>\n",
       "</thead>\n",
       "<tbody>\n",
       "\t<tr><td>Hermey </td><td>small/dachshund           </td><td>1995-12-24</td></tr>\n",
       "\t<tr><td>Chewey </td><td>small/jack russell terrier</td><td>2003-10-11</td></tr>\n",
       "\t<tr><td>Pippa  </td><td>medium/mix                </td><td>2012-1-14 </td></tr>\n",
       "\t<tr><td>Prairie</td><td>small/mix                 </td><td>2013-6-1  </td></tr>\n",
       "</tbody>\n",
       "</table>\n"
      ],
      "text/latex": [
       "A data.frame: 4 × 3\n",
       "\\begin{tabular}{r|lll}\n",
       " names & attr & birthdate\\\\\n",
       " <fct> & <fct> & <chr>\\\\\n",
       "\\hline\n",
       "\t Hermey  & small/dachshund            & 1995-12-24\\\\\n",
       "\t Chewey  & small/jack russell terrier & 2003-10-11\\\\\n",
       "\t Pippa   & medium/mix                 & 2012-1-14 \\\\\n",
       "\t Prairie & small/mix                  & 2013-6-1  \\\\\n",
       "\\end{tabular}\n"
      ],
      "text/markdown": [
       "\n",
       "A data.frame: 4 × 3\n",
       "\n",
       "| names &lt;fct&gt; | attr &lt;fct&gt; | birthdate &lt;chr&gt; |\n",
       "|---|---|---|\n",
       "| Hermey  | small/dachshund            | 1995-12-24 |\n",
       "| Chewey  | small/jack russell terrier | 2003-10-11 |\n",
       "| Pippa   | medium/mix                 | 2012-1-14  |\n",
       "| Prairie | small/mix                  | 2013-6-1   |\n",
       "\n"
      ],
      "text/plain": [
       "  names   attr                       birthdate \n",
       "1 Hermey  small/dachshund            1995-12-24\n",
       "2 Chewey  small/jack russell terrier 2003-10-11\n",
       "3 Pippa   medium/mix                 2012-1-14 \n",
       "4 Prairie small/mix                  2013-6-1  "
      ]
     },
     "metadata": {},
     "output_type": "display_data"
    }
   ],
   "source": [
    "breed %>% \n",
    "unite(birthdate,year,month,day, sep=\"-\")"
   ]
  },
  {
   "cell_type": "code",
   "execution_count": 10,
   "metadata": {},
   "outputs": [
    {
     "data": {
      "text/html": [
       "<table>\n",
       "<caption>A data.frame: 4 × 5</caption>\n",
       "<thead>\n",
       "\t<tr><th scope=col>names</th><th scope=col>attr</th><th scope=col>month</th><th scope=col>day</th><th scope=col>year</th></tr>\n",
       "\t<tr><th scope=col>&lt;fct&gt;</th><th scope=col>&lt;fct&gt;</th><th scope=col>&lt;int&gt;</th><th scope=col>&lt;int&gt;</th><th scope=col>&lt;int&gt;</th></tr>\n",
       "</thead>\n",
       "<tbody>\n",
       "\t<tr><td>Hermey </td><td>small/dachshund           </td><td>12</td><td>24</td><td>1995</td></tr>\n",
       "\t<tr><td>Chewey </td><td>small/jack russell terrier</td><td>10</td><td>11</td><td>2003</td></tr>\n",
       "\t<tr><td>Pippa  </td><td>medium/mix                </td><td> 1</td><td>14</td><td>2012</td></tr>\n",
       "\t<tr><td>Prairie</td><td>small/mix                 </td><td> 6</td><td> 1</td><td>2013</td></tr>\n",
       "</tbody>\n",
       "</table>\n"
      ],
      "text/latex": [
       "A data.frame: 4 × 5\n",
       "\\begin{tabular}{r|lllll}\n",
       " names & attr & month & day & year\\\\\n",
       " <fct> & <fct> & <int> & <int> & <int>\\\\\n",
       "\\hline\n",
       "\t Hermey  & small/dachshund            & 12 & 24 & 1995\\\\\n",
       "\t Chewey  & small/jack russell terrier & 10 & 11 & 2003\\\\\n",
       "\t Pippa   & medium/mix                 &  1 & 14 & 2012\\\\\n",
       "\t Prairie & small/mix                  &  6 &  1 & 2013\\\\\n",
       "\\end{tabular}\n"
      ],
      "text/markdown": [
       "\n",
       "A data.frame: 4 × 5\n",
       "\n",
       "| names &lt;fct&gt; | attr &lt;fct&gt; | month &lt;int&gt; | day &lt;int&gt; | year &lt;int&gt; |\n",
       "|---|---|---|---|---|\n",
       "| Hermey  | small/dachshund            | 12 | 24 | 1995 |\n",
       "| Chewey  | small/jack russell terrier | 10 | 11 | 2003 |\n",
       "| Pippa   | medium/mix                 |  1 | 14 | 2012 |\n",
       "| Prairie | small/mix                  |  6 |  1 | 2013 |\n",
       "\n"
      ],
      "text/plain": [
       "  names   attr                       month day year\n",
       "1 Hermey  small/dachshund            12    24  1995\n",
       "2 Chewey  small/jack russell terrier 10    11  2003\n",
       "3 Pippa   medium/mix                  1    14  2012\n",
       "4 Prairie small/mix                   6     1  2013"
      ]
     },
     "metadata": {},
     "output_type": "display_data"
    }
   ],
   "source": [
    "head(breed)"
   ]
  },
  {
   "cell_type": "markdown",
   "metadata": {},
   "source": [
    "# Save your notebook, then `File > Close and Halt`"
   ]
  }
 ],
 "metadata": {
  "kernelspec": {
   "display_name": "R",
   "language": "R",
   "name": "ir"
  },
  "language_info": {
   "codemirror_mode": "r",
   "file_extension": ".r",
   "mimetype": "text/x-r-source",
   "name": "R",
   "pygments_lexer": "r",
   "version": "3.5.1"
  }
 },
 "nbformat": 4,
 "nbformat_minor": 1
}
