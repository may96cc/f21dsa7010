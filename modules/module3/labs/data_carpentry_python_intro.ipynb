{
 "cells": [
  {
   "cell_type": "markdown",
   "metadata": {},
   "source": [
    "# Data Carpentry with `Python`\n",
    "\n",
    "Up until this point, reading in our data has been relatively simple. There is a bit of a learning curve to learning a programming language, but our files have been organized in such a way that we have been able to start manipulating it upon reading it in. More often than not, our data will not be in this pre-packaged, ready to play with format. That's where data carpentry comes in.\n",
    "\n",
    "Data carpentry, sometimes referred to as data cleaning, is the first step after acquiring a dataset as your data are rarely in a format that is ready for analysis. This will become more evident to you as you start exploring your own datasets that you will use to answer some type of question, or predict some outcome.\n",
    "\n",
    "So, what does \"messy\" data look like? Take a look at the image below...\n",
    "\n",
    "![title](../images/messy2.png)\n",
    "\n",
    "This is the data we will be working with today."
   ]
  },
  {
   "cell_type": "code",
   "execution_count": null,
   "metadata": {},
   "outputs": [],
   "source": [
    "# import the required packages\n",
    "\n",
    "# xlrd is a package for developers to extract data from\n",
    "# Excel spreadsheets. https://pypi.python.org/pypi/xlrd\n",
    "\n",
    "import pandas as pd \n",
    "import xlrd "
   ]
  },
  {
   "cell_type": "markdown",
   "metadata": {},
   "source": [
    "### The Data\n",
    "\n",
    "This is only a partial dataset on several [species of desert rodents](http://esapubs.org/archive/ecol/E090/118/Portal_rodent_metadata.htm). The files that we have used before have all been `csv`s, but `Python` can handle a lot of different types of file formats. The file we will be working with today is in `.xls` format, otherwise known as an Excel file. But when our data looks like it does above, how is `pandas` going to interpret this? Let's find out..."
   ]
  },
  {
   "cell_type": "code",
   "execution_count": null,
   "metadata": {},
   "outputs": [],
   "source": [
    "# just view what the data would look like when read by pandas\n",
    "\n",
    "pd.read_excel('/dsa/data/all_datasets/messy_survey.xls') "
   ]
  },
  {
   "cell_type": "markdown",
   "metadata": {},
   "source": [
    "Calling this \"messy\" is an understatement. \n",
    "\n",
    "Remember, we are essentially dealing with three different tables in the exact same file. \n",
    "You will notice all of the `NaN` values. \n",
    "This stands for \"Not a Number\" and is the default value for those cells that don't contain data. \n",
    "We will touch more on how to handle these within a dataset in a bit, but for now, we want to get rid of all of those columns and rows that are entirely `NaN`s. \n",
    "\n",
    "Besides removing the irrelevant columns and rows, we all need to translate the species table heading into column data.\n",
    "Our desired data structure would look approximately like this:\n",
    "\n",
    "![final](../images/dc_cleaned_almost.png)"
   ]
  },
  {
   "cell_type": "markdown",
   "metadata": {
    "collapsed": true
   },
   "source": [
    "# The Manual Process\n",
    "\n",
    "Before we dive into the code construction to clean these files, we will look at the process to manually clean up the files with Microsoft Excel.\n",
    "\n",
    "![starting](../images/dc_p1.png)"
   ]
  },
  {
   "cell_type": "markdown",
   "metadata": {},
   "source": [
    "## Remove Irrelevant Columns\n",
    "\n",
    "#### First we need to select some columns and delete them:\n",
    "\n",
    "![delete rows](../images/dc_delete_colmns.png)"
   ]
  },
  {
   "cell_type": "markdown",
   "metadata": {},
   "source": [
    "## Then we may want to add a species column\n",
    "\n",
    "#### We need to get the **Species: XX** value moved into a column:\n",
    "\n",
    "![species column](../images/dc_species_column.png)\n",
    "\n",
    "#### Copy/Type the value into a cell\n",
    "\n",
    "![add dm once](../images/dc_add_species_dm_one.png)\n",
    "\n",
    "#### Fill it down with a corner drag\n",
    "\n",
    "![fill dm](../images/dc_fill_species_DM.png)\n",
    "\n"
   ]
  },
  {
   "cell_type": "markdown",
   "metadata": {},
   "source": [
    "## Repeat with DO\n",
    "\n",
    "![fill dm](../images/dc_species_fill_DO.png)\n",
    "\n",
    "## Repeat with DS\n",
    "\n",
    "![fill dm](../images/dc_fill_species_DS.png)\n"
   ]
  },
  {
   "cell_type": "markdown",
   "metadata": {},
   "source": [
    "## Remove Irrelevant Rows\n",
    "\n",
    "#### Remove the extra top rows\n",
    "\n",
    "![dc_delete_rows_menu](../images/dc_delete_rows_menu.png)"
   ]
  },
  {
   "cell_type": "markdown",
   "metadata": {},
   "source": [
    "#### Remove the rows between tables\n",
    "\n",
    "![dc_delete_rows_menu](../images/dc_delete_rows_2.png)"
   ]
  },
  {
   "cell_type": "markdown",
   "metadata": {},
   "source": [
    "## Finally, almost clean!\n",
    "\n",
    "![dc_cleaned_almost](../images/dc_cleaned_almost.png)"
   ]
  },
  {
   "cell_type": "markdown",
   "metadata": {},
   "source": [
    "## Seems easy enough\n",
    "\n",
    "## <span style=\"background:yellow\">... but wait</span>\n",
    "\n",
    "### You just inherited 100 of these files\n",
    "\n",
    "### or **1000**!\n"
   ]
  },
  {
   "cell_type": "markdown",
   "metadata": {},
   "source": [
    "This is a key aspect of data carpentry!\n",
    "These files that are not well structured for ingestion into computational environments must be cleaned up.\n",
    "If you have a single file, it can easily be managed with familiar \"tools\" like Excel or a text editor.\n",
    "However, if you need to automate the process for 100's, 1000's, or millions of files... you need the right tool!"
   ]
  },
  {
   "cell_type": "markdown",
   "metadata": {},
   "source": [
    "## Please continue to the next data carpentry notebook to see some python data carpentry of this file\n",
    "\n",
    "   * [Data Carpentry with `Python`, part2](./data_carpentry_python2.ipynb)"
   ]
  },
  {
   "cell_type": "markdown",
   "metadata": {},
   "source": [
    "# Save your notebook, then `File > Close and Halt`"
   ]
  }
 ],
 "metadata": {
  "kernelspec": {
   "display_name": "Python 3",
   "language": "python",
   "name": "python3"
  },
  "language_info": {
   "codemirror_mode": {
    "name": "ipython",
    "version": 3
   },
   "file_extension": ".py",
   "mimetype": "text/x-python",
   "name": "python",
   "nbconvert_exporter": "python",
   "pygments_lexer": "ipython3",
   "version": "3.7.3"
  }
 },
 "nbformat": 4,
 "nbformat_minor": 1
}
