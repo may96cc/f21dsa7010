{
 "cells": [
  {
   "cell_type": "markdown",
   "metadata": {},
   "source": [
    "# Data Carpentry for a Mini Analysis (`R`)"
   ]
  },
  {
   "cell_type": "markdown",
   "metadata": {},
   "source": [
    "**Exercise 1:** Read in the dataset, `/dsa/data/all_datasets/baseball-databank/data/Master.csv`. Call this data frame, `df`."
   ]
  },
  {
   "cell_type": "code",
   "execution_count": 26,
   "metadata": {},
   "outputs": [],
   "source": [
    "library(dplyr)\n",
    "library(tidyr)\n",
    "library(lubridate)"
   ]
  },
  {
   "cell_type": "code",
   "execution_count": 32,
   "metadata": {},
   "outputs": [
    {
     "data": {
      "text/html": [
       "<table>\n",
       "<caption>A data.frame: 6 × 24</caption>\n",
       "<thead>\n",
       "\t<tr><th scope=col>playerID</th><th scope=col>birthYear</th><th scope=col>birthMonth</th><th scope=col>birthDay</th><th scope=col>birthCountry</th><th scope=col>birthState</th><th scope=col>birthCity</th><th scope=col>deathYear</th><th scope=col>deathMonth</th><th scope=col>deathDay</th><th scope=col>⋯</th><th scope=col>nameLast</th><th scope=col>nameGiven</th><th scope=col>weight</th><th scope=col>height</th><th scope=col>bats</th><th scope=col>throws</th><th scope=col>debut</th><th scope=col>finalGame</th><th scope=col>retroID</th><th scope=col>bbrefID</th></tr>\n",
       "\t<tr><th scope=col>&lt;fct&gt;</th><th scope=col>&lt;int&gt;</th><th scope=col>&lt;int&gt;</th><th scope=col>&lt;int&gt;</th><th scope=col>&lt;fct&gt;</th><th scope=col>&lt;fct&gt;</th><th scope=col>&lt;fct&gt;</th><th scope=col>&lt;int&gt;</th><th scope=col>&lt;int&gt;</th><th scope=col>&lt;int&gt;</th><th scope=col>⋯</th><th scope=col>&lt;fct&gt;</th><th scope=col>&lt;fct&gt;</th><th scope=col>&lt;int&gt;</th><th scope=col>&lt;int&gt;</th><th scope=col>&lt;fct&gt;</th><th scope=col>&lt;fct&gt;</th><th scope=col>&lt;fct&gt;</th><th scope=col>&lt;fct&gt;</th><th scope=col>&lt;fct&gt;</th><th scope=col>&lt;fct&gt;</th></tr>\n",
       "</thead>\n",
       "<tbody>\n",
       "\t<tr><td>aardsda01</td><td>1981</td><td>12</td><td>27</td><td>USA </td><td>CO       </td><td>Denver    </td><td>  NA</td><td>NA</td><td>NA</td><td>⋯</td><td>Aardsma</td><td>David Allan     </td><td>220</td><td>75</td><td>R</td><td>R</td><td>2004-04-06</td><td>2015-08-23</td><td>aardd001</td><td>aardsda01</td></tr>\n",
       "\t<tr><td>aaronha01</td><td>1934</td><td> 2</td><td> 5</td><td>USA </td><td>AL       </td><td>Mobile    </td><td>  NA</td><td>NA</td><td>NA</td><td>⋯</td><td>Aaron  </td><td>Henry Louis     </td><td>180</td><td>72</td><td>R</td><td>R</td><td>1954-04-13</td><td>1976-10-03</td><td>aaroh101</td><td>aaronha01</td></tr>\n",
       "\t<tr><td>aaronto01</td><td>1939</td><td> 8</td><td> 5</td><td>USA </td><td>AL       </td><td>Mobile    </td><td>1984</td><td> 8</td><td>16</td><td>⋯</td><td>Aaron  </td><td>Tommie Lee      </td><td>190</td><td>75</td><td>R</td><td>R</td><td>1962-04-10</td><td>1971-09-26</td><td>aarot101</td><td>aaronto01</td></tr>\n",
       "\t<tr><td>aasedo01 </td><td>1954</td><td> 9</td><td> 8</td><td>USA </td><td>CA       </td><td>Orange    </td><td>  NA</td><td>NA</td><td>NA</td><td>⋯</td><td>Aase   </td><td>Donald William  </td><td>190</td><td>75</td><td>R</td><td>R</td><td>1977-07-26</td><td>1990-10-03</td><td>aased001</td><td>aasedo01 </td></tr>\n",
       "\t<tr><td>abadan01 </td><td>1972</td><td> 8</td><td>25</td><td>USA </td><td>FL       </td><td>Palm Beach</td><td>  NA</td><td>NA</td><td>NA</td><td>⋯</td><td>Abad   </td><td>Fausto Andres   </td><td>184</td><td>73</td><td>L</td><td>L</td><td>2001-09-10</td><td>2006-04-13</td><td>abada001</td><td>abadan01 </td></tr>\n",
       "\t<tr><td>abadfe01 </td><td>1985</td><td>12</td><td>17</td><td>D.R.</td><td>La Romana</td><td>La Romana </td><td>  NA</td><td>NA</td><td>NA</td><td>⋯</td><td>Abad   </td><td>Fernando Antonio</td><td>220</td><td>73</td><td>L</td><td>L</td><td>2010-07-28</td><td>2015-10-03</td><td>abadf001</td><td>abadfe01 </td></tr>\n",
       "</tbody>\n",
       "</table>\n"
      ],
      "text/latex": [
       "A data.frame: 6 × 24\n",
       "\\begin{tabular}{r|llllllllllllllllllllllll}\n",
       " playerID & birthYear & birthMonth & birthDay & birthCountry & birthState & birthCity & deathYear & deathMonth & deathDay & deathCountry & deathState & deathCity & nameFirst & nameLast & nameGiven & weight & height & bats & throws & debut & finalGame & retroID & bbrefID\\\\\n",
       " <fct> & <int> & <int> & <int> & <fct> & <fct> & <fct> & <int> & <int> & <int> & <fct> & <fct> & <fct> & <fct> & <fct> & <fct> & <int> & <int> & <fct> & <fct> & <fct> & <fct> & <fct> & <fct>\\\\\n",
       "\\hline\n",
       "\t aardsda01 & 1981 & 12 & 27 & USA  & CO        & Denver     &   NA & NA & NA &     &    &         & David    & Aardsma & David Allan      & 220 & 75 & R & R & 2004-04-06 & 2015-08-23 & aardd001 & aardsda01\\\\\n",
       "\t aaronha01 & 1934 &  2 &  5 & USA  & AL        & Mobile     &   NA & NA & NA &     &    &         & Hank     & Aaron   & Henry Louis      & 180 & 72 & R & R & 1954-04-13 & 1976-10-03 & aaroh101 & aaronha01\\\\\n",
       "\t aaronto01 & 1939 &  8 &  5 & USA  & AL        & Mobile     & 1984 &  8 & 16 & USA & GA & Atlanta & Tommie   & Aaron   & Tommie Lee       & 190 & 75 & R & R & 1962-04-10 & 1971-09-26 & aarot101 & aaronto01\\\\\n",
       "\t aasedo01  & 1954 &  9 &  8 & USA  & CA        & Orange     &   NA & NA & NA &     &    &         & Don      & Aase    & Donald William   & 190 & 75 & R & R & 1977-07-26 & 1990-10-03 & aased001 & aasedo01 \\\\\n",
       "\t abadan01  & 1972 &  8 & 25 & USA  & FL        & Palm Beach &   NA & NA & NA &     &    &         & Andy     & Abad    & Fausto Andres    & 184 & 73 & L & L & 2001-09-10 & 2006-04-13 & abada001 & abadan01 \\\\\n",
       "\t abadfe01  & 1985 & 12 & 17 & D.R. & La Romana & La Romana  &   NA & NA & NA &     &    &         & Fernando & Abad    & Fernando Antonio & 220 & 73 & L & L & 2010-07-28 & 2015-10-03 & abadf001 & abadfe01 \\\\\n",
       "\\end{tabular}\n"
      ],
      "text/markdown": [
       "\n",
       "A data.frame: 6 × 24\n",
       "\n",
       "| playerID &lt;fct&gt; | birthYear &lt;int&gt; | birthMonth &lt;int&gt; | birthDay &lt;int&gt; | birthCountry &lt;fct&gt; | birthState &lt;fct&gt; | birthCity &lt;fct&gt; | deathYear &lt;int&gt; | deathMonth &lt;int&gt; | deathDay &lt;int&gt; | ⋯ ⋯ | nameLast &lt;fct&gt; | nameGiven &lt;fct&gt; | weight &lt;int&gt; | height &lt;int&gt; | bats &lt;fct&gt; | throws &lt;fct&gt; | debut &lt;fct&gt; | finalGame &lt;fct&gt; | retroID &lt;fct&gt; | bbrefID &lt;fct&gt; |\n",
       "|---|---|---|---|---|---|---|---|---|---|---|---|---|---|---|---|---|---|---|---|---|\n",
       "| aardsda01 | 1981 | 12 | 27 | USA  | CO        | Denver     |   NA | NA | NA | ⋯ | Aardsma | David Allan      | 220 | 75 | R | R | 2004-04-06 | 2015-08-23 | aardd001 | aardsda01 |\n",
       "| aaronha01 | 1934 |  2 |  5 | USA  | AL        | Mobile     |   NA | NA | NA | ⋯ | Aaron   | Henry Louis      | 180 | 72 | R | R | 1954-04-13 | 1976-10-03 | aaroh101 | aaronha01 |\n",
       "| aaronto01 | 1939 |  8 |  5 | USA  | AL        | Mobile     | 1984 |  8 | 16 | ⋯ | Aaron   | Tommie Lee       | 190 | 75 | R | R | 1962-04-10 | 1971-09-26 | aarot101 | aaronto01 |\n",
       "| aasedo01  | 1954 |  9 |  8 | USA  | CA        | Orange     |   NA | NA | NA | ⋯ | Aase    | Donald William   | 190 | 75 | R | R | 1977-07-26 | 1990-10-03 | aased001 | aasedo01  |\n",
       "| abadan01  | 1972 |  8 | 25 | USA  | FL        | Palm Beach |   NA | NA | NA | ⋯ | Abad    | Fausto Andres    | 184 | 73 | L | L | 2001-09-10 | 2006-04-13 | abada001 | abadan01  |\n",
       "| abadfe01  | 1985 | 12 | 17 | D.R. | La Romana | La Romana  |   NA | NA | NA | ⋯ | Abad    | Fernando Antonio | 220 | 73 | L | L | 2010-07-28 | 2015-10-03 | abadf001 | abadfe01  |\n",
       "\n"
      ],
      "text/plain": [
       "  playerID  birthYear birthMonth birthDay birthCountry birthState birthCity \n",
       "1 aardsda01 1981      12         27       USA          CO         Denver    \n",
       "2 aaronha01 1934       2          5       USA          AL         Mobile    \n",
       "3 aaronto01 1939       8          5       USA          AL         Mobile    \n",
       "4 aasedo01  1954       9          8       USA          CA         Orange    \n",
       "5 abadan01  1972       8         25       USA          FL         Palm Beach\n",
       "6 abadfe01  1985      12         17       D.R.         La Romana  La Romana \n",
       "  deathYear deathMonth deathDay ⋯ nameLast nameGiven        weight height bats\n",
       "1   NA      NA         NA       ⋯ Aardsma  David Allan      220    75     R   \n",
       "2   NA      NA         NA       ⋯ Aaron    Henry Louis      180    72     R   \n",
       "3 1984       8         16       ⋯ Aaron    Tommie Lee       190    75     R   \n",
       "4   NA      NA         NA       ⋯ Aase     Donald William   190    75     R   \n",
       "5   NA      NA         NA       ⋯ Abad     Fausto Andres    184    73     L   \n",
       "6   NA      NA         NA       ⋯ Abad     Fernando Antonio 220    73     L   \n",
       "  throws debut      finalGame  retroID  bbrefID  \n",
       "1 R      2004-04-06 2015-08-23 aardd001 aardsda01\n",
       "2 R      1954-04-13 1976-10-03 aaroh101 aaronha01\n",
       "3 R      1962-04-10 1971-09-26 aarot101 aaronto01\n",
       "4 R      1977-07-26 1990-10-03 aased001 aasedo01 \n",
       "5 L      2001-09-10 2006-04-13 abada001 abadan01 \n",
       "6 L      2010-07-28 2015-10-03 abadf001 abadfe01 "
      ]
     },
     "metadata": {},
     "output_type": "display_data"
    }
   ],
   "source": [
    "# Code for Exercise 1 goes here\n",
    "# -----------------------------\n",
    "df <- read.csv('/dsa/data/all_datasets/baseball-databank/data/Master.csv')\n",
    "head(df)"
   ]
  },
  {
   "cell_type": "markdown",
   "metadata": {},
   "source": [
    "We are not interested in the columns dealing with death for these exercises. Let's go ahead and get rid of them."
   ]
  },
  {
   "cell_type": "markdown",
   "metadata": {},
   "source": [
    "**Exercise 2:** Remove the `deathYear`, `deathMonth`, `deathDay`, `deathCountry`, `deathState`, and `deathCity` columns from the data frame. Rename the data frame without these columns, `players`."
   ]
  },
  {
   "cell_type": "code",
   "execution_count": 33,
   "metadata": {},
   "outputs": [
    {
     "data": {
      "text/html": [
       "<table>\n",
       "<caption>A data.frame: 6 × 18</caption>\n",
       "<thead>\n",
       "\t<tr><th scope=col>playerID</th><th scope=col>birthYear</th><th scope=col>birthMonth</th><th scope=col>birthDay</th><th scope=col>birthCountry</th><th scope=col>birthState</th><th scope=col>birthCity</th><th scope=col>nameFirst</th><th scope=col>nameLast</th><th scope=col>nameGiven</th><th scope=col>weight</th><th scope=col>height</th><th scope=col>bats</th><th scope=col>throws</th><th scope=col>debut</th><th scope=col>finalGame</th><th scope=col>retroID</th><th scope=col>bbrefID</th></tr>\n",
       "\t<tr><th scope=col>&lt;fct&gt;</th><th scope=col>&lt;int&gt;</th><th scope=col>&lt;int&gt;</th><th scope=col>&lt;int&gt;</th><th scope=col>&lt;fct&gt;</th><th scope=col>&lt;fct&gt;</th><th scope=col>&lt;fct&gt;</th><th scope=col>&lt;fct&gt;</th><th scope=col>&lt;fct&gt;</th><th scope=col>&lt;fct&gt;</th><th scope=col>&lt;int&gt;</th><th scope=col>&lt;int&gt;</th><th scope=col>&lt;fct&gt;</th><th scope=col>&lt;fct&gt;</th><th scope=col>&lt;fct&gt;</th><th scope=col>&lt;fct&gt;</th><th scope=col>&lt;fct&gt;</th><th scope=col>&lt;fct&gt;</th></tr>\n",
       "</thead>\n",
       "<tbody>\n",
       "\t<tr><td>aardsda01</td><td>1981</td><td>12</td><td>27</td><td>USA </td><td>CO       </td><td>Denver    </td><td>David   </td><td>Aardsma</td><td>David Allan     </td><td>220</td><td>75</td><td>R</td><td>R</td><td>2004-04-06</td><td>2015-08-23</td><td>aardd001</td><td>aardsda01</td></tr>\n",
       "\t<tr><td>aaronha01</td><td>1934</td><td> 2</td><td> 5</td><td>USA </td><td>AL       </td><td>Mobile    </td><td>Hank    </td><td>Aaron  </td><td>Henry Louis     </td><td>180</td><td>72</td><td>R</td><td>R</td><td>1954-04-13</td><td>1976-10-03</td><td>aaroh101</td><td>aaronha01</td></tr>\n",
       "\t<tr><td>aaronto01</td><td>1939</td><td> 8</td><td> 5</td><td>USA </td><td>AL       </td><td>Mobile    </td><td>Tommie  </td><td>Aaron  </td><td>Tommie Lee      </td><td>190</td><td>75</td><td>R</td><td>R</td><td>1962-04-10</td><td>1971-09-26</td><td>aarot101</td><td>aaronto01</td></tr>\n",
       "\t<tr><td>aasedo01 </td><td>1954</td><td> 9</td><td> 8</td><td>USA </td><td>CA       </td><td>Orange    </td><td>Don     </td><td>Aase   </td><td>Donald William  </td><td>190</td><td>75</td><td>R</td><td>R</td><td>1977-07-26</td><td>1990-10-03</td><td>aased001</td><td>aasedo01 </td></tr>\n",
       "\t<tr><td>abadan01 </td><td>1972</td><td> 8</td><td>25</td><td>USA </td><td>FL       </td><td>Palm Beach</td><td>Andy    </td><td>Abad   </td><td>Fausto Andres   </td><td>184</td><td>73</td><td>L</td><td>L</td><td>2001-09-10</td><td>2006-04-13</td><td>abada001</td><td>abadan01 </td></tr>\n",
       "\t<tr><td>abadfe01 </td><td>1985</td><td>12</td><td>17</td><td>D.R.</td><td>La Romana</td><td>La Romana </td><td>Fernando</td><td>Abad   </td><td>Fernando Antonio</td><td>220</td><td>73</td><td>L</td><td>L</td><td>2010-07-28</td><td>2015-10-03</td><td>abadf001</td><td>abadfe01 </td></tr>\n",
       "</tbody>\n",
       "</table>\n"
      ],
      "text/latex": [
       "A data.frame: 6 × 18\n",
       "\\begin{tabular}{r|llllllllllllllllll}\n",
       " playerID & birthYear & birthMonth & birthDay & birthCountry & birthState & birthCity & nameFirst & nameLast & nameGiven & weight & height & bats & throws & debut & finalGame & retroID & bbrefID\\\\\n",
       " <fct> & <int> & <int> & <int> & <fct> & <fct> & <fct> & <fct> & <fct> & <fct> & <int> & <int> & <fct> & <fct> & <fct> & <fct> & <fct> & <fct>\\\\\n",
       "\\hline\n",
       "\t aardsda01 & 1981 & 12 & 27 & USA  & CO        & Denver     & David    & Aardsma & David Allan      & 220 & 75 & R & R & 2004-04-06 & 2015-08-23 & aardd001 & aardsda01\\\\\n",
       "\t aaronha01 & 1934 &  2 &  5 & USA  & AL        & Mobile     & Hank     & Aaron   & Henry Louis      & 180 & 72 & R & R & 1954-04-13 & 1976-10-03 & aaroh101 & aaronha01\\\\\n",
       "\t aaronto01 & 1939 &  8 &  5 & USA  & AL        & Mobile     & Tommie   & Aaron   & Tommie Lee       & 190 & 75 & R & R & 1962-04-10 & 1971-09-26 & aarot101 & aaronto01\\\\\n",
       "\t aasedo01  & 1954 &  9 &  8 & USA  & CA        & Orange     & Don      & Aase    & Donald William   & 190 & 75 & R & R & 1977-07-26 & 1990-10-03 & aased001 & aasedo01 \\\\\n",
       "\t abadan01  & 1972 &  8 & 25 & USA  & FL        & Palm Beach & Andy     & Abad    & Fausto Andres    & 184 & 73 & L & L & 2001-09-10 & 2006-04-13 & abada001 & abadan01 \\\\\n",
       "\t abadfe01  & 1985 & 12 & 17 & D.R. & La Romana & La Romana  & Fernando & Abad    & Fernando Antonio & 220 & 73 & L & L & 2010-07-28 & 2015-10-03 & abadf001 & abadfe01 \\\\\n",
       "\\end{tabular}\n"
      ],
      "text/markdown": [
       "\n",
       "A data.frame: 6 × 18\n",
       "\n",
       "| playerID &lt;fct&gt; | birthYear &lt;int&gt; | birthMonth &lt;int&gt; | birthDay &lt;int&gt; | birthCountry &lt;fct&gt; | birthState &lt;fct&gt; | birthCity &lt;fct&gt; | nameFirst &lt;fct&gt; | nameLast &lt;fct&gt; | nameGiven &lt;fct&gt; | weight &lt;int&gt; | height &lt;int&gt; | bats &lt;fct&gt; | throws &lt;fct&gt; | debut &lt;fct&gt; | finalGame &lt;fct&gt; | retroID &lt;fct&gt; | bbrefID &lt;fct&gt; |\n",
       "|---|---|---|---|---|---|---|---|---|---|---|---|---|---|---|---|---|---|\n",
       "| aardsda01 | 1981 | 12 | 27 | USA  | CO        | Denver     | David    | Aardsma | David Allan      | 220 | 75 | R | R | 2004-04-06 | 2015-08-23 | aardd001 | aardsda01 |\n",
       "| aaronha01 | 1934 |  2 |  5 | USA  | AL        | Mobile     | Hank     | Aaron   | Henry Louis      | 180 | 72 | R | R | 1954-04-13 | 1976-10-03 | aaroh101 | aaronha01 |\n",
       "| aaronto01 | 1939 |  8 |  5 | USA  | AL        | Mobile     | Tommie   | Aaron   | Tommie Lee       | 190 | 75 | R | R | 1962-04-10 | 1971-09-26 | aarot101 | aaronto01 |\n",
       "| aasedo01  | 1954 |  9 |  8 | USA  | CA        | Orange     | Don      | Aase    | Donald William   | 190 | 75 | R | R | 1977-07-26 | 1990-10-03 | aased001 | aasedo01  |\n",
       "| abadan01  | 1972 |  8 | 25 | USA  | FL        | Palm Beach | Andy     | Abad    | Fausto Andres    | 184 | 73 | L | L | 2001-09-10 | 2006-04-13 | abada001 | abadan01  |\n",
       "| abadfe01  | 1985 | 12 | 17 | D.R. | La Romana | La Romana  | Fernando | Abad    | Fernando Antonio | 220 | 73 | L | L | 2010-07-28 | 2015-10-03 | abadf001 | abadfe01  |\n",
       "\n"
      ],
      "text/plain": [
       "  playerID  birthYear birthMonth birthDay birthCountry birthState birthCity \n",
       "1 aardsda01 1981      12         27       USA          CO         Denver    \n",
       "2 aaronha01 1934       2          5       USA          AL         Mobile    \n",
       "3 aaronto01 1939       8          5       USA          AL         Mobile    \n",
       "4 aasedo01  1954       9          8       USA          CA         Orange    \n",
       "5 abadan01  1972       8         25       USA          FL         Palm Beach\n",
       "6 abadfe01  1985      12         17       D.R.         La Romana  La Romana \n",
       "  nameFirst nameLast nameGiven        weight height bats throws debut     \n",
       "1 David     Aardsma  David Allan      220    75     R    R      2004-04-06\n",
       "2 Hank      Aaron    Henry Louis      180    72     R    R      1954-04-13\n",
       "3 Tommie    Aaron    Tommie Lee       190    75     R    R      1962-04-10\n",
       "4 Don       Aase     Donald William   190    75     R    R      1977-07-26\n",
       "5 Andy      Abad     Fausto Andres    184    73     L    L      2001-09-10\n",
       "6 Fernando  Abad     Fernando Antonio 220    73     L    L      2010-07-28\n",
       "  finalGame  retroID  bbrefID  \n",
       "1 2015-08-23 aardd001 aardsda01\n",
       "2 1976-10-03 aaroh101 aaronha01\n",
       "3 1971-09-26 aarot101 aaronto01\n",
       "4 1990-10-03 aased001 aasedo01 \n",
       "5 2006-04-13 abada001 abadan01 \n",
       "6 2015-10-03 abadf001 abadfe01 "
      ]
     },
     "metadata": {},
     "output_type": "display_data"
    }
   ],
   "source": [
    "# Code for Exercise 2 goes here\n",
    "# -----------------------------\n",
    "players <- select(df, -deathYear, -deathMonth, -deathDay, -deathCountry, -deathState, -deathCity)\n",
    "head(players)"
   ]
  },
  {
   "cell_type": "markdown",
   "metadata": {},
   "source": [
    "**Exercise 3:** Create a date column called `players$birthdate` by combining the `birthYear`, `birthMonth` and `birthDay` columns, then delete these columns."
   ]
  },
  {
   "cell_type": "code",
   "execution_count": 34,
   "metadata": {},
   "outputs": [
    {
     "data": {
      "text/html": [
       "<table>\n",
       "<caption>A data.frame: 6 × 16</caption>\n",
       "<thead>\n",
       "\t<tr><th scope=col>playerID</th><th scope=col>birthCountry</th><th scope=col>birthState</th><th scope=col>birthCity</th><th scope=col>nameFirst</th><th scope=col>nameLast</th><th scope=col>nameGiven</th><th scope=col>weight</th><th scope=col>height</th><th scope=col>bats</th><th scope=col>throws</th><th scope=col>debut</th><th scope=col>finalGame</th><th scope=col>retroID</th><th scope=col>bbrefID</th><th scope=col>birthdate</th></tr>\n",
       "\t<tr><th scope=col>&lt;fct&gt;</th><th scope=col>&lt;fct&gt;</th><th scope=col>&lt;fct&gt;</th><th scope=col>&lt;fct&gt;</th><th scope=col>&lt;fct&gt;</th><th scope=col>&lt;fct&gt;</th><th scope=col>&lt;fct&gt;</th><th scope=col>&lt;int&gt;</th><th scope=col>&lt;int&gt;</th><th scope=col>&lt;fct&gt;</th><th scope=col>&lt;fct&gt;</th><th scope=col>&lt;fct&gt;</th><th scope=col>&lt;fct&gt;</th><th scope=col>&lt;fct&gt;</th><th scope=col>&lt;fct&gt;</th><th scope=col>&lt;date&gt;</th></tr>\n",
       "</thead>\n",
       "<tbody>\n",
       "\t<tr><td>aardsda01</td><td>USA </td><td>CO       </td><td>Denver    </td><td>David   </td><td>Aardsma</td><td>David Allan     </td><td>220</td><td>75</td><td>R</td><td>R</td><td>2004-04-06</td><td>2015-08-23</td><td>aardd001</td><td>aardsda01</td><td>1981-12-27</td></tr>\n",
       "\t<tr><td>aaronha01</td><td>USA </td><td>AL       </td><td>Mobile    </td><td>Hank    </td><td>Aaron  </td><td>Henry Louis     </td><td>180</td><td>72</td><td>R</td><td>R</td><td>1954-04-13</td><td>1976-10-03</td><td>aaroh101</td><td>aaronha01</td><td>1934-02-05</td></tr>\n",
       "\t<tr><td>aaronto01</td><td>USA </td><td>AL       </td><td>Mobile    </td><td>Tommie  </td><td>Aaron  </td><td>Tommie Lee      </td><td>190</td><td>75</td><td>R</td><td>R</td><td>1962-04-10</td><td>1971-09-26</td><td>aarot101</td><td>aaronto01</td><td>1939-08-05</td></tr>\n",
       "\t<tr><td>aasedo01 </td><td>USA </td><td>CA       </td><td>Orange    </td><td>Don     </td><td>Aase   </td><td>Donald William  </td><td>190</td><td>75</td><td>R</td><td>R</td><td>1977-07-26</td><td>1990-10-03</td><td>aased001</td><td>aasedo01 </td><td>1954-09-08</td></tr>\n",
       "\t<tr><td>abadan01 </td><td>USA </td><td>FL       </td><td>Palm Beach</td><td>Andy    </td><td>Abad   </td><td>Fausto Andres   </td><td>184</td><td>73</td><td>L</td><td>L</td><td>2001-09-10</td><td>2006-04-13</td><td>abada001</td><td>abadan01 </td><td>1972-08-25</td></tr>\n",
       "\t<tr><td>abadfe01 </td><td>D.R.</td><td>La Romana</td><td>La Romana </td><td>Fernando</td><td>Abad   </td><td>Fernando Antonio</td><td>220</td><td>73</td><td>L</td><td>L</td><td>2010-07-28</td><td>2015-10-03</td><td>abadf001</td><td>abadfe01 </td><td>1985-12-17</td></tr>\n",
       "</tbody>\n",
       "</table>\n"
      ],
      "text/latex": [
       "A data.frame: 6 × 16\n",
       "\\begin{tabular}{r|llllllllllllllll}\n",
       " playerID & birthCountry & birthState & birthCity & nameFirst & nameLast & nameGiven & weight & height & bats & throws & debut & finalGame & retroID & bbrefID & birthdate\\\\\n",
       " <fct> & <fct> & <fct> & <fct> & <fct> & <fct> & <fct> & <int> & <int> & <fct> & <fct> & <fct> & <fct> & <fct> & <fct> & <date>\\\\\n",
       "\\hline\n",
       "\t aardsda01 & USA  & CO        & Denver     & David    & Aardsma & David Allan      & 220 & 75 & R & R & 2004-04-06 & 2015-08-23 & aardd001 & aardsda01 & 1981-12-27\\\\\n",
       "\t aaronha01 & USA  & AL        & Mobile     & Hank     & Aaron   & Henry Louis      & 180 & 72 & R & R & 1954-04-13 & 1976-10-03 & aaroh101 & aaronha01 & 1934-02-05\\\\\n",
       "\t aaronto01 & USA  & AL        & Mobile     & Tommie   & Aaron   & Tommie Lee       & 190 & 75 & R & R & 1962-04-10 & 1971-09-26 & aarot101 & aaronto01 & 1939-08-05\\\\\n",
       "\t aasedo01  & USA  & CA        & Orange     & Don      & Aase    & Donald William   & 190 & 75 & R & R & 1977-07-26 & 1990-10-03 & aased001 & aasedo01  & 1954-09-08\\\\\n",
       "\t abadan01  & USA  & FL        & Palm Beach & Andy     & Abad    & Fausto Andres    & 184 & 73 & L & L & 2001-09-10 & 2006-04-13 & abada001 & abadan01  & 1972-08-25\\\\\n",
       "\t abadfe01  & D.R. & La Romana & La Romana  & Fernando & Abad    & Fernando Antonio & 220 & 73 & L & L & 2010-07-28 & 2015-10-03 & abadf001 & abadfe01  & 1985-12-17\\\\\n",
       "\\end{tabular}\n"
      ],
      "text/markdown": [
       "\n",
       "A data.frame: 6 × 16\n",
       "\n",
       "| playerID &lt;fct&gt; | birthCountry &lt;fct&gt; | birthState &lt;fct&gt; | birthCity &lt;fct&gt; | nameFirst &lt;fct&gt; | nameLast &lt;fct&gt; | nameGiven &lt;fct&gt; | weight &lt;int&gt; | height &lt;int&gt; | bats &lt;fct&gt; | throws &lt;fct&gt; | debut &lt;fct&gt; | finalGame &lt;fct&gt; | retroID &lt;fct&gt; | bbrefID &lt;fct&gt; | birthdate &lt;date&gt; |\n",
       "|---|---|---|---|---|---|---|---|---|---|---|---|---|---|---|---|\n",
       "| aardsda01 | USA  | CO        | Denver     | David    | Aardsma | David Allan      | 220 | 75 | R | R | 2004-04-06 | 2015-08-23 | aardd001 | aardsda01 | 1981-12-27 |\n",
       "| aaronha01 | USA  | AL        | Mobile     | Hank     | Aaron   | Henry Louis      | 180 | 72 | R | R | 1954-04-13 | 1976-10-03 | aaroh101 | aaronha01 | 1934-02-05 |\n",
       "| aaronto01 | USA  | AL        | Mobile     | Tommie   | Aaron   | Tommie Lee       | 190 | 75 | R | R | 1962-04-10 | 1971-09-26 | aarot101 | aaronto01 | 1939-08-05 |\n",
       "| aasedo01  | USA  | CA        | Orange     | Don      | Aase    | Donald William   | 190 | 75 | R | R | 1977-07-26 | 1990-10-03 | aased001 | aasedo01  | 1954-09-08 |\n",
       "| abadan01  | USA  | FL        | Palm Beach | Andy     | Abad    | Fausto Andres    | 184 | 73 | L | L | 2001-09-10 | 2006-04-13 | abada001 | abadan01  | 1972-08-25 |\n",
       "| abadfe01  | D.R. | La Romana | La Romana  | Fernando | Abad    | Fernando Antonio | 220 | 73 | L | L | 2010-07-28 | 2015-10-03 | abadf001 | abadfe01  | 1985-12-17 |\n",
       "\n"
      ],
      "text/plain": [
       "  playerID  birthCountry birthState birthCity  nameFirst nameLast\n",
       "1 aardsda01 USA          CO         Denver     David     Aardsma \n",
       "2 aaronha01 USA          AL         Mobile     Hank      Aaron   \n",
       "3 aaronto01 USA          AL         Mobile     Tommie    Aaron   \n",
       "4 aasedo01  USA          CA         Orange     Don       Aase    \n",
       "5 abadan01  USA          FL         Palm Beach Andy      Abad    \n",
       "6 abadfe01  D.R.         La Romana  La Romana  Fernando  Abad    \n",
       "  nameGiven        weight height bats throws debut      finalGame  retroID \n",
       "1 David Allan      220    75     R    R      2004-04-06 2015-08-23 aardd001\n",
       "2 Henry Louis      180    72     R    R      1954-04-13 1976-10-03 aaroh101\n",
       "3 Tommie Lee       190    75     R    R      1962-04-10 1971-09-26 aarot101\n",
       "4 Donald William   190    75     R    R      1977-07-26 1990-10-03 aased001\n",
       "5 Fausto Andres    184    73     L    L      2001-09-10 2006-04-13 abada001\n",
       "6 Fernando Antonio 220    73     L    L      2010-07-28 2015-10-03 abadf001\n",
       "  bbrefID   birthdate \n",
       "1 aardsda01 1981-12-27\n",
       "2 aaronha01 1934-02-05\n",
       "3 aaronto01 1939-08-05\n",
       "4 aasedo01  1954-09-08\n",
       "5 abadan01  1972-08-25\n",
       "6 abadfe01  1985-12-17"
      ]
     },
     "metadata": {},
     "output_type": "display_data"
    }
   ],
   "source": [
    "# Code for Exercise 3 goes here\n",
    "# -----------------------------\n",
    "players$birthdate <- make_date(players$birthYear, players$birthMonth,players$birthDay)\n",
    "players <- select(players, -birthYear, -birthMonth, - birthDay)\n",
    "head(players)"
   ]
  },
  {
   "cell_type": "markdown",
   "metadata": {},
   "source": [
    "**Exercise 4**: Now convert the `players$debut` and `players$finalGame` columns to date columns."
   ]
  },
  {
   "cell_type": "code",
   "execution_count": 35,
   "metadata": {},
   "outputs": [],
   "source": [
    "# Code for Exercise 4 goes here\n",
    "# -----------------------------\n",
    "players$debut <- ymd(players$debut)\n",
    "players$finalGame <- ymd(players$finalGame)"
   ]
  },
  {
   "cell_type": "markdown",
   "metadata": {},
   "source": [
    "This is a good time to discuss how to calculate differences between times. `lubridate` provides some convenient ways to do this by simply subtracting one date from another. See the example below."
   ]
  },
  {
   "cell_type": "code",
   "execution_count": 16,
   "metadata": {},
   "outputs": [
    {
     "data": {
      "text/plain": [
       "Time difference of 6056 days"
      ]
     },
     "metadata": {},
     "output_type": "display_data"
    }
   ],
   "source": [
    "delta<-dmy(\"01-03-2017\")-mdy(\"August 1st, 2000\")\n",
    "delta\n",
    "\n"
   ]
  },
  {
   "cell_type": "markdown",
   "metadata": {},
   "source": [
    "**Exercise 5**: Create a new column in the players data frame called `debut_age` that finds the difference in days between a players birth and their debut."
   ]
  },
  {
   "cell_type": "code",
   "execution_count": 36,
   "metadata": {},
   "outputs": [
    {
     "data": {
      "text/html": [
       "<table>\n",
       "<caption>A data.frame: 6 × 17</caption>\n",
       "<thead>\n",
       "\t<tr><th scope=col>playerID</th><th scope=col>birthCountry</th><th scope=col>birthState</th><th scope=col>birthCity</th><th scope=col>nameFirst</th><th scope=col>nameLast</th><th scope=col>nameGiven</th><th scope=col>weight</th><th scope=col>height</th><th scope=col>bats</th><th scope=col>throws</th><th scope=col>debut</th><th scope=col>finalGame</th><th scope=col>retroID</th><th scope=col>bbrefID</th><th scope=col>birthdate</th><th scope=col>debut_age</th></tr>\n",
       "\t<tr><th scope=col>&lt;fct&gt;</th><th scope=col>&lt;fct&gt;</th><th scope=col>&lt;fct&gt;</th><th scope=col>&lt;fct&gt;</th><th scope=col>&lt;fct&gt;</th><th scope=col>&lt;fct&gt;</th><th scope=col>&lt;fct&gt;</th><th scope=col>&lt;int&gt;</th><th scope=col>&lt;int&gt;</th><th scope=col>&lt;fct&gt;</th><th scope=col>&lt;fct&gt;</th><th scope=col>&lt;date&gt;</th><th scope=col>&lt;date&gt;</th><th scope=col>&lt;fct&gt;</th><th scope=col>&lt;fct&gt;</th><th scope=col>&lt;date&gt;</th><th scope=col>&lt;drtn&gt;</th></tr>\n",
       "</thead>\n",
       "<tbody>\n",
       "\t<tr><td>aardsda01</td><td>USA </td><td>CO       </td><td>Denver    </td><td>David   </td><td>Aardsma</td><td>David Allan     </td><td>220</td><td>75</td><td>R</td><td>R</td><td>2004-04-06</td><td>2015-08-23</td><td>aardd001</td><td>aardsda01</td><td>1981-12-27</td><td> 8136 days</td></tr>\n",
       "\t<tr><td>aaronha01</td><td>USA </td><td>AL       </td><td>Mobile    </td><td>Hank    </td><td>Aaron  </td><td>Henry Louis     </td><td>180</td><td>72</td><td>R</td><td>R</td><td>1954-04-13</td><td>1976-10-03</td><td>aaroh101</td><td>aaronha01</td><td>1934-02-05</td><td> 7372 days</td></tr>\n",
       "\t<tr><td>aaronto01</td><td>USA </td><td>AL       </td><td>Mobile    </td><td>Tommie  </td><td>Aaron  </td><td>Tommie Lee      </td><td>190</td><td>75</td><td>R</td><td>R</td><td>1962-04-10</td><td>1971-09-26</td><td>aarot101</td><td>aaronto01</td><td>1939-08-05</td><td> 8284 days</td></tr>\n",
       "\t<tr><td>aasedo01 </td><td>USA </td><td>CA       </td><td>Orange    </td><td>Don     </td><td>Aase   </td><td>Donald William  </td><td>190</td><td>75</td><td>R</td><td>R</td><td>1977-07-26</td><td>1990-10-03</td><td>aased001</td><td>aasedo01 </td><td>1954-09-08</td><td> 8357 days</td></tr>\n",
       "\t<tr><td>abadan01 </td><td>USA </td><td>FL       </td><td>Palm Beach</td><td>Andy    </td><td>Abad   </td><td>Fausto Andres   </td><td>184</td><td>73</td><td>L</td><td>L</td><td>2001-09-10</td><td>2006-04-13</td><td>abada001</td><td>abadan01 </td><td>1972-08-25</td><td>10608 days</td></tr>\n",
       "\t<tr><td>abadfe01 </td><td>D.R.</td><td>La Romana</td><td>La Romana </td><td>Fernando</td><td>Abad   </td><td>Fernando Antonio</td><td>220</td><td>73</td><td>L</td><td>L</td><td>2010-07-28</td><td>2015-10-03</td><td>abadf001</td><td>abadfe01 </td><td>1985-12-17</td><td> 8989 days</td></tr>\n",
       "</tbody>\n",
       "</table>\n"
      ],
      "text/latex": [
       "A data.frame: 6 × 17\n",
       "\\begin{tabular}{r|lllllllllllllllll}\n",
       " playerID & birthCountry & birthState & birthCity & nameFirst & nameLast & nameGiven & weight & height & bats & throws & debut & finalGame & retroID & bbrefID & birthdate & debut\\_age\\\\\n",
       " <fct> & <fct> & <fct> & <fct> & <fct> & <fct> & <fct> & <int> & <int> & <fct> & <fct> & <date> & <date> & <fct> & <fct> & <date> & <drtn>\\\\\n",
       "\\hline\n",
       "\t aardsda01 & USA  & CO        & Denver     & David    & Aardsma & David Allan      & 220 & 75 & R & R & 2004-04-06 & 2015-08-23 & aardd001 & aardsda01 & 1981-12-27 &  8136 days\\\\\n",
       "\t aaronha01 & USA  & AL        & Mobile     & Hank     & Aaron   & Henry Louis      & 180 & 72 & R & R & 1954-04-13 & 1976-10-03 & aaroh101 & aaronha01 & 1934-02-05 &  7372 days\\\\\n",
       "\t aaronto01 & USA  & AL        & Mobile     & Tommie   & Aaron   & Tommie Lee       & 190 & 75 & R & R & 1962-04-10 & 1971-09-26 & aarot101 & aaronto01 & 1939-08-05 &  8284 days\\\\\n",
       "\t aasedo01  & USA  & CA        & Orange     & Don      & Aase    & Donald William   & 190 & 75 & R & R & 1977-07-26 & 1990-10-03 & aased001 & aasedo01  & 1954-09-08 &  8357 days\\\\\n",
       "\t abadan01  & USA  & FL        & Palm Beach & Andy     & Abad    & Fausto Andres    & 184 & 73 & L & L & 2001-09-10 & 2006-04-13 & abada001 & abadan01  & 1972-08-25 & 10608 days\\\\\n",
       "\t abadfe01  & D.R. & La Romana & La Romana  & Fernando & Abad    & Fernando Antonio & 220 & 73 & L & L & 2010-07-28 & 2015-10-03 & abadf001 & abadfe01  & 1985-12-17 &  8989 days\\\\\n",
       "\\end{tabular}\n"
      ],
      "text/markdown": [
       "\n",
       "A data.frame: 6 × 17\n",
       "\n",
       "| playerID &lt;fct&gt; | birthCountry &lt;fct&gt; | birthState &lt;fct&gt; | birthCity &lt;fct&gt; | nameFirst &lt;fct&gt; | nameLast &lt;fct&gt; | nameGiven &lt;fct&gt; | weight &lt;int&gt; | height &lt;int&gt; | bats &lt;fct&gt; | throws &lt;fct&gt; | debut &lt;date&gt; | finalGame &lt;date&gt; | retroID &lt;fct&gt; | bbrefID &lt;fct&gt; | birthdate &lt;date&gt; | debut_age &lt;drtn&gt; |\n",
       "|---|---|---|---|---|---|---|---|---|---|---|---|---|---|---|---|---|\n",
       "| aardsda01 | USA  | CO        | Denver     | David    | Aardsma | David Allan      | 220 | 75 | R | R | 2004-04-06 | 2015-08-23 | aardd001 | aardsda01 | 1981-12-27 |  8136 days |\n",
       "| aaronha01 | USA  | AL        | Mobile     | Hank     | Aaron   | Henry Louis      | 180 | 72 | R | R | 1954-04-13 | 1976-10-03 | aaroh101 | aaronha01 | 1934-02-05 |  7372 days |\n",
       "| aaronto01 | USA  | AL        | Mobile     | Tommie   | Aaron   | Tommie Lee       | 190 | 75 | R | R | 1962-04-10 | 1971-09-26 | aarot101 | aaronto01 | 1939-08-05 |  8284 days |\n",
       "| aasedo01  | USA  | CA        | Orange     | Don      | Aase    | Donald William   | 190 | 75 | R | R | 1977-07-26 | 1990-10-03 | aased001 | aasedo01  | 1954-09-08 |  8357 days |\n",
       "| abadan01  | USA  | FL        | Palm Beach | Andy     | Abad    | Fausto Andres    | 184 | 73 | L | L | 2001-09-10 | 2006-04-13 | abada001 | abadan01  | 1972-08-25 | 10608 days |\n",
       "| abadfe01  | D.R. | La Romana | La Romana  | Fernando | Abad    | Fernando Antonio | 220 | 73 | L | L | 2010-07-28 | 2015-10-03 | abadf001 | abadfe01  | 1985-12-17 |  8989 days |\n",
       "\n"
      ],
      "text/plain": [
       "  playerID  birthCountry birthState birthCity  nameFirst nameLast\n",
       "1 aardsda01 USA          CO         Denver     David     Aardsma \n",
       "2 aaronha01 USA          AL         Mobile     Hank      Aaron   \n",
       "3 aaronto01 USA          AL         Mobile     Tommie    Aaron   \n",
       "4 aasedo01  USA          CA         Orange     Don       Aase    \n",
       "5 abadan01  USA          FL         Palm Beach Andy      Abad    \n",
       "6 abadfe01  D.R.         La Romana  La Romana  Fernando  Abad    \n",
       "  nameGiven        weight height bats throws debut      finalGame  retroID \n",
       "1 David Allan      220    75     R    R      2004-04-06 2015-08-23 aardd001\n",
       "2 Henry Louis      180    72     R    R      1954-04-13 1976-10-03 aaroh101\n",
       "3 Tommie Lee       190    75     R    R      1962-04-10 1971-09-26 aarot101\n",
       "4 Donald William   190    75     R    R      1977-07-26 1990-10-03 aased001\n",
       "5 Fausto Andres    184    73     L    L      2001-09-10 2006-04-13 abada001\n",
       "6 Fernando Antonio 220    73     L    L      2010-07-28 2015-10-03 abadf001\n",
       "  bbrefID   birthdate  debut_age \n",
       "1 aardsda01 1981-12-27  8136 days\n",
       "2 aaronha01 1934-02-05  7372 days\n",
       "3 aaronto01 1939-08-05  8284 days\n",
       "4 aasedo01  1954-09-08  8357 days\n",
       "5 abadan01  1972-08-25 10608 days\n",
       "6 abadfe01  1985-12-17  8989 days"
      ]
     },
     "metadata": {},
     "output_type": "display_data"
    }
   ],
   "source": [
    "# Code for Exercise 5 goes here\n",
    "# -----------------------------\n",
    "players$debut_age <- players$debut - players$birthdate\n",
    "head(players)"
   ]
  },
  {
   "cell_type": "markdown",
   "metadata": {},
   "source": [
    "**Exercise 6**: Find the mean age in years of the `debut_age` column. (Hint: you may have to use the `as.numeric()` function on the `debut_age` column to remove the language around each value. Also, when finding the mean, you may need to use the `na.rm` parameter. Finally, remember,the `debut_age` values are currently in days but we want years)"
   ]
  },
  {
   "cell_type": "code",
   "execution_count": 37,
   "metadata": {},
   "outputs": [
    {
     "name": "stdout",
     "output_type": "stream",
     "text": [
      "[1] 24.31923\n"
     ]
    }
   ],
   "source": [
    "# Code for Exercise 6 goes here\n",
    "# -----------------------------\n",
    "print(mean(as.numeric(players$debut_age) / 365, na.rm = TRUE))"
   ]
  },
  {
   "cell_type": "markdown",
   "metadata": {},
   "source": [
    "# Save your notebook, then `File > Close and Halt`"
   ]
  }
 ],
 "metadata": {
  "kernelspec": {
   "display_name": "R",
   "language": "R",
   "name": "ir"
  },
  "language_info": {
   "codemirror_mode": "r",
   "file_extension": ".r",
   "mimetype": "text/x-r-source",
   "name": "R",
   "pygments_lexer": "r",
   "version": "3.5.1"
  }
 },
 "nbformat": 4,
 "nbformat_minor": 2
}
