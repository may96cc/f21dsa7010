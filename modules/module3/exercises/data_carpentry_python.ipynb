{
 "cells": [
  {
   "cell_type": "markdown",
   "metadata": {},
   "source": [
    "# Data Carpentry for a Mini Analysis (`Python`)"
   ]
  },
  {
   "cell_type": "markdown",
   "metadata": {},
   "source": [
    "Data carpentry is a necessary step before we can do any type of analysis. For this exercise, we are going to cleanup the `/baseball-databank/data/Master.csv` that we worked with in the practice and then run a mini analysis on it."
   ]
  },
  {
   "cell_type": "markdown",
   "metadata": {},
   "source": [
    "**Exercise 1:** With `pandas`, read in the dataset, `/dsa/data/all_datasets/baseball-databank/data/Master.csv`. Call this data frame, `df`."
   ]
  },
  {
   "cell_type": "code",
   "execution_count": null,
   "metadata": {},
   "outputs": [],
   "source": [
    "# Code for Exercise 1 goes here\n",
    "# -----------------------------\n",
    "\n",
    "\n"
   ]
  },
  {
   "cell_type": "markdown",
   "metadata": {},
   "source": [
    "So the columns dealing with death are not necessary for our analysis and just taking up space. Let's go ahead and get rid of them altogether. \n",
    "\n",
    "**Exercise 2:** Remove the `deathYear`, `deathMonth`, `deathDay`, `deathCountry`, `deathState`, and `deathCity` columns from the data frame. Rename the data frame without these columns, `df`."
   ]
  },
  {
   "cell_type": "code",
   "execution_count": null,
   "metadata": {},
   "outputs": [],
   "source": [
    "# Code for Exercise 2 goes here\n",
    "# -----------------------------\n",
    "\n",
    "\n"
   ]
  },
  {
   "cell_type": "markdown",
   "metadata": {},
   "source": [
    "We now need to start toward the process of combining the values in the `birhtYear`, `birthMonth` and `birthDay` so that we can turn this into a datetime column. First, we need to remove the rows where these columns have `NaN` values.\n",
    "\n",
    "**Exercise 3:** Now remove the **rows** where the `birthYear`, `birthMonth` and `birthDay` columns are `NaN`. Be sure to reset the index. Call this data frame, `players`."
   ]
  },
  {
   "cell_type": "code",
   "execution_count": null,
   "metadata": {},
   "outputs": [],
   "source": [
    "# Code for Exercise 3 goes here\n",
    "# -----------------------------\n",
    "\n",
    "\n"
   ]
  },
  {
   "cell_type": "markdown",
   "metadata": {},
   "source": [
    "Right now the `players['birthYear']`, `players['birthMonth']`, and `players['birthDay']` columns are floats. We need to convert them to integers and then strings in order to make this process work.\n",
    "\n",
    "**Exercise 4:** Convert the `players['birthYear']` and `players['birthDay']` to integers and then strings and then rename these columns `players['birthYear']` and `players['birthDay']`. **For the `players['birthMonth']` column, just change it to an integer.**"
   ]
  },
  {
   "cell_type": "code",
   "execution_count": null,
   "metadata": {},
   "outputs": [],
   "source": [
    "# Code for Exercise 4 goes here\n",
    "# -----------------------------\n",
    "\n",
    "\n"
   ]
  },
  {
   "cell_type": "markdown",
   "metadata": {},
   "source": [
    "Now that `players['birthMonth']` is an integer, we need to add a 0 to all of those months that are single digits. For example `1` will become `01`. This will help when we turn the combined rows into a datetime object. \n",
    "\n",
    "For this, you are going to need to run a for loop using this line within the loop, `\"{:02}\".format(i)`. `i` is the item in the for loop, so be sure that you are iterating over the `players.birthMonth` column. Be sure to add all of these new values to a list that will then become the new `players['birthMonth']` column.\n",
    "\n",
    "**Exercise 5** Create a list using a for loop that takes the values in the `players['birthMonth']` column and adds a 0 to those values with only a single digit. Then assign this list of values to the `players['birthMonth']` column name."
   ]
  },
  {
   "cell_type": "code",
   "execution_count": null,
   "metadata": {},
   "outputs": [],
   "source": [
    "# Code for Exercise 5 goes here\n",
    "# -----------------------------\n",
    "\n",
    "\n"
   ]
  },
  {
   "cell_type": "markdown",
   "metadata": {},
   "source": [
    "**Exercise 6:** Create a single column that strings the values of the `players['birthYear']`, `players['birthMonth']`, and `players['birthDay']` columns together. Be sure to add a hyphen (-) in between the Year and the Month, and the between the Month and the Day. For example, if row 1 had `1950`, `08`, and `01` for the `players['birthYear']`, `players['birthMonth']`, and `players['birthDay']` columns respecitively, the combined row will be `1950-08-01`. Name this row `players['birthdate']`.\n",
    "\n",
    "*Hint: You can combine the values of string columns together through the following method: `df['column1'] + df['column2']`.*"
   ]
  },
  {
   "cell_type": "code",
   "execution_count": null,
   "metadata": {},
   "outputs": [],
   "source": [
    "# Code for Exercise 6 goes here\n",
    "# -----------------------------\n",
    "\n",
    "\n"
   ]
  },
  {
   "cell_type": "markdown",
   "metadata": {},
   "source": [
    "**Exercise 7:** Now turn the `players['birthdate']`, `players['debut']`, and `players['finalGame']` columns into datetime data types. "
   ]
  },
  {
   "cell_type": "code",
   "execution_count": null,
   "metadata": {},
   "outputs": [],
   "source": [
    "# Code for Exercise 7 goes here\n",
    "# -----------------------------\n",
    "\n",
    "\n"
   ]
  },
  {
   "cell_type": "markdown",
   "metadata": {},
   "source": [
    "**Exercise 8:** Subtract the `birthdate` column from the `debut` column to find out the ages of the players when they started. You will want to call the `.astype('timedelta64[Y]')` method on this value to get the result to return in years. Call this `begin_age`."
   ]
  },
  {
   "cell_type": "code",
   "execution_count": null,
   "metadata": {},
   "outputs": [],
   "source": [
    "# Code for Exercise 8 goes here\n",
    "# -----------------------------\n",
    "\n",
    "\n"
   ]
  },
  {
   "cell_type": "markdown",
   "metadata": {},
   "source": [
    "**Exercise 9:** Find some descriptive statistics on `begin_age`. Who is the oldest person ever to debut? What is the mean age of players when they begin? The median? Standard deviation? "
   ]
  },
  {
   "cell_type": "code",
   "execution_count": null,
   "metadata": {},
   "outputs": [],
   "source": [
    "# Code for Exercise 9 goes here\n",
    "# -----------------------------\n",
    "\n",
    "\n"
   ]
  },
  {
   "cell_type": "markdown",
   "metadata": {},
   "source": [
    "# Save your notebook, then `File > Close and Halt`"
   ]
  }
 ],
 "metadata": {
  "kernelspec": {
   "display_name": "Python 3",
   "language": "python",
   "name": "python3"
  },
  "language_info": {
   "codemirror_mode": {
    "name": "ipython",
    "version": 3
   },
   "file_extension": ".py",
   "mimetype": "text/x-python",
   "name": "python",
   "nbconvert_exporter": "python",
   "pygments_lexer": "ipython3",
   "version": "3.7.3"
  }
 },
 "nbformat": 4,
 "nbformat_minor": 1
}
