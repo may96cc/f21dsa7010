{
 "cells": [
  {
   "cell_type": "markdown",
   "metadata": {},
   "source": [
    "# Practicing Data Carpentry with `R`\n",
    "\n",
    "Data carpentry wears many hats. There is the concept of table structure, which we covered in the lab portion, and then there is getting your variables in proper data types that make analysis and manipulations simpler. This practice will focus on just that and, more specifically, with datetime variables because these are among the most difficult to work with.\n",
    "\n",
    "We are moving away from the dummy data that we used in the lab and using a dataset full of professional baseball players. Baseball data is abundant. It has been actively collected for over a century. This particular dataset has certain components that could be modified, in terms of table structure but, as mentioned above, we are going to be working with datetime object manipulations.\n",
    "\n",
    "We'll begin by importing our packages and reading in the data. Many of the fuctions we will be using today are from the `lubridate` package, which makes working with datetime objects a lot simpler (a lot, a lot). Read more about it [here](https://lubridate.tidyverse.org/)"
   ]
  },
  {
   "cell_type": "code",
   "execution_count": null,
   "metadata": {},
   "outputs": [],
   "source": [
    "library(tidyr)\n",
    "library(dplyr)\n",
    "library(ggplot2)\n",
    "library(lubridate)\n",
    "\n",
    "players <- read.csv('/dsa/data/all_datasets/baseball-databank/data/Master.csv')\n",
    "head(players)"
   ]
  },
  {
   "cell_type": "markdown",
   "metadata": {},
   "source": [
    "This dataset is rather wide, so much so that not all of the columns are rendered in JupyterHub. Fortunately, the variable names are rather clear as to what type of values they contain (ie. `birthMonth` is the month that the baseball player was born in). Instead of viewing the the contents of the dataset, let's just take a look at all of the column names to get a better idea of what we are working with."
   ]
  },
  {
   "cell_type": "code",
   "execution_count": null,
   "metadata": {},
   "outputs": [],
   "source": [
    "names(players)"
   ]
  },
  {
   "cell_type": "markdown",
   "metadata": {},
   "source": [
    "The `names()` function returns a list of the column names of the of the data frame passed to it. We are going to be looking at several of the date columns for this practice. Let's begin with looking at what the data types of some of these columns are.\n",
    "\n"
   ]
  },
  {
   "cell_type": "code",
   "execution_count": null,
   "metadata": {},
   "outputs": [],
   "source": [
    "head(players$finalGame)   # first 5 values \n",
    "typeof(players$finalGame) # type of object"
   ]
  },
  {
   "cell_type": "markdown",
   "metadata": {},
   "source": [
    "Right now the values in the `finalGame` column are integers and in their current format you can't do anything interesting with them like calculate the time between two dates or extract the day of the week. That's where `lubridate` comes in. \n",
    "\n",
    "First, let's demonstrate how you can change something into an interpretable date object. The following three flexible functions make handling different date formats extremely simple."
   ]
  },
  {
   "cell_type": "code",
   "execution_count": null,
   "metadata": {},
   "outputs": [],
   "source": [
    "dmy('01-08-1800') # August 1st, 1800\n",
    "ymd('2016/9/12')  # September 9th, 2016\n",
    "mdy('May 12th, 2012') # May 12th, 2012"
   ]
  },
  {
   "cell_type": "markdown",
   "metadata": {},
   "source": [
    "As you can see, the three examples are meant to handle dates that are input differently. In each scenario, `d` is for day, `m` for month, and `y` for year. Putting the three to together in the order of the input, renders a date object with the proper date.\n",
    "\n",
    "These functions can also be run over data frame columns."
   ]
  },
  {
   "cell_type": "markdown",
   "metadata": {},
   "source": [
    "**Exercise 1**: *Overwrite the `players$finalGame`  column to a date object with year month date format using a `lubridate` function.*"
   ]
  },
  {
   "cell_type": "code",
   "execution_count": null,
   "metadata": {},
   "outputs": [],
   "source": [
    "# Code for Exercise 1 goes here \n",
    "# -----------------------------\n",
    "\n",
    "players <-\n",
    "    players %>%\n",
    "    mutate(finalGame = ymd(finalGame)) \n",
    "\n",
    "# uncomment the line below and this will work too\n",
    "# players$finalGame <- ymd(players$finalGame)\n",
    "\n",
    "head(players$finalGame) "
   ]
  },
  {
   "cell_type": "markdown",
   "metadata": {
    "collapsed": true
   },
   "source": [
    "**Exercise 2**: *Now convert `players$debut` to a date object with the same year month date format using `lubridate`.*"
   ]
  },
  {
   "cell_type": "code",
   "execution_count": null,
   "metadata": {},
   "outputs": [],
   "source": [
    "# Code for Exercise 2 goes here \n",
    "# -----------------------------\n",
    "\n",
    "players <-\n",
    "    players %>%\n",
    "    mutate(debut = ymd(debut)) \n",
    "\n",
    "# uncomment the line below and this will work too\n",
    "# players$debut <- ymd(players$debut)\n",
    "\n",
    "head(players$debut)"
   ]
  },
  {
   "cell_type": "markdown",
   "metadata": {},
   "source": [
    "Below is a good example of some of the functionality provided by `lubridate` date objects. Imagine I wanted to know what day of the week most players debuted. Well, once the column is a date obeject, we can run the `wday()` function on it to extract the day of the week. The numbers in this case go from 1, Sunday to 7, Saturday."
   ]
  },
  {
   "cell_type": "code",
   "execution_count": null,
   "metadata": {},
   "outputs": [],
   "source": [
    "players$debut <- ymd(players$debut)\n",
    "head(wday(players$debut), 10)"
   ]
  },
  {
   "cell_type": "markdown",
   "metadata": {},
   "source": [
    "**Exercise 3**: *Create a column in the `players` data frame called `debutMonth` and assign the month name (as in 1 = Jan, 2 = Feb and so on...) of the `players$debut` column. (Hint: find a function similar to the `wday()` function and take a look at the `label` parameter)*"
   ]
  },
  {
   "cell_type": "code",
   "execution_count": null,
   "metadata": {},
   "outputs": [],
   "source": [
    "# Code for Exercise 3 goes here \n",
    "# -----------------------------\n",
    "\n",
    "players$debutMonth <- month(players$debut, label = TRUE)\n",
    "\n",
    "head(players$debutMonth)"
   ]
  },
  {
   "cell_type": "markdown",
   "metadata": {},
   "source": [
    "Remember back to the practice where we used the `unite()` function to combine three columns into one column because it was a date. Well, this data frame does a similar thing with each players birthday. The birthYear, birthMonth and birthDay variables are all separate columns. Well, `lubridate` provides a function that allows us to draw from different inputs. The `make_date()` function can take in three inputs to construct a date. \n",
    "\n",
    "Let's try it out for leapday 2012."
   ]
  },
  {
   "cell_type": "code",
   "execution_count": null,
   "metadata": {},
   "outputs": [],
   "source": [
    "make_date(2012,2,29)"
   ]
  },
  {
   "cell_type": "markdown",
   "metadata": {},
   "source": [
    "And just for fun, for a mistaken leapday..."
   ]
  },
  {
   "cell_type": "code",
   "execution_count": null,
   "metadata": {},
   "outputs": [],
   "source": [
    "make_date(2013,2,29)"
   ]
  },
  {
   "cell_type": "markdown",
   "metadata": {},
   "source": [
    "`lubridate` keeps leap years in mind.\n",
    "\n",
    "**Exercise 4**: *Create a column called `players$birthdate` using the `make_date()` function.*"
   ]
  },
  {
   "cell_type": "code",
   "execution_count": null,
   "metadata": {},
   "outputs": [],
   "source": [
    "# Code for Exercise 4 goes here \n",
    "# -----------------------------\n",
    "\n",
    "players <-\n",
    "players %>%\n",
    "mutate(birthdate = make_date(birthYear, birthMonth, birthDay))"
   ]
  },
  {
   "cell_type": "markdown",
   "metadata": {},
   "source": [
    "**Exercise 5**: *Now using the 'players$birthdate' column you just created, find the month tha most players were born in. (Hint: There are several ways to do this with `dplyr`)*"
   ]
  },
  {
   "cell_type": "code",
   "execution_count": null,
   "metadata": {},
   "outputs": [],
   "source": [
    "# Code for Exercise 5 goes here \n",
    "# -----------------------------\n",
    "\n",
    "players %>% \n",
    "mutate(b_month = month(birthdate, label = TRUE)) %>% \n",
    "group_by(b_month) %>% tally()\n",
    "\n",
    "# add %>% filter(n == max(n)) to select the month that most players were born in"
   ]
  },
  {
   "cell_type": "markdown",
   "metadata": {},
   "source": [
    "# Save your Notebook, then `File > Close and Halt`"
   ]
  }
 ],
 "metadata": {
  "kernelspec": {
   "display_name": "R",
   "language": "R",
   "name": "ir"
  },
  "language_info": {
   "codemirror_mode": "r",
   "file_extension": ".r",
   "mimetype": "text/x-r-source",
   "name": "R",
   "pygments_lexer": "r",
   "version": "3.5.1"
  }
 },
 "nbformat": 4,
 "nbformat_minor": 2
}
