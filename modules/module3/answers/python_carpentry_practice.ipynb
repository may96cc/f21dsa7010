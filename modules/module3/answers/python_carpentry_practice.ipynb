{
 "cells": [
  {
   "cell_type": "markdown",
   "metadata": {},
   "source": [
    "# Practicing Data Carpentry with `Python`\n",
    "\n",
    "\n",
    "Remember, data carpentry is limitless. Datasets are messy in different ways so we have to think about the best way to clean them according to the type of question we are trying to answer.\n",
    "\n",
    "We are going look at some of the baseball data. Now, the beauty of baseball data is that it has been regularly collected for decades, so there is a lot of it, and it is generally well organized, so much of our cleaning problems won't be to restructure the data. Instead, since there is so much of it, we often need to do data conversions in order to tackle our problems effectively. \n",
    "\n",
    "Let's go ahead and read in the `Master.csv`, which has data on all of the players. We will call this data frame, `players`."
   ]
  },
  {
   "cell_type": "markdown",
   "metadata": {},
   "source": [
    "### Read in the Data"
   ]
  },
  {
   "cell_type": "code",
   "execution_count": null,
   "metadata": {},
   "outputs": [],
   "source": [
    "import pandas as pd\n",
    " \n",
    "players = pd.read_csv('/dsa/data/all_datasets/baseball-databank/data/Master.csv')"
   ]
  },
  {
   "cell_type": "code",
   "execution_count": null,
   "metadata": {},
   "outputs": [],
   "source": [
    "players.head()"
   ]
  },
  {
   "cell_type": "markdown",
   "metadata": {},
   "source": [
    "Do you see the column of ellipses? This means that those columns are there, but they aren't rendered right now because the frame would be too wide. So, instead, let's print out all of the column names in order to see what labels they have."
   ]
  },
  {
   "cell_type": "code",
   "execution_count": null,
   "metadata": {},
   "outputs": [],
   "source": [
    "players.columns"
   ]
  },
  {
   "cell_type": "markdown",
   "metadata": {},
   "source": [
    "Look at the `finalGame` column. It is actually a date, but if we find the data type right now, it is an object. "
   ]
  },
  {
   "cell_type": "code",
   "execution_count": null,
   "metadata": {},
   "outputs": [],
   "source": [
    "players.finalGame.head()"
   ]
  },
  {
   "cell_type": "markdown",
   "metadata": {},
   "source": [
    "**Note**: an object `dtype` in pandas is actually a way to describe a vector of strings. This is borrowed from `numpy` in which vectors must contain items of the same byte size and, given that strings are of variable sizes, `pandas` saves pointers to objects. "
   ]
  },
  {
   "cell_type": "code",
   "execution_count": null,
   "metadata": {},
   "outputs": [],
   "source": [
    "players.finalGame.dtype"
   ]
  },
  {
   "cell_type": "markdown",
   "metadata": {},
   "source": [
    "Here is how we would change it to a datetime data type. "
   ]
  },
  {
   "cell_type": "code",
   "execution_count": null,
   "metadata": {},
   "outputs": [],
   "source": [
    "pd.to_datetime(players.finalGame)"
   ]
  },
  {
   "cell_type": "markdown",
   "metadata": {},
   "source": [
    "We are going to be working a lot with datetime datetime variables during this practice. Accounting for time is often a powerful dimension if your data contains it. However, working with dates and times can be particularly difficult and is the reason why this lesson is particularly heavy in working with them. Like other data types, datetimes come built with unique functionality that allows the user to perform useful operations. "
   ]
  },
  {
   "cell_type": "markdown",
   "metadata": {},
   "source": [
    "**Exercise 1**: *Overwrite the `players['finalGame']` column to the new datetime object.*"
   ]
  },
  {
   "cell_type": "code",
   "execution_count": null,
   "metadata": {},
   "outputs": [],
   "source": [
    "# Code for Exercise 1 goes here \n",
    "# -----------------------------\n",
    "\n",
    "players.finalGame = pd.to_datetime(players.finalGame)\n",
    "\n"
   ]
  },
  {
   "cell_type": "markdown",
   "metadata": {},
   "source": [
    "**Exercise 2**: *Convert `players['debut']` to a datetime object then overwrite the `players['debut']` column to the new datetime object.*"
   ]
  },
  {
   "cell_type": "code",
   "execution_count": null,
   "metadata": {},
   "outputs": [],
   "source": [
    "# Code for Exercise 2 goes here \n",
    "# -----------------------------\n",
    "\n",
    "players.debut = pd.to_datetime(players.debut)\n",
    "\n"
   ]
  },
  {
   "cell_type": "markdown",
   "metadata": {},
   "source": [
    "Creating a datetime object is nice because datetime objects come with their own methods. For example, if we wanted to see a distribution of the days of the week, we could do that by extracting the day of the week. Take a look at how we would do that below."
   ]
  },
  {
   "cell_type": "code",
   "execution_count": null,
   "metadata": {},
   "outputs": [],
   "source": [
    "players['finalGame'] = pd.to_datetime(players.finalGame)\n",
    "players['finalGame'].dt.weekday_name.head()"
   ]
  },
  {
   "cell_type": "markdown",
   "metadata": {},
   "source": [
    "This returns a series of days of the week, which could be nice for certain types of analyses.\n",
    "\n",
    "**Exercise 3**: *Create a column in the `players` data frame called `debutMonth` and assign the month number (as in Jan = 1, Feb = 2 and so on) of the `players['debut']` column.*"
   ]
  },
  {
   "cell_type": "code",
   "execution_count": null,
   "metadata": {},
   "outputs": [],
   "source": [
    "# Code for Exercise 3 goes here \n",
    "# -----------------------------\n",
    "\n",
    "players['debutMonth'] = players['debut'].dt.month\n",
    "\n",
    "# and if we wanted to transform to ints\n",
    "players['debut'].dt.month.dropna().astype('int')"
   ]
  },
  {
   "cell_type": "markdown",
   "metadata": {},
   "source": [
    "Last week we worked with some descriptive statistics, and it would be nice to be able to compute some on some variables from this data frame. However, sometimes the data isn't in the correct type and therefore the summary stats would produce something a little funny.\n",
    "\n",
    "Take a look at the `birthYear` column as it is right now when we call describe on it.\n"
   ]
  },
  {
   "cell_type": "code",
   "execution_count": null,
   "metadata": {},
   "outputs": [],
   "source": [
    "players['birthYear'].describe()"
   ]
  },
  {
   "cell_type": "markdown",
   "metadata": {},
   "source": [
    "It doesn't really make sense to find the mean or standard deviation of the `birthYear` column. Year is actually a discrete variable and the number of people born each year might be more interesting. \n",
    "\n",
    "Below, we convert the `birthYear` column to a discrete variable, but first we must get rid of the `NaN`s."
   ]
  },
  {
   "cell_type": "code",
   "execution_count": null,
   "metadata": {},
   "outputs": [],
   "source": [
    "players['birthYear']=players['birthYear'].fillna(-1).astype(int).astype('category')\n",
    "players['birthYear'].describe()"
   ]
  },
  {
   "cell_type": "markdown",
   "metadata": {},
   "source": [
    "You can see that we changed the `NaN`s with the value -1, and then we changed it to an integer, to get rid of the decimals, and then finally created a discrete variable so we can run the correct type of summary statistics. But what did we forget? Oh yes, the -1s are still in there and those are just empty. \n",
    "\n",
    "**Exercise 4**: *Run the `describe()` method on the `birthYear` without the `-1` values.*"
   ]
  },
  {
   "cell_type": "code",
   "execution_count": null,
   "metadata": {},
   "outputs": [],
   "source": [
    "# Code for Exercise 4 goes here \n",
    "# -----------------------------\n",
    "\n",
    "\n",
    "new = players[players['birthYear'] != -1]\n",
    "new['birthYear'].describe()\n",
    "\n",
    "# or this\n",
    "players[players['birthYear'] != -1]['birthYear'].describe()"
   ]
  },
  {
   "cell_type": "markdown",
   "metadata": {},
   "source": [
    "**Exercise 5**: *Find the Month that most players were born in.*"
   ]
  },
  {
   "cell_type": "code",
   "execution_count": null,
   "metadata": {},
   "outputs": [],
   "source": [
    "# Code for Exercise 5 goes here \n",
    "# -----------------------------\n",
    "\n",
    "\n",
    "p = players.groupby(['birthMonth'], as_index = False).count()\n",
    "p[p['playerID']==max(p.playerID)]['birthMonth']\n"
   ]
  },
  {
   "cell_type": "markdown",
   "metadata": {},
   "source": [
    "# Save your Notebook, then `File > Close and Halt`"
   ]
  }
 ],
 "metadata": {
  "kernelspec": {
   "display_name": "Python 3",
   "language": "python",
   "name": "python3"
  },
  "language_info": {
   "codemirror_mode": {
    "name": "ipython",
    "version": 3
   },
   "file_extension": ".py",
   "mimetype": "text/x-python",
   "name": "python",
   "nbconvert_exporter": "python",
   "pygments_lexer": "ipython3",
   "version": "3.7.3"
  }
 },
 "nbformat": 4,
 "nbformat_minor": 1
}
