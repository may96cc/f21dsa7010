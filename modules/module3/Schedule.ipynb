{
 "cells": [
  {
   "cell_type": "markdown",
   "metadata": {},
   "source": [
    "# Module 3 : Data Cleaning and Reshaping\n",
    "----"
   ]
  },
  {
   "cell_type": "markdown",
   "metadata": {},
   "source": [
    "## Topics covered   \n",
    "- Techniques for cleaning data\n",
    "- Techniques for structuring data\n",
    "- Working with datetime objects\n",
    "\n",
    "## Note\n",
    "Data carpentry covers many topics, including:\n",
    "- Data Acquisition\n",
    "- Data Cleanup\n",
    "- Data Reformatting\n",
    "- Data Structuring\n",
    "In this course, as part of our overview of the Data Science Lifecycle, we are going to focus on the cleanup and reformatting (reshaping) of the data.  We want you to keep this in mind in the context of the exploratory data analysis you learned about in module 2.\n",
    "\n",
    "Later DSA courses dive deeper into the full spectrum of data carpentry in a more formal process, Data Engineering."
   ]
  },
  {
   "cell_type": "markdown",
   "metadata": {},
   "source": [
    "## Objectives\n",
    "- Students will become familiar and conduct data carpentry using R and Python"
   ]
  },
  {
   "cell_type": "markdown",
   "metadata": {},
   "source": [
    "## Readings\n",
    "- [Tidy Data](resources/tidy-data.pdf)\n"
   ]
  },
  {
   "cell_type": "markdown",
   "metadata": {},
   "source": [
    "## Videos\n",
    "- [Data Carpentry](https://youtu.be/xenqsPYWjgg)\n"
   ]
  },
  {
   "cell_type": "markdown",
   "metadata": {},
   "source": [
    "## Discussion \n",
    "**Initial post due by Wednesday at 11:59pm**\n",
    "\n",
    "- [Data Clearning](https://umsystem.instructure.com/courses/8147/discussion_topics/675591)"
   ]
  },
  {
   "cell_type": "markdown",
   "metadata": {},
   "source": [
    "\n",
    "## Labs, Practices and Exercises\n",
    "\n",
    "### Labs\n",
    " 1. [Data Carpentry with `R`](labs/data_carpentry_r.ipynb)\n",
    " 1. [Data Carpentry with `Python`](labs/data_carpentry_python_intro.ipynb) \n",
    " 1. [Data Carpentry with `Python`, part2](labs/data_carpentry_python2.ipynb)  \n",
    "\n",
    "\n",
    "### Practices \n",
    " 1. [Practicing Data Carpentry with `R`](practices/r_carpentry_practice.ipynb)\n",
    "   * [Answers](answers/r_carpentry_practice.ipynb)\n",
    " 1. [Practicing Data Carpentry with `Python`](practices/python_carpentry_practice.ipynb)\n",
    "   * [Answers](answers/python_carpentry_practice.ipynb)\n",
    "   \n",
    "   \n",
    "### Exercises\n",
    " 1. [Data Carpentry for a Mini Analysis (`R`)](exercises/data_carpentry_r.ipynb)\n",
    "   * Now is a good time to create a git snapshot of your work (add, commit)\n",
    " 1. [Data Carpentry for a Mini Analysis (`Python`)](exercises/data_carpentry_python.ipynb)\n",
    "   * Now is a good time to create a git snapshot of your work (add, commit)\n",
    " \n"
   ]
  },
  {
   "cell_type": "markdown",
   "metadata": {},
   "source": [
    "# Submit Your Work\n",
    "\n",
    "Be sure you have submitted your practices and exercises for this Module!\n",
    " * [See Module 1, Submission of Work](../module1/labs/CommittingWork.ipynb)\n",
    "\n",
    "It is best practice to create a save point (commit) after each interval of work, e.g., when you are done for the day or you have completed a notebook."
   ]
  },
  {
   "cell_type": "markdown",
   "metadata": {},
   "source": [
    "\n",
    "## Data Sets\n",
    "Path: `/dsa/data/all_datasets/`\n",
    "\n",
    "Dataset Name    | File\n",
    "----------------|------------\n",
    "Dummy Pet WT    | `/dummy/pet_wt.csv`\n",
    "Dummy Pet descr | `/dummy/pet_descr.csv`\n",
    "Dummy Pet attr  | `/dummy/pet_attr.csv`\n",
    "Messy Rodent    | `messy_survey.xls`\n",
    "MLB Players     | `baseball-databank/data/Master.csv`"
   ]
  }
 ],
 "metadata": {
  "kernelspec": {
   "display_name": "Python 3",
   "language": "python",
   "name": "python3"
  },
  "language_info": {
   "codemirror_mode": {
    "name": "ipython",
    "version": 3
   },
   "file_extension": ".py",
   "mimetype": "text/x-python",
   "name": "python",
   "nbconvert_exporter": "python",
   "pygments_lexer": "ipython3",
   "version": "3.7.3"
  }
 },
 "nbformat": 4,
 "nbformat_minor": 2
}
