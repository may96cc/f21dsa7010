{
 "cells": [
  {
   "cell_type": "markdown",
   "metadata": {},
   "source": [
    "# `ggplot2` Theming\n",
    "\n",
    "There are a couple more things that we have to discuss when dealing with `ggplot2`. The first is themes and the second is coloring geoms with your own specified colors.\n",
    "\n",
    "Again, we will be working with `congress-terms.csv`, which we used in Module 2."
   ]
  },
  {
   "cell_type": "code",
   "execution_count": null,
   "metadata": {},
   "outputs": [],
   "source": [
    "frame <- read.csv('/dsa/data/all_datasets/congress-terms.csv')\n",
    "head(frame)"
   ]
  },
  {
   "cell_type": "markdown",
   "metadata": {},
   "source": [
    "## Themes\n",
    "\n",
    "We are going to be reading in the packages that we will be using for this exercise. Some of them are new and the reason for that is that we are going to show you how to create your own theme. But first, let's talk about themes...\n",
    "\n",
    "The [theme](https://ggplot2.tidyverse.org/reference/index.html#section-themes) is the non-data components of the plot - things like the background, the gridlines, the colors of non-data objects, etc. There are multiple built in themes and we will take a look at them now. \n",
    "\n",
    "Run the next few cells..."
   ]
  },
  {
   "cell_type": "code",
   "execution_count": null,
   "metadata": {},
   "outputs": [],
   "source": [
    "library(ggplot2); library(scales); library(grid); library(RColorBrewer); library(dplyr)"
   ]
  },
  {
   "cell_type": "code",
   "execution_count": null,
   "metadata": {},
   "outputs": [],
   "source": [
    "# create a data frame of the mean age per congress per chamber\n",
    "sum_frame <-\n",
    "frame %>%\n",
    "    group_by(congress,chamber) %>%\n",
    "    summarize(mean(age),sd(age))\n",
    "\n",
    "plot1 <-ggplot(data = sum_frame,aes(x = congress, y = `mean(age)`, colour = chamber)) +\n",
    "    geom_line()\n",
    "\n",
    "plot1 # default theme"
   ]
  },
  {
   "cell_type": "code",
   "execution_count": null,
   "metadata": {},
   "outputs": [],
   "source": [
    "plot1 + theme_bw()"
   ]
  },
  {
   "cell_type": "code",
   "execution_count": null,
   "metadata": {},
   "outputs": [],
   "source": [
    "plot1 + theme_dark()"
   ]
  },
  {
   "cell_type": "markdown",
   "metadata": {},
   "source": [
    "See what happened? The background color changed depending on the theme that we used. Also, notice how we can name plots. This plot was named `plot1` and it allows us to easily keep a base layer and add other aesthetic components or themes to a single plot. That's how we were able to call `plot1 + theme_bw()` and `plot1 + theme_dark()`. \n",
    "\n",
    "Now we can also create a theme of our own. This is where some of the other packages come into play, such as RColorBrewer, which provides us nice color palettes to work with to make our plots more aesthetically pleasing. We will call this `my_theme`."
   ]
  },
  {
   "cell_type": "code",
   "execution_count": null,
   "metadata": {},
   "outputs": [],
   "source": [
    "my_theme <- function() {\n",
    "      \n",
    "    # Generate the colors for the chart procedurally with RColorBrewer\n",
    "    palette <- brewer.pal(\"Greys\", n=9) # create a palette of shades of grey \n",
    "    color.background = palette[1] # background plot color\n",
    "    color.grid.major = palette[3] \n",
    "    color.grid.minor = palette[2]\n",
    "    color.axis.text = palette[6] # text color \n",
    "    color.axis.title = palette[7]\n",
    "    color.title = palette[9]\n",
    "\n",
    "    # Begin construction of chart\n",
    "    theme_bw(base_size=9) +\n",
    "\n",
    "    # Set the entire chart region to a white color\n",
    "    theme(panel.background=element_rect(fill=color.background, color=color.background)) +\n",
    "    theme(plot.background=element_rect(fill=color.background, color=color.background)) +\n",
    "    theme(panel.border=element_rect(color=color.background)) +\n",
    "\n",
    "    # Format the grid\n",
    "    theme(panel.grid.major=element_line(color=color.grid.major,size=.25)) +\n",
    "    theme(panel.grid.minor=element_blank()) +\n",
    "    theme(axis.ticks=element_blank()) +\n",
    "\n",
    "    # Format the legend, but hide by default\n",
    "    theme(legend.position=\"bottom\") +\n",
    "    theme(legend.background = element_rect(fill=color.background)) +\n",
    "    theme(legend.text = element_text(size=7,color=color.axis.title)) +\n",
    "\n",
    "    # Set title and axis labels, and format these and tick marks\n",
    "    theme(plot.title=element_text(color=color.title, size=10, vjust=1.25)) +\n",
    "    theme(axis.text.x=element_text(size=7,color=color.axis.text)) +\n",
    "    theme(axis.text.y=element_text(size=7,color=color.axis.text)) +\n",
    "    theme(axis.title.x=element_text(size=8,color=color.axis.title, vjust=0)) +\n",
    "    theme(axis.title.y=element_text(size=8,color=color.axis.title, vjust=1.25)) +\n",
    "    \n",
    "    # Set facet attributes\n",
    "    theme(strip.background = element_rect(fill=color.background, colour = color.background)) +\n",
    "    theme(strip.text = element_text(size = 15, colour = color.axis.text)) +\n",
    "\n",
    "    # Plot margins\n",
    "    theme(plot.margin = unit(c(0.35, 0.2, 0.3, 0.35), \"cm\"))\n",
    "}"
   ]
  },
  {
   "cell_type": "markdown",
   "metadata": {},
   "source": [
    "Now it is as simple as calling `plot1 + my_theme()`. Let's do that..."
   ]
  },
  {
   "cell_type": "code",
   "execution_count": null,
   "metadata": {},
   "outputs": [],
   "source": [
    "plot1 + my_theme()"
   ]
  },
  {
   "cell_type": "markdown",
   "metadata": {},
   "source": [
    "## Custom Colors\n",
    "\n",
    "`ggplot2` does a good job at providing default colors, like the red and blue above. But sometimes we may want to use our own colors, be it to stick with your company's color palette, or the information is better represented with specific colors. For example, you will often see graphs depicting Republican data as red, while those dealing with Democratic data are blue. \n",
    "\n",
    "There are different functions to specify color depending on what type of aesthetic we are trying to customize. Take the example below, the function `scale_colour_manual()` is used to change the `colour` aesthetic. If we had specified `fill` as an aesthetic then the function would be `scale_fill_manual()`."
   ]
  },
  {
   "cell_type": "code",
   "execution_count": null,
   "metadata": {},
   "outputs": [],
   "source": [
    "plot1 + scale_colour_manual(values=c('#00ff00','#ff00ff')) + my_theme()"
   ]
  },
  {
   "cell_type": "markdown",
   "metadata": {},
   "source": [
    "Keep in mind that we are still visualizing `plot1`. In this case the ` scale_colour_manual()` took one parameter, `values`, in which we passed a list of `html` colors for each category (house and senate) of the `colour` aesthetic.  You can pick some `html` colors [here](http://www.w3schools.com/colors/colors_picker.asp). "
   ]
  },
  {
   "cell_type": "markdown",
   "metadata": {},
   "source": [
    "# Save your notebook, then `File > Close and Halt`"
   ]
  }
 ],
 "metadata": {
  "kernelspec": {
   "display_name": "R",
   "language": "R",
   "name": "ir"
  },
  "language_info": {
   "codemirror_mode": "r",
   "file_extension": ".r",
   "mimetype": "text/x-r-source",
   "name": "R",
   "pygments_lexer": "r",
   "version": "3.5.1"
  }
 },
 "nbformat": 4,
 "nbformat_minor": 1
}
