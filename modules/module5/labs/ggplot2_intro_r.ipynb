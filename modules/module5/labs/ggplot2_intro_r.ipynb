{
 "cells": [
  {
   "cell_type": "markdown",
   "metadata": {},
   "source": [
    "# Getting Acquainted with Visualizing Data in `R`\n",
    "\n",
    "Up to this point, we have only used base `R` to visualize our data. In this module, we are going to build upon our knowledge of plotting. We will be learning the ins and outs of an `R` package called `ggplot2`, which provides a flexible grammar for plotting your data."
   ]
  },
  {
   "cell_type": "markdown",
   "metadata": {
    "collapsed": true
   },
   "source": [
    "<img src=\"../images/ds_wheel.png\">"
   ]
  },
  {
   "cell_type": "markdown",
   "metadata": {},
   "source": [
    "We will be working with several datasets that come built-in to `ggplot2` for this lab as well as the practice. The first dataset we will be dealing with is the `iris` dataset.\n",
    "\n",
    "### Iris Data\n",
    "\n",
    "This is a built-in dataset in `R` that measures certain characteristics of different species of Iris plants. It can be viewed in the same way that you would call any other data frame by simply calling `iris`. Nothing needs to be loaded from a file as it is already built-in. We will be using this and other files to scrape the surface of data visualizations."
   ]
  },
  {
   "cell_type": "code",
   "execution_count": null,
   "metadata": {},
   "outputs": [],
   "source": [
    "library(ggplot2)\n",
    "head(iris)"
   ]
  },
  {
   "cell_type": "markdown",
   "metadata": {},
   "source": [
    "### Simple Plots in `R`\n",
    "\n",
    "Below is an example of base `R`'s method for plotting variables. As we have seen before, it will produce different types of plots given different context, normally, it attempts to be helpful. However, it is rather complicated to customize. Take a look at the example below.\n"
   ]
  },
  {
   "cell_type": "code",
   "execution_count": null,
   "metadata": {},
   "outputs": [],
   "source": [
    "plot(iris$Sepal.Width, iris$Sepal.Length)"
   ]
  },
  {
   "cell_type": "markdown",
   "metadata": {},
   "source": [
    "plot(<font color='green'>iris\\$Sepal.Width</font>,<font color='blue'>iris\\$Sepal.Length</font>)\n",
    "\n",
    "- <font color='green'>x-variable : iris\\$Sepal.Width</font>\n",
    "\n",
    "- <font color='blue'>y-variable : iris\\$Sepal.Length</font>\n",
    "\n",
    "\n",
    "In order to visualize what exactly we are plotting, here is an example of the sepal length and width on an actual iris flower.\n",
    "\n",
    "<img src=\"../images/iris.jpg\">\n",
    "\n",
    "However, this plot doesn't give us a whole lot of information about the relationship of sepal length given sepal width. Is there more information that we could include in this visual analysis? What if we account for the different species? Will that change the visualization?"
   ]
  },
  {
   "cell_type": "markdown",
   "metadata": {},
   "source": [
    "###  Plotting in `R` with `ggplot2`"
   ]
  },
  {
   "cell_type": "markdown",
   "metadata": {},
   "source": [
    "Before we start accounting for different species, it is first important to introduce the `ggplot2` package.  This is a plotting package that is extremely popular as it allows individuals to plot their data according to a certain grammar (if this seems familiar, it is written by the [same individual](http://hadley.nz/) who wrote `dplyr`). In fact, the \"gg\" in `ggplot2` stands for \"the grammar of graphics\". \n",
    "\n",
    "For the rest of this lab, we will be exploring the power of plotting with this grammar. We will start with making a simple scatter plot, like we did above with base `R`."
   ]
  },
  {
   "cell_type": "code",
   "execution_count": null,
   "metadata": {},
   "outputs": [],
   "source": [
    "qplot(data = iris, x = Sepal.Width, y = Sepal.Length)"
   ]
  },
  {
   "cell_type": "markdown",
   "metadata": {},
   "source": [
    "See the difference? We can go through the parameters of the `qplot()` function. `data` is simply the frame you wish to use for plotting. This makes it simpler to reference our variables and less repetitive. `x` is just the variable that should be mapped to the x-axis, and `y` is the y-axis variable. As you can see, all we have to do is pass the variable (column) name as the argument to these axes parameters.\n",
    "\n",
    "But we can take this a step further. What if we wanted to visualize three variables? How might we do that? Well, if the third variable is categorical, we could use shape or color or both! to delineate between categories. "
   ]
  },
  {
   "cell_type": "code",
   "execution_count": null,
   "metadata": {},
   "outputs": [],
   "source": [
    "qplot(data = iris, x = Sepal.Width, y = Sepal.Length, colour = Species, shape = Species) "
   ]
  },
  {
   "cell_type": "markdown",
   "metadata": {},
   "source": [
    "Okay, so now the relationship between sepal width and sepal length is a bit clearer. When accounting for species, it appears that as the sepal width increases, so does the sepal length. Using both color and shape to delineate between species revealed this relationship.\n",
    "\n",
    "Notice how that works? You specify the variables that you wish to represent as different colors or shapes in the same way you would specify them to be the x or y axes. I will note here that a New Zealander wrote this package and therefore the parameter `colour` is spelled with a \"u\". Specifying `color` also works in order to accommodate for those in favor the American spelling, however, the majority of the time throughout these lessons, you will see it written `colour` because `<TAB>` complete defaults to this form.\n",
    "\n",
    "Now, can we better visualize the relationship between sepal width and height? How about if we include a line depicting the linear relationship between the variables?"
   ]
  },
  {
   "cell_type": "code",
   "execution_count": null,
   "metadata": {},
   "outputs": [],
   "source": [
    "qplot(data = iris, x = Sepal.Width, y = Sepal.Length, colour = Species, shape = Species) + \n",
    "    geom_smooth(method = lm, se = FALSE)"
   ]
  },
  {
   "cell_type": "markdown",
   "metadata": {
    "collapsed": true
   },
   "source": [
    "There we have it! These lines depict the linear relationship between width and height. But you will notice something a little bit different. Instead of just having one function, we see a new one appended to it, `geom_smooth()`. This function adds a new geometric object to the plot, in this case a smooth. Notice the parameters of this function: `method` and `se`. For `method` we specify that we want the line to be the linear relationship and for `se` we specify `FALSE`, which removes the standard error shading around the lines. Feel free to play with these parameters to see how they modify the plot."
   ]
  },
  {
   "cell_type": "markdown",
   "metadata": {},
   "source": [
    "# Understanding the Basics of `ggplot2` through Scatter Plots!!!\n",
    "\n",
    "In order to understand the different components of `ggplot2` and, ultimately, how these components come together to make an effective plot, we are going to be dealing with another default dataset of `ggplot2`. It is called `mpg` and it records different attributes about vehicles including how many miles per gallon each get. Let's first use `R`'s help in order to get some documentation about `mpg`. "
   ]
  },
  {
   "cell_type": "code",
   "execution_count": null,
   "metadata": {},
   "outputs": [],
   "source": [
    "?mpg"
   ]
  },
  {
   "cell_type": "markdown",
   "metadata": {},
   "source": [
    "### Simple Scatter\n",
    "\n",
    "We will begin by looking at two variables. Let's just say that we are interested in the engine displacement and how it affects a vehicle's highway miles per gallon. If you are not familiar with what engine displacement is, [here is a Wikipedia article](https://en.wikipedia.org/wiki/Engine_displacement) for a bit more information. \n",
    "\n",
    "We will begin with a simple scatter plot of these two variables. As is customary, the independent variable is on the x-axis and the dependent is on the y-axis."
   ]
  },
  {
   "cell_type": "code",
   "execution_count": null,
   "metadata": {},
   "outputs": [],
   "source": [
    "qplot(displ, hwy, data = mpg)"
   ]
  },
  {
   "cell_type": "markdown",
   "metadata": {},
   "source": [
    "Okay, so there are a couple of things to note here. The first is the order of the arguments. The order is a bit different than the example that we used when plotting the iris variables. Here, `qplot` interprets the first argument as the x-axis, the second as the y-axis, and that data is specified using the explicit declaration form of \"`data = mpg`\". Honestly, either method is fine. You can either explicitly define the x and y axes by using the \"`x = displ, y = hwy`\" method, or using the ordered method used above.\n",
    "\n",
    "Secondly, there is a fairly clear linear trend happening here. But could we add any more information to better explain the trend? If so, then how?"
   ]
  },
  {
   "cell_type": "markdown",
   "metadata": {},
   "source": [
    "## Aesthetics\n",
    "\n",
    "Aesthetics are visual characteristics that can be mapped to data. Examples of this include shape, size and color.\n",
    "\n",
    "<img src=\"../images/aesthetics.png\">\n",
    "\n",
    "Let's start with color. We can map the vehicle `class` onto the plot below:"
   ]
  },
  {
   "cell_type": "code",
   "execution_count": null,
   "metadata": {},
   "outputs": [],
   "source": [
    "ggplot(data = mpg, aes(x = displ, y = hwy, colour = class)) + geom_point()"
   ]
  },
  {
   "cell_type": "markdown",
   "metadata": {},
   "source": [
    "Notice the function that was used this time, `ggplot()`. `qplot()` is good for quick plots for investigation, but if you are creating visuals and want greater flexibility, `ggplot()` is the way to go. The syntax is a bit more complicated but we will be discussing each component as we go along. \n",
    "\n",
    "In this case, we were working with color to delineate the `class` of vehicles. This gives us a bit more insight into some interesting features of this dataset, such as what is that collection of dots with a displacement between 5.5 and 7, but have a highway mpg of around 25. We can now see that those are 2 seater cars. \n",
    "\n",
    "We can also add another dimension with a different aesthetic. Let's go ahead and do this with `cty` or city miles per gallon."
   ]
  },
  {
   "cell_type": "code",
   "execution_count": null,
   "metadata": {},
   "outputs": [],
   "source": [
    "ggplot(data = mpg, aes(x = displ, y = hwy, size = cty, colour = class)) + geom_point()"
   ]
  },
  {
   "cell_type": "markdown",
   "metadata": {},
   "source": [
    "Okay, so we used size to depict the city miles per gallon, the less mpg, the smaller the size of the point. That being said, this graph is rather intuitive and follows a similar trend to that of the highway miles per gallon. \n",
    "\n",
    "But this is a good place to interrupt. Just because we can map all of the variables, doesn't mean we should. We must be selective about what information will best convey our results effectively. Adding dimension upon dimension often gets very confusing. \n",
    "\n",
    "Now how about when to use these different aesthetics?\n",
    "\n",
    "aesthetic | discrete variable | continuous variable \n",
    "----------|----------|------------\n",
    "**`colour`**| rainbow of colors | gradient of colors \n",
    "**`size`**| discrete size steps | linear mapping between radius and value\n",
    "**`shape`**| different shape per category | doesn't make sense and therefore is impossible\n",
    "\n",
    "<img src=\"../images/aes_disc_con.png\">"
   ]
  },
  {
   "cell_type": "markdown",
   "metadata": {},
   "source": [
    "## Faceting\n",
    "\n",
    "Faceting is the ability to partition the plots up into subsets of data and visualize them on separate smaller plots. This is often good for exploring conditional relationships and visualizing large amounts of data."
   ]
  },
  {
   "cell_type": "code",
   "execution_count": null,
   "metadata": {},
   "outputs": [],
   "source": [
    "ggplot(data = mpg, aes(x = displ, y = hwy)) + geom_point() + facet_grid(.~cyl)"
   ]
  },
  {
   "cell_type": "markdown",
   "metadata": {},
   "source": [
    "In the above example, we partitioned the data into smaller graphs based on the number of cylinders the vehicle has (4, 5, 6, or 8). Now, the syntax looks a little strange within the `facet_grid()` function. What you are telling it in this example is plot the data against the categories of `cyl`. You could also create a facet based on two variables. Take a look at the example below:"
   ]
  },
  {
   "cell_type": "code",
   "execution_count": null,
   "metadata": {},
   "outputs": [],
   "source": [
    "ggplot(data = mpg, aes(x = displ, y = hwy)) + geom_point() + facet_grid(class~cyl)"
   ]
  },
  {
   "cell_type": "markdown",
   "metadata": {},
   "source": [
    "So now we have partitioned the data into smaller graphs based on both the number of cylinders and the class of vehicle.\n",
    "\n",
    "This is a good time to discuss the difference between `facet_grid()` and `facet_wrap()`:\n",
    "\n",
    "**`facet_grid`** will display a plot whether or not data exists. Take a look at the example above for 4, 5 and 6 cylinders for the 2 seater class. It will display the plots in grid output.\n",
    "\n",
    "**`facet_wrap`** will condense the output to only plots that will contain data. Notice below how those where there were no data for `facet_grid` are not displayed."
   ]
  },
  {
   "cell_type": "code",
   "execution_count": null,
   "metadata": {},
   "outputs": [],
   "source": [
    "ggplot(data = mpg, aes(x = displ, y = hwy)) + geom_point() + facet_wrap(class~cyl)"
   ]
  },
  {
   "cell_type": "markdown",
   "metadata": {},
   "source": [
    "## Geoms\n",
    "\n",
    "There are other ways to display data other than a scatter plot. Geoms are how you specify the type of graph or, in other words, what the graph draws. So far we have been specifying `geom_point()`, which creates a scatter plot, but let's take a look at some other options."
   ]
  },
  {
   "cell_type": "code",
   "execution_count": null,
   "metadata": {},
   "outputs": [],
   "source": [
    "ggplot(data = mpg, aes(x = displ, y = hwy))  + geom_smooth()"
   ]
  },
  {
   "cell_type": "markdown",
   "metadata": {},
   "source": [
    "This is a smooth and it draws a line depicting the trend in the data. It defaults to a LOESS line but you can also specify other methods of smoothing such as linear by setting the method parameter. Take a look below:"
   ]
  },
  {
   "cell_type": "code",
   "execution_count": null,
   "metadata": {},
   "outputs": [],
   "source": [
    "ggplot(data = mpg, aes(x = displ, y = hwy))  + geom_point(aes(colour = class)) + \n",
    "    geom_smooth(method = \"lm\", se = FALSE)"
   ]
  },
  {
   "cell_type": "markdown",
   "metadata": {},
   "source": [
    "Take a good look at the block above. For the `geom_smooth()` we have a couple of new parameters. One is the `method`. This argument `\"lm\"` tells ggplot that we want a linear line instead of a LOESS. The `se` parameter is set to `FALSE` so that the standard error ribbon isn't mapped to the plot. Also notice where we specify the color of the points. We do it within the `geom_point()` because if we specified in the `ggplot()` function, it would have drawn separate lines for each `class`. Let's see what that would look like below."
   ]
  },
  {
   "cell_type": "code",
   "execution_count": null,
   "metadata": {},
   "outputs": [],
   "source": [
    "ggplot(data = mpg, aes(x = displ, y = hwy, colour = class))  + geom_point() + \n",
    "    geom_smooth(method = \"lm\", se = FALSE)"
   ]
  },
  {
   "cell_type": "code",
   "execution_count": null,
   "metadata": {},
   "outputs": [],
   "source": [
    "ggplot(data = mpg, aes(x = class, y = hwy)) + geom_boxplot()"
   ]
  },
  {
   "cell_type": "markdown",
   "metadata": {},
   "source": [
    "This is going to be the final plot of this lab, but don't worry, we will cover a lot more. This is a boxplot of highway mpg per each class of vehicle that is in the dataset. \n",
    "\n",
    "Be sure to take a look at the `ggplot2` [documentation](http://docs.ggplot2.org/current/) as it is extensive and full of good examples of how to use their different geoms. \n",
    "\n",
    "In the practice we will continue with `ggplot2` methods including handling large data, and some techniques for customizing your plots. "
   ]
  },
  {
   "cell_type": "markdown",
   "metadata": {},
   "source": [
    "# Save your notebook, then `File > Close and Halt`"
   ]
  }
 ],
 "metadata": {
  "kernelspec": {
   "display_name": "R",
   "language": "R",
   "name": "ir"
  },
  "language_info": {
   "codemirror_mode": "r",
   "file_extension": ".r",
   "mimetype": "text/x-r-source",
   "name": "R",
   "pygments_lexer": "r",
   "version": "3.5.1"
  }
 },
 "nbformat": 4,
 "nbformat_minor": 1
}
