{
 "cells": [
  {
   "cell_type": "markdown",
   "metadata": {},
   "source": [
    "# Module 5: Introduction to Visualization"
   ]
  },
  {
   "cell_type": "markdown",
   "metadata": {},
   "source": [
    "----\n",
    "\n",
    "## Topics covered\n",
    "- Plotting with  `ggplot2`\n",
    "- Visualization techniques\n",
    "- Visualizing effectively"
   ]
  },
  {
   "cell_type": "markdown",
   "metadata": {},
   "source": [
    "## Objective\n",
    "- Students will become familiar and develop visualizations that use domain relevant indicators to illustrate categorical differences in sets of data."
   ]
  },
  {
   "cell_type": "markdown",
   "metadata": {},
   "source": [
    "## Reading\n",
    "- [How to Analyze Data: 6 Useful Ways To Use Color In Graphs](http://blog.plot.ly/post/125942000947/how-to-analyze-data-6-useful-ways-to-use-color-in) : Blog post about how to use color effectively while graphing.  \n",
    "- [Graphics, ggplot2](http://r4stats.com/examples/graphics-ggplot2/): nice blog post introducing `ggplot2` and its fundamental concepts."
   ]
  },
  {
   "cell_type": "markdown",
   "metadata": {},
   "source": [
    "## Discussion \n",
    "**Initial post due by Wednesday at 11:59pm**\n",
    "\n",
    "- [Visualization and Infographic]( https://umsystem.instructure.com/courses/8147/discussion_topics/675588)"
   ]
  },
  {
   "cell_type": "markdown",
   "metadata": {},
   "source": [
    "## Labs, Practices and Exercises\n",
    "\n",
    "### Labs\n",
    "- [ggplot2 Introduction](labs/ggplot2_intro_r.ipynb)\n",
    "- [ggplot2 Theming](labs/ggplot2_theming.ipynb)\n",
    "\n",
    "\n",
    "### Practices \n",
    "- [ggplot2 Plotting Practice](practices/ggplot2_plotting_practice.ipynb)\n",
    "    * [Answers](answers/ggplot2_plotting_practice.ipynb)\n",
    "\n",
    "\n",
    "### Exercises\n",
    "- [Plotting Exercises R](exercises/plotting_exercises_r.ipynb)"
   ]
  },
  {
   "cell_type": "markdown",
   "metadata": {
    "collapsed": true
   },
   "source": [
    "# Submit Your Work\n",
    "\n",
    "Be sure you have submitted your practices and exercises for this Module!\n",
    " * [See Module 1, Submission of Work](../module1/labs/CommittingWork.ipynb)\n",
    "\n",
    "It is best practice to create a save point (commit) after each interval of work, e.g., when you are done for the day or you have completed a notebook.\n"
   ]
  },
  {
   "cell_type": "markdown",
   "metadata": {},
   "source": [
    "## Data Sets\n",
    "\n",
    "*built-in*\n",
    "\n",
    "Dataset Name | Library\n",
    "-------------|--------\n",
    "`iris`       | `ggplot2`\n",
    "`diamonds`   | `ggplot2`\n",
    "`mpg`        | `ggplot2`\n",
    "\n",
    "path: `/dsa/data/all_datasets/`\n",
    "\n",
    "Dataset Name | File\n",
    "-------------|--------\n",
    "Congress Terms| `congress-terms.csv`"
   ]
  }
 ],
 "metadata": {
  "kernelspec": {
   "display_name": "Python 3",
   "language": "python",
   "name": "python3"
  },
  "language_info": {
   "codemirror_mode": {
    "name": "ipython",
    "version": 3
   },
   "file_extension": ".py",
   "mimetype": "text/x-python",
   "name": "python",
   "nbconvert_exporter": "python",
   "pygments_lexer": "ipython3",
   "version": "3.7.3"
  }
 },
 "nbformat": 4,
 "nbformat_minor": 1
}
