{
 "cells": [
  {
   "cell_type": "markdown",
   "metadata": {},
   "source": [
    "# `ggplot2` Exercises\n",
    "\n",
    "\n",
    "For these exercises, you will be shown an image of a graph and you will be asked to replicate the graph to the best of your ability. You will be using the skills that you have already learned from modules 1 through 4, so there may be some data manipulation and descriptive statistics involved. \n",
    "\n",
    "For these exercises we will be working with the `congress-terms.csv` again. We will go ahead and read that in for you..."
   ]
  },
  {
   "cell_type": "code",
   "execution_count": null,
   "metadata": {},
   "outputs": [],
   "source": [
    "# read in required packages\n",
    "library(ggplot2);library(scales); library(grid); library(RColorBrewer); library(dplyr)\n",
    "\n",
    "# read in data\n",
    "frame <- read.csv('/dsa/data/all_datasets/congress-terms.csv')\n",
    "head(frame)"
   ]
  },
  {
   "cell_type": "markdown",
   "metadata": {},
   "source": [
    "In the following pictures, the theme is the one that we created in the labs. The code for it is below. \n",
    "\n",
    "*if you so desire, feel free to play around with the theme. Create your own. Take a look at some of the palettes `RColorBrewer` comes with. This [site](http://www.lgbmi.com/2012/08/rcolorbrewer-palette-names/) provides some good examples.*"
   ]
  },
  {
   "cell_type": "code",
   "execution_count": null,
   "metadata": {},
   "outputs": [],
   "source": [
    "my_theme <- function() {\n",
    "      \n",
    "    # Generate the colors for the chart procedurally with RColorBrewer\n",
    "    palette <- brewer.pal(\"Greys\", n=9) # create a palette of shades of grey \n",
    "    color.background = palette[1] # background plot color\n",
    "    color.grid.major = palette[3] \n",
    "    color.grid.minor = palette[2]\n",
    "    color.axis.text = palette[6] # text color \n",
    "    color.axis.title = palette[7]\n",
    "    color.title = palette[9]\n",
    "\n",
    "    # Begin construction of chart\n",
    "    theme_bw(base_size=9) +\n",
    "\n",
    "    # Set the entire chart region to a light gray color\n",
    "    theme(panel.background=element_rect(fill=color.background, color=color.background)) +\n",
    "    theme(plot.background=element_rect(fill=color.background, color=color.background)) +\n",
    "    theme(panel.border=element_rect(color=color.background)) +\n",
    "\n",
    "    # Format the grid\n",
    "    theme(panel.grid.major=element_line(color=color.grid.major,size=.25)) +\n",
    "    theme(panel.grid.minor=element_blank()) +\n",
    "    theme(axis.ticks=element_blank()) +\n",
    "\n",
    "    # Format the legend, but hide by default\n",
    "    theme(legend.position=\"bottom\") +\n",
    "    theme(legend.background = element_rect(fill=color.background)) +\n",
    "    theme(legend.text = element_text(size=7,color=color.axis.title)) +\n",
    "\n",
    "    # Set title and axis labels, and format these and tick marks\n",
    "    theme(plot.title=element_text(color=color.title, size=10, vjust=1.25)) +\n",
    "    theme(axis.text.x=element_text(size=7,color=color.axis.text)) +\n",
    "    theme(axis.text.y=element_text(size=7,color=color.axis.text)) +\n",
    "    theme(axis.title.x=element_text(size=8,color=color.axis.title, vjust=0)) +\n",
    "    theme(axis.title.y=element_text(size=8,color=color.axis.title, vjust=1.25)) +\n",
    "    \n",
    "    # Set facet attributes\n",
    "    theme(strip.background = element_rect(fill=color.background, colour = color.background)) +\n",
    "    theme(strip.text = element_text(size = 15, colour = color.axis.text)) +\n",
    "\n",
    "    # Plot margins\n",
    "    theme(plot.margin = unit(c(0.35, 0.2, 0.3, 0.35), \"cm\"))\n",
    "}"
   ]
  },
  {
   "cell_type": "markdown",
   "metadata": {},
   "source": [
    "**Exercise 1**: Create the following graph:\n",
    "\n",
    "A histogram of the `age` of all congress members.\n",
    "\n",
    "<img src=\"../images/c_age_hist.png\">"
   ]
  },
  {
   "cell_type": "code",
   "execution_count": null,
   "metadata": {},
   "outputs": [],
   "source": [
    "# Exercise 1 code goes here \n",
    "# *************************\n",
    "\n",
    "\n",
    "\n"
   ]
  },
  {
   "cell_type": "markdown",
   "metadata": {},
   "source": [
    "**Exercise 2** (Challenge): Create the following graph:\n",
    "\n",
    "A histogram of `age` as a background layer with a top layer of histograms of `age` faceted by `chamber`. \n",
    "\n",
    "**Tip**: *Reference the practices for help.*\n",
    "\n",
    "<img src=\"../images/c_age_cham_hist.png\">"
   ]
  },
  {
   "cell_type": "code",
   "execution_count": null,
   "metadata": {},
   "outputs": [],
   "source": [
    "# Exercise 2 code goes here \n",
    "# *************************\n",
    "\n",
    "\n",
    "\n"
   ]
  },
  {
   "cell_type": "markdown",
   "metadata": {},
   "source": [
    "**Exercise 3**: Create the following graph:\n",
    "\n",
    "A line graph of the mean `age` per `congress` number per `chamber`. \n",
    "\n",
    "**Tip**: *Group the data frame by `congress` and `chamber`, then find the mean age. When plotting use `geom_line`.*\n",
    "\n",
    "<img src=\"../images/c_cham_mage_line.png\">"
   ]
  },
  {
   "cell_type": "code",
   "execution_count": null,
   "metadata": {},
   "outputs": [],
   "source": [
    "# Exercise 3 code goes here \n",
    "# *************************\n",
    "\n",
    "\n"
   ]
  },
  {
   "cell_type": "markdown",
   "metadata": {},
   "source": [
    "**Exercise 4**: Create the following graph:\n",
    "\n",
    "Graph of `age` per `congress` number per `chamber`. This time use `geom_smooth` to summarize the trend. \n",
    "\n",
    "<img src=\"../images/c_cham_smage_line.png\">"
   ]
  },
  {
   "cell_type": "code",
   "execution_count": null,
   "metadata": {},
   "outputs": [],
   "source": [
    "# Exercise 4 code goes here \n",
    "# *************************\n",
    "\n",
    "\n"
   ]
  },
  {
   "cell_type": "markdown",
   "metadata": {},
   "source": [
    "**Exercise 5**: Create the following graph:\n",
    "\n",
    "A line graph of the mean `age` per `congress` number per `party` (only republican and democrat) faceted by `chamber`. \n",
    "\n",
    "**Tip**: *Filter on `party` first for only democrats and republicans then group the data frame by `congress`, `chamber` and `party`, then find the mean age.*\n",
    "\n",
    "<img src=\"../images/c_cham_mage_party_line.png\">"
   ]
  },
  {
   "cell_type": "code",
   "execution_count": null,
   "metadata": {},
   "outputs": [],
   "source": [
    "# Exercise 5 code goes here \n",
    "# *************************\n",
    "\n",
    "\n",
    "\n"
   ]
  },
  {
   "cell_type": "markdown",
   "metadata": {},
   "source": [
    "# Save your notebook!  Then `File > Close and Halt`"
   ]
  }
 ],
 "metadata": {
  "kernelspec": {
   "display_name": "R",
   "language": "R",
   "name": "ir"
  },
  "language_info": {
   "codemirror_mode": "r",
   "file_extension": ".r",
   "mimetype": "text/x-r-source",
   "name": "R",
   "pygments_lexer": "r",
   "version": "3.5.1"
  }
 },
 "nbformat": 4,
 "nbformat_minor": 1
}
