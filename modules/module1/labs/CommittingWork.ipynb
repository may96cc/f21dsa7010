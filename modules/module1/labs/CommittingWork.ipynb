{
 "cells": [
  {
   "cell_type": "markdown",
   "metadata": {},
   "source": [
    "# Saving your work using Git\n",
    "\n",
    "This notebook is a light walk through of the steps to publish (save) your work back to the version control server."
   ]
  },
  {
   "cell_type": "markdown",
   "metadata": {},
   "source": [
    "## Terminal Access to the Server\n",
    "To perform these steps you have to use a Linux terminal session.\n",
    "JupyterHub provides a basic one for us.\n",
    "\n",
    "Note: The screen shots are from a different course, but are  analogous to this course and still applicable.\n",
    "\n",
    "![JH Terminal](../images/Starting_A_Terminal.png)"
   ]
  },
  {
   "cell_type": "markdown",
   "metadata": {},
   "source": [
    "### Terminal Screen\n",
    "\n",
    "![JH Terminal](../images/JH_Terminal.png)"
   ]
  },
  {
   "cell_type": "markdown",
   "metadata": {},
   "source": [
    "\n",
    "\n",
    "##  Review our work    \n",
    "```\n",
    "cd f20dsa7010*\n",
    "git status\n",
    "```\n",
    "\n",
    "**Look for files in red, labeled as \"modified\" **\n",
    "\n",
    "![JH Terminal](../images/JH_modified_status.png)\n",
    "\n",
    "\n",
    "##  Stage Changes\n",
    "```\n",
    "git add PATH_TO_FILE\n",
    "```\n",
    "  * *PATH_TO_FILE* should be the actual file you want to commit!\n",
    "  \n",
    "<span style=\"background:yellow;\">** NOTE **: Only add _.ipynb_ files.</span>\n",
    "    \n",
    "##  Create a commit (i.e., a save point)\n",
    "```\n",
    "git commit -m \"This is my Module 1 work\"\n",
    "```\n",
    "    \n",
    "    \n",
    "## Send these changes to the server for safe keeping (i.e., publish)\n",
    "```\n",
    "git push\n",
    "```\n",
    "   \n",
    "## Confirm our working folder is clean and all work is tracked\n",
    "```\n",
    "git status\n",
    "```\n"
   ]
  },
  {
   "cell_type": "markdown",
   "metadata": {},
   "source": [
    "# You have saved your work and published to the server!\n",
    "\n",
    "Now you can check the Gitlab Server!\n",
    "\n",
    "Open a new browser tab to: https://git.dsa.missouri.edu/\n",
    "\n",
    "This is the location of our Git server that has course material published for you and where your work is submitted to a private repository.\n",
    "\n",
    "You can log in with your SSO.\n",
    "Students will typically use **`DSA`** tab.\n",
    "\n",
    "![Gitlab_Login_Screen.png MISSING](../images/Gitlab_Login_Screen.png)"
   ]
  },
  {
   "cell_type": "markdown",
   "metadata": {},
   "source": [
    "# Review your projects\n",
    "\n",
    "Once you have logged on, you will have the projects view.  It will evolve and you will see more projects as you take more Data Science classes.\n",
    "\n",
    "![Gitlab_Projects.png MISSING](../images/Gitlab_Projects.png)\n",
    "\n",
    "Clicking on a project, specifically the course project with your name or SSO as a suffix will take you into that project were you can verify submitted work.\n"
   ]
  },
  {
   "cell_type": "markdown",
   "metadata": {},
   "source": [
    "Once in the project, you will see a screen similar to below:\n",
    "\n",
    "![Gitlab_In_Project.png MISSING](../images/Gitlab_In_Project.png)\n",
    "\n",
    "Clicking the **Commits** link will take you to a list of commits and you can verify your work has been submitted to the server!"
   ]
  },
  {
   "cell_type": "markdown",
   "metadata": {},
   "source": [
    "![Gitlab_Commits_Example.png MISSING](../images/Gitlab_Commits_Example.png)"
   ]
  }
 ],
 "metadata": {
  "kernelspec": {
   "display_name": "Python 3",
   "language": "python",
   "name": "python3"
  },
  "language_info": {
   "codemirror_mode": {
    "name": "ipython",
    "version": 3
   },
   "file_extension": ".py",
   "mimetype": "text/x-python",
   "name": "python",
   "nbconvert_exporter": "python",
   "pygments_lexer": "ipython3",
   "version": "3.7.3"
  }
 },
 "nbformat": 4,
 "nbformat_minor": 2
}
