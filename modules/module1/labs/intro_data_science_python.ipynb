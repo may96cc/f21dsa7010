{
 "cells": [
  {
   "cell_type": "markdown",
   "metadata": {},
   "source": [
    "# Introduction to Data Science with `Python`\n",
    "\n",
    "<img src=\"../images/python_logo.png\" alt=\"python_logo\" style=\"width: 100px;\"/>"
   ]
  },
  {
   "cell_type": "markdown",
   "metadata": {},
   "source": [
    "In this example, we are going cover the very basics of data science in `Python`. Throughout this course, you will be introduced to many packages used by data scientists that make it easier to manipulate, visualize and model data. Today we will be working with one of the most popular Python data science packages, **`pandas`**. \n",
    "\n",
    "Before we begin doing some of the more complicated aspects of data science, it is important to get our feet wet with manipulating data. Now, it is impossible to cover all aspects of data manipulation because the scenarios are endless. It is the job of the data scientist to figure out the most creative and effective means by which to manipulate data. The purpose of this module is to get you comfortable with the tools and provide you with the grammar of data manipulation so that you can begin to string together your own data pipeline to meet your data science needs.\n",
    "\n",
    "\n",
    "**Python Reference Links:**\n",
    "\n",
    "  * [`Python` Standard Library](https://docs.python.org/3/library/)\n",
    "  * [`Python` Language Reference](https://docs.python.org/3/reference/)  \n",
    "  * [`pandas` Documentation](http://pandas.pydata.org/pandas-docs/stable/)\n",
    "  \n",
    "-----\n",
    " ## What we'll cover...\n",
    " \n",
    "- [Reading in Data](#reading)\n",
    "- [Soft Introduction to `pandas`](#pandas)\n",
    "- [Data Filtering](#filter)\n",
    "- [Data Sorting](#sort)\n",
    "- [To Come...](#future)\n",
    "\n",
    "----\n",
    "\n",
    "\n",
    "We will begin by reading in a dataset of baby name popularity in the U.S.\n",
    "\n",
    "We will reference this dataset by its column indexes so here is a table of them below.\n",
    "\n",
    "Index | Description\n",
    "------|------------\n",
    "`0`| Id\n",
    "`1`| Name\n",
    "`2`| Year\n",
    "`3`| Gender\n",
    "`4`| Count\n",
    "\n"
   ]
  },
  {
   "cell_type": "markdown",
   "metadata": {},
   "source": [
    "<a id='reading'></a>\n",
    "\n",
    "## Reading In the Data\n",
    "\n"
   ]
  },
  {
   "cell_type": "code",
   "execution_count": 2,
   "metadata": {},
   "outputs": [
    {
     "name": "stdout",
     "output_type": "stream",
     "text": [
      "'Id,Name,Year,Gender,Count\\n2,Anna,1880,F,2604\\n3,Emma,1880,F,2003\\n6,Margaret,1880,F,1578\\n10,Sarah,1880,'\n"
     ]
    }
   ],
   "source": [
    "file = open('/dsa/data/all_datasets/baby-names/NationalNames1.csv', 'r')\n",
    "data = file.read()\n",
    "print(repr(data[0:101]))"
   ]
  },
  {
   "cell_type": "markdown",
   "metadata": {},
   "source": [
    "\n",
    "Above you were introduced to a function that you may be unfamiliar with, `repr` (short for \"*representation*\"). This returns the output in string format without escaping some of the special characters that we need to be aware of. Take for example the `\\n`, known as a newline character, which deliniates between rows in the original csv file. \n",
    "\n",
    "Having all of your data contained in a single string is less than desirable, particularly if you want do anything meaningful with it.  Let's change this so that instead of seeing a single string of data like you did above we see something more familiar to us."
   ]
  },
  {
   "cell_type": "code",
   "execution_count": 3,
   "metadata": {},
   "outputs": [
    {
     "name": "stdout",
     "output_type": "stream",
     "text": [
      "[['Id', 'Name', 'Year', 'Gender', 'Count'], ['2', 'Anna', '1880', 'F', '2604'], ['3', 'Emma', '1880', 'F', '2003'], ['6', 'Margaret', '1880', 'F', '1578'], ['10', 'Sarah', '1880', 'F', '1288'], ['11', 'Annie', '1880', 'F', '1258'], ['14', 'Florence', '1880', 'F', '1063'], ['26', 'Julia', '1880', 'F', '783'], ['28', 'Edith', '1880', 'F', '768'], ['30', 'Rose', '1880', 'F', '700']]\n"
     ]
    }
   ],
   "source": [
    "with open('/dsa/data/all_datasets/baby-names/NationalNames1.csv', 'r') as file:\n",
    "    data = file.read()\n",
    "\n",
    "    data_lists = data.split(\"\\n\")\n",
    "\n",
    "    list_of_lists = []\n",
    "    for line in data_lists:\n",
    "        row = line.split(',')\n",
    "        list_of_lists.append(row)\n",
    "\n",
    "print(list_of_lists[0:10])"
   ]
  },
  {
   "cell_type": "markdown",
   "metadata": {},
   "source": [
    "So we have, yet again, run into something you may think looks strange. The `with open(...)` statement above just executes everything in the indented block. In this case, it opens the file `NationalNames1.csv` and then reads it. Since this is read in a single string, we need to `split()` the string on the `\\n` character that we discussed above. This puts it in a format of different strings, or what may look like rows of data. However, we'll want to access different values within the rows, so in order to do that we need to split the rows by their delimiter. In this case, commas separate values, which is appropriate given the original file extension name `.csv`, which stands for \"comma separat*ed* values\". What this returns is a list of lists, which, believe it or not, makes the data easier to manipulate.\n",
    "\n",
    "But even this seems a bit complicated. If you are like me, simpler is generally preferred. \n",
    "\n",
    "Remember, packages in Python include different functions, which are made to aid you in your programming endeavors. Such a packages exists for reading in a `.csv` file, creatively named **`csv`**."
   ]
  },
  {
   "cell_type": "code",
   "execution_count": 4,
   "metadata": {},
   "outputs": [
    {
     "name": "stdout",
     "output_type": "stream",
     "text": [
      "[['Id', 'Name', 'Year', 'Gender', 'Count'], ['2', 'Anna', '1880', 'F', '2604'], ['3', 'Emma', '1880', 'F', '2003'], ['6', 'Margaret', '1880', 'F', '1578'], ['10', 'Sarah', '1880', 'F', '1288'], ['11', 'Annie', '1880', 'F', '1258'], ['14', 'Florence', '1880', 'F', '1063'], ['26', 'Julia', '1880', 'F', '783'], ['28', 'Edith', '1880', 'F', '768'], ['30', 'Rose', '1880', 'F', '700']]\n"
     ]
    }
   ],
   "source": [
    "import csv\n",
    "\n",
    "data_list = list(csv.reader(open('/dsa/data/all_datasets/baby-names/NationalNames1.csv'),  delimiter=','))\n",
    "print(data_list[0:10])"
   ]
  },
  {
   "cell_type": "markdown",
   "metadata": {},
   "source": [
    "See how easy that was and only one line of code! Okay, the line is jam-packed with functions inside functions, but it's nothing that we haven't seen before. The code block below breaks each part out into a format that we have seen before. \n",
    "\n",
    "```python\n",
    "    with open('/dsa/data/all_datasets/baby-names/NationalNames1.csv', 'r') as file:\n",
    "        data = csv.reader(file)\n",
    "\n",
    "        data_list = list(data)\n",
    "```\n",
    "\n",
    "The output of the function `csv.reader()` is non-subscriptable, meaning that we can't slice our data by indexes. Now, since each line is already a list, we just have to make the data a list of lists, which is as simple as calling the `list()` function on the `data` variable."
   ]
  },
  {
   "cell_type": "markdown",
   "metadata": {},
   "source": [
    "### List of Lists\n",
    "\n",
    "Why are we so obsessed with rendering the data in a list of lists? Why can't we just split the data by rows, like the code block below, and then call it a day? \n",
    "\n",
    "```python\n",
    "with open('/dsa/data/all_datasets/baby-names/NationalNames1.csv', 'r') as file:\n",
    "    data = file.read()\n",
    "\n",
    "    data_lists = data.split(\"\\n\")\n",
    "```\n",
    "\n",
    "This is tempting, but all it gives us are separate rows of data, which are not all that interesting if you can't access their values and compare them to other rows within the dataset. Think of this list of lists as a spreadsheet where you can access different cells individually. Some of you may know this as a matrix. It's not enough to just have access to individual rows; we also need access to columns or subsets of the data in order for analysis.  A list of lists isn't the only way to manipulate data (later on we will be discussing the more friendly and flexible concept of a data frame), but it is a good way to begin understanding how to interact with the data."
   ]
  },
  {
   "cell_type": "markdown",
   "metadata": {},
   "source": [
    "The variable, `data_list` has a hair over 600,000 rows at the moment. Having access to this much data is nice, but let's scale it back a bit for quicker computations.  We're going to take a subset of the original data (only 300 rows) and remove the header, as this is really just metadata used to aid humans in keeping things orderly.\n",
    "\n",
    "From the subset, we are going to transform the column that contains the name `count`s into floats (we could also do integers if we wanted to) as they are currently strings, and you can't run mathematical operations on strings."
   ]
  },
  {
   "cell_type": "code",
   "execution_count": 5,
   "metadata": {},
   "outputs": [
    {
     "name": "stdout",
     "output_type": "stream",
     "text": [
      "[['2', 'Anna', '1880', 'F', '2604'], ['3', 'Emma', '1880', 'F', '2003'], ['6', 'Margaret', '1880', 'F', '1578'], ['10', 'Sarah', '1880', 'F', '1288'], ['11', 'Annie', '1880', 'F', '1258'], ['14', 'Florence', '1880', 'F', '1063'], ['26', 'Julia', '1880', 'F', '783'], ['28', 'Edith', '1880', 'F', '768'], ['30', 'Rose', '1880', 'F', '700'], ['36', 'Jessie', '1880', 'F', '635'], ['44', 'Lucy', '1880', 'F', '590'], ['45', 'Edna', '1880', 'F', '588'], ['53', 'Katherine', '1880', 'F', '502'], ['61', 'Ellen', '1880', 'F', '411'], ['68', 'Flora', '1880', 'F', '365'], ['69', 'Susie', '1880', 'F', '361'], ['74', 'Sadie', '1880', 'F', '317'], ['76', 'Katie', '1880', 'F', '303'], ['82', 'Alma', '1880', 'F', '277'], ['83', 'Addie', '1880', 'F', '274'], ['95', 'Olive', '1880', 'F', '224'], ['99', 'Virginia', '1880', 'F', '213'], ['100', 'Emily', '1880', 'F', '210'], ['107', 'Ollie', '1880', 'F', '183'], ['108', 'Amy', '1880', 'F', '167'], ['112', 'Theresa', '1880', 'F', '153'], ['114', 'Ora', '1880', 'F', '149'], ['117', 'Lola', '1880', 'F', '138'], ['119', 'Leona', '1880', 'F', '137'], ['121', 'Mildred', '1880', 'F', '132'], ['123', 'Beulah', '1880', 'F', '131'], ['125', 'Lou', '1880', 'F', '131'], ['126', 'Delia', '1880', 'F', '129'], ['127', 'Eleanor', '1880', 'F', '129'], ['129', 'Iva', '1880', 'F', '127'], ['135', 'Nina', '1880', 'F', '119'], ['136', 'Betty', '1880', 'F', '117'], ['140', 'Luella', '1880', 'F', '111'], ['143', 'Rosie', '1880', 'F', '106'], ['147', 'Cornelia', '1880', 'F', '94'], ['151', 'Alta', '1880', 'F', '91'], ['153', 'Christine', '1880', 'F', '89'], ['162', 'Sylvia', '1880', 'F', '81'], ['167', 'Ina', '1880', 'F', '79'], ['168', 'Essie', '1880', 'F', '78'], ['170', 'Nell', '1880', 'F', '77'], ['171', 'Alberta', '1880', 'F', '76'], ['173', 'Lora', '1880', 'F', '74'], ['175', 'Mina', '1880', 'F', '73'], ['176', 'Rhoda', '1880', 'F', '73'], ['179', 'Eula', '1880', 'F', '70'], ['186', 'Adelaide', '1880', 'F', '65'], ['187', 'Christina', '1880', 'F', '65'], ['189', 'Nelle', '1880', 'F', '65'], ['196', 'Roxie', '1880', 'F', '62'], ['198', 'Helena', '1880', 'F', '60'], ['203', 'Jean', '1880', 'F', '59'], ['206', 'Francis', '1880', 'F', '55'], ['207', 'Jeanette', '1880', 'F', '55'], ['209', 'Gussie', '1880', 'F', '54'], ['210', 'Leah', '1880', 'F', '54'], ['212', 'Lura', '1880', 'F', '53'], ['217', 'Phoebe', '1880', 'F', '50'], ['219', 'Hester', '1880', 'F', '49'], ['221', 'Lina', '1880', 'F', '49'], ['224', 'Marguerite', '1880', 'F', '48'], ['226', 'Cecelia', '1880', 'F', '47'], ['229', 'John', '1880', 'F', '46'], ['232', 'Myrtie', '1880', 'F', '45'], ['233', 'Cecilia', '1880', 'F', '44'], ['235', 'Olivia', '1880', 'F', '44'], ['241', 'Lily', '1880', 'F', '41'], ['242', 'Linnie', '1880', 'F', '41'], ['243', 'Loretta', '1880', 'F', '41'], ['247', 'Eugenia', '1880', 'F', '40'], ['249', 'Lucille', '1880', 'F', '40'], ['256', 'Georgiana', '1880', 'F', '36'], ['263', 'Malinda', '1880', 'F', '35'], ['266', 'Gertie', '1880', 'F', '34'], ['268', 'Louella', '1880', 'F', '34'], ['269', 'Mandy', '1880', 'F', '34'], ['277', 'Norma', '1880', 'F', '32'], ['281', 'Zella', '1880', 'F', '31'], ['282', 'Dovie', '1880', 'F', '30'], ['288', 'Artie', '1880', 'F', '29'], ['289', 'Blanch', '1880', 'F', '29'], ['290', 'Charity', '1880', 'F', '29'], ['291', 'Lorena', '1880', 'F', '29'], ['295', 'Annette', '1880', 'F', '28'], ['299', 'Janet', '1880', 'F', '28'], ['300', 'Lee', '1880', 'F', '28'], ['301', 'Leora', '1880', 'F', '28'], ['306', 'Octavia', '1880', 'F', '27'], ['314', 'Leonora', '1880', 'F', '26'], ['315', 'Priscilla', '1880', 'F', '26'], ['317', 'Angeline', '1880', 'F', '25'], ['318', 'Docia', '1880', 'F', '25'], ['320', 'Flossie', '1880', 'F', '25'], ['321', 'Hanna', '1880', 'F', '25'], ['324', 'Retta', '1880', 'F', '25'], ['325', 'Rosella', '1880', 'F', '25'], ['329', 'Elise', '1880', 'F', '24'], ['341', 'Zoe', '1880', 'F', '23'], ['342', 'Eda', '1880', 'F', '22'], ['345', 'Julie', '1880', 'F', '22'], ['346', 'Letitia', '1880', 'F', '22'], ['347', 'Madeline', '1880', 'F', '22'], ['348', 'Malissa', '1880', 'F', '22'], ['356', 'Hazel', '1880', 'F', '21'], ['358', 'Kathleen', '1880', 'F', '21'], ['371', 'Matie', '1880', 'F', '20'], ['372', 'Pearle', '1880', 'F', '20'], ['374', 'Vinnie', '1880', 'F', '20'], ['376', 'Clementine', '1880', 'F', '19'], ['378', 'Harriette', '1880', 'F', '19'], ['386', 'Tena', '1880', 'F', '19'], ['397', 'Leta', '1880', 'F', '18'], ['399', 'Mertie', '1880', 'F', '18'], ['400', 'Molly', '1880', 'F', '18'], ['401', 'Neva', '1880', 'F', '18'], ['402', 'Oma', '1880', 'F', '18'], ['406', 'Cleo', '1880', 'F', '17'], ['407', 'Donna', '1880', 'F', '17'], ['409', 'Ernestine', '1880', 'F', '17'], ['414', 'Myrta', '1880', 'F', '17'], ['415', 'Prudence', '1880', 'F', '17'], ['419', 'Tessie', '1880', 'F', '17'], ['422', 'America', '1880', 'F', '16'], ['426', 'Ira', '1880', 'F', '16'], ['429', 'Maybelle', '1880', 'F', '16'], ['433', 'Sidney', '1880', 'F', '16'], ['435', 'Clare', '1880', 'F', '15'], ['437', 'Dixie', '1880', 'F', '15'], ['439', 'Iola', '1880', 'F', '15'], ['441', 'Louvenia', '1880', 'F', '15'], ['446', 'Patsy', '1880', 'F', '15'], ['447', 'Phebe', '1880', 'F', '15'], ['448', 'Sophronia', '1880', 'F', '15'], ['450', 'Avis', '1880', 'F', '14'], ['453', 'Cecil', '1880', 'F', '14'], ['454', 'Cordie', '1880', 'F', '14'], ['462', 'Melinda', '1880', 'F', '14'], ['464', 'Odessa', '1880', 'F', '14'], ['465', 'Veronica', '1880', 'F', '14'], ['470', 'Carolina', '1880', 'F', '13'], ['475', 'Dolores', '1880', 'F', '13'], ['483', 'Loula', '1880', 'F', '13'], ['486', 'Mintie', '1880', 'F', '13'], ['488', 'Reba', '1880', 'F', '13'], ['491', 'Zada', '1880', 'F', '13'], ['493', 'Celestine', '1880', 'F', '12'], ['497', 'Connie', '1880', 'F', '12'], ['498', 'Daisie', '1880', 'F', '12'], ['505', 'Imogene', '1880', 'F', '12'], ['510', 'Liddie', '1880', 'F', '12'], ['514', 'Rachael', '1880', 'F', '12'], ['518', 'Beryl', '1880', 'F', '11'], ['519', 'Charles', '1880', 'F', '11'], ['520', 'Daisey', '1880', 'F', '11'], ['521', 'Dorcas', '1880', 'F', '11'], ['524', 'Eldora', '1880', 'F', '11'], ['525', 'Eloise', '1880', 'F', '11'], ['527', 'Era', '1880', 'F', '11'], ['528', 'Gena', '1880', 'F', '11'], ['529', 'Henry', '1880', 'F', '11'], ['530', 'Iris', '1880', 'F', '11'], ['532', 'Lennie', '1880', 'F', '11'], ['536', 'Mathilde', '1880', 'F', '11'], ['538', 'Queenie', '1880', 'F', '11'], ['541', 'Salome', '1880', 'F', '11'], ['546', 'Wilda', '1880', 'F', '11'], ['552', 'Clarissa', '1880', 'F', '10'], ['554', 'Delilah', '1880', 'F', '10'], ['555', 'Diana', '1880', 'F', '10'], ['558', 'Fern', '1880', 'F', '10'], ['559', 'Florida', '1880', 'F', '10'], ['560', 'Frona', '1880', 'F', '10'], ['562', 'Joseph', '1880', 'F', '10'], ['577', 'Tommie', '1880', 'F', '10'], ['578', 'Una', '1880', 'F', '10'], ['579', 'Vernie', '1880', 'F', '10'], ['584', 'Angelina', '1880', 'F', '9'], ['587', 'Arie', '1880', 'F', '9'], ['588', 'Clarice', '1880', 'F', '9'], ['595', 'Elda', '1880', 'F', '9'], ['597', 'Emeline', '1880', 'F', '9'], ['599', 'Esta', '1880', 'F', '9'], ['602', 'Fred', '1880', 'F', '9'], ['603', 'Hope', '1880', 'F', '9'], ['604', 'Indiana', '1880', 'F', '9'], ['606', 'Jettie', '1880', 'F', '9'], ['607', 'Johnnie', '1880', 'F', '9'], ['612', 'Letta', '1880', 'F', '9'], ['616', 'Maudie', '1880', 'F', '9'], ['617', 'Maye', '1880', 'F', '9'], ['628', 'Adline', '1880', 'F', '8'], ['629', 'Almira', '1880', 'F', '8'], ['635', 'Camille', '1880', 'F', '8'], ['636', 'Cordia', '1880', 'F', '8'], ['637', 'Corine', '1880', 'F', '8'], ['648', 'Huldah', '1880', 'F', '8'], ['649', 'Idell', '1880', 'F', '8'], ['654', 'Lavenia', '1880', 'F', '8'], ['656', 'Lovina', '1880', 'F', '8'], ['658', 'Magnolia', '1880', 'F', '8'], ['659', 'Margeret', '1880', 'F', '8'], ['665', 'Orilla', '1880', 'F', '8'], ['666', 'Osie', '1880', 'F', '8'], ['669', 'Rosia', '1880', 'F', '8'], ['673', 'Thomas', '1880', 'F', '8'], ['675', 'Walter', '1880', 'F', '8'], ['677', 'Zoa', '1880', 'F', '8'], ['683', 'Angela', '1880', 'F', '7'], ['687', 'Clarence', '1880', 'F', '7'], ['688', 'Clarinda', '1880', 'F', '7'], ['692', 'Drucilla', '1880', 'F', '7'], ['694', 'Eugenie', '1880', 'F', '7'], ['695', 'Eulalia', '1880', 'F', '7'], ['702', 'Glenna', '1880', 'F', '7'], ['704', 'Hedwig', '1880', 'F', '7'], ['713', 'Lidie', '1880', 'F', '7'], ['718', 'Minervia', '1880', 'F', '7'], ['719', 'Muriel', '1880', 'F', '7'], ['723', 'Osa', '1880', 'F', '7'], ['724', 'Otelia', '1880', 'F', '7'], ['726', 'Patience', '1880', 'F', '7'], ['727', 'Rella', '1880', 'F', '7'], ['730', 'Theo', '1880', 'F', '7'], ['731', 'Tilda', '1880', 'F', '7'], ['732', 'Tishie', '1880', 'F', '7'], ['736', 'Zena', '1880', 'F', '7'], ['737', 'Zola', '1880', 'F', '7'], ['740', 'Alba', '1880', 'F', '6'], ['745', 'Ardelia', '1880', 'F', '6'], ['755', 'Camilla', '1880', 'F', '6'], ['759', 'Cherry', '1880', 'F', '6'], ['761', 'Classie', '1880', 'F', '6'], ['762', 'Claudine', '1880', 'F', '6'], ['763', 'Clemie', '1880', 'F', '6'], ['766', 'Creola', '1880', 'F', '6'], ['767', 'Debbie', '1880', 'F', '6'], ['768', 'Dee', '1880', 'F', '6'], ['769', 'Dinah', '1880', 'F', '6'], ['770', 'Doshia', '1880', 'F', '6'], ['771', 'Ednah', '1880', 'F', '6'], ['774', 'Electa', '1880', 'F', '6'], ['776', 'Erie', '1880', 'F', '6'], ['781', 'Faith', '1880', 'F', '6'], ['787', 'Hermine', '1880', 'F', '6'], ['788', 'Hessie', '1880', 'F', '6'], ['792', 'Joella', '1880', 'F', '6'], ['796', 'Lauretta', '1880', 'F', '6'], ['806', 'Maryann', '1880', 'F', '6'], ['807', 'Melva', '1880', 'F', '6'], ['819', 'Ottilie', '1880', 'F', '6'], ['820', 'Phyllis', '1880', 'F', '6'], ['828', 'Tressie', '1880', 'F', '6'], ['830', 'Venie', '1880', 'F', '6'], ['834', 'Zelda', '1880', 'F', '6'], ['836', 'Adelle', '1880', 'F', '5'], ['837', 'Adina', '1880', 'F', '5'], ['841', 'Ana', '1880', 'F', '5'], ['849', 'Clair', '1880', 'F', '5'], ['853', 'Delila', '1880', 'F', '5'], ['855', 'Dosha', '1880', 'F', '5'], ['860', 'Elmire', '1880', 'F', '5'], ['862', 'Ena', '1880', 'F', '5'], ['865', 'Fronnie', '1880', 'F', '5'], ['871', 'Gwendolyn', '1880', 'F', '5'], ['874', 'Icy', '1880', 'F', '5'], ['879', 'Joe', '1880', 'F', '5'], ['881', 'Juana', '1880', 'F', '5'], ['889', 'Linna', '1880', 'F', '5'], ['891', 'Lollie', '1880', 'F', '5'], ['892', 'Lorene', '1880', 'F', '5'], ['897', 'Lynn', '1880', 'F', '5'], ['901', 'Manuela', '1880', 'F', '5'], ['905', 'Marilla', '1880', 'F', '5'], ['906', 'Mignon', '1880', 'F', '5'], ['911', 'Omie', '1880', 'F', '5'], ['913', 'Ossie', '1880', 'F', '5'], ['917', 'Penelope', '1880', 'F', '5'], ['918', 'Pinkey', '1880', 'F', '5'], ['919', 'Pollie', '1880', 'F', '5'], ['921', 'Reta', '1880', 'F', '5'], ['923', 'Rosalee', '1880', 'F', '5'], ['925', 'Ruthie', '1880', 'F', '5'], ['934', 'Texas', '1880', 'F', '5'], ['935', 'Theda', '1880', 'F', '5'], ['938', 'Ula', '1880', 'F', '5'], ['940', 'Verona', '1880', 'F', '5'], ['942', 'Wilma', '1880', 'F', '5'], ['947', 'George', '1880', 'M', '5126'], ['951', 'Henry', '1880', 'M', '2444'], ['953', 'Edward', '1880', 'M', '2364'], ['954', 'Harry', '1880', 'M', '2152'], ['956', 'Arthur', '1880', 'M', '1599'], ['957', 'Fred', '1880', 'M', '1569'], ['961', 'Louis', '1880', 'M', '828'], ['963', 'Charlie', '1880', 'M', '730']]\n"
     ]
    }
   ],
   "source": [
    "subset = data_list[1:301]\n",
    "\n",
    "count_floats = []         \n",
    "\n",
    "for row in subset:\n",
    "    count_flo = float(row[4])\n",
    "    count_floats.append(count_flo)\n",
    "\n",
    "count_floats[0:5]\n",
    "\n",
    "print(subset)"
   ]
  },
  {
   "cell_type": "markdown",
   "metadata": {},
   "source": [
    "Here is what the code above looks like in plain English, step by step: \n",
    "1. We created a subset of the data_list of only the first 300 rows. Remember `data_list[1:301]` is going to start at index `1` (*which is the second item*) and end at index `301`, not including index `301` itself.\n",
    "2. We created an empty list called, `count_floats` where we are going to store our converted `count` data.\n",
    "3. We performed a `for` loop which iterates through each row in the `subset` and: \n",
    "    1. converts the `4th` index in each row to a float. \n",
    "    2. appends that newly made float to `count_floats` list above.\n",
    "4. Return the first five items of the `count_floats` list."
   ]
  },
  {
   "cell_type": "markdown",
   "metadata": {},
   "source": [
    "What if we wanted to find all of the male names in this `subset` and `print` them out? How might we interact with the rows and columns of the data to perform this action? This would require us to refer to two different indexes within each row: 1) the `3rd`\\* index, which gives us the `sex` associated with the name, and 2) the `1st`\\*\\* index, which contains the `name` itself. We're going to use a conditional statement in order to achieve our goal.\n",
    "\n",
    "\\* *when we say \"3rd\" index, we don't mean third chronologically. Remember, `Python` indexes its lists starting with 0, so when we say 3rd, we are saying that the index value of the list is 3.*\n",
    "\n",
    "\\*\\* *when we say \"1st\" index, we mean it has the index value of 1, not to be confused with the \"0th\" index, or the chronologically first index of the list. See note above.*"
   ]
  },
  {
   "cell_type": "code",
   "execution_count": 5,
   "metadata": {},
   "outputs": [
    {
     "name": "stdout",
     "output_type": "stream",
     "text": [
      "George\n",
      "Henry\n",
      "Edward\n",
      "Harry\n",
      "Arthur\n",
      "Fred\n",
      "Louis\n",
      "Charlie\n"
     ]
    }
   ],
   "source": [
    "for row in subset:\n",
    "    if row[3] == 'M':\n",
    "        print(row[1])"
   ]
  },
  {
   "cell_type": "markdown",
   "metadata": {},
   "source": [
    "Once again, we are going to use a `for` loop to interate through our `subset` of data.  We are then going to use a conditional statement to check **`if`** the `3rd` index in the row is equal to `M`, meaning male. Remember, a condition will return either `True` of `False`. If that statement is `True` then it will `print` out the value of the `1st` index, which is the column containing the name; if it is `False` then it will just skip over it.\n",
    "\n",
    "\n",
    "**On your own:** *Think about how you might add these names to a list type variable.*"
   ]
  },
  {
   "cell_type": "code",
   "execution_count": 6,
   "metadata": {},
   "outputs": [],
   "source": [
    "#On your own: add these names to a list of variables\n",
    "names_of_M = []\n",
    "for row in subset:\n",
    "    if row[3] == 'M':\n",
    "        print(row[1])\n",
    "        names_of_M.append(row[1]) "
   ]
  },
  {
   "cell_type": "markdown",
   "metadata": {},
   "source": [
    "<a id='pandas'></a>\n",
    "\n",
    "## Using `pandas`\n",
    "\n",
    "<img src=\"../images/pandas_logo.png\" alt=\"python_logo\" style=\"width: 600px;\"/>\n",
    "\n",
    "`pandas` is a popular data science package for `Python`. It includes different data structures and tools, which provide for flexible data manipulation and analysis. Throughout this course, we will be using what are known as data frames, a 2-dimensional table that supports different data types. This is one of the key structures that `pandas` provides, and one that will return in `R`.\n",
    "\n",
    "Here is how it works:"
   ]
  },
  {
   "cell_type": "code",
   "execution_count": 7,
   "metadata": {},
   "outputs": [
    {
     "data": {
      "text/html": [
       "<div>\n",
       "<style scoped>\n",
       "    .dataframe tbody tr th:only-of-type {\n",
       "        vertical-align: middle;\n",
       "    }\n",
       "\n",
       "    .dataframe tbody tr th {\n",
       "        vertical-align: top;\n",
       "    }\n",
       "\n",
       "    .dataframe thead th {\n",
       "        text-align: right;\n",
       "    }\n",
       "</style>\n",
       "<table border=\"1\" class=\"dataframe\">\n",
       "  <thead>\n",
       "    <tr style=\"text-align: right;\">\n",
       "      <th></th>\n",
       "      <th>Id</th>\n",
       "      <th>Name</th>\n",
       "      <th>Year</th>\n",
       "      <th>Gender</th>\n",
       "      <th>Count</th>\n",
       "    </tr>\n",
       "  </thead>\n",
       "  <tbody>\n",
       "    <tr>\n",
       "      <th>0</th>\n",
       "      <td>2</td>\n",
       "      <td>Anna</td>\n",
       "      <td>1880</td>\n",
       "      <td>F</td>\n",
       "      <td>2604</td>\n",
       "    </tr>\n",
       "    <tr>\n",
       "      <th>1</th>\n",
       "      <td>3</td>\n",
       "      <td>Emma</td>\n",
       "      <td>1880</td>\n",
       "      <td>F</td>\n",
       "      <td>2003</td>\n",
       "    </tr>\n",
       "    <tr>\n",
       "      <th>2</th>\n",
       "      <td>6</td>\n",
       "      <td>Margaret</td>\n",
       "      <td>1880</td>\n",
       "      <td>F</td>\n",
       "      <td>1578</td>\n",
       "    </tr>\n",
       "    <tr>\n",
       "      <th>3</th>\n",
       "      <td>10</td>\n",
       "      <td>Sarah</td>\n",
       "      <td>1880</td>\n",
       "      <td>F</td>\n",
       "      <td>1288</td>\n",
       "    </tr>\n",
       "    <tr>\n",
       "      <th>4</th>\n",
       "      <td>11</td>\n",
       "      <td>Annie</td>\n",
       "      <td>1880</td>\n",
       "      <td>F</td>\n",
       "      <td>1258</td>\n",
       "    </tr>\n",
       "  </tbody>\n",
       "</table>\n",
       "</div>"
      ],
      "text/plain": [
       "   Id      Name  Year Gender  Count\n",
       "0   2      Anna  1880      F   2604\n",
       "1   3      Emma  1880      F   2003\n",
       "2   6  Margaret  1880      F   1578\n",
       "3  10     Sarah  1880      F   1288\n",
       "4  11     Annie  1880      F   1258"
      ]
     },
     "execution_count": 7,
     "metadata": {},
     "output_type": "execute_result"
    }
   ],
   "source": [
    "import pandas as pd\n",
    "\n",
    "df = pd.read_csv('/dsa/data/all_datasets/baby-names/NationalNames1.csv')\n",
    "\n",
    "df.head()"
   ]
  },
  {
   "cell_type": "markdown",
   "metadata": {},
   "source": [
    "It's that simple! \n",
    "\n",
    "`.head()` is a pandas function that returns the first n rows for the object based on position. It is useful for quickly testing if your object has the right type of data in it. By default it returned 5. \n",
    "\n",
    "However to really start working with the data we will want to get rid of the old 'Id' column in the file. \n",
    "\n",
    "Let's see what this looks like..."
   ]
  },
  {
   "cell_type": "code",
   "execution_count": 8,
   "metadata": {},
   "outputs": [
    {
     "data": {
      "text/html": [
       "<div>\n",
       "<style scoped>\n",
       "    .dataframe tbody tr th:only-of-type {\n",
       "        vertical-align: middle;\n",
       "    }\n",
       "\n",
       "    .dataframe tbody tr th {\n",
       "        vertical-align: top;\n",
       "    }\n",
       "\n",
       "    .dataframe thead th {\n",
       "        text-align: right;\n",
       "    }\n",
       "</style>\n",
       "<table border=\"1\" class=\"dataframe\">\n",
       "  <thead>\n",
       "    <tr style=\"text-align: right;\">\n",
       "      <th></th>\n",
       "      <th>Name</th>\n",
       "      <th>Year</th>\n",
       "      <th>Gender</th>\n",
       "      <th>Count</th>\n",
       "    </tr>\n",
       "  </thead>\n",
       "  <tbody>\n",
       "    <tr>\n",
       "      <th>0</th>\n",
       "      <td>Anna</td>\n",
       "      <td>1880</td>\n",
       "      <td>F</td>\n",
       "      <td>2604</td>\n",
       "    </tr>\n",
       "    <tr>\n",
       "      <th>1</th>\n",
       "      <td>Emma</td>\n",
       "      <td>1880</td>\n",
       "      <td>F</td>\n",
       "      <td>2003</td>\n",
       "    </tr>\n",
       "    <tr>\n",
       "      <th>2</th>\n",
       "      <td>Margaret</td>\n",
       "      <td>1880</td>\n",
       "      <td>F</td>\n",
       "      <td>1578</td>\n",
       "    </tr>\n",
       "    <tr>\n",
       "      <th>3</th>\n",
       "      <td>Sarah</td>\n",
       "      <td>1880</td>\n",
       "      <td>F</td>\n",
       "      <td>1288</td>\n",
       "    </tr>\n",
       "    <tr>\n",
       "      <th>4</th>\n",
       "      <td>Annie</td>\n",
       "      <td>1880</td>\n",
       "      <td>F</td>\n",
       "      <td>1258</td>\n",
       "    </tr>\n",
       "  </tbody>\n",
       "</table>\n",
       "</div>"
      ],
      "text/plain": [
       "       Name  Year Gender  Count\n",
       "0      Anna  1880      F   2604\n",
       "1      Emma  1880      F   2003\n",
       "2  Margaret  1880      F   1578\n",
       "3     Sarah  1880      F   1288\n",
       "4     Annie  1880      F   1258"
      ]
     },
     "execution_count": 8,
     "metadata": {},
     "output_type": "execute_result"
    }
   ],
   "source": [
    "del df['Id'] \n",
    "\n",
    "df.head()"
   ]
  },
  {
   "cell_type": "markdown",
   "metadata": {},
   "source": [
    "Now lets put that all together. \n",
    "\n",
    "Keeping the load and the deletion of the column together is good practice as this way when you are rerunning code you will always load the data and then remove the column at the same time. If you have them separate you may try to run the deletion of the column code before reloading the data which would cause an error because the column was already deleted. "
   ]
  },
  {
   "cell_type": "code",
   "execution_count": 9,
   "metadata": {},
   "outputs": [
    {
     "data": {
      "text/html": [
       "<div>\n",
       "<style scoped>\n",
       "    .dataframe tbody tr th:only-of-type {\n",
       "        vertical-align: middle;\n",
       "    }\n",
       "\n",
       "    .dataframe tbody tr th {\n",
       "        vertical-align: top;\n",
       "    }\n",
       "\n",
       "    .dataframe thead th {\n",
       "        text-align: right;\n",
       "    }\n",
       "</style>\n",
       "<table border=\"1\" class=\"dataframe\">\n",
       "  <thead>\n",
       "    <tr style=\"text-align: right;\">\n",
       "      <th></th>\n",
       "      <th>Name</th>\n",
       "      <th>Year</th>\n",
       "      <th>Gender</th>\n",
       "      <th>Count</th>\n",
       "    </tr>\n",
       "  </thead>\n",
       "  <tbody>\n",
       "    <tr>\n",
       "      <th>0</th>\n",
       "      <td>Anna</td>\n",
       "      <td>1880</td>\n",
       "      <td>F</td>\n",
       "      <td>2604</td>\n",
       "    </tr>\n",
       "    <tr>\n",
       "      <th>1</th>\n",
       "      <td>Emma</td>\n",
       "      <td>1880</td>\n",
       "      <td>F</td>\n",
       "      <td>2003</td>\n",
       "    </tr>\n",
       "    <tr>\n",
       "      <th>2</th>\n",
       "      <td>Margaret</td>\n",
       "      <td>1880</td>\n",
       "      <td>F</td>\n",
       "      <td>1578</td>\n",
       "    </tr>\n",
       "    <tr>\n",
       "      <th>3</th>\n",
       "      <td>Sarah</td>\n",
       "      <td>1880</td>\n",
       "      <td>F</td>\n",
       "      <td>1288</td>\n",
       "    </tr>\n",
       "    <tr>\n",
       "      <th>4</th>\n",
       "      <td>Annie</td>\n",
       "      <td>1880</td>\n",
       "      <td>F</td>\n",
       "      <td>1258</td>\n",
       "    </tr>\n",
       "  </tbody>\n",
       "</table>\n",
       "</div>"
      ],
      "text/plain": [
       "       Name  Year Gender  Count\n",
       "0      Anna  1880      F   2604\n",
       "1      Emma  1880      F   2003\n",
       "2  Margaret  1880      F   1578\n",
       "3     Sarah  1880      F   1288\n",
       "4     Annie  1880      F   1258"
      ]
     },
     "execution_count": 9,
     "metadata": {},
     "output_type": "execute_result"
    }
   ],
   "source": [
    "with open('/dsa/data/all_datasets/baby-names/NationalNames1.csv', 'r') as file:\n",
    "    df = pd.read_csv(file)\n",
    "del df['Id'] \n",
    "df.head()"
   ]
  },
  {
   "cell_type": "markdown",
   "metadata": {},
   "source": [
    "Immediately, you should notice that it is rendered in a much cleaner format than the list of lists above. It looks more familiar, like something more akin to a spreadsheet. Even if you were to execute this within your terminal application, it would be rendered in such a way that it keeps the data in rows and columns. \n",
    "\n",
    "As you can see, the top row is going to be a header row. Whereas we had to remove the header row in the list of lists in order to manipulate the data, this row serves as a reference to the columns in `pandas`. The unnamed column on the left is your index column. \n",
    "\n",
    "\n",
    "**On your own:** *What do you think `.tail()` returns?*"
   ]
  },
  {
   "cell_type": "code",
   "execution_count": 10,
   "metadata": {},
   "outputs": [],
   "source": [
    "#On your own: See what .tail() returns\n",
    "df.tail()"
   ]
  },
  {
   "cell_type": "markdown",
   "metadata": {},
   "source": [
    "<a id='filter'></a>\n",
    "\n",
    "## Data Filtering\n",
    "\n",
    "`pandas` allows us to easily filter data. Imagine that you were only interested in tracking how many people each year named their child \"James\". All we have to do is filter the `Name` column by the string \"James\"."
   ]
  },
  {
   "cell_type": "code",
   "execution_count": 11,
   "metadata": {},
   "outputs": [
    {
     "data": {
      "text/html": [
       "<div>\n",
       "<style scoped>\n",
       "    .dataframe tbody tr th:only-of-type {\n",
       "        vertical-align: middle;\n",
       "    }\n",
       "\n",
       "    .dataframe tbody tr th {\n",
       "        vertical-align: top;\n",
       "    }\n",
       "\n",
       "    .dataframe thead th {\n",
       "        text-align: right;\n",
       "    }\n",
       "</style>\n",
       "<table border=\"1\" class=\"dataframe\">\n",
       "  <thead>\n",
       "    <tr style=\"text-align: right;\">\n",
       "      <th></th>\n",
       "      <th>Name</th>\n",
       "      <th>Year</th>\n",
       "      <th>Gender</th>\n",
       "      <th>Count</th>\n",
       "    </tr>\n",
       "  </thead>\n",
       "  <tbody>\n",
       "    <tr>\n",
       "      <th>3634</th>\n",
       "      <td>James</td>\n",
       "      <td>1885</td>\n",
       "      <td>F</td>\n",
       "      <td>26</td>\n",
       "    </tr>\n",
       "    <tr>\n",
       "      <th>4718</th>\n",
       "      <td>James</td>\n",
       "      <td>1886</td>\n",
       "      <td>M</td>\n",
       "      <td>5355</td>\n",
       "    </tr>\n",
       "    <tr>\n",
       "      <th>7212</th>\n",
       "      <td>James</td>\n",
       "      <td>1889</td>\n",
       "      <td>M</td>\n",
       "      <td>5020</td>\n",
       "    </tr>\n",
       "    <tr>\n",
       "      <th>7741</th>\n",
       "      <td>James</td>\n",
       "      <td>1890</td>\n",
       "      <td>F</td>\n",
       "      <td>33</td>\n",
       "    </tr>\n",
       "    <tr>\n",
       "      <th>8978</th>\n",
       "      <td>James</td>\n",
       "      <td>1891</td>\n",
       "      <td>M</td>\n",
       "      <td>4516</td>\n",
       "    </tr>\n",
       "  </tbody>\n",
       "</table>\n",
       "</div>"
      ],
      "text/plain": [
       "       Name  Year Gender  Count\n",
       "3634  James  1885      F     26\n",
       "4718  James  1886      M   5355\n",
       "7212  James  1889      M   5020\n",
       "7741  James  1890      F     33\n",
       "8978  James  1891      M   4516"
      ]
     },
     "execution_count": 11,
     "metadata": {},
     "output_type": "execute_result"
    }
   ],
   "source": [
    "df[df['Name']=='James'].head()"
   ]
  },
  {
   "cell_type": "markdown",
   "metadata": {},
   "source": [
    "That was a very simple line of code, which is one of the benefits of using `pandas`. We can break it down step by step. Let's start with the line `df['Name']=='James'`. This is going to return `True` or `False` given whether or not the condition is met. Running this line by itself would just return a boolean for each index.  For this reason, we wrap that in `df[...]`, which returns the subset of the dataframe, `df` where the index returns `True`, thus returning all rows that match the string, \"James\".  Once again, the final `.head()` piece is a `pandas` method that you can call on dataframes to return the first rows. You could pass a numerical argument to return the first X-number of rows. For example, if we put `df[df['Name']=='James'].head(10)`, the first 10 rows of this subset would be returned."
   ]
  },
  {
   "cell_type": "code",
   "execution_count": 12,
   "metadata": {},
   "outputs": [
    {
     "data": {
      "text/html": [
       "<div>\n",
       "<style scoped>\n",
       "    .dataframe tbody tr th:only-of-type {\n",
       "        vertical-align: middle;\n",
       "    }\n",
       "\n",
       "    .dataframe tbody tr th {\n",
       "        vertical-align: top;\n",
       "    }\n",
       "\n",
       "    .dataframe thead th {\n",
       "        text-align: right;\n",
       "    }\n",
       "</style>\n",
       "<table border=\"1\" class=\"dataframe\">\n",
       "  <thead>\n",
       "    <tr style=\"text-align: right;\">\n",
       "      <th></th>\n",
       "      <th>Name</th>\n",
       "      <th>Year</th>\n",
       "      <th>Gender</th>\n",
       "      <th>Count</th>\n",
       "    </tr>\n",
       "  </thead>\n",
       "  <tbody>\n",
       "    <tr>\n",
       "      <th>32142</th>\n",
       "      <td>James</td>\n",
       "      <td>1911</td>\n",
       "      <td>M</td>\n",
       "      <td>9951</td>\n",
       "    </tr>\n",
       "  </tbody>\n",
       "</table>\n",
       "</div>"
      ],
      "text/plain": [
       "        Name  Year Gender  Count\n",
       "32142  James  1911      M   9951"
      ]
     },
     "execution_count": 12,
     "metadata": {},
     "output_type": "execute_result"
    }
   ],
   "source": [
    "df[(df['Name'] == 'James') & (df['Count'] > 6000) & (df['Count'] < 10000)] "
   ]
  },
  {
   "cell_type": "markdown",
   "metadata": {},
   "source": [
    "`pandas` can also match on much more than strings. Take the above example, which builds on the \"James\" subset. What if we were interested in knowing which years had a greater than 400 *James*es named but less than 10,000? That's what we did above. `pandas` allows us to match on many conditions very easily."
   ]
  },
  {
   "cell_type": "markdown",
   "metadata": {},
   "source": [
    "<a id='sort'></a>\n",
    "\n",
    "## Data Sorting\n",
    "\n",
    " "
   ]
  },
  {
   "cell_type": "markdown",
   "metadata": {},
   "source": [
    "You can also sort the data frame by a column. This works on both numerical data types as well as strings. For example, sorting by `df['Name']` will sort the data frame alphabetically by the 'Name' column, while sorting by `df['Count']`  will sort by numerical value. Take a look at the example below."
   ]
  },
  {
   "cell_type": "code",
   "execution_count": 13,
   "metadata": {},
   "outputs": [
    {
     "data": {
      "text/html": [
       "<div>\n",
       "<style scoped>\n",
       "    .dataframe tbody tr th:only-of-type {\n",
       "        vertical-align: middle;\n",
       "    }\n",
       "\n",
       "    .dataframe tbody tr th {\n",
       "        vertical-align: top;\n",
       "    }\n",
       "\n",
       "    .dataframe thead th {\n",
       "        text-align: right;\n",
       "    }\n",
       "</style>\n",
       "<table border=\"1\" class=\"dataframe\">\n",
       "  <thead>\n",
       "    <tr style=\"text-align: right;\">\n",
       "      <th></th>\n",
       "      <th>Name</th>\n",
       "      <th>Year</th>\n",
       "      <th>Gender</th>\n",
       "      <th>Count</th>\n",
       "    </tr>\n",
       "  </thead>\n",
       "  <tbody>\n",
       "    <tr>\n",
       "      <th>188838</th>\n",
       "      <td>Michael</td>\n",
       "      <td>1959</td>\n",
       "      <td>M</td>\n",
       "      <td>85272</td>\n",
       "    </tr>\n",
       "    <tr>\n",
       "      <th>148954</th>\n",
       "      <td>Robert</td>\n",
       "      <td>1948</td>\n",
       "      <td>M</td>\n",
       "      <td>85479</td>\n",
       "    </tr>\n",
       "    <tr>\n",
       "      <th>192913</th>\n",
       "      <td>David</td>\n",
       "      <td>1960</td>\n",
       "      <td>M</td>\n",
       "      <td>85931</td>\n",
       "    </tr>\n",
       "    <tr>\n",
       "      <th>166140</th>\n",
       "      <td>James</td>\n",
       "      <td>1953</td>\n",
       "      <td>M</td>\n",
       "      <td>85946</td>\n",
       "    </tr>\n",
       "    <tr>\n",
       "      <th>155645</th>\n",
       "      <td>James</td>\n",
       "      <td>1950</td>\n",
       "      <td>M</td>\n",
       "      <td>86221</td>\n",
       "    </tr>\n",
       "    <tr>\n",
       "      <th>169753</th>\n",
       "      <td>Robert</td>\n",
       "      <td>1954</td>\n",
       "      <td>M</td>\n",
       "      <td>86258</td>\n",
       "    </tr>\n",
       "    <tr>\n",
       "      <th>152296</th>\n",
       "      <td>James</td>\n",
       "      <td>1949</td>\n",
       "      <td>M</td>\n",
       "      <td>86856</td>\n",
       "    </tr>\n",
       "    <tr>\n",
       "      <th>196929</th>\n",
       "      <td>Michael</td>\n",
       "      <td>1961</td>\n",
       "      <td>M</td>\n",
       "      <td>86916</td>\n",
       "    </tr>\n",
       "    <tr>\n",
       "      <th>150336</th>\n",
       "      <td>Linda</td>\n",
       "      <td>1949</td>\n",
       "      <td>F</td>\n",
       "      <td>91010</td>\n",
       "    </tr>\n",
       "    <tr>\n",
       "      <th>143430</th>\n",
       "      <td>Linda</td>\n",
       "      <td>1947</td>\n",
       "      <td>F</td>\n",
       "      <td>99680</td>\n",
       "    </tr>\n",
       "  </tbody>\n",
       "</table>\n",
       "</div>"
      ],
      "text/plain": [
       "           Name  Year Gender  Count\n",
       "188838  Michael  1959      M  85272\n",
       "148954   Robert  1948      M  85479\n",
       "192913    David  1960      M  85931\n",
       "166140    James  1953      M  85946\n",
       "155645    James  1950      M  86221\n",
       "169753   Robert  1954      M  86258\n",
       "152296    James  1949      M  86856\n",
       "196929  Michael  1961      M  86916\n",
       "150336    Linda  1949      F  91010\n",
       "143430    Linda  1947      F  99680"
      ]
     },
     "execution_count": 13,
     "metadata": {},
     "output_type": "execute_result"
    }
   ],
   "source": [
    "df.sort_values(by = ['Count'], ascending = True).tail(10)"
   ]
  },
  {
   "cell_type": "markdown",
   "metadata": {},
   "source": [
    "<a id='future'></a>\n",
    "\n",
    "## And to Come...\n",
    "\n",
    "Data manipulation is just the beginning of our data science curriculum, but understanding it is key before we start to model or visualize our data.\n",
    "\n",
    "In a few modules from now, we will be working with some machine learning techniques and predicting target variables based on some input data. Below is a scatter plot depicting the relationship between brain and body size in a small subset of animals. The line in the graph is a regression line depicting the relationship between the two variables, brain and body size.\n",
    "\n",
    "Linear regression is just one of several machine learning algorithms that we will be exploring in the class. In the end, we will know how to select the right algorithm given the prediction problem, interpret the output, and refine the model for prediction optimization."
   ]
  },
  {
   "cell_type": "markdown",
   "metadata": {},
   "source": [
    "<img src=\"../images/brain_body_python.png\">"
   ]
  },
  {
   "cell_type": "markdown",
   "metadata": {},
   "source": [
    "# Save your notebook, then `File > Close and Halt`"
   ]
  }
 ],
 "metadata": {
  "kernelspec": {
   "display_name": "Python 3",
   "language": "python",
   "name": "python3"
  },
  "language_info": {
   "codemirror_mode": {
    "name": "ipython",
    "version": 3
   },
   "file_extension": ".py",
   "mimetype": "text/x-python",
   "name": "python",
   "nbconvert_exporter": "python",
   "pygments_lexer": "ipython3",
   "version": "3.7.3"
  }
 },
 "nbformat": 4,
 "nbformat_minor": 2
}
