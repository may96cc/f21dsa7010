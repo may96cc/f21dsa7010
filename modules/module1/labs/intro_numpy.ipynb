{
 "cells": [
  {
   "cell_type": "markdown",
   "metadata": {},
   "source": [
    "# Getting Started with `NumPy` \n",
    "\n",
    "<img src=\"../images/numpy.jpg\" alt=\"numpy_logo\" style=\"width: 200px;\"/>\n",
    "\n",
    "[**`NumPy`**](http://www.numpy.org/) is one of the fundamental packages for conducting any type of data science or data analysis project in `Python`. \n",
    "It seemlessly integrates with other packages like `scikit-learn` or `pandas`, and provides an extensive mathematical library to perform analyses or build learning algorithms. \n",
    "\n",
    "Throughout this course (and the entire program) we will rely heavily on the `NumPy` package for data analysis. \n",
    "In this notebook we will cover some of the data types that `NumPy` affords us as well as some of the methods that are commonly used.\n",
    "\n",
    "\n",
    "------\n",
    " ## What we'll cover...\n",
    " \n",
    "1. [Creating an Array](#array)\n",
    "2. [Array Indexing](#indexing)\n",
    "3. [Array Math](#math)\n",
    "4. [Array Methods](#methods)\n",
    "5. [Subsetting](#subset)\n",
    "\n",
    "------\n",
    "## Data\n",
    "\n",
    "In this notebook, we are going to utilize a Cats v. Dogs dataset. \n",
    "We will reference this dataset by its column indexes so here is a table of them below.\n",
    "\n",
    "Index | Description\n",
    "------|------------\n",
    "`0`| Location\n",
    "`1`| Number of households (in 1000s)\n",
    "`2`| Percentage of households with pets\n",
    "`3`| Number of households with pets (in 1000s)\n",
    "`4`| Percentage of dog owners\n",
    "`5`| Dog owning households (in 1000s)\n",
    "`6`| Mean number of dogs per household\n",
    "`7`| Dog population (in 1000s)\n",
    "`8`| Percentage of cat owners\n",
    "`9`| Cat owning households (in 1000s)\n",
    "`10`| Mean number of catss per household\n",
    "`11`| Cat population (in 1000s)\n",
    "\n",
    "---"
   ]
  },
  {
   "cell_type": "markdown",
   "metadata": {},
   "source": [
    "### Reading in the file\n",
    "\n",
    "Before we begin with `NumPy`, we are first going to read in our dataset using the `csv` library. This will give us a point of comparison when we are looking at the capabilities that `NumPy` affords us."
   ]
  },
  {
   "cell_type": "code",
   "execution_count": null,
   "metadata": {},
   "outputs": [],
   "source": [
    "import csv\n",
    "\n",
    "with open(\"/dsa/data/all_datasets/catsvdogs.csv\") as f:\n",
    "    file = list(csv.reader(f, delimiter=\",\"))"
   ]
  },
  {
   "cell_type": "markdown",
   "metadata": {},
   "source": [
    "For indexing purposes, we went ahead and created a list of lists of our dataset. The main list can be thought of as a collection of rows and each of these rows can be thought of as a list of values.  \n",
    "\n",
    "We can select particular rows by specifying their respective indexes. For example, if we wanted to view the first three rows we would do the following..."
   ]
  },
  {
   "cell_type": "code",
   "execution_count": null,
   "metadata": {},
   "outputs": [],
   "source": [
    "print(file[:3])"
   ]
  },
  {
   "cell_type": "markdown",
   "metadata": {},
   "source": [
    "Quick reminder, 0 is the first index, not 1. Also, the notation `[:3]` means from the beginning of the subscriptable item (index 0) all the way to but not including index 3.\n",
    "\n",
    "So the first row is the header. Let's go ahead and take a look at the values in the header row."
   ]
  },
  {
   "cell_type": "code",
   "execution_count": null,
   "metadata": {},
   "outputs": [],
   "source": [
    "print(file[0])"
   ]
  },
  {
   "cell_type": "markdown",
   "metadata": {},
   "source": [
    "The header row will get in our way when conducting analysis. Its purpose is to serve (and this is an important purpose) as a reference information to the attributes of that column.  So, if we were interested in finding the mean number of households with pets, we would have to ensure that we are excluding the header. \n",
    "\n",
    "---\n",
    "Speaking of finding the mean, we can go ahead and do that. \n",
    "\n",
    "We first have to grab the correct column. This isn't the easy task when using a list of lists, but create a new list using a `for`-loop to grab the fourth item from every row, We can then use some of `Python`'s built in function to find the sum of those values and the number of values in that list (the two metrics we need to calculate the mean). \n",
    "\n",
    "Also, the notation below may be unfamiliar to you, but this...\n",
    "\n",
    "```python\n",
    "pets_n = [int(item[3]) for item in file[1:]]\n",
    "```\n",
    "... is the same as...\n",
    "\n",
    "```python\n",
    "pets_n = []\n",
    "\n",
    "for item in file[1:]:\n",
    "    pets_n.append(int(item[3]))\n",
    "```\n",
    "\n",
    "Notice how the loop starts at index 1, not index 0. That is because index 0 is the header name for that column. The `item` in this loop is the row, and from each row we want the fourth item, or `item[3]`. But at the moment, `item[3]` is a string, but in order to find the mean, we need to be working with some sort of numeric type, so we change each one to an `int`.\n",
    "\n",
    "---"
   ]
  },
  {
   "cell_type": "code",
   "execution_count": null,
   "metadata": {},
   "outputs": [],
   "source": [
    "pets_n = [int(item[3]) for item in file[1:]]\n",
    "\n",
    "print(sum(pets_n)/len(pets_n))"
   ]
  },
  {
   "cell_type": "markdown",
   "metadata": {},
   "source": [
    "Now this next step is just to get us started with `NumPy`. `NumPy` requires that all the values of a single array be of the same type. If you look at our data it is all numbers expect the `Location` column which happens to be the first column. So let's spilt our data into two `nums` and `states` to really start exploring the power of `NumPy`. \n",
    "\n",
    "\n",
    "That being said, since you can't coerce a string to integer, but you can an integer to string, keeping the states column around would change all of the values in the `pets` array to a string. For the operations that we want to demonstrate in this notebook, some type of numeric data type is required."
   ]
  },
  {
   "cell_type": "code",
   "execution_count": null,
   "metadata": {},
   "outputs": [],
   "source": [
    "nums = [item[1:-1] for item in file[1:]]\n",
    "states = [item[0] for item in file[1:] ]\n",
    "\n",
    "print('nums: ', nums[:3])\n",
    "print('states: ',states[:3])"
   ]
  },
  {
   "cell_type": "markdown",
   "metadata": {},
   "source": [
    "`nums` is now a list of lists of all of the numeric rows in the `file` object or, in other words, all of the columns except for the first column. \n",
    "\n",
    "`states` is now a list of all the locations, we will come back to it later."
   ]
  },
  {
   "cell_type": "markdown",
   "metadata": {},
   "source": [
    "<a id='array'></a>\n",
    "## 1. Creating an Array\n",
    "\n",
    "One of the most popular objects that `NumPy` provides is the the `numpy.array`. These arrays come with a variety of methods that can be run on them, but before we begin to do anything interesting with arrays, we first need to learn how to create them. "
   ]
  },
  {
   "cell_type": "code",
   "execution_count": null,
   "metadata": {},
   "outputs": [],
   "source": [
    "import numpy as np\n",
    "\n",
    "pets = np.array(nums, dtype=np.int)\n",
    "pets[:3]"
   ]
  },
  {
   "cell_type": "markdown",
   "metadata": {},
   "source": [
    "The `np.array()` method creates an array from our list of lists. In this case, it is a 2-dimensional array, which can be thought of as having one dimension of rows and one dimension of columns.  We can take a look at the shape of this array by doing the following..."
   ]
  },
  {
   "cell_type": "code",
   "execution_count": null,
   "metadata": {},
   "outputs": [],
   "source": [
    "pets.shape"
   ]
  },
  {
   "cell_type": "markdown",
   "metadata": {},
   "source": [
    "`pets.shape` returns a tuple object, where the first value is the number of items in the first dimension (number of rows) and the second is the number of items in the second dimension (number of columns). This (row, column) notation will come up over and over in `NumPy` as well as other data science libraries such as `pandas`, so be sure to remember which is which."
   ]
  },
  {
   "cell_type": "markdown",
   "metadata": {},
   "source": [
    "### Alternative ways to creating arrays\n",
    "\n",
    "We can also create our own arrays by simply specifying a list or tuple of values. Below are some of the ways we can construct arrays.\n",
    "\n",
    "We can pass the `np.array()` method a list of values..."
   ]
  },
  {
   "cell_type": "code",
   "execution_count": null,
   "metadata": {},
   "outputs": [],
   "source": [
    "np.array([2,3,1,0])"
   ]
  },
  {
   "cell_type": "markdown",
   "metadata": {},
   "source": [
    "We can also create a two-dimensional array by passing a list of lists/tuples. Take a look at this example closely...Notice how the last item is a tuple, but the first two are lists. `NumPy` can handle these together."
   ]
  },
  {
   "cell_type": "code",
   "execution_count": null,
   "metadata": {},
   "outputs": [],
   "source": [
    "np.array([[1,2.0],[0,0],(1+1,3.)])"
   ]
  },
  {
   "cell_type": "markdown",
   "metadata": {},
   "source": [
    "You can also create arrays with different data types as inputs. However, since all of the data types of a single array have to be of the same type, the output will coerce the `int`s to `strings`."
   ]
  },
  {
   "cell_type": "code",
   "execution_count": null,
   "metadata": {},
   "outputs": [],
   "source": [
    "np.array(['x', 'y', 0, 1])"
   ]
  },
  {
   "cell_type": "markdown",
   "metadata": {},
   "source": [
    "We can even create an array of 0s. The `.zeros()` method can take a tuple as an argument that specifies the number of rows and columns that we would like. The code below creates an array of all zeros with 4 rows and 5 columns."
   ]
  },
  {
   "cell_type": "code",
   "execution_count": null,
   "metadata": {},
   "outputs": [],
   "source": [
    "np.zeros((4,5))"
   ]
  },
  {
   "cell_type": "markdown",
   "metadata": {},
   "source": [
    "The `np.arange()` method will return an array with a sequence of evenly spaced intervals. If you only specify one number, an array of that length will be returned starting at the index of 0."
   ]
  },
  {
   "cell_type": "code",
   "execution_count": null,
   "metadata": {},
   "outputs": [],
   "source": [
    "np.arange(6)"
   ]
  },
  {
   "cell_type": "markdown",
   "metadata": {},
   "source": [
    "If you pass two integers, then it will return an array starting at the first value and going to, but not including, the second. You can also specify the data type that you wish for it to be."
   ]
  },
  {
   "cell_type": "code",
   "execution_count": null,
   "metadata": {},
   "outputs": [],
   "source": [
    "np.arange(2, 10, dtype=np.float)"
   ]
  },
  {
   "cell_type": "markdown",
   "metadata": {},
   "source": [
    "If you add a third number, that will then become the interval spacing. In the example below, we are telling `NumPy` that we want an array that begins at 2, ends at 4 (but doesn't include it), and every value in between should be .5 greater than the value before it."
   ]
  },
  {
   "cell_type": "code",
   "execution_count": null,
   "metadata": {},
   "outputs": [],
   "source": [
    "np.arange(2, 4, 0.5)"
   ]
  },
  {
   "cell_type": "markdown",
   "metadata": {},
   "source": [
    "Finally, we can create an array of random values as well..."
   ]
  },
  {
   "cell_type": "code",
   "execution_count": null,
   "metadata": {},
   "outputs": [],
   "source": [
    "np.random.rand(2,2)"
   ]
  },
  {
   "cell_type": "markdown",
   "metadata": {},
   "source": [
    "-----\n",
    "\n",
    "<a id='indexing'></a>\n",
    "## 2. Array Indexing\n",
    "\n",
    "One of the major benefits of using `NumPy` is its indexing capabilities. Unlike the string of string method that we used above, we can easily grab entire rows **and** columns, or slices of them.\n",
    "\n",
    "In the next few examples, we are going to return back to our array that we created from our dataset. For reference, we called the array object, `pets` and we created it [here](#array). \n",
    "\n",
    "If the array is two-dimensional, as is the case with our `pets` array, we can specify the row index as the first number and the column as the second to select a particular value. For example, if we want to select the value at row-index 4 and column-index 2, we do this..."
   ]
  },
  {
   "cell_type": "code",
   "execution_count": null,
   "metadata": {},
   "outputs": [],
   "source": [
    "pets[4,2]"
   ]
  },
  {
   "cell_type": "markdown",
   "metadata": {},
   "source": [
    "Or we can take slices of the array by specifying a range of values. For example, if we wanted the first 10 rows of the fourth column, we would do this..."
   ]
  },
  {
   "cell_type": "code",
   "execution_count": null,
   "metadata": {},
   "outputs": [],
   "source": [
    "pets[0:10, 3]"
   ]
  },
  {
   "cell_type": "markdown",
   "metadata": {},
   "source": [
    "And if we wanted the entire fourth row, we would do this..."
   ]
  },
  {
   "cell_type": "code",
   "execution_count": null,
   "metadata": {},
   "outputs": [],
   "source": [
    "pets[3,]"
   ]
  },
  {
   "cell_type": "markdown",
   "metadata": {},
   "source": [
    "However, if you want to select an entire column, you will have to provide the `:` operator in the row-index position like so..."
   ]
  },
  {
   "cell_type": "code",
   "execution_count": null,
   "metadata": {},
   "outputs": [],
   "source": [
    "pets[:,4]"
   ]
  },
  {
   "cell_type": "markdown",
   "metadata": {},
   "source": [
    "### Modifying the array\n",
    "\n",
    "Indexing is particularly important when it comes to modifying values of the array. For these next couple of blocks, we are going to be working with a copy of the `pets` array. One might think that you could just create a copy by using the assignment operator, `=` like so:\n",
    "\n",
    "```python \n",
    "pets_cp = pets\n",
    "```\n",
    "\n",
    "However, with `NumPy` arrays, this creates a reference and not a copy meaning that any modification you make to the `pets_cp` will also modify the `pets` array. Instead, we can create a copy of the pets `array` by using the `np.copy()` method. "
   ]
  },
  {
   "cell_type": "code",
   "execution_count": null,
   "metadata": {},
   "outputs": [],
   "source": [
    "pets_cp = np.copy(pets)"
   ]
  },
  {
   "cell_type": "markdown",
   "metadata": {},
   "source": [
    "Now, if we want to change the value at any particular point we could just select the value by its indexes and assign it a new value like so..."
   ]
  },
  {
   "cell_type": "code",
   "execution_count": null,
   "metadata": {},
   "outputs": [],
   "source": [
    "pets_cp[4,5] = 40\n",
    "print(\"The original value of pets_cp[4,5] was {} but now it is {}.\"\n",
    "      .format(pets[4,5],pets_cp[4,5]))"
   ]
  },
  {
   "cell_type": "markdown",
   "metadata": {},
   "source": [
    "We can also change the value of an entire slice. If we wanted to change the entire 4th column to the value 400, you can do that."
   ]
  },
  {
   "cell_type": "code",
   "execution_count": null,
   "metadata": {},
   "outputs": [],
   "source": [
    "pets_cp[:,3]= 400\n",
    "\n",
    "print(\"First few values of the 4th column of the pets array were {} and now they are {}.\"\n",
    "      .format(pets[0:4,3],pets_cp[0:4,3]))\n"
   ]
  },
  {
   "cell_type": "markdown",
   "metadata": {},
   "source": [
    "---\n",
    "\n",
    "<a id='math'></a>\n",
    "## 3. Array Math\n",
    "\n",
    "One of the major strengths of `NumPy` is its easy to use mathematical operations on arrays. Let's take a look at the column that we will be modifying in the next few exercises... \n",
    "\n",
    "The fourth row is the \"Percentage of households with dogs\" attribute in the dataset. "
   ]
  },
  {
   "cell_type": "code",
   "execution_count": null,
   "metadata": {},
   "outputs": [],
   "source": [
    "pets[:,3]"
   ]
  },
  {
   "cell_type": "markdown",
   "metadata": {},
   "source": [
    "If we wanted to add 10 to every value in this column, all we would have to do is specify the column, the operator `+` and then `10`"
   ]
  },
  {
   "cell_type": "code",
   "execution_count": null,
   "metadata": {},
   "outputs": [],
   "source": [
    "pets[:,3] + 10"
   ]
  },
  {
   "cell_type": "markdown",
   "metadata": {},
   "source": [
    "Similarly with subtraction..."
   ]
  },
  {
   "cell_type": "code",
   "execution_count": null,
   "metadata": {},
   "outputs": [],
   "source": [
    "pets[:,3] - 10"
   ]
  },
  {
   "cell_type": "markdown",
   "metadata": {},
   "source": [
    "If we wanted to change this value into a proportion, all we would need to do is multiply it by 0.01. "
   ]
  },
  {
   "cell_type": "code",
   "execution_count": null,
   "metadata": {},
   "outputs": [],
   "source": [
    "pets[:,3] * .01"
   ]
  },
  {
   "cell_type": "markdown",
   "metadata": {},
   "source": [
    "...or divide by 100."
   ]
  },
  {
   "cell_type": "code",
   "execution_count": null,
   "metadata": {},
   "outputs": [],
   "source": [
    "pets[:,3] / 100"
   ]
  },
  {
   "cell_type": "markdown",
   "metadata": {},
   "source": [
    "We can also perform operations between arrays. Take for example, multiplying column 4 by column 4..."
   ]
  },
  {
   "cell_type": "code",
   "execution_count": null,
   "metadata": {},
   "outputs": [],
   "source": [
    "pets[:,3] * pets[:,3]"
   ]
  },
  {
   "cell_type": "markdown",
   "metadata": {},
   "source": [
    "----\n",
    "<a id='methods'></a>\n",
    "## 4. Array Methods\n",
    "\n",
    "`NumPy` also delivers some convenient methods to perform on arrays to make our life easier. For example, if we wanted to find the sum of all of the values in the 4th column, we can simply use the `sum()` method."
   ]
  },
  {
   "cell_type": "code",
   "execution_count": null,
   "metadata": {},
   "outputs": [],
   "source": [
    "pets[:,3].sum() "
   ]
  },
  {
   "cell_type": "markdown",
   "metadata": {},
   "source": [
    "And if we wanted to find the mean value of the column you would..."
   ]
  },
  {
   "cell_type": "code",
   "execution_count": null,
   "metadata": {},
   "outputs": [],
   "source": [
    "pets[:,3].mean()"
   ]
  },
  {
   "cell_type": "markdown",
   "metadata": {},
   "source": [
    "We can check this by using the `sum()` method again and dividing by the number of values in that row."
   ]
  },
  {
   "cell_type": "code",
   "execution_count": null,
   "metadata": {},
   "outputs": [],
   "source": [
    "pets[:,3].sum()/len(pets[:,3])"
   ]
  },
  {
   "cell_type": "markdown",
   "metadata": {},
   "source": [
    "Checks out! And if we find the mean, we often want to know the standard deviation..."
   ]
  },
  {
   "cell_type": "code",
   "execution_count": null,
   "metadata": {},
   "outputs": [],
   "source": [
    "pets[:,3].std()"
   ]
  },
  {
   "cell_type": "markdown",
   "metadata": {},
   "source": [
    "We may also want to know the range of values..."
   ]
  },
  {
   "cell_type": "code",
   "execution_count": null,
   "metadata": {},
   "outputs": [],
   "source": [
    "pets[:,3].min()"
   ]
  },
  {
   "cell_type": "code",
   "execution_count": null,
   "metadata": {},
   "outputs": [],
   "source": [
    "pets[:,3].max()"
   ]
  },
  {
   "cell_type": "markdown",
   "metadata": {},
   "source": [
    "The `pets` array currently has 49 rows and 10 columns. There are situations in which you may want to transpose the array so that the rows become the columns and the columns become the rows. In order to do that, you simply call the `.transpose()` method."
   ]
  },
  {
   "cell_type": "code",
   "execution_count": null,
   "metadata": {},
   "outputs": [],
   "source": [
    "pets_tr = pets.transpose()\n",
    "pets_tr.shape"
   ]
  },
  {
   "cell_type": "markdown",
   "metadata": {},
   "source": [
    "----\n",
    "<a id='subset'></a>\n",
    "## 5. Subsetting\n",
    "\n",
    "We may also want to subset the array based on the values meeting  particular conditions. We can use our logical operators to return an array of `bool`s, which we can then use to subset our array.\n",
    "\n",
    "Imagine that we wanted to know those rows that had a percentage of households with dogs greater than 45. All we have to do is this..."
   ]
  },
  {
   "cell_type": "code",
   "execution_count": null,
   "metadata": {},
   "outputs": [],
   "source": [
    "pets[:,3] > 45"
   ]
  },
  {
   "cell_type": "markdown",
   "metadata": {},
   "source": [
    "We can now name this array something, and then use it as our row subsetter like so..."
   ]
  },
  {
   "cell_type": "code",
   "execution_count": null,
   "metadata": {},
   "outputs": [],
   "source": [
    "many_dogs = pets[:,3] > 45\n",
    "pets[many_dogs,:]"
   ]
  },
  {
   "cell_type": "markdown",
   "metadata": {},
   "source": [
    "As we can see, only 5 rows are returned from the entire array. \n",
    "\n",
    "We can also specify multiple conditions.\n",
    "\n",
    "The eight row is the \"Percentage of households with cats\" attribute in the dataset. \n"
   ]
  },
  {
   "cell_type": "code",
   "execution_count": null,
   "metadata": {},
   "outputs": [],
   "source": [
    "many_pets = (pets[:,3] > 40) & (pets[:,7] > 30)\n",
    "pets[many_pets, :]"
   ]
  },
  {
   "cell_type": "markdown",
   "metadata": {},
   "source": [
    "Remember the `states` list that we created above? Well, we can now change that to an array of strings. We then need to reshape it so that we can perform some subsetting operations on it. To do so, we use the `reshape()` method and specify that we want it to be 49 rows long and 1 column wide."
   ]
  },
  {
   "cell_type": "code",
   "execution_count": null,
   "metadata": {},
   "outputs": [],
   "source": [
    "states_arr = np.array(states)\n",
    "states_resh = states_arr.reshape(49,1)"
   ]
  },
  {
   "cell_type": "markdown",
   "metadata": {},
   "source": [
    "We can now subset on this array using the `many_pets` condition we defined above. This is convenient as it gives us an easy way to see what states have a lot of households with cats and dogs."
   ]
  },
  {
   "cell_type": "code",
   "execution_count": null,
   "metadata": {},
   "outputs": [],
   "source": [
    "states_resh[many_pets, :]"
   ]
  },
  {
   "cell_type": "markdown",
   "metadata": {},
   "source": [
    "### Joining arrays\n",
    "\n",
    "We can also join arrays. In this case, since we want to join them horizontally, our number of rows for each array have to match. We will use the `.hpstack()` method to join the two (\"h\" in this case stands for horizontal). Remember, when we do this, the datatypes will have to match so the new array will be an array of strings."
   ]
  },
  {
   "cell_type": "code",
   "execution_count": null,
   "metadata": {},
   "outputs": [],
   "source": [
    "joined = np.hstack((states_resh, pets))"
   ]
  },
  {
   "cell_type": "markdown",
   "metadata": {},
   "source": [
    "Now, with this, we can subset the entire array..."
   ]
  },
  {
   "cell_type": "code",
   "execution_count": null,
   "metadata": {},
   "outputs": [],
   "source": [
    "joined[many_pets, :]"
   ]
  },
  {
   "cell_type": "markdown",
   "metadata": {},
   "source": [
    "---\n",
    "\n",
    "### Dig Deeper\n",
    "1. https://docs.scipy.org/doc/numpy-1.14.0/user/quickstart.html\n",
    "2. http://cs231n.github.io/python-numpy-tutorial/#numpy\n",
    "\n",
    "---\n",
    "\n",
    "# SAVE YOUR NOTEBOOK, then `File > Close and Halt`"
   ]
  }
 ],
 "metadata": {
  "kernelspec": {
   "display_name": "Python 3",
   "language": "python",
   "name": "python3"
  },
  "language_info": {
   "codemirror_mode": {
    "name": "ipython",
    "version": 3
   },
   "file_extension": ".py",
   "mimetype": "text/x-python",
   "name": "python",
   "nbconvert_exporter": "python",
   "pygments_lexer": "ipython3",
   "version": "3.7.3"
  }
 },
 "nbformat": 4,
 "nbformat_minor": 2
}
