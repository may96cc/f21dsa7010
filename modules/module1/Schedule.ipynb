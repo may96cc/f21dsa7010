{
 "cells": [
  {
   "cell_type": "markdown",
   "metadata": {},
   "source": [
    "# Module 1: Introduction to Data Science with Python\n"
   ]
  },
  {
   "cell_type": "markdown",
   "metadata": {},
   "source": [
    "----\n",
    "\n",
    "## Topics covered\n",
    "- Intro to Mizzou DSA\n",
    "- Intro to Data Science as a discipline\n",
    "- Intro to Python for data science\n",
    "- Intro to `NumPy`\n",
    "- Intro to Descriptive Statistics\n"
   ]
  },
  {
   "cell_type": "markdown",
   "metadata": {},
   "source": [
    "## Objectives\n",
    "- Students will become familiar with the jupyter environment\n",
    "- Students will demonstrate their ability to submit assignments through git\n",
    "- Students will perform descriptive analysis using python and numpy\n",
    "- Students will start to become familiar with  software tools and algorithms appropriate for analyzing large data sets\n",
    "- Students will start to identify the strengths and weaknesses of data set in terms of data quality and suitability for answering a particular set of questions."
   ]
  },
  {
   "cell_type": "markdown",
   "metadata": {},
   "source": [
    "## Readings\n",
    "\n",
    "- [What is Data Science](resources/What%20is%20Data%20Science.pdf)\n",
    "- [What makes a great data scientist](https://www.datasciencecentral.com/profiles/blogs/what-makes-a-great-data-scientist)\n",
    "\n",
    "\n",
    "The following are three examples of how data science is being used/improving to solve different types of problems.\n",
    "\n",
    "- [Microsoft Finds Cancer Clues in Search Queries](http://www.nytimes.com/2016/06/08/technology/online-searches-can-identify-cancer-victims-study-finds.html?utm_campaign=Data%2BElixir&utm_medium=email&utm_source=Data_Elixir_83&_r=0)- *The New York Times*\n",
    "- [AlphaGo: Mastering the ancient game of Go with Machine Learning](https://research.googleblog.com/2016/01/alphago-mastering-ancient-game-of-go.html?utm_campaign=Data%2BElixir&utm_medium=email&utm_source=Data_Elixir_70)- *Google Research Blog*\n",
    "- [Is Uber Making NYC Rush-Hour Traffic Worse?](http://fivethirtyeight.com/features/is-uber-making-nyc-rush-hour-traffic-worse/)- *FiveThirtyEight*\n"
   ]
  },
  {
   "cell_type": "markdown",
   "metadata": {},
   "source": [
    "## Videos\n",
    "\n",
    "- [What is Data Science](https://youtu.be/S7nvSMUd0sc)\n",
    "- [You and Data Science in this Program](https://youtu.be/ajuKPnm53AE)\n",
    "- [The Data Science & Analytics Project Life Cycle](https://youtu.be/ubCnO2zZGyY)\n",
    "    * [Slide Deck](resources/DSA-ProjectLifecycle-slidedeck.pdf)"
   ]
  },
  {
   "cell_type": "markdown",
   "metadata": {},
   "source": [
    "## Discussion \n",
    "\n",
    "- [Introduction](https://umsystem.instructure.com/courses/8147/discussion_topics/675590)"
   ]
  },
  {
   "cell_type": "markdown",
   "metadata": {},
   "source": [
    "\n",
    "\n",
    "## Labs, Practices and Exercises\n",
    "\n",
    "**First Step: Pull down Python Boot Camp, Module 3 material if you do not already have it**\n",
    "Use the commands listed at the end of the Python Boot Camp, Module 1 Schedule to acquire the next Module of the Python course.\n",
    "\n",
    "\n",
    "### Labs\n",
    " \n",
    "1. [Some Hints and Tips on Using Jupyter Hub](labs/jupyter_tips.ipynb)\n",
    "1. [Submission of Work](labs/CommittingWork.ipynb)\n",
    "1. Navigate to your Python Boot Camp, Module 3\n",
    "  * Do Lesson 2 to learn about _Numpy_ and _Pandas_ if you haven't already done them\n",
    "  * Note, Lessons 3 are for later modules\n",
    "1. [Intro to Data Science with Python](labs/intro_data_science_python.ipynb)\n",
    "1. [Introduction to the `NumPy` Package](labs/intro_numpy.ipynb)\n",
    "1. [Soft Introduction to Descriptive Statistics with `NumPy`](labs/intro_descriptive_stats_python.ipynb)\n",
    "\n",
    "\n",
    "### Practices\n",
    "1. [Practice Data Science with `Python`](practices/data_science_practice_python.ipynb)       \n",
    "     - [Answers](answers/data_science_practice_python.ipynb)\n",
    "1. [Practicing Descriptive Statistics with `NumPy` and `pandas`](practices/practice_descriptive_stats_python.ipynb)\n",
    "     - [Answers](answers/practice_descriptive_stats_python.ipynb)\n",
    "\n",
    "\n",
    "### Exercises\n",
    "1. [Intro to Data Science with `Python` Exercises](exercises/intro_data_science_exercise_python.ipynb)\n",
    "     - [Answers](answers/intro_data_science_exercise_python.ipynb)\n",
    "1. [Descriptive Statistics with `Python` Exercises](exercises/exercises_descriptive_stats_python.ipynb)\n",
    "     - [Answers](answers/exercises_descriptive_stats_python.ipynb)\n",
    "\n",
    "\n"
   ]
  },
  {
   "cell_type": "markdown",
   "metadata": {},
   "source": [
    "## Submitting Your Work\n",
    "\n",
    "Be sure you have submitted your practices and exercises for Module 1!\n",
    " * See [Submission of Work](labs/CommittingWork.ipynb) notebook above.\n",
    "\n",
    "It is best practice to create a save point (commit) after each interval of work, e.g., when you are done for the day or you have completed a notebook."
   ]
  },
  {
   "cell_type": "markdown",
   "metadata": {},
   "source": [
    "## Data Sets\n",
    "Path: `/dsa/data/all_datasets/`\n",
    "\n",
    "Dataset Name    | File\n",
    "----------------|------------\n",
    "Baby Names 1    | `baby-names/NationalNames1.csv`\n",
    "Baby Names 2    | `baby-names/NationalNames2.csv`\n",
    "Baby Names 3    | `baby-names/NationalNames3.csv`\n",
    "Congress Terms  | `congress-terms.csv`\n",
    "Game of Thrones | `game-of-thrones/GoT_age_at_death.csv`\n",
    "Stature Hand and Foot | `stature-hand-foot/stature-hand-foot.csv`\n",
    "\n",
    "\n"
   ]
  },
  {
   "cell_type": "markdown",
   "metadata": {},
   "source": [
    "--- \n",
    "\n",
    "# Congratulations!  You made it through your first DSA Module."
   ]
  }
 ],
 "metadata": {
  "kernelspec": {
   "display_name": "Python 3",
   "language": "python",
   "name": "python3"
  },
  "language_info": {
   "codemirror_mode": {
    "name": "ipython",
    "version": 3
   },
   "file_extension": ".py",
   "mimetype": "text/x-python",
   "name": "python",
   "nbconvert_exporter": "python",
   "pygments_lexer": "ipython3",
   "version": "3.7.3"
  }
 },
 "nbformat": 4,
 "nbformat_minor": 2
}
