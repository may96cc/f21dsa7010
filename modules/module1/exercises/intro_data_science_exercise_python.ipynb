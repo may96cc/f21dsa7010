{
 "cells": [
  {
   "cell_type": "markdown",
   "metadata": {},
   "source": [
    "# Data Manipulation with `Python` Exercises\n",
    "\n",
    "Welcome to one of your first exercise notebooks. \n",
    "So what should you expect from these notebooks? \n",
    "Well, we will be touching on the concepts and code that we ran through in the subsequent labs and practices, \n",
    "except the majority of the coding will be done by you now. \n",
    "The questions that we ask of you will be very familiar, although the output might throw a few more errors. \n",
    "**Some of these issues we have not seen yet and this is meant to challenge you.** \n",
    "Learning to resolve new issues and development of your problem solving vocabulary for internet research is critical to developing you as a data scientist.\n",
    "\n",
    "In these notebooks, we will ask you to write and execute your own code for questions that will look similar to what we have learned in the Labs and Practices. However, Exercises will often be a bit more challenging in that 1) you may be working with a new data set with which you will have to familiarize yourself, and 2) you will be asked to write code to problems you have yet to see.\n"
   ]
  },
  {
   "cell_type": "markdown",
   "metadata": {},
   "source": [
    "## Read in the Data\n",
    "\n",
    "We will be using a different data set for this exercise. These data are filled with all of the U.S. Congress members from January 1947 to February 2014 along with some information about them.\n",
    "\n",
    "Go ahead and read in the `congress-terms.csv` in the `all_datasets/` directory. Pay particular attention to the encoding. Run the following line..."
   ]
  },
  {
   "cell_type": "code",
   "execution_count": 1,
   "metadata": {},
   "outputs": [
    {
     "name": "stdout",
     "output_type": "stream",
     "text": [
      "congress ,chamber ,bioguide ,firstname ,middlename ,lastname ,suffix ,birthday ,state ,party ,incumbent ,termstart ,age\n",
      "80 ,house ,M000112 ,Joseph ,Jefferson ,Mansfield , ,1861-02-09 ,TX ,D ,Yes ,1/3/47 ,85.9\n",
      "80 ,house ,D000448 ,Robert ,Lee ,Doughton , ,1863-11-07 ,NC ,D ,Yes ,1/3/47 ,83.2\n",
      "80 ,house ,S000001 ,Adolph ,Joachim ,Sabath , ,1866-04-04 ,IL ,D ,Yes ,1/3/47 ,80.7\n",
      "80 ,house ,E000023 ,Charles ,Aubrey ,Eaton , ,1868-03-29 ,NJ ,R ,Yes ,1/3/47 ,78.8\n",
      "80 ,house ,L000296 ,William , ,Lewis , ,1868-09-22 ,KY ,R ,No ,1/3/47 ,78.3\n",
      "80 ,house ,G000017 ,James ,A. ,Gallagher , ,1869-01-16 ,PA ,R ,No ,1/3/47 ,78\n",
      "80 ,house ,W000265 ,Richard ,Joseph ,Welch , ,1869-02-13 ,CA ,R ,Yes ,1/3/47 ,77.9\n",
      "80 ,house ,B000565 ,Sol , ,Bloom , ,1870-03-09 ,NY ,D ,Yes ,1/3/47 ,76.8\n",
      "80 ,house ,H000943 ,Merlin , ,Hull , ,1870-12-18 ,WI ,R ,Yes ,1/3/47 ,76\n",
      "80 ,house ,G000169 ,Charles ,Laceille ,Gifford , ,1871-03-15 ,MA ,R ,Yes ,1/3/47 ,75.8\n"
     ]
    }
   ],
   "source": [
    "import pandas as pd\n",
    "\n",
    "with open('/dsa/data/all_datasets/congress-terms.csv', 'r', encoding = 'ISO-8859-1' ) as file:\n",
    "    data = file.read()\n",
    "\n",
    "    data_lists = data.split(\"\\n\")\n",
    "\n",
    "    list_of_lists = []\n",
    "    for line in data_lists:\n",
    "        row = line.split(',')\n",
    "        list_of_lists.append(row)\n",
    "\n",
    "    # return the first 11 lists (rows) to get an idea of what the data looks like     \n",
    "    for row in list_of_lists[0:11]:\n",
    "        print(' ,'.join(row))"
   ]
  },
  {
   "cell_type": "markdown",
   "metadata": {},
   "source": [
    "**Question 1**: You will notice something a little bit different about reading in this file, particularly the `encoding` parameter. Do a bit of research on what encoding is. What happens when you remove this parameter all together? Do your best to describe any errors being thrown."
   ]
  },
  {
   "cell_type": "code",
   "execution_count": 4,
   "metadata": {},
   "outputs": [
    {
     "ename": "UnicodeDecodeError",
     "evalue": "'utf-8' codec can't decode byte 0xcc in position 22701: invalid continuation byte",
     "output_type": "error",
     "traceback": [
      "\u001b[0;31m---------------------------------------------------------------------------\u001b[0m",
      "\u001b[0;31mUnicodeDecodeError\u001b[0m                        Traceback (most recent call last)",
      "\u001b[0;32m<ipython-input-4-d9d6b36745c7>\u001b[0m in \u001b[0;36m<module>\u001b[0;34m\u001b[0m\n\u001b[1;32m      1\u001b[0m \u001b[0;32mwith\u001b[0m \u001b[0mopen\u001b[0m\u001b[0;34m(\u001b[0m\u001b[0;34m'/dsa/data/all_datasets/congress-terms.csv'\u001b[0m\u001b[0;34m,\u001b[0m \u001b[0;34m'r'\u001b[0m\u001b[0;34m)\u001b[0m \u001b[0;32mas\u001b[0m \u001b[0mfile\u001b[0m\u001b[0;34m:\u001b[0m\u001b[0;34m\u001b[0m\u001b[0;34m\u001b[0m\u001b[0m\n\u001b[0;32m----> 2\u001b[0;31m     \u001b[0mdata\u001b[0m \u001b[0;34m=\u001b[0m \u001b[0mfile\u001b[0m\u001b[0;34m.\u001b[0m\u001b[0mread\u001b[0m\u001b[0;34m(\u001b[0m\u001b[0;34m)\u001b[0m\u001b[0;34m\u001b[0m\u001b[0;34m\u001b[0m\u001b[0m\n\u001b[0m\u001b[1;32m      3\u001b[0m \u001b[0;34m\u001b[0m\u001b[0m\n\u001b[1;32m      4\u001b[0m     \u001b[0mdata_lists\u001b[0m \u001b[0;34m=\u001b[0m \u001b[0mdata\u001b[0m\u001b[0;34m.\u001b[0m\u001b[0msplit\u001b[0m\u001b[0;34m(\u001b[0m\u001b[0;34m\"\\n\"\u001b[0m\u001b[0;34m)\u001b[0m\u001b[0;34m\u001b[0m\u001b[0;34m\u001b[0m\u001b[0m\n\u001b[1;32m      5\u001b[0m \u001b[0;34m\u001b[0m\u001b[0m\n",
      "\u001b[0;32m/opt/conda/lib/python3.7/codecs.py\u001b[0m in \u001b[0;36mdecode\u001b[0;34m(self, input, final)\u001b[0m\n\u001b[1;32m    320\u001b[0m         \u001b[0;31m# decode input (taking the buffer into account)\u001b[0m\u001b[0;34m\u001b[0m\u001b[0;34m\u001b[0m\u001b[0;34m\u001b[0m\u001b[0m\n\u001b[1;32m    321\u001b[0m         \u001b[0mdata\u001b[0m \u001b[0;34m=\u001b[0m \u001b[0mself\u001b[0m\u001b[0;34m.\u001b[0m\u001b[0mbuffer\u001b[0m \u001b[0;34m+\u001b[0m \u001b[0minput\u001b[0m\u001b[0;34m\u001b[0m\u001b[0;34m\u001b[0m\u001b[0m\n\u001b[0;32m--> 322\u001b[0;31m         \u001b[0;34m(\u001b[0m\u001b[0mresult\u001b[0m\u001b[0;34m,\u001b[0m \u001b[0mconsumed\u001b[0m\u001b[0;34m)\u001b[0m \u001b[0;34m=\u001b[0m \u001b[0mself\u001b[0m\u001b[0;34m.\u001b[0m\u001b[0m_buffer_decode\u001b[0m\u001b[0;34m(\u001b[0m\u001b[0mdata\u001b[0m\u001b[0;34m,\u001b[0m \u001b[0mself\u001b[0m\u001b[0;34m.\u001b[0m\u001b[0merrors\u001b[0m\u001b[0;34m,\u001b[0m \u001b[0mfinal\u001b[0m\u001b[0;34m)\u001b[0m\u001b[0;34m\u001b[0m\u001b[0;34m\u001b[0m\u001b[0m\n\u001b[0m\u001b[1;32m    323\u001b[0m         \u001b[0;31m# keep undecoded input until the next call\u001b[0m\u001b[0;34m\u001b[0m\u001b[0;34m\u001b[0m\u001b[0;34m\u001b[0m\u001b[0m\n\u001b[1;32m    324\u001b[0m         \u001b[0mself\u001b[0m\u001b[0;34m.\u001b[0m\u001b[0mbuffer\u001b[0m \u001b[0;34m=\u001b[0m \u001b[0mdata\u001b[0m\u001b[0;34m[\u001b[0m\u001b[0mconsumed\u001b[0m\u001b[0;34m:\u001b[0m\u001b[0;34m]\u001b[0m\u001b[0;34m\u001b[0m\u001b[0;34m\u001b[0m\u001b[0m\n",
      "\u001b[0;31mUnicodeDecodeError\u001b[0m: 'utf-8' codec can't decode byte 0xcc in position 22701: invalid continuation byte"
     ]
    }
   ],
   "source": [
    "\n",
    "with open('/dsa/data/all_datasets/congress-terms.csv', 'r') as file:\n",
    "    data = file.read()\n",
    "\n",
    "    data_lists = data.split(\"\\n\")\n",
    "\n",
    "    list_of_lists = []\n",
    "    for line in data_lists:\n",
    "        row = line.split(',')\n",
    "        list_of_lists.append(row)\n",
    "\n",
    "    # return the first 11 lists (rows) to get an idea of what the data looks like     \n",
    "    for row in list_of_lists[0:11]:\n",
    "        print(' ,'.join(row))\n",
    "\n",
    "\n",
    "print('The code fails  because it cant decode when the econding parameter is removed when reading in the data set')\n"
   ]
  },
  {
   "cell_type": "markdown",
   "metadata": {},
   "source": [
    "**Question 2**: In the `list_of_lists` variable, the last item of each list is the `age` of the member of congress. This is currently a string. Without using any packages, create a subset that contains all of the values for `age` stored as floats."
   ]
  },
  {
   "cell_type": "code",
   "execution_count": 15,
   "metadata": {},
   "outputs": [
    {
     "name": "stdout",
     "output_type": "stream",
     "text": [
      "[85.9, 83.2, 80.7, 78.8, 78.3]\n"
     ]
    }
   ],
   "source": [
    "agef = []\n",
    "sub = list_of_lists[1:]\n",
    "for row in sub : \n",
    "    agefs = float(row[12])\n",
    "    agef.append(agefs)\n",
    "    \n",
    "print(agef[0:5])"
   ]
  },
  {
   "cell_type": "markdown",
   "metadata": {},
   "source": [
    "**Question 3**: Now go ahead and read in the file with `pandas` save the data frame to a variable called `df`."
   ]
  },
  {
   "cell_type": "code",
   "execution_count": 19,
   "metadata": {},
   "outputs": [],
   "source": [
    "# Execute your code for question 3 here\n",
    "# -------------------------------------\n",
    "import pandas as pd\n",
    "with open('/dsa/data/all_datasets/congress-terms.csv','r', encoding = 'ISO-8859-1') as file:\n",
    "    df = pd.read_csv(file)"
   ]
  },
  {
   "cell_type": "markdown",
   "metadata": {},
   "source": [
    "**Question 4**: Find a method to print of the column headers of the data frame `df`."
   ]
  },
  {
   "cell_type": "code",
   "execution_count": 22,
   "metadata": {},
   "outputs": [
    {
     "data": {
      "text/plain": [
       "Index(['congress', 'chamber', 'bioguide', 'firstname', 'middlename',\n",
       "       'lastname', 'suffix', 'birthday', 'state', 'party', 'incumbent',\n",
       "       'termstart', 'age'],\n",
       "      dtype='object')"
      ]
     },
     "execution_count": 22,
     "metadata": {},
     "output_type": "execute_result"
    }
   ],
   "source": [
    "# Execute your code for question 4 here\n",
    "# -------------------------------------\n",
    "df.columns"
   ]
  },
  {
   "cell_type": "markdown",
   "metadata": {},
   "source": [
    "**Question 5**: Congresses are numbered. Notice that there is a column devoted to the Cogress number. This column is conveniently called `congress`. Create a subsetted data frame of the 80th congress only and call this subset `congress80`. "
   ]
  },
  {
   "cell_type": "code",
   "execution_count": 24,
   "metadata": {},
   "outputs": [],
   "source": [
    "# Execute your code for question 5 here\n",
    "# -------------------------------------\n",
    "congress80 = df[df['congress']==80]\n"
   ]
  },
  {
   "cell_type": "markdown",
   "metadata": {},
   "source": [
    "**Question 6**: Now, from this `congress80` subset, use a method that will count the rows who are House members and then again for Senate Members."
   ]
  },
  {
   "cell_type": "code",
   "execution_count": 30,
   "metadata": {},
   "outputs": [
    {
     "name": "stdout",
     "output_type": "stream",
     "text": [
      "453\n",
      "102\n"
     ]
    }
   ],
   "source": [
    "# Execute your code for question 6 here\n",
    "# -------------------------------------\n",
    "house = len(congress80[congress80['chamber'] == 'house'])\n",
    "senate = len(congress80[congress80['chamber']== 'senate'])\n",
    "print(house)\n",
    "print(senate)"
   ]
  },
  {
   "cell_type": "markdown",
   "metadata": {},
   "source": [
    "# Save your notebook, then `File > Close and Halt`"
   ]
  }
 ],
 "metadata": {
  "kernelspec": {
   "display_name": "Python 3",
   "language": "python",
   "name": "python3"
  },
  "language_info": {
   "codemirror_mode": {
    "name": "ipython",
    "version": 3
   },
   "file_extension": ".py",
   "mimetype": "text/x-python",
   "name": "python",
   "nbconvert_exporter": "python",
   "pygments_lexer": "ipython3",
   "version": "3.7.3"
  }
 },
 "nbformat": 4,
 "nbformat_minor": 2
}
