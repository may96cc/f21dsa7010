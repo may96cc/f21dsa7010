{
 "cells": [
  {
   "cell_type": "markdown",
   "metadata": {},
   "source": [
    "# Descriptive Statistics with `Python` Exercises\n",
    "\n",
    "This is the second exercise for this course. \n",
    "Like the prior exercise, all of the concepts in the exercise will be familiar in the sense that it will mirror the concepts that we learned throughout the labs and practices. \n",
    "\n",
    "There could be multiple ways to solve a single answer, some more elegant than others. \n",
    "Revisit older notebooks for guidance, ask questions along the way, \n",
    "and **we encourage you to search the internet**. \n",
    "Chances are that someone has had the same/similar question / error to the one you have.\n",
    "\n",
    "For this exercise, we will be working with the `NationalNames3.csv`. Again, this is in the `/dsa/data/all_datasets/baby-names/` directory."
   ]
  },
  {
   "cell_type": "markdown",
   "metadata": {},
   "source": [
    "**Exercise 1**: *Read in the `NationalNames3.csv` file and name it `df`.*"
   ]
  },
  {
   "cell_type": "code",
   "execution_count": 3,
   "metadata": {},
   "outputs": [
    {
     "name": "stdout",
     "output_type": "stream",
     "text": [
      "             Id     Name  Year Gender  Count\n",
      "0             1     Mary  1880      F   7065\n",
      "1             5   Minnie  1880      F   1746\n",
      "2             7      Ida  1880      F   1472\n",
      "3             9   Bertha  1880      F   1320\n",
      "4            15     Cora  1880      F   1045\n",
      "...         ...      ...   ...    ...    ...\n",
      "608133  1825424   Ziyang  2014      M      5\n",
      "608134  1825425  Zmarion  2014      M      5\n",
      "608135  1825427    Zyeir  2014      M      5\n",
      "608136  1825430   Zymeer  2014      M      5\n",
      "608137  1825431  Zymiere  2014      M      5\n",
      "\n",
      "[608138 rows x 5 columns]\n"
     ]
    }
   ],
   "source": [
    "# Exercise 1 code goes here\n",
    "# -------------------------\n",
    "import pandas as pd\n",
    "import numpy as np \n",
    "with open('/dsa/data/all_datasets/baby-names/NationalNames3.csv') as file:\n",
    "    df= pd.read_csv(file)\n",
    "    df['Year'] = df['Year'].astype('category')\n",
    "\n",
    "print(df)"
   ]
  },
  {
   "cell_type": "markdown",
   "metadata": {},
   "source": [
    "We will start out simple.\n",
    "\n",
    "**Exercise 2**: Find the mean of the `Count` column and how spread out is the data?"
   ]
  },
  {
   "cell_type": "code",
   "execution_count": 4,
   "metadata": {},
   "outputs": [
    {
     "name": "stdout",
     "output_type": "stream",
     "text": [
      "181.71348937247797\n",
      "1535.8090963652944\n"
     ]
    }
   ],
   "source": [
    "# Exercise 2 code goes here\n",
    "# -------------------------\n",
    "print(np.mean(df.Count))\n",
    "print(np.std(df.Count))\n"
   ]
  },
  {
   "cell_type": "markdown",
   "metadata": {},
   "source": [
    "**Exercise 3:** Find the minimum, first quartile, median, third quartile and max count of the name \"Sam\" in this dataset."
   ]
  },
  {
   "cell_type": "code",
   "execution_count": 5,
   "metadata": {},
   "outputs": [
    {
     "name": "stdout",
     "output_type": "stream",
     "text": [
      "5.0\n",
      "16.25\n",
      "482.0\n",
      "1071.0\n",
      "2505.0\n"
     ]
    }
   ],
   "source": [
    "# Exercise 3 code goes here\n",
    "# -------------------------\n",
    "print(np.percentile((df[df['Name']==\"Sam\"][\"Count\"]),0))\n",
    "print(np.percentile((df[df['Name']==\"Sam\"][\"Count\"]),25))\n",
    "print(np.median((df[df['Name']==\"Sam\"][\"Count\"])))\n",
    "print(np.percentile((df[df['Name']==\"Sam\"][\"Count\"]),75))\n",
    "print(np.percentile((df[df['Name']==\"Sam\"]['Count']),100))"
   ]
  },
  {
   "cell_type": "markdown",
   "metadata": {},
   "source": [
    "**Challenge Exercise 1**: On average (use the median), are there more female names per year or male names? Remember, you will have to add the names per year per gender."
   ]
  },
  {
   "cell_type": "code",
   "execution_count": 6,
   "metadata": {},
   "outputs": [
    {
     "name": "stdout",
     "output_type": "stream",
     "text": [
      "2007.0\n",
      "1516.0\n"
     ]
    }
   ],
   "source": [
    "# Challenge Exercise 1 code goes here\n",
    "# -----------------------------------\n",
    "f= df[df['Gender']=='F']\n",
    "m = df[df['Gender']=='M']\n",
    "print(np.median(f.groupby(['Year']).count()['Name']))\n",
    "print(np.median(m.groupby(['Year']).count()['Name']))\n",
    "\n",
    "print(np.median(female.groupby(['Year']).sum()['Count']))\n",
    "print(np.median(male.groupby(['Year']).sum()['Count']))\n",
    "\n"
   ]
  },
  {
   "cell_type": "markdown",
   "metadata": {},
   "source": [
    "**Exercise 4**: For the name \"Margaret\" over the years, 65% is equal or below what Count? \n"
   ]
  },
  {
   "cell_type": "code",
   "execution_count": 9,
   "metadata": {},
   "outputs": [
    {
     "name": "stdout",
     "output_type": "stream",
     "text": [
      "             Id      Name  Year Gender  Count\n",
      "1280       3941  Margaret  1882      F   1821\n",
      "3290       9963  Margaret  1884      M     10\n",
      "4863      14754  Margaret  1886      M      8\n",
      "5584      16938  Margaret  1887      M     13\n",
      "7531      22747  Margaret  1890      F   3100\n",
      "...         ...       ...   ...    ...    ...\n",
      "434752  1304104  Margaret  1999      F   2957\n",
      "506427  1519023  Margaret  2006      F   2188\n",
      "541121  1623096  Margaret  2009      F   1761\n",
      "564148  1691818  Margaret  2011      F   1698\n",
      "575280  1725678  Margaret  2012      F   1772\n",
      "\n",
      "[80 rows x 5 columns]\n"
     ]
    },
    {
     "data": {
      "text/plain": [
       "3256.4000000000005"
      ]
     },
     "execution_count": 9,
     "metadata": {},
     "output_type": "execute_result"
    }
   ],
   "source": [
    "# Exercise 4 code goes here\n",
    "# -------------------------\n",
    "marg = df[df['Name']=='Margaret']\n",
    "print(marg)\n",
    "np.percentile((marg[\"Count\"]),65)\n"
   ]
  },
  {
   "cell_type": "markdown",
   "metadata": {},
   "source": [
    "**Exercise 5**: Find the covariance and correlation between the Year and Count of the name \"Addison\"."
   ]
  },
  {
   "cell_type": "code",
   "execution_count": 30,
   "metadata": {},
   "outputs": [
    {
     "name": "stdout",
     "output_type": "stream",
     "text": [
      "             Id     Name  Year Gender  Count\n",
      "454        1334  Addison  1880      M     19\n",
      "1101       3354  Addison  1881      M     17\n",
      "3227       9768  Addison  1884      M     17\n",
      "4762      14471  Addison  1886      M     16\n",
      "6416      19392  Addison  1888      M     20\n",
      "...         ...      ...   ...    ...    ...\n",
      "552552  1657603  Addison  2010      F  10317\n",
      "559522  1678405  Addison  2010      M    192\n",
      "575221  1725516  Addison  2012      F   8165\n",
      "582015  1746067  Addison  2012      M    169\n",
      "593046  1779647  Addison  2013      M    136\n",
      "\n",
      "[62 rows x 5 columns]\n",
      "48944.459016393455\n",
      "0.4259311439218686\n"
     ]
    }
   ],
   "source": [
    "# Exercise 5 code goes here\n",
    "# -------------------------\n",
    "ad = df[df[\"Name\"]=='Addison']\n",
    "print(ad)\n",
    "print(ad.Year.cov(ad.Count))\n",
    "print(ad.Year.corr(ad.Count))"
   ]
  },
  {
   "cell_type": "markdown",
   "metadata": {},
   "source": [
    "**Challenge Exercise 2**: Does accounting for Gender affect the strength of the linear relationship with regards to Exercise 5? Does one gender have a stronger linear relationship than the other? \n"
   ]
  },
  {
   "cell_type": "code",
   "execution_count": 36,
   "metadata": {},
   "outputs": [
    {
     "name": "stdout",
     "output_type": "stream",
     "text": [
      "35037.6217948718\n",
      "0.8318457439323934\n",
      "2939.9919217687066\n",
      "0.6712916451351595\n",
      "F gender shows higher linear relationship\n"
     ]
    }
   ],
   "source": [
    "fem = ad[ad['Gender']=='F']\n",
    "masc = ad[ad['Gender']=='M']\n",
    "print(fem.Year.cov(fem.Count))\n",
    "print(fem.Year.corr(fem.Count))\n",
    "\n",
    "print(masc.Year.cov(masc.Count))\n",
    "print(masc.Year.corr(masc.Count))\n",
    "\n",
    "print(\"Accoutning for gender does affect the strength of the linear relationsip, F gender shows higher linear relationship\")"
   ]
  },
  {
   "cell_type": "markdown",
   "metadata": {},
   "source": [
    "# Save your notebook, then `File > Close and Halt`"
   ]
  }
 ],
 "metadata": {
  "kernelspec": {
   "display_name": "Python 3",
   "language": "python",
   "name": "python3"
  },
  "language_info": {
   "codemirror_mode": {
    "name": "ipython",
    "version": 3
   },
   "file_extension": ".py",
   "mimetype": "text/x-python",
   "name": "python",
   "nbconvert_exporter": "python",
   "pygments_lexer": "ipython3",
   "version": "3.7.3"
  }
 },
 "nbformat": 4,
 "nbformat_minor": 2
}
