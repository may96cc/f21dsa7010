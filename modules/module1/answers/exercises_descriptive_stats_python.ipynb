{
 "cells": [
  {
   "cell_type": "markdown",
   "metadata": {},
   "source": [
    "# Descriptive Statistics with `Python` Exercises\n",
    "\n",
    "This is the second exercise for this course. \n",
    "Like the prior exercise, all of the concepts in the exercise will be familiar in the sense that it will mirror the concepts that we learned throughout the labs and practices. \n",
    "\n",
    "There could be multiple ways to solve a single answer, some more elegant than others. \n",
    "Revisit older notebooks for guidance, ask questions along the way, \n",
    "and **we encourage you to search the internet**. \n",
    "Chances are that someone has had the same/similar question / error to the one you have.\n",
    "\n",
    "For this exercise, we will be working with the `NationalNames3.csv`. Again, this is in the `/dsa/data/all_datasets/baby-names/` directory."
   ]
  },
  {
   "cell_type": "markdown",
   "metadata": {},
   "source": [
    "**Exercise 1**: *Read in the `NationalNames3.csv` file and name it `df`.*"
   ]
  },
  {
   "cell_type": "code",
   "execution_count": 1,
   "metadata": {},
   "outputs": [],
   "source": [
    "# Exercise 1 code goes here\n",
    "# -------------------------\n",
    "\n",
    "import pandas as pd\n",
    "import numpy as np\n",
    "\n",
    "with open(\"/dsa/data/all_datasets/baby-names/NationalNames3.csv\") as file:\n",
    "    df = pd.read_csv(file)\n",
    "    df['Year'] = df['Year'].astype('category')\n",
    "\n"
   ]
  },
  {
   "cell_type": "markdown",
   "metadata": {},
   "source": [
    "We will start out simple.\n",
    "\n",
    "**Exercise 2**: Find the mean of `Count` column. How spread out is the data?"
   ]
  },
  {
   "cell_type": "code",
   "execution_count": 2,
   "metadata": {},
   "outputs": [
    {
     "name": "stdout",
     "output_type": "stream",
     "text": [
      "181.71348937247797\n",
      "1535.8090963652944\n"
     ]
    }
   ],
   "source": [
    "# Exercise 2 code goes here\n",
    "# -------------------------\n",
    "\n",
    "print(np.mean(df.Count))\n",
    "print(np.std(df.Count))\n"
   ]
  },
  {
   "cell_type": "markdown",
   "metadata": {},
   "source": [
    "**Exercise 3:** Find the minimum, first quartile, median, third quartile and max count of the name \"Sam\" in this dataset."
   ]
  },
  {
   "cell_type": "code",
   "execution_count": 3,
   "metadata": {},
   "outputs": [
    {
     "name": "stdout",
     "output_type": "stream",
     "text": [
      "5.0\n",
      "16.25\n",
      "482.0\n",
      "1071.0\n",
      "2505.0\n"
     ]
    }
   ],
   "source": [
    "# Exercise 3 code goes here\n",
    "# -------------------------\n",
    "print(np.percentile((df[df['Name']==\"Sam\"]['Count']),0))\n",
    "print(np.percentile((df[df['Name']==\"Sam\"]['Count']),25))\n",
    "print(np.median((df[df['Name']==\"Sam\"]['Count'])))\n",
    "print(np.percentile((df[df['Name']==\"Sam\"]['Count']),75))\n",
    "print(np.percentile((df[df['Name']==\"Sam\"]['Count']),100))"
   ]
  },
  {
   "cell_type": "markdown",
   "metadata": {},
   "source": [
    "**Challenge Exercise 1**: On average (use the median), are there more female names per year or male names? Remember, you will have to add the names per year per gender."
   ]
  },
  {
   "cell_type": "code",
   "execution_count": 4,
   "metadata": {},
   "outputs": [
    {
     "name": "stdout",
     "output_type": "stream",
     "text": [
      "2007.0\n",
      "1516.0\n",
      "463834.0\n",
      "464363.0\n",
      "Year\n",
      "1880     321\n",
      "1881     301\n",
      "1882     348\n",
      "1883     347\n",
      "1884     387\n",
      "        ... \n",
      "2010    6624\n",
      "2011    6443\n",
      "2012    6431\n",
      "2013    6272\n",
      "2014    6297\n",
      "Name: Name, Length: 135, dtype: int64\n"
     ]
    }
   ],
   "source": [
    "# Challenge Exercise 1 code goes here\n",
    "# -----------------------------------\n",
    "\n",
    "female = df[df['Gender'] == 'F']\n",
    "male = df[df['Gender']=='M']\n",
    "\n",
    "print(np.median(female.groupby(['Year']).count()['Name']))\n",
    "print(np.median(male.groupby(['Year']).count()['Name']))\n",
    "\n",
    "print(np.median(female.groupby(['Year']).sum()['Count']))\n",
    "print(np.median(male.groupby(['Year']).sum()['Count']))\n",
    "\n",
    "#another way\n",
    "print(female.groupby('Year')['Name'].count())"
   ]
  },
  {
   "cell_type": "markdown",
   "metadata": {},
   "source": [
    "**Exercise 4**: For the name \"Margaret\" over the years, 65% is equal or below what Count? "
   ]
  },
  {
   "cell_type": "code",
   "execution_count": 5,
   "metadata": {},
   "outputs": [
    {
     "data": {
      "text/plain": [
       "3256.4000000000005"
      ]
     },
     "execution_count": 5,
     "metadata": {},
     "output_type": "execute_result"
    }
   ],
   "source": [
    "# Exercise 4 code goes here\n",
    "# -------------------------\n",
    "Margaret=df[df['Name']=='Margaret']\n",
    "\n",
    "np.percentile(Margaret.Count, 65)\n"
   ]
  },
  {
   "cell_type": "markdown",
   "metadata": {},
   "source": [
    "**Exercise 5**: Find the covariance and correlation between the Year and Count of the name \"Addison\"."
   ]
  },
  {
   "cell_type": "code",
   "execution_count": 6,
   "metadata": {},
   "outputs": [
    {
     "name": "stdout",
     "output_type": "stream",
     "text": [
      "0.4259311439218686\n",
      "48944.459016393455\n"
     ]
    }
   ],
   "source": [
    "# Exercise 5 code goes here\n",
    "# -------------------------\n",
    "\n",
    "addison = df[df['Name'] == \"Addison\"]\n",
    "print(addison.Year.corr(addison.Count))\n",
    "print(addison.Year.cov(addison.Count))\n"
   ]
  },
  {
   "cell_type": "markdown",
   "metadata": {},
   "source": [
    "**Challenge Exercise 2**: Does accounting for Gender affect the strenght of the linear relationship with regards to Exercise 5? Does one gender have a stronger linear relationship than the other? \n"
   ]
  },
  {
   "cell_type": "code",
   "execution_count": null,
   "metadata": {},
   "outputs": [],
   "source": [
    "# Challenge Exercise 2 code goes here\n",
    "# -----------------------------------\n",
    "\n",
    "add_f = addison[addison['Gender']== 'F']\n",
    "add_m = addison[addison['Gender']== 'M']\n",
    "\n",
    "print(add_m.Year.corr(add_m.Count))\n",
    "print(add_f.Year.corr(add_f.Count))"
   ]
  },
  {
   "cell_type": "markdown",
   "metadata": {},
   "source": [
    "# Save your notebook, then `File > Close and Halt`"
   ]
  }
 ],
 "metadata": {
  "kernelspec": {
   "display_name": "Python 3",
   "language": "python",
   "name": "python3"
  },
  "language_info": {
   "codemirror_mode": {
    "name": "ipython",
    "version": 3
   },
   "file_extension": ".py",
   "mimetype": "text/x-python",
   "name": "python",
   "nbconvert_exporter": "python",
   "pygments_lexer": "ipython3",
   "version": "3.7.3"
  }
 },
 "nbformat": 4,
 "nbformat_minor": 2
}
