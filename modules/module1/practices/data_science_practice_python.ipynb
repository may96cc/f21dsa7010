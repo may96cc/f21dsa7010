{
 "cells": [
  {
   "cell_type": "markdown",
   "metadata": {},
   "source": [
    "# Data Science with `Python` Practice\n",
    "\n",
    "This is your first practice notebooks. The purpose of these practices is to reiterate some of the content that you went over in the lab, as well as introduce some new material to you with a bit of a guiding helping along the way. Unlike the labs, these notebooks will be incomplete in the sense that you will actively be editing/writing code to modify/produce output. The skeleton is already here but throughout these practice notebooks, we will be asking you to add the rest of the corpus. In doing so, you will hone your data science techniques as well as learn how to search for solutions to your programming hurdles.\n",
    "\n",
    "This practice will be going over the fundamentals of data science with Python. Much of the content will be similar to your lab, [Introduction to Data Science with Python](../labs/intro_data_science_python.ipynb), and thus it will serve as a good guide post to answering some of the questions. We'll begin today with reading in the data..."
   ]
  },
  {
   "cell_type": "markdown",
   "metadata": {},
   "source": [
    "## Read in Data \n",
    "For this practice we will be using a different baby names dataset.\n",
    "\n",
    "We want to read in the data without using any libraries."
   ]
  },
  {
   "cell_type": "code",
   "execution_count": 2,
   "metadata": {},
   "outputs": [
    {
     "name": "stdout",
     "output_type": "stream",
     "text": [
      "'Id,Name,Year,Gender,Count\\n4,Elizabeth,1880,F,1939\\n8,Alice,1880,F,1414\\n12,Clara,1880,F,1226\\n13,Ella,18'\n"
     ]
    }
   ],
   "source": [
    "with open('/dsa/data/all_datasets/baby-names/NationalNames2.csv', 'r') as file:\n",
    "    data = file.read()\n",
    "    print(repr(data[0:101]))\n"
   ]
  },
  {
   "cell_type": "markdown",
   "metadata": {},
   "source": [
    "Currently, we are only able to use the indexes to locate specific characters in all of the data; this includes some unwanted characters such as commas and new line characters. In other words, all of the data are stored in a single string which is not very useful."
   ]
  },
  {
   "cell_type": "markdown",
   "metadata": {},
   "source": [
    "**Activity 1**: *Read in the file so that it is a `list of lists`. In other words, I should be able to access each row individually as well as individual values within the row.* "
   ]
  },
  {
   "cell_type": "code",
   "execution_count": 3,
   "metadata": {},
   "outputs": [],
   "source": [
    "# Code for activity 1 goes here\n",
    "# -----------------------------\n",
    "split = data.split('\\n')\n",
    "list_of_lists = []\n",
    "for line in split:\n",
    "    row = line.split(',')\n",
    "    list_of_lists.append(row)\n"
   ]
  },
  {
   "cell_type": "markdown",
   "metadata": {},
   "source": [
    "To make sure everyone is working with the data loaded the same way, we are going to go ahead and read in the data using the `csv` library. Remembering that there is a lot of data to work with here so we are going to go ahead and subset it."
   ]
  },
  {
   "cell_type": "code",
   "execution_count": 4,
   "metadata": {},
   "outputs": [],
   "source": [
    "import csv\n",
    "\n",
    "# create a list of lists with csv library and store the data in a `data_list` variable\n",
    "data_list = list(csv.reader(open('/dsa/data/all_datasets/baby-names/NationalNames2.csv'),  delimiter=','))\n",
    "\n",
    "# create a subset of the entire data set to speed things up\n",
    "subset = data_list[1:301]"
   ]
  },
  {
   "cell_type": "markdown",
   "metadata": {},
   "source": [
    "Take the following scenario:\n",
    "\n",
    "Imagine that we want to find those names in the data set that are not that common. Let's go ahead and classify names that have a `Count` less than 30 as being not that popular. This is almost the bit of code we need to find all of those rows that are less than 30 but we are getting an error.\n",
    "\n",
    "**Activity 2**: *In the second cell below, correct (de-bug) the following code and answer the following questions.*"
   ]
  },
  {
   "cell_type": "code",
   "execution_count": 6,
   "metadata": {
    "scrolled": true
   },
   "outputs": [
    {
     "ename": "TypeError",
     "evalue": "'<' not supported between instances of 'str' and 'int'",
     "output_type": "error",
     "traceback": [
      "\u001b[0;31m---------------------------------------------------------------------------\u001b[0m",
      "\u001b[0;31mTypeError\u001b[0m                                 Traceback (most recent call last)",
      "\u001b[0;32m<ipython-input-6-5628ae6d6958>\u001b[0m in \u001b[0;36m<module>\u001b[0;34m\u001b[0m\n\u001b[1;32m      1\u001b[0m \u001b[0;32mfor\u001b[0m \u001b[0mrow\u001b[0m \u001b[0;32min\u001b[0m \u001b[0msubset\u001b[0m\u001b[0;34m:\u001b[0m\u001b[0;34m\u001b[0m\u001b[0;34m\u001b[0m\u001b[0m\n\u001b[0;32m----> 2\u001b[0;31m     \u001b[0;32mif\u001b[0m \u001b[0mrow\u001b[0m\u001b[0;34m[\u001b[0m\u001b[0;36m4\u001b[0m\u001b[0;34m]\u001b[0m \u001b[0;34m<\u001b[0m \u001b[0;36m30\u001b[0m\u001b[0;34m:\u001b[0m\u001b[0;34m\u001b[0m\u001b[0;34m\u001b[0m\u001b[0m\n\u001b[0m\u001b[1;32m      3\u001b[0m         \u001b[0mprint\u001b[0m\u001b[0;34m(\u001b[0m\u001b[0mrow\u001b[0m\u001b[0;34m[\u001b[0m\u001b[0;36m1\u001b[0m\u001b[0;34m]\u001b[0m\u001b[0;34m)\u001b[0m\u001b[0;34m\u001b[0m\u001b[0;34m\u001b[0m\u001b[0m\n",
      "\u001b[0;31mTypeError\u001b[0m: '<' not supported between instances of 'str' and 'int'"
     ]
    }
   ],
   "source": [
    "for row in subset:\n",
    "    if row[4] < 30:\n",
    "        print(row[1])"
   ]
  },
  {
   "cell_type": "markdown",
   "metadata": {},
   "source": [
    "**Questions**:\n",
    "1. What does the following error mean? \n",
    "2. How would you correct it so that the names that have less than 30 people who are named that are `print`ed out? "
   ]
  },
  {
   "cell_type": "code",
   "execution_count": 10,
   "metadata": {},
   "outputs": [
    {
     "name": "stdout",
     "output_type": "stream",
     "text": [
      "It means that you cannot use >, <, to compare a string (how the data has been stored) to an integer\n",
      "Lucretia\n",
      "Orpha\n",
      "Alvina\n",
      "Catharine\n",
      "Elma\n",
      "Geneva\n",
      "Lona\n",
      "Linda\n",
      "Zula\n",
      "Frieda\n",
      "Joanna\n",
      "Tennie\n",
      "Ettie\n",
      "Letha\n",
      "Minta\n",
      "Adah\n",
      "Margret\n",
      "Floy\n",
      "Idella\n",
      "Juanita\n",
      "Isabell\n",
      "Pattie\n",
      "Vivian\n",
      "Almeda\n",
      "Jannie\n",
      "Kathrine\n",
      "Lavinia\n",
      "Susanna\n",
      "Elsa\n",
      "Gladys\n",
      "Vesta\n",
      "Antoinette\n",
      "Libbie\n",
      "Lilian\n",
      "Lutie\n",
      "Meda\n",
      "Zelma\n",
      "Adelia\n",
      "Annetta\n",
      "Antonia\n",
      "Dona\n",
      "Iona\n",
      "Alva\n",
      "Cecile\n",
      "Ellie\n",
      "Evie\n",
      "Frankie\n",
      "Helene\n",
      "Minna\n",
      "Savannah\n",
      "Tina\n",
      "Anita\n",
      "Dorothea\n",
      "Nan\n",
      "Pearlie\n",
      "Constance\n",
      "Ila\n",
      "Jimmie\n",
      "Lucia\n",
      "Ludie\n",
      "Betsy\n",
      "Hortense\n",
      "June\n",
      "Mona\n",
      "Cathrine\n",
      "Clyde\n",
      "Eleanore\n",
      "Fay\n",
      "Jenny\n",
      "Peggy\n",
      "Abigail\n",
      "Clemmie\n",
      "Easter\n",
      "Emelia\n",
      "India\n",
      "Lotta\n",
      "Mame\n",
      "Aline\n",
      "Emmer\n",
      "Lissie\n",
      "Mallie\n",
      "Malvina\n",
      "Mazie\n",
      "Robert\n",
      "Rosina\n",
      "Theodora\n",
      "Therese\n",
      "Altha\n",
      "Birtie\n",
      "Claude\n",
      "Emelie\n",
      "Erna\n",
      "Hilma\n",
      "Juliet\n",
      "Leonie\n",
      "Lugenia\n",
      "Manda\n",
      "Manerva\n",
      "Nella\n",
      "Paulina\n",
      "Philomena\n",
      "Sena\n",
      "Althea\n",
      "Annabelle\n",
      "Dell\n",
      "Dellar\n",
      "Elinor\n",
      "Ione\n",
      "Josiephine\n",
      "Lavina\n",
      "Marcia\n",
      "Margarette\n",
      "Oda\n",
      "Patty\n",
      "Rosalia\n",
      "Roxanna\n",
      "Sula\n",
      "Winnifred\n",
      "Bernadette\n",
      "Elena\n",
      "Elenora\n",
      "Inga\n",
      "Kattie\n",
      "Leslie\n",
      "Margery\n",
      "Ocie\n",
      "Rowena\n",
      "Shirley\n",
      "Tabitha\n",
      "Verdie\n",
      "Albertina\n",
      "Albina\n",
      "Alyce\n",
      "Annis\n",
      "Doshie\n",
      "Etna\n",
      "Eve\n",
      "Florance\n",
      "Geraldine\n",
      "Gina\n",
      "Grayce\n",
      "Jossie\n",
      "Katheryn\n",
      "Lea\n",
      "Leanna\n",
      "Leitha\n",
      "Leone\n",
      "Loma\n",
      "Maymie\n",
      "Paralee\n",
      "Tressa\n",
      "Viva\n",
      "Abby\n",
      "Aileen\n",
      "Alda\n",
      "Alla\n",
      "Arvilla\n",
      "Bena\n",
      "Byrd\n",
      "Carey\n",
      "Edyth\n",
      "Eudora\n",
      "Euphemia\n",
      "Evalena\n",
      "Fidelia\n",
      "Golda\n",
      "Helma\n",
      "Ivah\n",
      "Kathryne\n",
      "Lanie\n",
      "Leana\n",
      "Leatha\n",
      "Leo\n",
      "Liller\n",
      "Lillis\n",
      "Mai\n",
      "Minda\n",
      "Monica\n",
      "Odelia\n",
      "Robbie\n",
      "Sabina\n",
      "Sada\n",
      "Sammie\n",
      "Suzanne\n",
      "Thea\n",
      "Wilhelmine\n",
      "Adrienne\n",
      "Albertine\n",
      "Alys\n",
      "Celie\n",
      "Cordella\n",
      "Corrine\n"
     ]
    }
   ],
   "source": [
    "# Code for activity 2 goes here\n",
    "# -----------------------------\n",
    "# 1. Answer the question here as a comment\n",
    "print('It means that you cannot use >, <, to compare a string (how the data has been stored) to an integer')\n",
    "\n",
    "# 2. Below put the corrected code\n",
    "for row in subset:\n",
    "    if int(row[4]) < 30:\n",
    "        print(row[1])"
   ]
  },
  {
   "cell_type": "markdown",
   "metadata": {},
   "source": [
    "## Data Manipulation with `pandas`\n",
    "\n",
    "We are going to transition to using `pandas` now. Let's begin by reading in the file..."
   ]
  },
  {
   "cell_type": "code",
   "execution_count": 11,
   "metadata": {},
   "outputs": [],
   "source": [
    "import pandas as pd\n",
    "\n",
    "df = pd.read_csv('/dsa/data/all_datasets/baby-names/NationalNames2.csv')"
   ]
  },
  {
   "cell_type": "code",
   "execution_count": 12,
   "metadata": {},
   "outputs": [
    {
     "data": {
      "text/html": [
       "<div>\n",
       "<style scoped>\n",
       "    .dataframe tbody tr th:only-of-type {\n",
       "        vertical-align: middle;\n",
       "    }\n",
       "\n",
       "    .dataframe tbody tr th {\n",
       "        vertical-align: top;\n",
       "    }\n",
       "\n",
       "    .dataframe thead th {\n",
       "        text-align: right;\n",
       "    }\n",
       "</style>\n",
       "<table border=\"1\" class=\"dataframe\">\n",
       "  <thead>\n",
       "    <tr style=\"text-align: right;\">\n",
       "      <th></th>\n",
       "      <th>Id</th>\n",
       "      <th>Name</th>\n",
       "      <th>Year</th>\n",
       "      <th>Gender</th>\n",
       "      <th>Count</th>\n",
       "    </tr>\n",
       "  </thead>\n",
       "  <tbody>\n",
       "    <tr>\n",
       "      <th>0</th>\n",
       "      <td>4</td>\n",
       "      <td>Elizabeth</td>\n",
       "      <td>1880</td>\n",
       "      <td>F</td>\n",
       "      <td>1939</td>\n",
       "    </tr>\n",
       "    <tr>\n",
       "      <th>1</th>\n",
       "      <td>8</td>\n",
       "      <td>Alice</td>\n",
       "      <td>1880</td>\n",
       "      <td>F</td>\n",
       "      <td>1414</td>\n",
       "    </tr>\n",
       "    <tr>\n",
       "      <th>2</th>\n",
       "      <td>12</td>\n",
       "      <td>Clara</td>\n",
       "      <td>1880</td>\n",
       "      <td>F</td>\n",
       "      <td>1226</td>\n",
       "    </tr>\n",
       "    <tr>\n",
       "      <th>3</th>\n",
       "      <td>13</td>\n",
       "      <td>Ella</td>\n",
       "      <td>1880</td>\n",
       "      <td>F</td>\n",
       "      <td>1156</td>\n",
       "    </tr>\n",
       "    <tr>\n",
       "      <th>4</th>\n",
       "      <td>18</td>\n",
       "      <td>Nellie</td>\n",
       "      <td>1880</td>\n",
       "      <td>F</td>\n",
       "      <td>995</td>\n",
       "    </tr>\n",
       "    <tr>\n",
       "      <th>5</th>\n",
       "      <td>21</td>\n",
       "      <td>Maude</td>\n",
       "      <td>1880</td>\n",
       "      <td>F</td>\n",
       "      <td>858</td>\n",
       "    </tr>\n",
       "    <tr>\n",
       "      <th>6</th>\n",
       "      <td>22</td>\n",
       "      <td>Mabel</td>\n",
       "      <td>1880</td>\n",
       "      <td>F</td>\n",
       "      <td>808</td>\n",
       "    </tr>\n",
       "    <tr>\n",
       "      <th>7</th>\n",
       "      <td>23</td>\n",
       "      <td>Bessie</td>\n",
       "      <td>1880</td>\n",
       "      <td>F</td>\n",
       "      <td>796</td>\n",
       "    </tr>\n",
       "    <tr>\n",
       "      <th>8</th>\n",
       "      <td>24</td>\n",
       "      <td>Jennie</td>\n",
       "      <td>1880</td>\n",
       "      <td>F</td>\n",
       "      <td>793</td>\n",
       "    </tr>\n",
       "    <tr>\n",
       "      <th>9</th>\n",
       "      <td>25</td>\n",
       "      <td>Gertrude</td>\n",
       "      <td>1880</td>\n",
       "      <td>F</td>\n",
       "      <td>787</td>\n",
       "    </tr>\n",
       "  </tbody>\n",
       "</table>\n",
       "</div>"
      ],
      "text/plain": [
       "   Id       Name  Year Gender  Count\n",
       "0   4  Elizabeth  1880      F   1939\n",
       "1   8      Alice  1880      F   1414\n",
       "2  12      Clara  1880      F   1226\n",
       "3  13       Ella  1880      F   1156\n",
       "4  18     Nellie  1880      F    995\n",
       "5  21      Maude  1880      F    858\n",
       "6  22      Mabel  1880      F    808\n",
       "7  23     Bessie  1880      F    796\n",
       "8  24     Jennie  1880      F    793\n",
       "9  25   Gertrude  1880      F    787"
      ]
     },
     "execution_count": 12,
     "metadata": {},
     "output_type": "execute_result"
    }
   ],
   "source": [
    "#displaying the first 10 rows\n",
    "df.head(10)"
   ]
  },
  {
   "cell_type": "markdown",
   "metadata": {},
   "source": [
    "So this looks good, but the `Id` column from the original file is redundant because `pandas` provides our data frame with one already. \n",
    "\n",
    "**Activity 3**: *Remove the `Id` column upon reading in the data.*"
   ]
  },
  {
   "cell_type": "code",
   "execution_count": 14,
   "metadata": {},
   "outputs": [],
   "source": [
    "# Code for activity 3 goes here\n",
    "# -----------------------------\n",
    "with open('/dsa/data/all_datasets/baby-names/NationalNames2.csv', 'r') as file:\n",
    "    df = pd.read_csv(file)\n",
    "    df.drop('Id', 1, inplace=True)\n",
    "    \n",
    "df.head()\n",
    "\n",
    "\n",
    "\n",
    "print(\"this is how to do it when not deleting as data is being read in \")\n",
    "del df['Id']\n",
    "\n"
   ]
  },
  {
   "cell_type": "markdown",
   "metadata": {},
   "source": [
    "We now want to subset the data frame to only display rows for female names. Remember, here is how we do that in `pandas`. "
   ]
  },
  {
   "cell_type": "code",
   "execution_count": 15,
   "metadata": {},
   "outputs": [],
   "source": [
    "females = df[df['Gender'] == 'F']"
   ]
  },
  {
   "cell_type": "markdown",
   "metadata": {},
   "source": [
    "Remember though, we are trying to find names that are not very common.\n",
    "\n",
    "**Activity 4**: *From this subset of female names, return a data frame with those names who have less than 30 for their count. Name this data frame `uncommon_f`.*"
   ]
  },
  {
   "cell_type": "code",
   "execution_count": 20,
   "metadata": {},
   "outputs": [
    {
     "name": "stdout",
     "output_type": "stream",
     "text": [
      "          Name  Year Gender  Count\n",
      "108   Lucretia  1880      F     29\n",
      "109      Orpha  1880      F     29\n",
      "110     Alvina  1880      F     28\n",
      "111  Catharine  1880      F     28\n",
      "112       Elma  1880      F     28\n"
     ]
    }
   ],
   "source": [
    "# Code for activity 4 goes here \n",
    "# -----------------------------\n",
    "uncommon_f = females[females['Count'] < 30]\n",
    "\n",
    "print(uncommon_f.head(n = 5))"
   ]
  },
  {
   "cell_type": "markdown",
   "metadata": {},
   "source": [
    "Now let's do something similar for male names, but this time we should include both uncommon and very common names in our subset.\n",
    "\n",
    "**Activity 5**: *Create a data frame of male names that are less than 30 or greater than or equal to 1000 for their count. Name this data frame `com_uncom_m`.*"
   ]
  },
  {
   "cell_type": "code",
   "execution_count": 25,
   "metadata": {},
   "outputs": [
    {
     "name": "stdout",
     "output_type": "stream",
     "text": [
      "         Name  Year Gender  Count\n",
      "329   Charles  1880      M   5348\n",
      "330    Thomas  1880      M   2534\n",
      "331    Walter  1880      M   1755\n",
      "425       Ole  1880      M     29\n",
      "426  Benjiman  1880      M     28\n"
     ]
    }
   ],
   "source": [
    "# Code for activity 5 goes here \n",
    "# -----------------------------\n",
    "male = df[df['Gender']== 'M']\n",
    "com_uncom_m = male[(male['Count'] >= 1000) | (male['Count'] < 30)]\n",
    "print(com_uncom_m.head(n=5))"
   ]
  },
  {
   "cell_type": "markdown",
   "metadata": {},
   "source": [
    "We are going to go ahead and do some sorting now. Remember this bit of code from the lab exercises where we sorted the rows by `Count`."
   ]
  },
  {
   "cell_type": "code",
   "execution_count": 26,
   "metadata": {},
   "outputs": [
    {
     "data": {
      "text/html": [
       "<div>\n",
       "<style scoped>\n",
       "    .dataframe tbody tr th:only-of-type {\n",
       "        vertical-align: middle;\n",
       "    }\n",
       "\n",
       "    .dataframe tbody tr th {\n",
       "        vertical-align: top;\n",
       "    }\n",
       "\n",
       "    .dataframe thead th {\n",
       "        text-align: right;\n",
       "    }\n",
       "</style>\n",
       "<table border=\"1\" class=\"dataframe\">\n",
       "  <thead>\n",
       "    <tr style=\"text-align: right;\">\n",
       "      <th></th>\n",
       "      <th>Name</th>\n",
       "      <th>Year</th>\n",
       "      <th>Gender</th>\n",
       "      <th>Count</th>\n",
       "    </tr>\n",
       "  </thead>\n",
       "  <tbody>\n",
       "    <tr>\n",
       "      <th>608891</th>\n",
       "      <td>Zyrin</td>\n",
       "      <td>2014</td>\n",
       "      <td>M</td>\n",
       "      <td>5</td>\n",
       "    </tr>\n",
       "    <tr>\n",
       "      <th>110071</th>\n",
       "      <td>Rodolphe</td>\n",
       "      <td>1935</td>\n",
       "      <td>M</td>\n",
       "      <td>5</td>\n",
       "    </tr>\n",
       "    <tr>\n",
       "      <th>110072</th>\n",
       "      <td>Romulo</td>\n",
       "      <td>1935</td>\n",
       "      <td>M</td>\n",
       "      <td>5</td>\n",
       "    </tr>\n",
       "    <tr>\n",
       "      <th>110073</th>\n",
       "      <td>Rosalie</td>\n",
       "      <td>1935</td>\n",
       "      <td>M</td>\n",
       "      <td>5</td>\n",
       "    </tr>\n",
       "    <tr>\n",
       "      <th>110074</th>\n",
       "      <td>Rosser</td>\n",
       "      <td>1935</td>\n",
       "      <td>M</td>\n",
       "      <td>5</td>\n",
       "    </tr>\n",
       "    <tr>\n",
       "      <th>110075</th>\n",
       "      <td>Rudie</td>\n",
       "      <td>1935</td>\n",
       "      <td>M</td>\n",
       "      <td>5</td>\n",
       "    </tr>\n",
       "    <tr>\n",
       "      <th>110076</th>\n",
       "      <td>Saint</td>\n",
       "      <td>1935</td>\n",
       "      <td>M</td>\n",
       "      <td>5</td>\n",
       "    </tr>\n",
       "    <tr>\n",
       "      <th>110077</th>\n",
       "      <td>Sherril</td>\n",
       "      <td>1935</td>\n",
       "      <td>M</td>\n",
       "      <td>5</td>\n",
       "    </tr>\n",
       "    <tr>\n",
       "      <th>110078</th>\n",
       "      <td>Silberio</td>\n",
       "      <td>1935</td>\n",
       "      <td>M</td>\n",
       "      <td>5</td>\n",
       "    </tr>\n",
       "    <tr>\n",
       "      <th>110070</th>\n",
       "      <td>Rochester</td>\n",
       "      <td>1935</td>\n",
       "      <td>M</td>\n",
       "      <td>5</td>\n",
       "    </tr>\n",
       "  </tbody>\n",
       "</table>\n",
       "</div>"
      ],
      "text/plain": [
       "             Name  Year Gender  Count\n",
       "608891      Zyrin  2014      M      5\n",
       "110071   Rodolphe  1935      M      5\n",
       "110072     Romulo  1935      M      5\n",
       "110073    Rosalie  1935      M      5\n",
       "110074     Rosser  1935      M      5\n",
       "110075      Rudie  1935      M      5\n",
       "110076      Saint  1935      M      5\n",
       "110077    Sherril  1935      M      5\n",
       "110078   Silberio  1935      M      5\n",
       "110070  Rochester  1935      M      5"
      ]
     },
     "execution_count": 26,
     "metadata": {},
     "output_type": "execute_result"
    }
   ],
   "source": [
    "df.sort_values(by = ['Count'], ascending = True).head(10)"
   ]
  },
  {
   "cell_type": "markdown",
   "metadata": {},
   "source": [
    "**Activity 6**: *Now sort the data frame, `df`, by `Year` and alphabetically by `Name`.* "
   ]
  },
  {
   "cell_type": "code",
   "execution_count": 27,
   "metadata": {},
   "outputs": [
    {
     "data": {
      "text/html": [
       "<div>\n",
       "<style scoped>\n",
       "    .dataframe tbody tr th:only-of-type {\n",
       "        vertical-align: middle;\n",
       "    }\n",
       "\n",
       "    .dataframe tbody tr th {\n",
       "        vertical-align: top;\n",
       "    }\n",
       "\n",
       "    .dataframe thead th {\n",
       "        text-align: right;\n",
       "    }\n",
       "</style>\n",
       "<table border=\"1\" class=\"dataframe\">\n",
       "  <thead>\n",
       "    <tr style=\"text-align: right;\">\n",
       "      <th></th>\n",
       "      <th>Name</th>\n",
       "      <th>Year</th>\n",
       "      <th>Gender</th>\n",
       "      <th>Count</th>\n",
       "    </tr>\n",
       "  </thead>\n",
       "  <tbody>\n",
       "    <tr>\n",
       "      <th>625</th>\n",
       "      <td>Ab</td>\n",
       "      <td>1880</td>\n",
       "      <td>M</td>\n",
       "      <td>5</td>\n",
       "    </tr>\n",
       "    <tr>\n",
       "      <th>63</th>\n",
       "      <td>Abbie</td>\n",
       "      <td>1880</td>\n",
       "      <td>F</td>\n",
       "      <td>71</td>\n",
       "    </tr>\n",
       "    <tr>\n",
       "      <th>260</th>\n",
       "      <td>Abby</td>\n",
       "      <td>1880</td>\n",
       "      <td>F</td>\n",
       "      <td>6</td>\n",
       "    </tr>\n",
       "    <tr>\n",
       "      <th>178</th>\n",
       "      <td>Abigail</td>\n",
       "      <td>1880</td>\n",
       "      <td>F</td>\n",
       "      <td>12</td>\n",
       "    </tr>\n",
       "    <tr>\n",
       "      <th>427</th>\n",
       "      <td>Abner</td>\n",
       "      <td>1880</td>\n",
       "      <td>M</td>\n",
       "      <td>27</td>\n",
       "    </tr>\n",
       "    <tr>\n",
       "      <th>...</th>\n",
       "      <td>...</td>\n",
       "      <td>...</td>\n",
       "      <td>...</td>\n",
       "      <td>...</td>\n",
       "    </tr>\n",
       "    <tr>\n",
       "      <th>608890</th>\n",
       "      <td>Zyran</td>\n",
       "      <td>2014</td>\n",
       "      <td>M</td>\n",
       "      <td>5</td>\n",
       "    </tr>\n",
       "    <tr>\n",
       "      <th>607759</th>\n",
       "      <td>Zyrell</td>\n",
       "      <td>2014</td>\n",
       "      <td>M</td>\n",
       "      <td>7</td>\n",
       "    </tr>\n",
       "    <tr>\n",
       "      <th>604169</th>\n",
       "      <td>Zyrihanna</td>\n",
       "      <td>2014</td>\n",
       "      <td>F</td>\n",
       "      <td>5</td>\n",
       "    </tr>\n",
       "    <tr>\n",
       "      <th>608891</th>\n",
       "      <td>Zyrin</td>\n",
       "      <td>2014</td>\n",
       "      <td>M</td>\n",
       "      <td>5</td>\n",
       "    </tr>\n",
       "    <tr>\n",
       "      <th>608259</th>\n",
       "      <td>Zyshawn</td>\n",
       "      <td>2014</td>\n",
       "      <td>M</td>\n",
       "      <td>6</td>\n",
       "    </tr>\n",
       "  </tbody>\n",
       "</table>\n",
       "<p>608892 rows × 4 columns</p>\n",
       "</div>"
      ],
      "text/plain": [
       "             Name  Year Gender  Count\n",
       "625            Ab  1880      M      5\n",
       "63          Abbie  1880      F     71\n",
       "260          Abby  1880      F      6\n",
       "178       Abigail  1880      F     12\n",
       "427         Abner  1880      M     27\n",
       "...           ...   ...    ...    ...\n",
       "608890      Zyran  2014      M      5\n",
       "607759     Zyrell  2014      M      7\n",
       "604169  Zyrihanna  2014      F      5\n",
       "608891      Zyrin  2014      M      5\n",
       "608259    Zyshawn  2014      M      6\n",
       "\n",
       "[608892 rows x 4 columns]"
      ]
     },
     "execution_count": 27,
     "metadata": {},
     "output_type": "execute_result"
    }
   ],
   "source": [
    "# Code for activity 6 goes here \n",
    "# -----------------------------\n",
    "df.sort_values(['Year','Name'], ascending=[True,True])\n"
   ]
  },
  {
   "cell_type": "markdown",
   "metadata": {},
   "source": [
    "Below is one way to find the most popular, by absolute value, name of the entire data set. "
   ]
  },
  {
   "cell_type": "code",
   "execution_count": 30,
   "metadata": {},
   "outputs": [
    {
     "data": {
      "text/html": [
       "<div>\n",
       "<style scoped>\n",
       "    .dataframe tbody tr th:only-of-type {\n",
       "        vertical-align: middle;\n",
       "    }\n",
       "\n",
       "    .dataframe tbody tr th {\n",
       "        vertical-align: top;\n",
       "    }\n",
       "\n",
       "    .dataframe thead th {\n",
       "        text-align: right;\n",
       "    }\n",
       "</style>\n",
       "<table border=\"1\" class=\"dataframe\">\n",
       "  <thead>\n",
       "    <tr style=\"text-align: right;\">\n",
       "      <th></th>\n",
       "      <th>Name</th>\n",
       "      <th>Year</th>\n",
       "      <th>Gender</th>\n",
       "      <th>Count</th>\n",
       "    </tr>\n",
       "  </thead>\n",
       "  <tbody>\n",
       "    <tr>\n",
       "      <th>145632</th>\n",
       "      <td>James</td>\n",
       "      <td>1947</td>\n",
       "      <td>M</td>\n",
       "      <td>94755</td>\n",
       "    </tr>\n",
       "  </tbody>\n",
       "</table>\n",
       "</div>"
      ],
      "text/plain": [
       "         Name  Year Gender  Count\n",
       "145632  James  1947      M  94755"
      ]
     },
     "execution_count": 30,
     "metadata": {},
     "output_type": "execute_result"
    }
   ],
   "source": [
    "df.sort_values(by = ['Count'], ascending = True).tail(1)"
   ]
  },
  {
   "cell_type": "markdown",
   "metadata": {},
   "source": [
    "But what if we were interested in something a bit more specific? Perhaps, the most popular name during a given year.\n",
    "\n",
    "**Activity 7**: *Find the most popular female name in the year 1881.*"
   ]
  },
  {
   "cell_type": "code",
   "execution_count": 35,
   "metadata": {},
   "outputs": [
    {
     "name": "stdout",
     "output_type": "stream",
     "text": [
      "      Name  Year Gender  Count\n",
      "984  James  1881      M   5442\n"
     ]
    }
   ],
   "source": [
    "# Code for activity 7 goes here \n",
    "# -----------------------------\n",
    "year1 = df[df['Year']== 1881]\n",
    "print(year1.sort_values(by = ['Count'], ascending = True).tail(1))"
   ]
  },
  {
   "cell_type": "markdown",
   "metadata": {},
   "source": [
    "This final practice exercise is going to be a challenge. Challenge exercises are meant to encourange you to expand on what you have already learned and search for answers that we may have not explicitly gone over. \n",
    "\n",
    "Imagine if we only wanted to find names only starting with a certain letter. \n",
    "\n",
    "**Activity 8**: *Create a subset of names from the data set that start with the letter \"E\". Name this data frame `starts_with_e`.*"
   ]
  },
  {
   "cell_type": "code",
   "execution_count": 38,
   "metadata": {},
   "outputs": [
    {
     "name": "stdout",
     "output_type": "stream",
     "text": [
      "         Name  Year Gender  Count\n",
      "0   Elizabeth  1880      F   1939\n",
      "3        Ella  1880      F   1156\n",
      "14      Ethel  1880      F    633\n",
      "16        Eva  1880      F    614\n",
      "23      Effie  1880      F    406\n"
     ]
    }
   ],
   "source": [
    "# Code for activity 8 goes here \n",
    "# -----------------------------\n",
    "starts_with_e = df[df['Name'].str.match('E')]\n",
    "print(starts_with_e.head(5))"
   ]
  },
  {
   "cell_type": "markdown",
   "metadata": {},
   "source": [
    "# Save your notebook, then `File > Close and Halt`"
   ]
  }
 ],
 "metadata": {
  "kernelspec": {
   "display_name": "Python 3",
   "language": "python",
   "name": "python3"
  },
  "language_info": {
   "codemirror_mode": {
    "name": "ipython",
    "version": 3
   },
   "file_extension": ".py",
   "mimetype": "text/x-python",
   "name": "python",
   "nbconvert_exporter": "python",
   "pygments_lexer": "ipython3",
   "version": "3.7.3"
  }
 },
 "nbformat": 4,
 "nbformat_minor": 2
}
